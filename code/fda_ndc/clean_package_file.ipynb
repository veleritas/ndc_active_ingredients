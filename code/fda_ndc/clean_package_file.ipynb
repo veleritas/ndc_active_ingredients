{
 "cells": [
  {
   "cell_type": "markdown",
   "metadata": {},
   "source": [
    "# Extract relevant information from the NDC package file\n",
    "\n",
    "2019-06-03\n",
    "\n",
    "Extract relevant information from the NDC package file."
   ]
  },
  {
   "cell_type": "code",
   "execution_count": 1,
   "metadata": {},
   "outputs": [],
   "source": [
    "import pandas as pd\n",
    "import re"
   ]
  },
  {
   "cell_type": "markdown",
   "metadata": {},
   "source": [
    "## Read package file"
   ]
  },
  {
   "cell_type": "code",
   "execution_count": 2,
   "metadata": {},
   "outputs": [],
   "source": [
    "package = pd.read_csv(\"../../data/fda_ndc/package.txt\", sep='\\t')"
   ]
  },
  {
   "cell_type": "code",
   "execution_count": 3,
   "metadata": {},
   "outputs": [
    {
     "data": {
      "text/plain": [
       "(246380, 8)"
      ]
     },
     "execution_count": 3,
     "metadata": {},
     "output_type": "execute_result"
    }
   ],
   "source": [
    "package.shape"
   ]
  },
  {
   "cell_type": "code",
   "execution_count": 4,
   "metadata": {},
   "outputs": [
    {
     "data": {
      "text/html": [
       "<div>\n",
       "<style scoped>\n",
       "    .dataframe tbody tr th:only-of-type {\n",
       "        vertical-align: middle;\n",
       "    }\n",
       "\n",
       "    .dataframe tbody tr th {\n",
       "        vertical-align: top;\n",
       "    }\n",
       "\n",
       "    .dataframe thead th {\n",
       "        text-align: right;\n",
       "    }\n",
       "</style>\n",
       "<table border=\"1\" class=\"dataframe\">\n",
       "  <thead>\n",
       "    <tr style=\"text-align: right;\">\n",
       "      <th></th>\n",
       "      <th>PRODUCTID</th>\n",
       "      <th>PRODUCTNDC</th>\n",
       "      <th>NDCPACKAGECODE</th>\n",
       "      <th>PACKAGEDESCRIPTION</th>\n",
       "      <th>STARTMARKETINGDATE</th>\n",
       "      <th>ENDMARKETINGDATE</th>\n",
       "      <th>NDC_EXCLUDE_FLAG</th>\n",
       "      <th>SAMPLE_PACKAGE</th>\n",
       "    </tr>\n",
       "  </thead>\n",
       "  <tbody>\n",
       "    <tr>\n",
       "      <th>0</th>\n",
       "      <td>0002-0800_4bb5d1cb-0fa7-48c7-9f6d-8d45f9b91649</td>\n",
       "      <td>0002-0800</td>\n",
       "      <td>0002-0800-01</td>\n",
       "      <td>1 VIAL in 1 CARTON (0002-0800-01)  &gt; 10 mL in ...</td>\n",
       "      <td>19870710.0</td>\n",
       "      <td>NaN</td>\n",
       "      <td>N</td>\n",
       "      <td>N</td>\n",
       "    </tr>\n",
       "    <tr>\n",
       "      <th>1</th>\n",
       "      <td>0002-1200_957ee1b5-dfa7-4e3f-96e1-6bed1ffc0abe</td>\n",
       "      <td>0002-1200</td>\n",
       "      <td>0002-1200-30</td>\n",
       "      <td>1 VIAL, MULTI-DOSE in 1 CAN (0002-1200-30)  &gt; ...</td>\n",
       "      <td>20120601.0</td>\n",
       "      <td>NaN</td>\n",
       "      <td>N</td>\n",
       "      <td>N</td>\n",
       "    </tr>\n",
       "    <tr>\n",
       "      <th>2</th>\n",
       "      <td>0002-1200_957ee1b5-dfa7-4e3f-96e1-6bed1ffc0abe</td>\n",
       "      <td>0002-1200</td>\n",
       "      <td>0002-1200-50</td>\n",
       "      <td>1 VIAL, MULTI-DOSE in 1 CAN (0002-1200-50)  &gt; ...</td>\n",
       "      <td>20120601.0</td>\n",
       "      <td>NaN</td>\n",
       "      <td>N</td>\n",
       "      <td>N</td>\n",
       "    </tr>\n",
       "    <tr>\n",
       "      <th>3</th>\n",
       "      <td>0002-1407_14757f9d-f641-4836-acf3-229265588d1d</td>\n",
       "      <td>0002-1407</td>\n",
       "      <td>0002-1407-01</td>\n",
       "      <td>10 mL in 1 VIAL (0002-1407-01)</td>\n",
       "      <td>19510301.0</td>\n",
       "      <td>NaN</td>\n",
       "      <td>N</td>\n",
       "      <td>N</td>\n",
       "    </tr>\n",
       "    <tr>\n",
       "      <th>4</th>\n",
       "      <td>0002-1433_4468578a-47d2-488e-9fd4-a8322070392f</td>\n",
       "      <td>0002-1433</td>\n",
       "      <td>0002-1433-61</td>\n",
       "      <td>2 SYRINGE in 1 CARTON (0002-1433-61)  &gt; .5 mL ...</td>\n",
       "      <td>20141107.0</td>\n",
       "      <td>NaN</td>\n",
       "      <td>N</td>\n",
       "      <td>Y</td>\n",
       "    </tr>\n",
       "  </tbody>\n",
       "</table>\n",
       "</div>"
      ],
      "text/plain": [
       "                                        PRODUCTID PRODUCTNDC NDCPACKAGECODE  \\\n",
       "0  0002-0800_4bb5d1cb-0fa7-48c7-9f6d-8d45f9b91649  0002-0800   0002-0800-01   \n",
       "1  0002-1200_957ee1b5-dfa7-4e3f-96e1-6bed1ffc0abe  0002-1200   0002-1200-30   \n",
       "2  0002-1200_957ee1b5-dfa7-4e3f-96e1-6bed1ffc0abe  0002-1200   0002-1200-50   \n",
       "3  0002-1407_14757f9d-f641-4836-acf3-229265588d1d  0002-1407   0002-1407-01   \n",
       "4  0002-1433_4468578a-47d2-488e-9fd4-a8322070392f  0002-1433   0002-1433-61   \n",
       "\n",
       "                                  PACKAGEDESCRIPTION  STARTMARKETINGDATE  \\\n",
       "0  1 VIAL in 1 CARTON (0002-0800-01)  > 10 mL in ...          19870710.0   \n",
       "1  1 VIAL, MULTI-DOSE in 1 CAN (0002-1200-30)  > ...          20120601.0   \n",
       "2  1 VIAL, MULTI-DOSE in 1 CAN (0002-1200-50)  > ...          20120601.0   \n",
       "3                    10 mL in 1 VIAL (0002-1407-01)           19510301.0   \n",
       "4  2 SYRINGE in 1 CARTON (0002-1433-61)  > .5 mL ...          20141107.0   \n",
       "\n",
       "   ENDMARKETINGDATE NDC_EXCLUDE_FLAG SAMPLE_PACKAGE  \n",
       "0               NaN                N              N  \n",
       "1               NaN                N              N  \n",
       "2               NaN                N              N  \n",
       "3               NaN                N              N  \n",
       "4               NaN                N              Y  "
      ]
     },
     "execution_count": 4,
     "metadata": {},
     "output_type": "execute_result"
    }
   ],
   "source": [
    "package.head()"
   ]
  },
  {
   "cell_type": "markdown",
   "metadata": {},
   "source": [
    "### Examine missing data"
   ]
  },
  {
   "cell_type": "code",
   "execution_count": 5,
   "metadata": {},
   "outputs": [
    {
     "data": {
      "text/plain": [
       "PRODUCTID                  0\n",
       "PRODUCTNDC                 0\n",
       "NDCPACKAGECODE             0\n",
       "PACKAGEDESCRIPTION         0\n",
       "STARTMARKETINGDATE        27\n",
       "ENDMARKETINGDATE      240806\n",
       "NDC_EXCLUDE_FLAG           0\n",
       "SAMPLE_PACKAGE             0\n",
       "dtype: int64"
      ]
     },
     "execution_count": 5,
     "metadata": {},
     "output_type": "execute_result"
    }
   ],
   "source": [
    "package.isnull().sum()"
   ]
  },
  {
   "cell_type": "markdown",
   "metadata": {},
   "source": [
    "Not sure we care about the marketing dates, so we can drop those."
   ]
  },
  {
   "cell_type": "markdown",
   "metadata": {},
   "source": [
    "### Excluded data"
   ]
  },
  {
   "cell_type": "code",
   "execution_count": 6,
   "metadata": {},
   "outputs": [
    {
     "data": {
      "text/plain": [
       "N    246380\n",
       "Name: NDC_EXCLUDE_FLAG, dtype: int64"
      ]
     },
     "execution_count": 6,
     "metadata": {},
     "output_type": "execute_result"
    }
   ],
   "source": [
    "package[\"NDC_EXCLUDE_FLAG\"].value_counts()"
   ]
  },
  {
   "cell_type": "markdown",
   "metadata": {},
   "source": [
    "All the drugs here are not excluded, so we can drop this column due to redundancy."
   ]
  },
  {
   "cell_type": "markdown",
   "metadata": {},
   "source": [
    "### What does sample package mean?\n",
    "\n",
    "No information provided in the reference either."
   ]
  },
  {
   "cell_type": "code",
   "execution_count": 7,
   "metadata": {},
   "outputs": [
    {
     "data": {
      "text/plain": [
       "N    245825\n",
       "Y       555\n",
       "Name: SAMPLE_PACKAGE, dtype: int64"
      ]
     },
     "execution_count": 7,
     "metadata": {},
     "output_type": "execute_result"
    }
   ],
   "source": [
    "package[\"SAMPLE_PACKAGE\"].value_counts()"
   ]
  },
  {
   "cell_type": "code",
   "execution_count": 8,
   "metadata": {},
   "outputs": [
    {
     "data": {
      "text/html": [
       "<div>\n",
       "<style scoped>\n",
       "    .dataframe tbody tr th:only-of-type {\n",
       "        vertical-align: middle;\n",
       "    }\n",
       "\n",
       "    .dataframe tbody tr th {\n",
       "        vertical-align: top;\n",
       "    }\n",
       "\n",
       "    .dataframe thead th {\n",
       "        text-align: right;\n",
       "    }\n",
       "</style>\n",
       "<table border=\"1\" class=\"dataframe\">\n",
       "  <thead>\n",
       "    <tr style=\"text-align: right;\">\n",
       "      <th></th>\n",
       "      <th>PRODUCTID</th>\n",
       "      <th>PRODUCTNDC</th>\n",
       "      <th>NDCPACKAGECODE</th>\n",
       "      <th>PACKAGEDESCRIPTION</th>\n",
       "      <th>STARTMARKETINGDATE</th>\n",
       "      <th>ENDMARKETINGDATE</th>\n",
       "      <th>NDC_EXCLUDE_FLAG</th>\n",
       "      <th>SAMPLE_PACKAGE</th>\n",
       "    </tr>\n",
       "  </thead>\n",
       "  <tbody>\n",
       "    <tr>\n",
       "      <th>4</th>\n",
       "      <td>0002-1433_4468578a-47d2-488e-9fd4-a8322070392f</td>\n",
       "      <td>0002-1433</td>\n",
       "      <td>0002-1433-61</td>\n",
       "      <td>2 SYRINGE in 1 CARTON (0002-1433-61)  &gt; .5 mL ...</td>\n",
       "      <td>20141107.0</td>\n",
       "      <td>NaN</td>\n",
       "      <td>N</td>\n",
       "      <td>Y</td>\n",
       "    </tr>\n",
       "    <tr>\n",
       "      <th>6</th>\n",
       "      <td>0002-1434_4468578a-47d2-488e-9fd4-a8322070392f</td>\n",
       "      <td>0002-1434</td>\n",
       "      <td>0002-1434-61</td>\n",
       "      <td>2 SYRINGE in 1 CARTON (0002-1434-61)  &gt; .5 mL ...</td>\n",
       "      <td>20141107.0</td>\n",
       "      <td>NaN</td>\n",
       "      <td>N</td>\n",
       "      <td>Y</td>\n",
       "    </tr>\n",
       "    <tr>\n",
       "      <th>9</th>\n",
       "      <td>0002-1436_ad6f74e8-b0ef-4a96-9249-c1225c5cd6a7</td>\n",
       "      <td>0002-1436</td>\n",
       "      <td>0002-1436-61</td>\n",
       "      <td>2 SYRINGE in 1 CARTON (0002-1436-61)  &gt; 1 mL i...</td>\n",
       "      <td>20180927.0</td>\n",
       "      <td>NaN</td>\n",
       "      <td>N</td>\n",
       "      <td>Y</td>\n",
       "    </tr>\n",
       "    <tr>\n",
       "      <th>13</th>\n",
       "      <td>0002-1445_03dc46ee-3620-47a2-9293-90aa3e6c62cf</td>\n",
       "      <td>0002-1445</td>\n",
       "      <td>0002-1445-61</td>\n",
       "      <td>1 SYRINGE in 1 CARTON (0002-1445-61)  &gt; 1 mL i...</td>\n",
       "      <td>20160419.0</td>\n",
       "      <td>NaN</td>\n",
       "      <td>N</td>\n",
       "      <td>Y</td>\n",
       "    </tr>\n",
       "    <tr>\n",
       "      <th>37</th>\n",
       "      <td>0002-4182_1606b529-d77d-41d8-9379-094caf0241c2</td>\n",
       "      <td>0002-4182</td>\n",
       "      <td>0002-4182-61</td>\n",
       "      <td>30 TABLET, FILM COATED in 1 BOTTLE (0002-4182-...</td>\n",
       "      <td>20180531.0</td>\n",
       "      <td>NaN</td>\n",
       "      <td>N</td>\n",
       "      <td>Y</td>\n",
       "    </tr>\n",
       "  </tbody>\n",
       "</table>\n",
       "</div>"
      ],
      "text/plain": [
       "                                         PRODUCTID PRODUCTNDC NDCPACKAGECODE  \\\n",
       "4   0002-1433_4468578a-47d2-488e-9fd4-a8322070392f  0002-1433   0002-1433-61   \n",
       "6   0002-1434_4468578a-47d2-488e-9fd4-a8322070392f  0002-1434   0002-1434-61   \n",
       "9   0002-1436_ad6f74e8-b0ef-4a96-9249-c1225c5cd6a7  0002-1436   0002-1436-61   \n",
       "13  0002-1445_03dc46ee-3620-47a2-9293-90aa3e6c62cf  0002-1445   0002-1445-61   \n",
       "37  0002-4182_1606b529-d77d-41d8-9379-094caf0241c2  0002-4182   0002-4182-61   \n",
       "\n",
       "                                   PACKAGEDESCRIPTION  STARTMARKETINGDATE  \\\n",
       "4   2 SYRINGE in 1 CARTON (0002-1433-61)  > .5 mL ...          20141107.0   \n",
       "6   2 SYRINGE in 1 CARTON (0002-1434-61)  > .5 mL ...          20141107.0   \n",
       "9   2 SYRINGE in 1 CARTON (0002-1436-61)  > 1 mL i...          20180927.0   \n",
       "13  1 SYRINGE in 1 CARTON (0002-1445-61)  > 1 mL i...          20160419.0   \n",
       "37  30 TABLET, FILM COATED in 1 BOTTLE (0002-4182-...          20180531.0   \n",
       "\n",
       "    ENDMARKETINGDATE NDC_EXCLUDE_FLAG SAMPLE_PACKAGE  \n",
       "4                NaN                N              Y  \n",
       "6                NaN                N              Y  \n",
       "9                NaN                N              Y  \n",
       "13               NaN                N              Y  \n",
       "37               NaN                N              Y  "
      ]
     },
     "execution_count": 8,
     "metadata": {},
     "output_type": "execute_result"
    }
   ],
   "source": [
    "package.query(\"SAMPLE_PACKAGE == 'Y'\").head()"
   ]
  },
  {
   "cell_type": "markdown",
   "metadata": {},
   "source": [
    "Not really sure what the \"sample package\" column means. Will ignore it for now."
   ]
  },
  {
   "cell_type": "markdown",
   "metadata": {},
   "source": [
    "### Simplify package table"
   ]
  },
  {
   "cell_type": "code",
   "execution_count": 9,
   "metadata": {},
   "outputs": [],
   "source": [
    "gpackage = package.drop(\n",
    "    [\"STARTMARKETINGDATE\", \"ENDMARKETINGDATE\",\n",
    "     \"NDC_EXCLUDE_FLAG\", \"SAMPLE_PACKAGE\"], axis=1\n",
    ")"
   ]
  },
  {
   "cell_type": "code",
   "execution_count": 10,
   "metadata": {},
   "outputs": [
    {
     "data": {
      "text/plain": [
       "(246380, 4)"
      ]
     },
     "execution_count": 10,
     "metadata": {},
     "output_type": "execute_result"
    }
   ],
   "source": [
    "gpackage.shape"
   ]
  },
  {
   "cell_type": "code",
   "execution_count": 11,
   "metadata": {},
   "outputs": [
    {
     "data": {
      "text/html": [
       "<div>\n",
       "<style scoped>\n",
       "    .dataframe tbody tr th:only-of-type {\n",
       "        vertical-align: middle;\n",
       "    }\n",
       "\n",
       "    .dataframe tbody tr th {\n",
       "        vertical-align: top;\n",
       "    }\n",
       "\n",
       "    .dataframe thead th {\n",
       "        text-align: right;\n",
       "    }\n",
       "</style>\n",
       "<table border=\"1\" class=\"dataframe\">\n",
       "  <thead>\n",
       "    <tr style=\"text-align: right;\">\n",
       "      <th></th>\n",
       "      <th>PRODUCTID</th>\n",
       "      <th>PRODUCTNDC</th>\n",
       "      <th>NDCPACKAGECODE</th>\n",
       "      <th>PACKAGEDESCRIPTION</th>\n",
       "    </tr>\n",
       "  </thead>\n",
       "  <tbody>\n",
       "    <tr>\n",
       "      <th>0</th>\n",
       "      <td>0002-0800_4bb5d1cb-0fa7-48c7-9f6d-8d45f9b91649</td>\n",
       "      <td>0002-0800</td>\n",
       "      <td>0002-0800-01</td>\n",
       "      <td>1 VIAL in 1 CARTON (0002-0800-01)  &gt; 10 mL in ...</td>\n",
       "    </tr>\n",
       "    <tr>\n",
       "      <th>1</th>\n",
       "      <td>0002-1200_957ee1b5-dfa7-4e3f-96e1-6bed1ffc0abe</td>\n",
       "      <td>0002-1200</td>\n",
       "      <td>0002-1200-30</td>\n",
       "      <td>1 VIAL, MULTI-DOSE in 1 CAN (0002-1200-30)  &gt; ...</td>\n",
       "    </tr>\n",
       "    <tr>\n",
       "      <th>2</th>\n",
       "      <td>0002-1200_957ee1b5-dfa7-4e3f-96e1-6bed1ffc0abe</td>\n",
       "      <td>0002-1200</td>\n",
       "      <td>0002-1200-50</td>\n",
       "      <td>1 VIAL, MULTI-DOSE in 1 CAN (0002-1200-50)  &gt; ...</td>\n",
       "    </tr>\n",
       "    <tr>\n",
       "      <th>3</th>\n",
       "      <td>0002-1407_14757f9d-f641-4836-acf3-229265588d1d</td>\n",
       "      <td>0002-1407</td>\n",
       "      <td>0002-1407-01</td>\n",
       "      <td>10 mL in 1 VIAL (0002-1407-01)</td>\n",
       "    </tr>\n",
       "    <tr>\n",
       "      <th>4</th>\n",
       "      <td>0002-1433_4468578a-47d2-488e-9fd4-a8322070392f</td>\n",
       "      <td>0002-1433</td>\n",
       "      <td>0002-1433-61</td>\n",
       "      <td>2 SYRINGE in 1 CARTON (0002-1433-61)  &gt; .5 mL ...</td>\n",
       "    </tr>\n",
       "  </tbody>\n",
       "</table>\n",
       "</div>"
      ],
      "text/plain": [
       "                                        PRODUCTID PRODUCTNDC NDCPACKAGECODE  \\\n",
       "0  0002-0800_4bb5d1cb-0fa7-48c7-9f6d-8d45f9b91649  0002-0800   0002-0800-01   \n",
       "1  0002-1200_957ee1b5-dfa7-4e3f-96e1-6bed1ffc0abe  0002-1200   0002-1200-30   \n",
       "2  0002-1200_957ee1b5-dfa7-4e3f-96e1-6bed1ffc0abe  0002-1200   0002-1200-50   \n",
       "3  0002-1407_14757f9d-f641-4836-acf3-229265588d1d  0002-1407   0002-1407-01   \n",
       "4  0002-1433_4468578a-47d2-488e-9fd4-a8322070392f  0002-1433   0002-1433-61   \n",
       "\n",
       "                                  PACKAGEDESCRIPTION  \n",
       "0  1 VIAL in 1 CARTON (0002-0800-01)  > 10 mL in ...  \n",
       "1  1 VIAL, MULTI-DOSE in 1 CAN (0002-1200-30)  > ...  \n",
       "2  1 VIAL, MULTI-DOSE in 1 CAN (0002-1200-50)  > ...  \n",
       "3                    10 mL in 1 VIAL (0002-1407-01)   \n",
       "4  2 SYRINGE in 1 CARTON (0002-1433-61)  > .5 mL ...  "
      ]
     },
     "execution_count": 11,
     "metadata": {},
     "output_type": "execute_result"
    }
   ],
   "source": [
    "gpackage.head()"
   ]
  },
  {
   "cell_type": "markdown",
   "metadata": {},
   "source": [
    "We only really care about the full NDC code along with the package description and the unique product id."
   ]
  },
  {
   "cell_type": "markdown",
   "metadata": {},
   "source": [
    "### Check that NDCs are properly formatted\n",
    "\n",
    "Check that the NDCs are in 4-4-2, 5-3-2, or 5-4-1 format."
   ]
  },
  {
   "cell_type": "code",
   "execution_count": 12,
   "metadata": {},
   "outputs": [],
   "source": [
    "def is_ndc_type_a(code):\n",
    "    return re.match(r'^\\d{4}-\\d{4}-\\d{2}$', code) is not None\n",
    "\n",
    "def is_ndc_type_b(code):\n",
    "    return re.match(r'^\\d{5}-\\d{3}-\\d{2}$', code) is not None\n",
    "\n",
    "def is_ndc_type_c(code):\n",
    "    return re.match(r'^\\d{5}-\\d{4}-\\d{1}$', code) is not None"
   ]
  },
  {
   "cell_type": "code",
   "execution_count": 13,
   "metadata": {},
   "outputs": [],
   "source": [
    "def get_ndc_type(code):\n",
    "    \"\"\"What format is this NDC in?\"\"\"\n",
    "    \n",
    "    # includes two dashes\n",
    "    NDC_CODE_LENGTH = 12\n",
    "    \n",
    "    assert len(code) == NDC_CODE_LENGTH\n",
    "    \n",
    "    res = [\n",
    "        is_ndc_type_a(code),\n",
    "        is_ndc_type_b(code),\n",
    "        is_ndc_type_c(code)\n",
    "    ]\n",
    "    \n",
    "    assert sum(res) == 1\n",
    "    \n",
    "    for val, code_type in zip(res, \"ABC\"):\n",
    "        if val:\n",
    "            return code_type"
   ]
  },
  {
   "cell_type": "code",
   "execution_count": 14,
   "metadata": {},
   "outputs": [],
   "source": [
    "info = gpackage.assign(\n",
    "    ndc_type = lambda df: df[\"NDCPACKAGECODE\"].map(get_ndc_type)\n",
    ")"
   ]
  },
  {
   "cell_type": "code",
   "execution_count": 15,
   "metadata": {},
   "outputs": [
    {
     "data": {
      "text/plain": [
       "(246380, 5)"
      ]
     },
     "execution_count": 15,
     "metadata": {},
     "output_type": "execute_result"
    }
   ],
   "source": [
    "info.shape"
   ]
  },
  {
   "cell_type": "code",
   "execution_count": 16,
   "metadata": {},
   "outputs": [
    {
     "data": {
      "text/html": [
       "<div>\n",
       "<style scoped>\n",
       "    .dataframe tbody tr th:only-of-type {\n",
       "        vertical-align: middle;\n",
       "    }\n",
       "\n",
       "    .dataframe tbody tr th {\n",
       "        vertical-align: top;\n",
       "    }\n",
       "\n",
       "    .dataframe thead th {\n",
       "        text-align: right;\n",
       "    }\n",
       "</style>\n",
       "<table border=\"1\" class=\"dataframe\">\n",
       "  <thead>\n",
       "    <tr style=\"text-align: right;\">\n",
       "      <th></th>\n",
       "      <th>PRODUCTID</th>\n",
       "      <th>PRODUCTNDC</th>\n",
       "      <th>NDCPACKAGECODE</th>\n",
       "      <th>PACKAGEDESCRIPTION</th>\n",
       "      <th>ndc_type</th>\n",
       "    </tr>\n",
       "  </thead>\n",
       "  <tbody>\n",
       "    <tr>\n",
       "      <th>0</th>\n",
       "      <td>0002-0800_4bb5d1cb-0fa7-48c7-9f6d-8d45f9b91649</td>\n",
       "      <td>0002-0800</td>\n",
       "      <td>0002-0800-01</td>\n",
       "      <td>1 VIAL in 1 CARTON (0002-0800-01)  &gt; 10 mL in ...</td>\n",
       "      <td>A</td>\n",
       "    </tr>\n",
       "    <tr>\n",
       "      <th>1</th>\n",
       "      <td>0002-1200_957ee1b5-dfa7-4e3f-96e1-6bed1ffc0abe</td>\n",
       "      <td>0002-1200</td>\n",
       "      <td>0002-1200-30</td>\n",
       "      <td>1 VIAL, MULTI-DOSE in 1 CAN (0002-1200-30)  &gt; ...</td>\n",
       "      <td>A</td>\n",
       "    </tr>\n",
       "    <tr>\n",
       "      <th>2</th>\n",
       "      <td>0002-1200_957ee1b5-dfa7-4e3f-96e1-6bed1ffc0abe</td>\n",
       "      <td>0002-1200</td>\n",
       "      <td>0002-1200-50</td>\n",
       "      <td>1 VIAL, MULTI-DOSE in 1 CAN (0002-1200-50)  &gt; ...</td>\n",
       "      <td>A</td>\n",
       "    </tr>\n",
       "    <tr>\n",
       "      <th>3</th>\n",
       "      <td>0002-1407_14757f9d-f641-4836-acf3-229265588d1d</td>\n",
       "      <td>0002-1407</td>\n",
       "      <td>0002-1407-01</td>\n",
       "      <td>10 mL in 1 VIAL (0002-1407-01)</td>\n",
       "      <td>A</td>\n",
       "    </tr>\n",
       "    <tr>\n",
       "      <th>4</th>\n",
       "      <td>0002-1433_4468578a-47d2-488e-9fd4-a8322070392f</td>\n",
       "      <td>0002-1433</td>\n",
       "      <td>0002-1433-61</td>\n",
       "      <td>2 SYRINGE in 1 CARTON (0002-1433-61)  &gt; .5 mL ...</td>\n",
       "      <td>A</td>\n",
       "    </tr>\n",
       "  </tbody>\n",
       "</table>\n",
       "</div>"
      ],
      "text/plain": [
       "                                        PRODUCTID PRODUCTNDC NDCPACKAGECODE  \\\n",
       "0  0002-0800_4bb5d1cb-0fa7-48c7-9f6d-8d45f9b91649  0002-0800   0002-0800-01   \n",
       "1  0002-1200_957ee1b5-dfa7-4e3f-96e1-6bed1ffc0abe  0002-1200   0002-1200-30   \n",
       "2  0002-1200_957ee1b5-dfa7-4e3f-96e1-6bed1ffc0abe  0002-1200   0002-1200-50   \n",
       "3  0002-1407_14757f9d-f641-4836-acf3-229265588d1d  0002-1407   0002-1407-01   \n",
       "4  0002-1433_4468578a-47d2-488e-9fd4-a8322070392f  0002-1433   0002-1433-61   \n",
       "\n",
       "                                  PACKAGEDESCRIPTION ndc_type  \n",
       "0  1 VIAL in 1 CARTON (0002-0800-01)  > 10 mL in ...        A  \n",
       "1  1 VIAL, MULTI-DOSE in 1 CAN (0002-1200-30)  > ...        A  \n",
       "2  1 VIAL, MULTI-DOSE in 1 CAN (0002-1200-50)  > ...        A  \n",
       "3                    10 mL in 1 VIAL (0002-1407-01)         A  \n",
       "4  2 SYRINGE in 1 CARTON (0002-1433-61)  > .5 mL ...        A  "
      ]
     },
     "execution_count": 16,
     "metadata": {},
     "output_type": "execute_result"
    }
   ],
   "source": [
    "info.head()"
   ]
  },
  {
   "cell_type": "code",
   "execution_count": 17,
   "metadata": {},
   "outputs": [
    {
     "data": {
      "text/plain": [
       "B    143889\n",
       "C     78454\n",
       "A     24037\n",
       "Name: ndc_type, dtype: int64"
      ]
     },
     "execution_count": 17,
     "metadata": {},
     "output_type": "execute_result"
    }
   ],
   "source": [
    "info[\"ndc_type\"].value_counts()"
   ]
  },
  {
   "cell_type": "markdown",
   "metadata": {},
   "source": [
    "All NDCs in the package file are properly formatted, but there are three versions of the NDC."
   ]
  },
  {
   "cell_type": "markdown",
   "metadata": {},
   "source": [
    "### Number of unique NDCs"
   ]
  },
  {
   "cell_type": "code",
   "execution_count": 18,
   "metadata": {},
   "outputs": [
    {
     "data": {
      "text/plain": [
       "246361"
      ]
     },
     "execution_count": 18,
     "metadata": {},
     "output_type": "execute_result"
    }
   ],
   "source": [
    "info[\"NDCPACKAGECODE\"].nunique()"
   ]
  },
  {
   "cell_type": "markdown",
   "metadata": {},
   "source": [
    "## Save to file"
   ]
  },
  {
   "cell_type": "code",
   "execution_count": 19,
   "metadata": {},
   "outputs": [],
   "source": [
    "gpackage.to_csv(\"../../pipeline/fda_ndc/simple_package.tsv\", sep='\\t', index=False)"
   ]
  }
 ],
 "metadata": {
  "kernelspec": {
   "display_name": "Python 3",
   "language": "python",
   "name": "python3"
  },
  "language_info": {
   "codemirror_mode": {
    "name": "ipython",
    "version": 3
   },
   "file_extension": ".py",
   "mimetype": "text/x-python",
   "name": "python",
   "nbconvert_exporter": "python",
   "pygments_lexer": "ipython3",
   "version": "3.6.7"
  }
 },
 "nbformat": 4,
 "nbformat_minor": 2
}
