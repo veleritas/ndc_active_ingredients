{
 "cells": [
  {
   "cell_type": "markdown",
   "metadata": {},
   "source": [
    "# Create merged NDC info file\n",
    "\n",
    "2019-04-18\n",
    "\n",
    "Want to put the full NDC with the rest of the metadata."
   ]
  },
  {
   "cell_type": "code",
   "execution_count": 1,
   "metadata": {},
   "outputs": [],
   "source": [
    "import pandas as pd"
   ]
  },
  {
   "cell_type": "markdown",
   "metadata": {},
   "source": [
    "## Read simple package"
   ]
  },
  {
   "cell_type": "code",
   "execution_count": 2,
   "metadata": {},
   "outputs": [],
   "source": [
    "package = pd.read_csv(\"../../pipeline/fda_ndc/simple_package.tsv\", sep='\\t')"
   ]
  },
  {
   "cell_type": "code",
   "execution_count": 3,
   "metadata": {},
   "outputs": [
    {
     "data": {
      "text/plain": [
       "(243484, 4)"
      ]
     },
     "execution_count": 3,
     "metadata": {},
     "output_type": "execute_result"
    }
   ],
   "source": [
    "package.shape"
   ]
  },
  {
   "cell_type": "code",
   "execution_count": 4,
   "metadata": {},
   "outputs": [
    {
     "data": {
      "text/html": [
       "<div>\n",
       "<style scoped>\n",
       "    .dataframe tbody tr th:only-of-type {\n",
       "        vertical-align: middle;\n",
       "    }\n",
       "\n",
       "    .dataframe tbody tr th {\n",
       "        vertical-align: top;\n",
       "    }\n",
       "\n",
       "    .dataframe thead th {\n",
       "        text-align: right;\n",
       "    }\n",
       "</style>\n",
       "<table border=\"1\" class=\"dataframe\">\n",
       "  <thead>\n",
       "    <tr style=\"text-align: right;\">\n",
       "      <th></th>\n",
       "      <th>PRODUCTID</th>\n",
       "      <th>PRODUCTNDC</th>\n",
       "      <th>NDCPACKAGECODE</th>\n",
       "      <th>PACKAGEDESCRIPTION</th>\n",
       "    </tr>\n",
       "  </thead>\n",
       "  <tbody>\n",
       "    <tr>\n",
       "      <th>0</th>\n",
       "      <td>0002-0800_4bb5d1cb-0fa7-48c7-9f6d-8d45f9b91649</td>\n",
       "      <td>0002-0800</td>\n",
       "      <td>0002-0800-01</td>\n",
       "      <td>1 VIAL in 1 CARTON (0002-0800-01)  &gt; 10 mL in ...</td>\n",
       "    </tr>\n",
       "    <tr>\n",
       "      <th>1</th>\n",
       "      <td>0002-1200_957ee1b5-dfa7-4e3f-96e1-6bed1ffc0abe</td>\n",
       "      <td>0002-1200</td>\n",
       "      <td>0002-1200-30</td>\n",
       "      <td>1 VIAL, MULTI-DOSE in 1 CAN (0002-1200-30)  &gt; ...</td>\n",
       "    </tr>\n",
       "    <tr>\n",
       "      <th>2</th>\n",
       "      <td>0002-1200_957ee1b5-dfa7-4e3f-96e1-6bed1ffc0abe</td>\n",
       "      <td>0002-1200</td>\n",
       "      <td>0002-1200-50</td>\n",
       "      <td>1 VIAL, MULTI-DOSE in 1 CAN (0002-1200-50)  &gt; ...</td>\n",
       "    </tr>\n",
       "    <tr>\n",
       "      <th>3</th>\n",
       "      <td>0002-1407_14757f9d-f641-4836-acf3-229265588d1d</td>\n",
       "      <td>0002-1407</td>\n",
       "      <td>0002-1407-01</td>\n",
       "      <td>10 mL in 1 VIAL (0002-1407-01)</td>\n",
       "    </tr>\n",
       "    <tr>\n",
       "      <th>4</th>\n",
       "      <td>0002-1433_4468578a-47d2-488e-9fd4-a8322070392f</td>\n",
       "      <td>0002-1433</td>\n",
       "      <td>0002-1433-61</td>\n",
       "      <td>2 SYRINGE in 1 CARTON (0002-1433-61)  &gt; .5 mL ...</td>\n",
       "    </tr>\n",
       "  </tbody>\n",
       "</table>\n",
       "</div>"
      ],
      "text/plain": [
       "                                        PRODUCTID PRODUCTNDC NDCPACKAGECODE  \\\n",
       "0  0002-0800_4bb5d1cb-0fa7-48c7-9f6d-8d45f9b91649  0002-0800   0002-0800-01   \n",
       "1  0002-1200_957ee1b5-dfa7-4e3f-96e1-6bed1ffc0abe  0002-1200   0002-1200-30   \n",
       "2  0002-1200_957ee1b5-dfa7-4e3f-96e1-6bed1ffc0abe  0002-1200   0002-1200-50   \n",
       "3  0002-1407_14757f9d-f641-4836-acf3-229265588d1d  0002-1407   0002-1407-01   \n",
       "4  0002-1433_4468578a-47d2-488e-9fd4-a8322070392f  0002-1433   0002-1433-61   \n",
       "\n",
       "                                  PACKAGEDESCRIPTION  \n",
       "0  1 VIAL in 1 CARTON (0002-0800-01)  > 10 mL in ...  \n",
       "1  1 VIAL, MULTI-DOSE in 1 CAN (0002-1200-30)  > ...  \n",
       "2  1 VIAL, MULTI-DOSE in 1 CAN (0002-1200-50)  > ...  \n",
       "3                    10 mL in 1 VIAL (0002-1407-01)   \n",
       "4  2 SYRINGE in 1 CARTON (0002-1433-61)  > .5 mL ...  "
      ]
     },
     "execution_count": 4,
     "metadata": {},
     "output_type": "execute_result"
    }
   ],
   "source": [
    "package.head()"
   ]
  },
  {
   "cell_type": "markdown",
   "metadata": {},
   "source": [
    "## Read simple product"
   ]
  },
  {
   "cell_type": "code",
   "execution_count": 5,
   "metadata": {},
   "outputs": [],
   "source": [
    "product = pd.read_csv(\"../../pipeline/fda_ndc/simple_product.tsv\", sep='\\t')"
   ]
  },
  {
   "cell_type": "code",
   "execution_count": 6,
   "metadata": {},
   "outputs": [
    {
     "data": {
      "text/plain": [
       "(127906, 17)"
      ]
     },
     "execution_count": 6,
     "metadata": {},
     "output_type": "execute_result"
    }
   ],
   "source": [
    "product.shape"
   ]
  },
  {
   "cell_type": "code",
   "execution_count": 7,
   "metadata": {},
   "outputs": [
    {
     "data": {
      "text/html": [
       "<div>\n",
       "<style scoped>\n",
       "    .dataframe tbody tr th:only-of-type {\n",
       "        vertical-align: middle;\n",
       "    }\n",
       "\n",
       "    .dataframe tbody tr th {\n",
       "        vertical-align: top;\n",
       "    }\n",
       "\n",
       "    .dataframe thead th {\n",
       "        text-align: right;\n",
       "    }\n",
       "</style>\n",
       "<table border=\"1\" class=\"dataframe\">\n",
       "  <thead>\n",
       "    <tr style=\"text-align: right;\">\n",
       "      <th></th>\n",
       "      <th>PRODUCTID</th>\n",
       "      <th>PRODUCTNDC</th>\n",
       "      <th>PRODUCTTYPENAME</th>\n",
       "      <th>PROPRIETARYNAME</th>\n",
       "      <th>NONPROPRIETARYNAME</th>\n",
       "      <th>DOSAGEFORMNAME</th>\n",
       "      <th>ROUTENAME</th>\n",
       "      <th>MARKETINGCATEGORYNAME</th>\n",
       "      <th>APPLICATIONNUMBER</th>\n",
       "      <th>LABELERNAME</th>\n",
       "      <th>SUBSTANCENAME</th>\n",
       "      <th>ACTIVE_NUMERATOR_STRENGTH</th>\n",
       "      <th>ACTIVE_INGRED_UNIT</th>\n",
       "      <th>PHARM_CLASSES</th>\n",
       "      <th>DEASCHEDULE</th>\n",
       "      <th>NDC_EXCLUDE_FLAG</th>\n",
       "      <th>LISTING_RECORD_CERTIFIED_THROUGH</th>\n",
       "    </tr>\n",
       "  </thead>\n",
       "  <tbody>\n",
       "    <tr>\n",
       "      <th>0</th>\n",
       "      <td>0002-0800_4bb5d1cb-0fa7-48c7-9f6d-8d45f9b91649</td>\n",
       "      <td>0002-0800</td>\n",
       "      <td>HUMAN OTC DRUG</td>\n",
       "      <td>Sterile Diluent</td>\n",
       "      <td>diluent</td>\n",
       "      <td>INJECTION, SOLUTION</td>\n",
       "      <td>SUBCUTANEOUS</td>\n",
       "      <td>NDA</td>\n",
       "      <td>NDA018781</td>\n",
       "      <td>Eli Lilly and Company</td>\n",
       "      <td>WATER</td>\n",
       "      <td>1</td>\n",
       "      <td>mL/mL</td>\n",
       "      <td>NaN</td>\n",
       "      <td>NaN</td>\n",
       "      <td>N</td>\n",
       "      <td>20191231.0</td>\n",
       "    </tr>\n",
       "    <tr>\n",
       "      <th>1</th>\n",
       "      <td>0002-1200_957ee1b5-dfa7-4e3f-96e1-6bed1ffc0abe</td>\n",
       "      <td>0002-1200</td>\n",
       "      <td>HUMAN PRESCRIPTION DRUG</td>\n",
       "      <td>Amyvid</td>\n",
       "      <td>Florbetapir F 18</td>\n",
       "      <td>INJECTION, SOLUTION</td>\n",
       "      <td>INTRAVENOUS</td>\n",
       "      <td>NDA</td>\n",
       "      <td>NDA202008</td>\n",
       "      <td>Eli Lilly and Company</td>\n",
       "      <td>FLORBETAPIR F-18</td>\n",
       "      <td>51</td>\n",
       "      <td>mCi/mL</td>\n",
       "      <td>Radioactive Diagnostic Agent [EPC],Positron Em...</td>\n",
       "      <td>NaN</td>\n",
       "      <td>N</td>\n",
       "      <td>20191231.0</td>\n",
       "    </tr>\n",
       "    <tr>\n",
       "      <th>2</th>\n",
       "      <td>0002-1407_14757f9d-f641-4836-acf3-229265588d1d</td>\n",
       "      <td>0002-1407</td>\n",
       "      <td>HUMAN PRESCRIPTION DRUG</td>\n",
       "      <td>Quinidine Gluconate</td>\n",
       "      <td>Quinidine Gluconate</td>\n",
       "      <td>SOLUTION</td>\n",
       "      <td>INTRAVENOUS</td>\n",
       "      <td>NDA</td>\n",
       "      <td>NDA007529</td>\n",
       "      <td>Eli Lilly and Company</td>\n",
       "      <td>QUINIDINE GLUCONATE</td>\n",
       "      <td>80</td>\n",
       "      <td>mg/mL</td>\n",
       "      <td>Antiarrhythmic [EPC],Cytochrome P450 2D6 Inhib...</td>\n",
       "      <td>NaN</td>\n",
       "      <td>N</td>\n",
       "      <td>20191231.0</td>\n",
       "    </tr>\n",
       "    <tr>\n",
       "      <th>3</th>\n",
       "      <td>0002-1433_4468578a-47d2-488e-9fd4-a8322070392f</td>\n",
       "      <td>0002-1433</td>\n",
       "      <td>HUMAN PRESCRIPTION DRUG</td>\n",
       "      <td>Trulicity</td>\n",
       "      <td>Dulaglutide</td>\n",
       "      <td>INJECTION, SOLUTION</td>\n",
       "      <td>SUBCUTANEOUS</td>\n",
       "      <td>BLA</td>\n",
       "      <td>BLA125469</td>\n",
       "      <td>Eli Lilly and Company</td>\n",
       "      <td>DULAGLUTIDE</td>\n",
       "      <td>.75</td>\n",
       "      <td>mg/.5mL</td>\n",
       "      <td>GLP-1 Receptor Agonist [EPC],Glucagon-Like Pep...</td>\n",
       "      <td>NaN</td>\n",
       "      <td>N</td>\n",
       "      <td>20201231.0</td>\n",
       "    </tr>\n",
       "    <tr>\n",
       "      <th>4</th>\n",
       "      <td>0002-1434_4468578a-47d2-488e-9fd4-a8322070392f</td>\n",
       "      <td>0002-1434</td>\n",
       "      <td>HUMAN PRESCRIPTION DRUG</td>\n",
       "      <td>Trulicity</td>\n",
       "      <td>Dulaglutide</td>\n",
       "      <td>INJECTION, SOLUTION</td>\n",
       "      <td>SUBCUTANEOUS</td>\n",
       "      <td>BLA</td>\n",
       "      <td>BLA125469</td>\n",
       "      <td>Eli Lilly and Company</td>\n",
       "      <td>DULAGLUTIDE</td>\n",
       "      <td>1.5</td>\n",
       "      <td>mg/.5mL</td>\n",
       "      <td>GLP-1 Receptor Agonist [EPC],Glucagon-Like Pep...</td>\n",
       "      <td>NaN</td>\n",
       "      <td>N</td>\n",
       "      <td>20201231.0</td>\n",
       "    </tr>\n",
       "  </tbody>\n",
       "</table>\n",
       "</div>"
      ],
      "text/plain": [
       "                                        PRODUCTID PRODUCTNDC  \\\n",
       "0  0002-0800_4bb5d1cb-0fa7-48c7-9f6d-8d45f9b91649  0002-0800   \n",
       "1  0002-1200_957ee1b5-dfa7-4e3f-96e1-6bed1ffc0abe  0002-1200   \n",
       "2  0002-1407_14757f9d-f641-4836-acf3-229265588d1d  0002-1407   \n",
       "3  0002-1433_4468578a-47d2-488e-9fd4-a8322070392f  0002-1433   \n",
       "4  0002-1434_4468578a-47d2-488e-9fd4-a8322070392f  0002-1434   \n",
       "\n",
       "           PRODUCTTYPENAME      PROPRIETARYNAME   NONPROPRIETARYNAME  \\\n",
       "0           HUMAN OTC DRUG      Sterile Diluent              diluent   \n",
       "1  HUMAN PRESCRIPTION DRUG               Amyvid     Florbetapir F 18   \n",
       "2  HUMAN PRESCRIPTION DRUG  Quinidine Gluconate  Quinidine Gluconate   \n",
       "3  HUMAN PRESCRIPTION DRUG            Trulicity          Dulaglutide   \n",
       "4  HUMAN PRESCRIPTION DRUG            Trulicity          Dulaglutide   \n",
       "\n",
       "        DOSAGEFORMNAME     ROUTENAME MARKETINGCATEGORYNAME APPLICATIONNUMBER  \\\n",
       "0  INJECTION, SOLUTION  SUBCUTANEOUS                   NDA         NDA018781   \n",
       "1  INJECTION, SOLUTION   INTRAVENOUS                   NDA         NDA202008   \n",
       "2             SOLUTION   INTRAVENOUS                   NDA         NDA007529   \n",
       "3  INJECTION, SOLUTION  SUBCUTANEOUS                   BLA         BLA125469   \n",
       "4  INJECTION, SOLUTION  SUBCUTANEOUS                   BLA         BLA125469   \n",
       "\n",
       "             LABELERNAME        SUBSTANCENAME ACTIVE_NUMERATOR_STRENGTH  \\\n",
       "0  Eli Lilly and Company                WATER                         1   \n",
       "1  Eli Lilly and Company     FLORBETAPIR F-18                        51   \n",
       "2  Eli Lilly and Company  QUINIDINE GLUCONATE                        80   \n",
       "3  Eli Lilly and Company          DULAGLUTIDE                       .75   \n",
       "4  Eli Lilly and Company          DULAGLUTIDE                       1.5   \n",
       "\n",
       "  ACTIVE_INGRED_UNIT                                      PHARM_CLASSES  \\\n",
       "0              mL/mL                                                NaN   \n",
       "1             mCi/mL  Radioactive Diagnostic Agent [EPC],Positron Em...   \n",
       "2              mg/mL  Antiarrhythmic [EPC],Cytochrome P450 2D6 Inhib...   \n",
       "3            mg/.5mL  GLP-1 Receptor Agonist [EPC],Glucagon-Like Pep...   \n",
       "4            mg/.5mL  GLP-1 Receptor Agonist [EPC],Glucagon-Like Pep...   \n",
       "\n",
       "  DEASCHEDULE NDC_EXCLUDE_FLAG  LISTING_RECORD_CERTIFIED_THROUGH  \n",
       "0         NaN                N                        20191231.0  \n",
       "1         NaN                N                        20191231.0  \n",
       "2         NaN                N                        20191231.0  \n",
       "3         NaN                N                        20201231.0  \n",
       "4         NaN                N                        20201231.0  "
      ]
     },
     "execution_count": 7,
     "metadata": {},
     "output_type": "execute_result"
    }
   ],
   "source": [
    "product.head()"
   ]
  },
  {
   "cell_type": "markdown",
   "metadata": {},
   "source": [
    "## Check that merge ids match up"
   ]
  },
  {
   "cell_type": "code",
   "execution_count": 8,
   "metadata": {},
   "outputs": [],
   "source": [
    "packids = set(package[\"PRODUCTID\"])"
   ]
  },
  {
   "cell_type": "code",
   "execution_count": 9,
   "metadata": {},
   "outputs": [],
   "source": [
    "prodids = set(product[\"PRODUCTID\"])"
   ]
  },
  {
   "cell_type": "code",
   "execution_count": 10,
   "metadata": {},
   "outputs": [
    {
     "data": {
      "text/plain": [
       "127626"
      ]
     },
     "execution_count": 10,
     "metadata": {},
     "output_type": "execute_result"
    }
   ],
   "source": [
    "len(packids)"
   ]
  },
  {
   "cell_type": "code",
   "execution_count": 11,
   "metadata": {},
   "outputs": [
    {
     "data": {
      "text/plain": [
       "127906"
      ]
     },
     "execution_count": 11,
     "metadata": {},
     "output_type": "execute_result"
    }
   ],
   "source": [
    "len(prodids)"
   ]
  },
  {
   "cell_type": "code",
   "execution_count": 12,
   "metadata": {},
   "outputs": [
    {
     "data": {
      "text/plain": [
       "False"
      ]
     },
     "execution_count": 12,
     "metadata": {},
     "output_type": "execute_result"
    }
   ],
   "source": [
    "packids <= prodids"
   ]
  },
  {
   "cell_type": "markdown",
   "metadata": {},
   "source": [
    "This is weird... How can the ids be mismatched?"
   ]
  },
  {
   "cell_type": "markdown",
   "metadata": {},
   "source": [
    "### Unknown package ids"
   ]
  },
  {
   "cell_type": "code",
   "execution_count": 13,
   "metadata": {},
   "outputs": [
    {
     "data": {
      "text/plain": [
       "1"
      ]
     },
     "execution_count": 13,
     "metadata": {},
     "output_type": "execute_result"
    }
   ],
   "source": [
    "len(packids - prodids)"
   ]
  },
  {
   "cell_type": "code",
   "execution_count": 14,
   "metadata": {},
   "outputs": [
    {
     "data": {
      "text/html": [
       "<div>\n",
       "<style scoped>\n",
       "    .dataframe tbody tr th:only-of-type {\n",
       "        vertical-align: middle;\n",
       "    }\n",
       "\n",
       "    .dataframe tbody tr th {\n",
       "        vertical-align: top;\n",
       "    }\n",
       "\n",
       "    .dataframe thead th {\n",
       "        text-align: right;\n",
       "    }\n",
       "</style>\n",
       "<table border=\"1\" class=\"dataframe\">\n",
       "  <thead>\n",
       "    <tr style=\"text-align: right;\">\n",
       "      <th></th>\n",
       "      <th>PRODUCTID</th>\n",
       "      <th>PRODUCTNDC</th>\n",
       "      <th>NDCPACKAGECODE</th>\n",
       "      <th>PACKAGEDESCRIPTION</th>\n",
       "    </tr>\n",
       "  </thead>\n",
       "  <tbody>\n",
       "    <tr>\n",
       "      <th>0</th>\n",
       "      <td>49035-803_7cfcbb36-c84c-4dc4-873a-ae1c5204aa00</td>\n",
       "      <td>49035-803</td>\n",
       "      <td>49035-803-27</td>\n",
       "      <td>160 TABLET, CHEWABLE in 1 BOTTLE (49035-803-27)</td>\n",
       "    </tr>\n",
       "  </tbody>\n",
       "</table>\n",
       "</div>"
      ],
      "text/plain": [
       "                                        PRODUCTID PRODUCTNDC NDCPACKAGECODE  \\\n",
       "0  49035-803_7cfcbb36-c84c-4dc4-873a-ae1c5204aa00  49035-803   49035-803-27   \n",
       "\n",
       "                                 PACKAGEDESCRIPTION  \n",
       "0  160 TABLET, CHEWABLE in 1 BOTTLE (49035-803-27)   "
      ]
     },
     "execution_count": 14,
     "metadata": {},
     "output_type": "execute_result"
    }
   ],
   "source": [
    "(pd\n",
    "    .Series(list(packids - prodids))\n",
    "    .to_frame(\"PRODUCTID\")\n",
    "    .merge(package, how=\"left\", on=\"PRODUCTID\")\n",
    ")"
   ]
  },
  {
   "cell_type": "markdown",
   "metadata": {},
   "source": [
    "### Unknown product ids"
   ]
  },
  {
   "cell_type": "code",
   "execution_count": 15,
   "metadata": {},
   "outputs": [
    {
     "data": {
      "text/plain": [
       "281"
      ]
     },
     "execution_count": 15,
     "metadata": {},
     "output_type": "execute_result"
    }
   ],
   "source": [
    "len(prodids - packids)"
   ]
  },
  {
   "cell_type": "code",
   "execution_count": 16,
   "metadata": {},
   "outputs": [
    {
     "data": {
      "text/html": [
       "<div>\n",
       "<style scoped>\n",
       "    .dataframe tbody tr th:only-of-type {\n",
       "        vertical-align: middle;\n",
       "    }\n",
       "\n",
       "    .dataframe tbody tr th {\n",
       "        vertical-align: top;\n",
       "    }\n",
       "\n",
       "    .dataframe thead th {\n",
       "        text-align: right;\n",
       "    }\n",
       "</style>\n",
       "<table border=\"1\" class=\"dataframe\">\n",
       "  <thead>\n",
       "    <tr style=\"text-align: right;\">\n",
       "      <th></th>\n",
       "      <th>PRODUCTID</th>\n",
       "      <th>PRODUCTNDC</th>\n",
       "      <th>PRODUCTTYPENAME</th>\n",
       "      <th>PROPRIETARYNAME</th>\n",
       "      <th>NONPROPRIETARYNAME</th>\n",
       "      <th>DOSAGEFORMNAME</th>\n",
       "      <th>ROUTENAME</th>\n",
       "      <th>MARKETINGCATEGORYNAME</th>\n",
       "      <th>APPLICATIONNUMBER</th>\n",
       "      <th>LABELERNAME</th>\n",
       "      <th>SUBSTANCENAME</th>\n",
       "      <th>ACTIVE_NUMERATOR_STRENGTH</th>\n",
       "      <th>ACTIVE_INGRED_UNIT</th>\n",
       "      <th>PHARM_CLASSES</th>\n",
       "      <th>DEASCHEDULE</th>\n",
       "      <th>NDC_EXCLUDE_FLAG</th>\n",
       "      <th>LISTING_RECORD_CERTIFIED_THROUGH</th>\n",
       "    </tr>\n",
       "  </thead>\n",
       "  <tbody>\n",
       "    <tr>\n",
       "      <th>0</th>\n",
       "      <td>69642-1400_52c1413e-2814-367b-e054-00144ff88e88</td>\n",
       "      <td>69642-1400</td>\n",
       "      <td>HUMAN OTC DRUG</td>\n",
       "      <td>Bamboo Salt 160g</td>\n",
       "      <td>Sodium Lauryl Sulfate</td>\n",
       "      <td>PASTE, DENTIFRICE</td>\n",
       "      <td>ORAL</td>\n",
       "      <td>OTC MONOGRAPH NOT FINAL</td>\n",
       "      <td>part356</td>\n",
       "      <td>Hanul Trading Co., Ltd.</td>\n",
       "      <td>SODIUM LAURYL SULFATE</td>\n",
       "      <td>1.21</td>\n",
       "      <td>g/160g</td>\n",
       "      <td>NaN</td>\n",
       "      <td>NaN</td>\n",
       "      <td>E</td>\n",
       "      <td>20181231.0</td>\n",
       "    </tr>\n",
       "    <tr>\n",
       "      <th>1</th>\n",
       "      <td>0264-7628_b68780eb-a7bd-4ef0-ac64-85bffddbee74</td>\n",
       "      <td>0264-7628</td>\n",
       "      <td>HUMAN PRESCRIPTION DRUG</td>\n",
       "      <td>POTASSIUM CHLORIDE IN DEXTROSE</td>\n",
       "      <td>DEXTROSE and POTASSIUM CHLORIDE</td>\n",
       "      <td>SOLUTION</td>\n",
       "      <td>INTRAVENOUS</td>\n",
       "      <td>NDA</td>\n",
       "      <td>NDA019699</td>\n",
       "      <td>B. Braun Medical Inc.</td>\n",
       "      <td>DEXTROSE; POTASSIUM CHLORIDE</td>\n",
       "      <td>5; .3</td>\n",
       "      <td>g/100mL; g/100mL</td>\n",
       "      <td>Potassium Compounds [CS],Potassium Salt [EPC],...</td>\n",
       "      <td>NaN</td>\n",
       "      <td>N</td>\n",
       "      <td>20191231.0</td>\n",
       "    </tr>\n",
       "    <tr>\n",
       "      <th>2</th>\n",
       "      <td>55390-370_654d0d44-73a6-baa4-78ec-8fa492237dab</td>\n",
       "      <td>55390-370</td>\n",
       "      <td>HUMAN PRESCRIPTION DRUG</td>\n",
       "      <td>Topotecan Hydrochloride</td>\n",
       "      <td>Topotecan Hydrochloride</td>\n",
       "      <td>INJECTION, POWDER, LYOPHILIZED, FOR SOLUTION</td>\n",
       "      <td>INTRAVENOUS</td>\n",
       "      <td>ANDA</td>\n",
       "      <td>ANDA201191</td>\n",
       "      <td>Bedford Laboratories</td>\n",
       "      <td>TOPOTECAN HYDROCHLORIDE</td>\n",
       "      <td>4</td>\n",
       "      <td>mg/4mL</td>\n",
       "      <td>Topoisomerase Inhibitor [EPC],Topoisomerase In...</td>\n",
       "      <td>NaN</td>\n",
       "      <td>N</td>\n",
       "      <td>20191231.0</td>\n",
       "    </tr>\n",
       "    <tr>\n",
       "      <th>3</th>\n",
       "      <td>50458-355_f9975a20-7dc8-11e8-815d-298f676ff592</td>\n",
       "      <td>50458-355</td>\n",
       "      <td>HUMAN PRESCRIPTION DRUG</td>\n",
       "      <td>RISPERDAL M-TAB</td>\n",
       "      <td>risperidone</td>\n",
       "      <td>TABLET, ORALLY DISINTEGRATING</td>\n",
       "      <td>ORAL</td>\n",
       "      <td>NDA</td>\n",
       "      <td>NDA021444</td>\n",
       "      <td>Janssen Pharmaceuticals, Inc.</td>\n",
       "      <td>RISPERIDONE</td>\n",
       "      <td>4</td>\n",
       "      <td>mg/1</td>\n",
       "      <td>Atypical Antipsychotic [EPC]</td>\n",
       "      <td>NaN</td>\n",
       "      <td>N</td>\n",
       "      <td>20201231.0</td>\n",
       "    </tr>\n",
       "    <tr>\n",
       "      <th>4</th>\n",
       "      <td>71909-0773_7773a36f-361a-10a3-e053-2991aa0aa0cf</td>\n",
       "      <td>71909-0773</td>\n",
       "      <td>HUMAN OTC DRUG</td>\n",
       "      <td>LOVLUV Vivacity Bright BB Cream</td>\n",
       "      <td>Titanium Dioxide, OCTINOXATE, ZINC OXIDE, OCTI...</td>\n",
       "      <td>CREAM</td>\n",
       "      <td>TOPICAL</td>\n",
       "      <td>OTC MONOGRAPH NOT FINAL</td>\n",
       "      <td>part352</td>\n",
       "      <td>Cnt Dream. Co., Ltd</td>\n",
       "      <td>TITANIUM DIOXIDE; ZINC OXIDE; OCTINOXATE; OCTI...</td>\n",
       "      <td>3.5; 2; 2.5; .65</td>\n",
       "      <td>g/50g; g/50g; g/50g; g/50g</td>\n",
       "      <td>NaN</td>\n",
       "      <td>NaN</td>\n",
       "      <td>N</td>\n",
       "      <td>NaN</td>\n",
       "    </tr>\n",
       "  </tbody>\n",
       "</table>\n",
       "</div>"
      ],
      "text/plain": [
       "                                         PRODUCTID  PRODUCTNDC  \\\n",
       "0  69642-1400_52c1413e-2814-367b-e054-00144ff88e88  69642-1400   \n",
       "1   0264-7628_b68780eb-a7bd-4ef0-ac64-85bffddbee74   0264-7628   \n",
       "2   55390-370_654d0d44-73a6-baa4-78ec-8fa492237dab   55390-370   \n",
       "3   50458-355_f9975a20-7dc8-11e8-815d-298f676ff592   50458-355   \n",
       "4  71909-0773_7773a36f-361a-10a3-e053-2991aa0aa0cf  71909-0773   \n",
       "\n",
       "           PRODUCTTYPENAME                  PROPRIETARYNAME  \\\n",
       "0           HUMAN OTC DRUG                 Bamboo Salt 160g   \n",
       "1  HUMAN PRESCRIPTION DRUG   POTASSIUM CHLORIDE IN DEXTROSE   \n",
       "2  HUMAN PRESCRIPTION DRUG          Topotecan Hydrochloride   \n",
       "3  HUMAN PRESCRIPTION DRUG                  RISPERDAL M-TAB   \n",
       "4           HUMAN OTC DRUG  LOVLUV Vivacity Bright BB Cream   \n",
       "\n",
       "                                  NONPROPRIETARYNAME  \\\n",
       "0                              Sodium Lauryl Sulfate   \n",
       "1                    DEXTROSE and POTASSIUM CHLORIDE   \n",
       "2                            Topotecan Hydrochloride   \n",
       "3                                        risperidone   \n",
       "4  Titanium Dioxide, OCTINOXATE, ZINC OXIDE, OCTI...   \n",
       "\n",
       "                                 DOSAGEFORMNAME    ROUTENAME  \\\n",
       "0                             PASTE, DENTIFRICE         ORAL   \n",
       "1                                      SOLUTION  INTRAVENOUS   \n",
       "2  INJECTION, POWDER, LYOPHILIZED, FOR SOLUTION  INTRAVENOUS   \n",
       "3                 TABLET, ORALLY DISINTEGRATING         ORAL   \n",
       "4                                         CREAM      TOPICAL   \n",
       "\n",
       "     MARKETINGCATEGORYNAME APPLICATIONNUMBER                    LABELERNAME  \\\n",
       "0  OTC MONOGRAPH NOT FINAL           part356        Hanul Trading Co., Ltd.   \n",
       "1                      NDA         NDA019699          B. Braun Medical Inc.   \n",
       "2                     ANDA        ANDA201191           Bedford Laboratories   \n",
       "3                      NDA         NDA021444  Janssen Pharmaceuticals, Inc.   \n",
       "4  OTC MONOGRAPH NOT FINAL           part352            Cnt Dream. Co., Ltd   \n",
       "\n",
       "                                       SUBSTANCENAME  \\\n",
       "0                              SODIUM LAURYL SULFATE   \n",
       "1                       DEXTROSE; POTASSIUM CHLORIDE   \n",
       "2                            TOPOTECAN HYDROCHLORIDE   \n",
       "3                                        RISPERIDONE   \n",
       "4  TITANIUM DIOXIDE; ZINC OXIDE; OCTINOXATE; OCTI...   \n",
       "\n",
       "  ACTIVE_NUMERATOR_STRENGTH          ACTIVE_INGRED_UNIT  \\\n",
       "0                      1.21                      g/160g   \n",
       "1                     5; .3            g/100mL; g/100mL   \n",
       "2                         4                      mg/4mL   \n",
       "3                         4                        mg/1   \n",
       "4          3.5; 2; 2.5; .65  g/50g; g/50g; g/50g; g/50g   \n",
       "\n",
       "                                       PHARM_CLASSES DEASCHEDULE  \\\n",
       "0                                                NaN         NaN   \n",
       "1  Potassium Compounds [CS],Potassium Salt [EPC],...         NaN   \n",
       "2  Topoisomerase Inhibitor [EPC],Topoisomerase In...         NaN   \n",
       "3                       Atypical Antipsychotic [EPC]         NaN   \n",
       "4                                                NaN         NaN   \n",
       "\n",
       "  NDC_EXCLUDE_FLAG  LISTING_RECORD_CERTIFIED_THROUGH  \n",
       "0                E                        20181231.0  \n",
       "1                N                        20191231.0  \n",
       "2                N                        20191231.0  \n",
       "3                N                        20201231.0  \n",
       "4                N                               NaN  "
      ]
     },
     "execution_count": 16,
     "metadata": {},
     "output_type": "execute_result"
    }
   ],
   "source": [
    "(pd\n",
    "    .Series(list(prodids - packids))\n",
    "    .to_frame(\"PRODUCTID\")\n",
    "    .merge(product, how=\"left\", on=\"PRODUCTID\")\n",
    ").head(5)"
   ]
  },
  {
   "cell_type": "markdown",
   "metadata": {},
   "source": [
    "Ok, so it seems like the data is not super well formatted when released. Seems like this is all the super new products anyways, so we shouldn't need to worry."
   ]
  },
  {
   "cell_type": "markdown",
   "metadata": {},
   "source": [
    "---"
   ]
  },
  {
   "cell_type": "markdown",
   "metadata": {},
   "source": [
    "## Merge as best as we can"
   ]
  },
  {
   "cell_type": "code",
   "execution_count": 17,
   "metadata": {},
   "outputs": [],
   "source": [
    "res = package.merge(product, how=\"inner\", on=\"PRODUCTID\")"
   ]
  },
  {
   "cell_type": "code",
   "execution_count": 18,
   "metadata": {},
   "outputs": [
    {
     "data": {
      "text/plain": [
       "(243483, 20)"
      ]
     },
     "execution_count": 18,
     "metadata": {},
     "output_type": "execute_result"
    }
   ],
   "source": [
    "res.shape"
   ]
  },
  {
   "cell_type": "code",
   "execution_count": 19,
   "metadata": {},
   "outputs": [
    {
     "data": {
      "text/html": [
       "<div>\n",
       "<style scoped>\n",
       "    .dataframe tbody tr th:only-of-type {\n",
       "        vertical-align: middle;\n",
       "    }\n",
       "\n",
       "    .dataframe tbody tr th {\n",
       "        vertical-align: top;\n",
       "    }\n",
       "\n",
       "    .dataframe thead th {\n",
       "        text-align: right;\n",
       "    }\n",
       "</style>\n",
       "<table border=\"1\" class=\"dataframe\">\n",
       "  <thead>\n",
       "    <tr style=\"text-align: right;\">\n",
       "      <th></th>\n",
       "      <th>PRODUCTID</th>\n",
       "      <th>PRODUCTNDC_x</th>\n",
       "      <th>NDCPACKAGECODE</th>\n",
       "      <th>PACKAGEDESCRIPTION</th>\n",
       "      <th>PRODUCTNDC_y</th>\n",
       "      <th>PRODUCTTYPENAME</th>\n",
       "      <th>PROPRIETARYNAME</th>\n",
       "      <th>NONPROPRIETARYNAME</th>\n",
       "      <th>DOSAGEFORMNAME</th>\n",
       "      <th>ROUTENAME</th>\n",
       "      <th>MARKETINGCATEGORYNAME</th>\n",
       "      <th>APPLICATIONNUMBER</th>\n",
       "      <th>LABELERNAME</th>\n",
       "      <th>SUBSTANCENAME</th>\n",
       "      <th>ACTIVE_NUMERATOR_STRENGTH</th>\n",
       "      <th>ACTIVE_INGRED_UNIT</th>\n",
       "      <th>PHARM_CLASSES</th>\n",
       "      <th>DEASCHEDULE</th>\n",
       "      <th>NDC_EXCLUDE_FLAG</th>\n",
       "      <th>LISTING_RECORD_CERTIFIED_THROUGH</th>\n",
       "    </tr>\n",
       "  </thead>\n",
       "  <tbody>\n",
       "    <tr>\n",
       "      <th>0</th>\n",
       "      <td>0002-0800_4bb5d1cb-0fa7-48c7-9f6d-8d45f9b91649</td>\n",
       "      <td>0002-0800</td>\n",
       "      <td>0002-0800-01</td>\n",
       "      <td>1 VIAL in 1 CARTON (0002-0800-01)  &gt; 10 mL in ...</td>\n",
       "      <td>0002-0800</td>\n",
       "      <td>HUMAN OTC DRUG</td>\n",
       "      <td>Sterile Diluent</td>\n",
       "      <td>diluent</td>\n",
       "      <td>INJECTION, SOLUTION</td>\n",
       "      <td>SUBCUTANEOUS</td>\n",
       "      <td>NDA</td>\n",
       "      <td>NDA018781</td>\n",
       "      <td>Eli Lilly and Company</td>\n",
       "      <td>WATER</td>\n",
       "      <td>1</td>\n",
       "      <td>mL/mL</td>\n",
       "      <td>NaN</td>\n",
       "      <td>NaN</td>\n",
       "      <td>N</td>\n",
       "      <td>20191231.0</td>\n",
       "    </tr>\n",
       "    <tr>\n",
       "      <th>1</th>\n",
       "      <td>0002-1200_957ee1b5-dfa7-4e3f-96e1-6bed1ffc0abe</td>\n",
       "      <td>0002-1200</td>\n",
       "      <td>0002-1200-30</td>\n",
       "      <td>1 VIAL, MULTI-DOSE in 1 CAN (0002-1200-30)  &gt; ...</td>\n",
       "      <td>0002-1200</td>\n",
       "      <td>HUMAN PRESCRIPTION DRUG</td>\n",
       "      <td>Amyvid</td>\n",
       "      <td>Florbetapir F 18</td>\n",
       "      <td>INJECTION, SOLUTION</td>\n",
       "      <td>INTRAVENOUS</td>\n",
       "      <td>NDA</td>\n",
       "      <td>NDA202008</td>\n",
       "      <td>Eli Lilly and Company</td>\n",
       "      <td>FLORBETAPIR F-18</td>\n",
       "      <td>51</td>\n",
       "      <td>mCi/mL</td>\n",
       "      <td>Radioactive Diagnostic Agent [EPC],Positron Em...</td>\n",
       "      <td>NaN</td>\n",
       "      <td>N</td>\n",
       "      <td>20191231.0</td>\n",
       "    </tr>\n",
       "    <tr>\n",
       "      <th>2</th>\n",
       "      <td>0002-1200_957ee1b5-dfa7-4e3f-96e1-6bed1ffc0abe</td>\n",
       "      <td>0002-1200</td>\n",
       "      <td>0002-1200-50</td>\n",
       "      <td>1 VIAL, MULTI-DOSE in 1 CAN (0002-1200-50)  &gt; ...</td>\n",
       "      <td>0002-1200</td>\n",
       "      <td>HUMAN PRESCRIPTION DRUG</td>\n",
       "      <td>Amyvid</td>\n",
       "      <td>Florbetapir F 18</td>\n",
       "      <td>INJECTION, SOLUTION</td>\n",
       "      <td>INTRAVENOUS</td>\n",
       "      <td>NDA</td>\n",
       "      <td>NDA202008</td>\n",
       "      <td>Eli Lilly and Company</td>\n",
       "      <td>FLORBETAPIR F-18</td>\n",
       "      <td>51</td>\n",
       "      <td>mCi/mL</td>\n",
       "      <td>Radioactive Diagnostic Agent [EPC],Positron Em...</td>\n",
       "      <td>NaN</td>\n",
       "      <td>N</td>\n",
       "      <td>20191231.0</td>\n",
       "    </tr>\n",
       "    <tr>\n",
       "      <th>3</th>\n",
       "      <td>0002-1407_14757f9d-f641-4836-acf3-229265588d1d</td>\n",
       "      <td>0002-1407</td>\n",
       "      <td>0002-1407-01</td>\n",
       "      <td>10 mL in 1 VIAL (0002-1407-01)</td>\n",
       "      <td>0002-1407</td>\n",
       "      <td>HUMAN PRESCRIPTION DRUG</td>\n",
       "      <td>Quinidine Gluconate</td>\n",
       "      <td>Quinidine Gluconate</td>\n",
       "      <td>SOLUTION</td>\n",
       "      <td>INTRAVENOUS</td>\n",
       "      <td>NDA</td>\n",
       "      <td>NDA007529</td>\n",
       "      <td>Eli Lilly and Company</td>\n",
       "      <td>QUINIDINE GLUCONATE</td>\n",
       "      <td>80</td>\n",
       "      <td>mg/mL</td>\n",
       "      <td>Antiarrhythmic [EPC],Cytochrome P450 2D6 Inhib...</td>\n",
       "      <td>NaN</td>\n",
       "      <td>N</td>\n",
       "      <td>20191231.0</td>\n",
       "    </tr>\n",
       "    <tr>\n",
       "      <th>4</th>\n",
       "      <td>0002-1433_4468578a-47d2-488e-9fd4-a8322070392f</td>\n",
       "      <td>0002-1433</td>\n",
       "      <td>0002-1433-61</td>\n",
       "      <td>2 SYRINGE in 1 CARTON (0002-1433-61)  &gt; .5 mL ...</td>\n",
       "      <td>0002-1433</td>\n",
       "      <td>HUMAN PRESCRIPTION DRUG</td>\n",
       "      <td>Trulicity</td>\n",
       "      <td>Dulaglutide</td>\n",
       "      <td>INJECTION, SOLUTION</td>\n",
       "      <td>SUBCUTANEOUS</td>\n",
       "      <td>BLA</td>\n",
       "      <td>BLA125469</td>\n",
       "      <td>Eli Lilly and Company</td>\n",
       "      <td>DULAGLUTIDE</td>\n",
       "      <td>.75</td>\n",
       "      <td>mg/.5mL</td>\n",
       "      <td>GLP-1 Receptor Agonist [EPC],Glucagon-Like Pep...</td>\n",
       "      <td>NaN</td>\n",
       "      <td>N</td>\n",
       "      <td>20201231.0</td>\n",
       "    </tr>\n",
       "  </tbody>\n",
       "</table>\n",
       "</div>"
      ],
      "text/plain": [
       "                                        PRODUCTID PRODUCTNDC_x NDCPACKAGECODE  \\\n",
       "0  0002-0800_4bb5d1cb-0fa7-48c7-9f6d-8d45f9b91649    0002-0800   0002-0800-01   \n",
       "1  0002-1200_957ee1b5-dfa7-4e3f-96e1-6bed1ffc0abe    0002-1200   0002-1200-30   \n",
       "2  0002-1200_957ee1b5-dfa7-4e3f-96e1-6bed1ffc0abe    0002-1200   0002-1200-50   \n",
       "3  0002-1407_14757f9d-f641-4836-acf3-229265588d1d    0002-1407   0002-1407-01   \n",
       "4  0002-1433_4468578a-47d2-488e-9fd4-a8322070392f    0002-1433   0002-1433-61   \n",
       "\n",
       "                                  PACKAGEDESCRIPTION PRODUCTNDC_y  \\\n",
       "0  1 VIAL in 1 CARTON (0002-0800-01)  > 10 mL in ...    0002-0800   \n",
       "1  1 VIAL, MULTI-DOSE in 1 CAN (0002-1200-30)  > ...    0002-1200   \n",
       "2  1 VIAL, MULTI-DOSE in 1 CAN (0002-1200-50)  > ...    0002-1200   \n",
       "3                    10 mL in 1 VIAL (0002-1407-01)     0002-1407   \n",
       "4  2 SYRINGE in 1 CARTON (0002-1433-61)  > .5 mL ...    0002-1433   \n",
       "\n",
       "           PRODUCTTYPENAME      PROPRIETARYNAME   NONPROPRIETARYNAME  \\\n",
       "0           HUMAN OTC DRUG      Sterile Diluent              diluent   \n",
       "1  HUMAN PRESCRIPTION DRUG               Amyvid     Florbetapir F 18   \n",
       "2  HUMAN PRESCRIPTION DRUG               Amyvid     Florbetapir F 18   \n",
       "3  HUMAN PRESCRIPTION DRUG  Quinidine Gluconate  Quinidine Gluconate   \n",
       "4  HUMAN PRESCRIPTION DRUG            Trulicity          Dulaglutide   \n",
       "\n",
       "        DOSAGEFORMNAME     ROUTENAME MARKETINGCATEGORYNAME APPLICATIONNUMBER  \\\n",
       "0  INJECTION, SOLUTION  SUBCUTANEOUS                   NDA         NDA018781   \n",
       "1  INJECTION, SOLUTION   INTRAVENOUS                   NDA         NDA202008   \n",
       "2  INJECTION, SOLUTION   INTRAVENOUS                   NDA         NDA202008   \n",
       "3             SOLUTION   INTRAVENOUS                   NDA         NDA007529   \n",
       "4  INJECTION, SOLUTION  SUBCUTANEOUS                   BLA         BLA125469   \n",
       "\n",
       "             LABELERNAME        SUBSTANCENAME ACTIVE_NUMERATOR_STRENGTH  \\\n",
       "0  Eli Lilly and Company                WATER                         1   \n",
       "1  Eli Lilly and Company     FLORBETAPIR F-18                        51   \n",
       "2  Eli Lilly and Company     FLORBETAPIR F-18                        51   \n",
       "3  Eli Lilly and Company  QUINIDINE GLUCONATE                        80   \n",
       "4  Eli Lilly and Company          DULAGLUTIDE                       .75   \n",
       "\n",
       "  ACTIVE_INGRED_UNIT                                      PHARM_CLASSES  \\\n",
       "0              mL/mL                                                NaN   \n",
       "1             mCi/mL  Radioactive Diagnostic Agent [EPC],Positron Em...   \n",
       "2             mCi/mL  Radioactive Diagnostic Agent [EPC],Positron Em...   \n",
       "3              mg/mL  Antiarrhythmic [EPC],Cytochrome P450 2D6 Inhib...   \n",
       "4            mg/.5mL  GLP-1 Receptor Agonist [EPC],Glucagon-Like Pep...   \n",
       "\n",
       "  DEASCHEDULE NDC_EXCLUDE_FLAG  LISTING_RECORD_CERTIFIED_THROUGH  \n",
       "0         NaN                N                        20191231.0  \n",
       "1         NaN                N                        20191231.0  \n",
       "2         NaN                N                        20191231.0  \n",
       "3         NaN                N                        20191231.0  \n",
       "4         NaN                N                        20201231.0  "
      ]
     },
     "execution_count": 19,
     "metadata": {},
     "output_type": "execute_result"
    }
   ],
   "source": [
    "res.head()"
   ]
  },
  {
   "cell_type": "markdown",
   "metadata": {},
   "source": [
    "### Check things match"
   ]
  },
  {
   "cell_type": "code",
   "execution_count": 20,
   "metadata": {},
   "outputs": [
    {
     "data": {
      "text/plain": [
       "True"
      ]
     },
     "execution_count": 20,
     "metadata": {},
     "output_type": "execute_result"
    }
   ],
   "source": [
    "(res[\"PRODUCTNDC_x\"] == res[\"PRODUCTNDC_y\"]).all()"
   ]
  },
  {
   "cell_type": "markdown",
   "metadata": {},
   "source": [
    "## Generate final table"
   ]
  },
  {
   "cell_type": "code",
   "execution_count": 21,
   "metadata": {},
   "outputs": [],
   "source": [
    "final = (res\n",
    "    .drop(\"PRODUCTNDC_y\", axis=1)\n",
    "    .rename(columns={\"PRODUCTNDC_x\": \"PRODUCTNDC\"})\n",
    ")"
   ]
  },
  {
   "cell_type": "code",
   "execution_count": 22,
   "metadata": {},
   "outputs": [
    {
     "data": {
      "text/plain": [
       "(243483, 19)"
      ]
     },
     "execution_count": 22,
     "metadata": {},
     "output_type": "execute_result"
    }
   ],
   "source": [
    "final.shape"
   ]
  },
  {
   "cell_type": "code",
   "execution_count": 23,
   "metadata": {},
   "outputs": [
    {
     "data": {
      "text/html": [
       "<div>\n",
       "<style scoped>\n",
       "    .dataframe tbody tr th:only-of-type {\n",
       "        vertical-align: middle;\n",
       "    }\n",
       "\n",
       "    .dataframe tbody tr th {\n",
       "        vertical-align: top;\n",
       "    }\n",
       "\n",
       "    .dataframe thead th {\n",
       "        text-align: right;\n",
       "    }\n",
       "</style>\n",
       "<table border=\"1\" class=\"dataframe\">\n",
       "  <thead>\n",
       "    <tr style=\"text-align: right;\">\n",
       "      <th></th>\n",
       "      <th>PRODUCTID</th>\n",
       "      <th>PRODUCTNDC</th>\n",
       "      <th>NDCPACKAGECODE</th>\n",
       "      <th>PACKAGEDESCRIPTION</th>\n",
       "      <th>PRODUCTTYPENAME</th>\n",
       "      <th>PROPRIETARYNAME</th>\n",
       "      <th>NONPROPRIETARYNAME</th>\n",
       "      <th>DOSAGEFORMNAME</th>\n",
       "      <th>ROUTENAME</th>\n",
       "      <th>MARKETINGCATEGORYNAME</th>\n",
       "      <th>APPLICATIONNUMBER</th>\n",
       "      <th>LABELERNAME</th>\n",
       "      <th>SUBSTANCENAME</th>\n",
       "      <th>ACTIVE_NUMERATOR_STRENGTH</th>\n",
       "      <th>ACTIVE_INGRED_UNIT</th>\n",
       "      <th>PHARM_CLASSES</th>\n",
       "      <th>DEASCHEDULE</th>\n",
       "      <th>NDC_EXCLUDE_FLAG</th>\n",
       "      <th>LISTING_RECORD_CERTIFIED_THROUGH</th>\n",
       "    </tr>\n",
       "  </thead>\n",
       "  <tbody>\n",
       "    <tr>\n",
       "      <th>0</th>\n",
       "      <td>0002-0800_4bb5d1cb-0fa7-48c7-9f6d-8d45f9b91649</td>\n",
       "      <td>0002-0800</td>\n",
       "      <td>0002-0800-01</td>\n",
       "      <td>1 VIAL in 1 CARTON (0002-0800-01)  &gt; 10 mL in ...</td>\n",
       "      <td>HUMAN OTC DRUG</td>\n",
       "      <td>Sterile Diluent</td>\n",
       "      <td>diluent</td>\n",
       "      <td>INJECTION, SOLUTION</td>\n",
       "      <td>SUBCUTANEOUS</td>\n",
       "      <td>NDA</td>\n",
       "      <td>NDA018781</td>\n",
       "      <td>Eli Lilly and Company</td>\n",
       "      <td>WATER</td>\n",
       "      <td>1</td>\n",
       "      <td>mL/mL</td>\n",
       "      <td>NaN</td>\n",
       "      <td>NaN</td>\n",
       "      <td>N</td>\n",
       "      <td>20191231.0</td>\n",
       "    </tr>\n",
       "    <tr>\n",
       "      <th>1</th>\n",
       "      <td>0002-1200_957ee1b5-dfa7-4e3f-96e1-6bed1ffc0abe</td>\n",
       "      <td>0002-1200</td>\n",
       "      <td>0002-1200-30</td>\n",
       "      <td>1 VIAL, MULTI-DOSE in 1 CAN (0002-1200-30)  &gt; ...</td>\n",
       "      <td>HUMAN PRESCRIPTION DRUG</td>\n",
       "      <td>Amyvid</td>\n",
       "      <td>Florbetapir F 18</td>\n",
       "      <td>INJECTION, SOLUTION</td>\n",
       "      <td>INTRAVENOUS</td>\n",
       "      <td>NDA</td>\n",
       "      <td>NDA202008</td>\n",
       "      <td>Eli Lilly and Company</td>\n",
       "      <td>FLORBETAPIR F-18</td>\n",
       "      <td>51</td>\n",
       "      <td>mCi/mL</td>\n",
       "      <td>Radioactive Diagnostic Agent [EPC],Positron Em...</td>\n",
       "      <td>NaN</td>\n",
       "      <td>N</td>\n",
       "      <td>20191231.0</td>\n",
       "    </tr>\n",
       "    <tr>\n",
       "      <th>2</th>\n",
       "      <td>0002-1200_957ee1b5-dfa7-4e3f-96e1-6bed1ffc0abe</td>\n",
       "      <td>0002-1200</td>\n",
       "      <td>0002-1200-50</td>\n",
       "      <td>1 VIAL, MULTI-DOSE in 1 CAN (0002-1200-50)  &gt; ...</td>\n",
       "      <td>HUMAN PRESCRIPTION DRUG</td>\n",
       "      <td>Amyvid</td>\n",
       "      <td>Florbetapir F 18</td>\n",
       "      <td>INJECTION, SOLUTION</td>\n",
       "      <td>INTRAVENOUS</td>\n",
       "      <td>NDA</td>\n",
       "      <td>NDA202008</td>\n",
       "      <td>Eli Lilly and Company</td>\n",
       "      <td>FLORBETAPIR F-18</td>\n",
       "      <td>51</td>\n",
       "      <td>mCi/mL</td>\n",
       "      <td>Radioactive Diagnostic Agent [EPC],Positron Em...</td>\n",
       "      <td>NaN</td>\n",
       "      <td>N</td>\n",
       "      <td>20191231.0</td>\n",
       "    </tr>\n",
       "    <tr>\n",
       "      <th>3</th>\n",
       "      <td>0002-1407_14757f9d-f641-4836-acf3-229265588d1d</td>\n",
       "      <td>0002-1407</td>\n",
       "      <td>0002-1407-01</td>\n",
       "      <td>10 mL in 1 VIAL (0002-1407-01)</td>\n",
       "      <td>HUMAN PRESCRIPTION DRUG</td>\n",
       "      <td>Quinidine Gluconate</td>\n",
       "      <td>Quinidine Gluconate</td>\n",
       "      <td>SOLUTION</td>\n",
       "      <td>INTRAVENOUS</td>\n",
       "      <td>NDA</td>\n",
       "      <td>NDA007529</td>\n",
       "      <td>Eli Lilly and Company</td>\n",
       "      <td>QUINIDINE GLUCONATE</td>\n",
       "      <td>80</td>\n",
       "      <td>mg/mL</td>\n",
       "      <td>Antiarrhythmic [EPC],Cytochrome P450 2D6 Inhib...</td>\n",
       "      <td>NaN</td>\n",
       "      <td>N</td>\n",
       "      <td>20191231.0</td>\n",
       "    </tr>\n",
       "    <tr>\n",
       "      <th>4</th>\n",
       "      <td>0002-1433_4468578a-47d2-488e-9fd4-a8322070392f</td>\n",
       "      <td>0002-1433</td>\n",
       "      <td>0002-1433-61</td>\n",
       "      <td>2 SYRINGE in 1 CARTON (0002-1433-61)  &gt; .5 mL ...</td>\n",
       "      <td>HUMAN PRESCRIPTION DRUG</td>\n",
       "      <td>Trulicity</td>\n",
       "      <td>Dulaglutide</td>\n",
       "      <td>INJECTION, SOLUTION</td>\n",
       "      <td>SUBCUTANEOUS</td>\n",
       "      <td>BLA</td>\n",
       "      <td>BLA125469</td>\n",
       "      <td>Eli Lilly and Company</td>\n",
       "      <td>DULAGLUTIDE</td>\n",
       "      <td>.75</td>\n",
       "      <td>mg/.5mL</td>\n",
       "      <td>GLP-1 Receptor Agonist [EPC],Glucagon-Like Pep...</td>\n",
       "      <td>NaN</td>\n",
       "      <td>N</td>\n",
       "      <td>20201231.0</td>\n",
       "    </tr>\n",
       "  </tbody>\n",
       "</table>\n",
       "</div>"
      ],
      "text/plain": [
       "                                        PRODUCTID PRODUCTNDC NDCPACKAGECODE  \\\n",
       "0  0002-0800_4bb5d1cb-0fa7-48c7-9f6d-8d45f9b91649  0002-0800   0002-0800-01   \n",
       "1  0002-1200_957ee1b5-dfa7-4e3f-96e1-6bed1ffc0abe  0002-1200   0002-1200-30   \n",
       "2  0002-1200_957ee1b5-dfa7-4e3f-96e1-6bed1ffc0abe  0002-1200   0002-1200-50   \n",
       "3  0002-1407_14757f9d-f641-4836-acf3-229265588d1d  0002-1407   0002-1407-01   \n",
       "4  0002-1433_4468578a-47d2-488e-9fd4-a8322070392f  0002-1433   0002-1433-61   \n",
       "\n",
       "                                  PACKAGEDESCRIPTION          PRODUCTTYPENAME  \\\n",
       "0  1 VIAL in 1 CARTON (0002-0800-01)  > 10 mL in ...           HUMAN OTC DRUG   \n",
       "1  1 VIAL, MULTI-DOSE in 1 CAN (0002-1200-30)  > ...  HUMAN PRESCRIPTION DRUG   \n",
       "2  1 VIAL, MULTI-DOSE in 1 CAN (0002-1200-50)  > ...  HUMAN PRESCRIPTION DRUG   \n",
       "3                    10 mL in 1 VIAL (0002-1407-01)   HUMAN PRESCRIPTION DRUG   \n",
       "4  2 SYRINGE in 1 CARTON (0002-1433-61)  > .5 mL ...  HUMAN PRESCRIPTION DRUG   \n",
       "\n",
       "       PROPRIETARYNAME   NONPROPRIETARYNAME       DOSAGEFORMNAME  \\\n",
       "0      Sterile Diluent              diluent  INJECTION, SOLUTION   \n",
       "1               Amyvid     Florbetapir F 18  INJECTION, SOLUTION   \n",
       "2               Amyvid     Florbetapir F 18  INJECTION, SOLUTION   \n",
       "3  Quinidine Gluconate  Quinidine Gluconate             SOLUTION   \n",
       "4            Trulicity          Dulaglutide  INJECTION, SOLUTION   \n",
       "\n",
       "      ROUTENAME MARKETINGCATEGORYNAME APPLICATIONNUMBER  \\\n",
       "0  SUBCUTANEOUS                   NDA         NDA018781   \n",
       "1   INTRAVENOUS                   NDA         NDA202008   \n",
       "2   INTRAVENOUS                   NDA         NDA202008   \n",
       "3   INTRAVENOUS                   NDA         NDA007529   \n",
       "4  SUBCUTANEOUS                   BLA         BLA125469   \n",
       "\n",
       "             LABELERNAME        SUBSTANCENAME ACTIVE_NUMERATOR_STRENGTH  \\\n",
       "0  Eli Lilly and Company                WATER                         1   \n",
       "1  Eli Lilly and Company     FLORBETAPIR F-18                        51   \n",
       "2  Eli Lilly and Company     FLORBETAPIR F-18                        51   \n",
       "3  Eli Lilly and Company  QUINIDINE GLUCONATE                        80   \n",
       "4  Eli Lilly and Company          DULAGLUTIDE                       .75   \n",
       "\n",
       "  ACTIVE_INGRED_UNIT                                      PHARM_CLASSES  \\\n",
       "0              mL/mL                                                NaN   \n",
       "1             mCi/mL  Radioactive Diagnostic Agent [EPC],Positron Em...   \n",
       "2             mCi/mL  Radioactive Diagnostic Agent [EPC],Positron Em...   \n",
       "3              mg/mL  Antiarrhythmic [EPC],Cytochrome P450 2D6 Inhib...   \n",
       "4            mg/.5mL  GLP-1 Receptor Agonist [EPC],Glucagon-Like Pep...   \n",
       "\n",
       "  DEASCHEDULE NDC_EXCLUDE_FLAG  LISTING_RECORD_CERTIFIED_THROUGH  \n",
       "0         NaN                N                        20191231.0  \n",
       "1         NaN                N                        20191231.0  \n",
       "2         NaN                N                        20191231.0  \n",
       "3         NaN                N                        20191231.0  \n",
       "4         NaN                N                        20201231.0  "
      ]
     },
     "execution_count": 23,
     "metadata": {},
     "output_type": "execute_result"
    }
   ],
   "source": [
    "final.head()"
   ]
  },
  {
   "cell_type": "code",
   "execution_count": 24,
   "metadata": {},
   "outputs": [
    {
     "data": {
      "text/plain": [
       "125969"
      ]
     },
     "execution_count": 24,
     "metadata": {},
     "output_type": "execute_result"
    }
   ],
   "source": [
    "final[\"PRODUCTNDC\"].nunique()"
   ]
  },
  {
   "cell_type": "code",
   "execution_count": 25,
   "metadata": {},
   "outputs": [
    {
     "data": {
      "text/plain": [
       "243464"
      ]
     },
     "execution_count": 25,
     "metadata": {},
     "output_type": "execute_result"
    }
   ],
   "source": [
    "final[\"NDCPACKAGECODE\"].nunique()"
   ]
  },
  {
   "cell_type": "markdown",
   "metadata": {},
   "source": [
    "## Save to file"
   ]
  },
  {
   "cell_type": "code",
   "execution_count": 26,
   "metadata": {},
   "outputs": [],
   "source": [
    "final.to_csv(\"../../pipeline/fda_ndc/ndc_info.tsv\", sep='\\t', index=False)"
   ]
  }
 ],
 "metadata": {
  "kernelspec": {
   "display_name": "Python 3",
   "language": "python",
   "name": "python3"
  },
  "language_info": {
   "codemirror_mode": {
    "name": "ipython",
    "version": 3
   },
   "file_extension": ".py",
   "mimetype": "text/x-python",
   "name": "python",
   "nbconvert_exporter": "python",
   "pygments_lexer": "ipython3",
   "version": "3.6.7"
  }
 },
 "nbformat": 4,
 "nbformat_minor": 2
}
