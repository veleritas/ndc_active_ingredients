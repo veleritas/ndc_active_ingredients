{
 "cells": [
  {
   "cell_type": "markdown",
   "metadata": {},
   "source": [
    "# Create merged NDC info file\n",
    "\n",
    "2019-06-03\n",
    "\n",
    "Want to put the full NDC with the rest of the metadata."
   ]
  },
  {
   "cell_type": "code",
   "execution_count": 1,
   "metadata": {},
   "outputs": [],
   "source": [
    "import pandas as pd"
   ]
  },
  {
   "cell_type": "markdown",
   "metadata": {},
   "source": [
    "## Read simple package"
   ]
  },
  {
   "cell_type": "code",
   "execution_count": 2,
   "metadata": {},
   "outputs": [],
   "source": [
    "package = pd.read_csv(\"../../pipeline/fda_ndc/simple_package.tsv\", sep='\\t')"
   ]
  },
  {
   "cell_type": "code",
   "execution_count": 3,
   "metadata": {},
   "outputs": [
    {
     "data": {
      "text/plain": [
       "(246380, 4)"
      ]
     },
     "execution_count": 3,
     "metadata": {},
     "output_type": "execute_result"
    }
   ],
   "source": [
    "package.shape"
   ]
  },
  {
   "cell_type": "code",
   "execution_count": 4,
   "metadata": {},
   "outputs": [
    {
     "data": {
      "text/html": [
       "<div>\n",
       "<style scoped>\n",
       "    .dataframe tbody tr th:only-of-type {\n",
       "        vertical-align: middle;\n",
       "    }\n",
       "\n",
       "    .dataframe tbody tr th {\n",
       "        vertical-align: top;\n",
       "    }\n",
       "\n",
       "    .dataframe thead th {\n",
       "        text-align: right;\n",
       "    }\n",
       "</style>\n",
       "<table border=\"1\" class=\"dataframe\">\n",
       "  <thead>\n",
       "    <tr style=\"text-align: right;\">\n",
       "      <th></th>\n",
       "      <th>PRODUCTID</th>\n",
       "      <th>PRODUCTNDC</th>\n",
       "      <th>NDCPACKAGECODE</th>\n",
       "      <th>PACKAGEDESCRIPTION</th>\n",
       "    </tr>\n",
       "  </thead>\n",
       "  <tbody>\n",
       "    <tr>\n",
       "      <th>0</th>\n",
       "      <td>0002-0800_4bb5d1cb-0fa7-48c7-9f6d-8d45f9b91649</td>\n",
       "      <td>0002-0800</td>\n",
       "      <td>0002-0800-01</td>\n",
       "      <td>1 VIAL in 1 CARTON (0002-0800-01)  &gt; 10 mL in ...</td>\n",
       "    </tr>\n",
       "    <tr>\n",
       "      <th>1</th>\n",
       "      <td>0002-1200_957ee1b5-dfa7-4e3f-96e1-6bed1ffc0abe</td>\n",
       "      <td>0002-1200</td>\n",
       "      <td>0002-1200-30</td>\n",
       "      <td>1 VIAL, MULTI-DOSE in 1 CAN (0002-1200-30)  &gt; ...</td>\n",
       "    </tr>\n",
       "    <tr>\n",
       "      <th>2</th>\n",
       "      <td>0002-1200_957ee1b5-dfa7-4e3f-96e1-6bed1ffc0abe</td>\n",
       "      <td>0002-1200</td>\n",
       "      <td>0002-1200-50</td>\n",
       "      <td>1 VIAL, MULTI-DOSE in 1 CAN (0002-1200-50)  &gt; ...</td>\n",
       "    </tr>\n",
       "    <tr>\n",
       "      <th>3</th>\n",
       "      <td>0002-1407_14757f9d-f641-4836-acf3-229265588d1d</td>\n",
       "      <td>0002-1407</td>\n",
       "      <td>0002-1407-01</td>\n",
       "      <td>10 mL in 1 VIAL (0002-1407-01)</td>\n",
       "    </tr>\n",
       "    <tr>\n",
       "      <th>4</th>\n",
       "      <td>0002-1433_4468578a-47d2-488e-9fd4-a8322070392f</td>\n",
       "      <td>0002-1433</td>\n",
       "      <td>0002-1433-61</td>\n",
       "      <td>2 SYRINGE in 1 CARTON (0002-1433-61)  &gt; .5 mL ...</td>\n",
       "    </tr>\n",
       "  </tbody>\n",
       "</table>\n",
       "</div>"
      ],
      "text/plain": [
       "                                        PRODUCTID PRODUCTNDC NDCPACKAGECODE  \\\n",
       "0  0002-0800_4bb5d1cb-0fa7-48c7-9f6d-8d45f9b91649  0002-0800   0002-0800-01   \n",
       "1  0002-1200_957ee1b5-dfa7-4e3f-96e1-6bed1ffc0abe  0002-1200   0002-1200-30   \n",
       "2  0002-1200_957ee1b5-dfa7-4e3f-96e1-6bed1ffc0abe  0002-1200   0002-1200-50   \n",
       "3  0002-1407_14757f9d-f641-4836-acf3-229265588d1d  0002-1407   0002-1407-01   \n",
       "4  0002-1433_4468578a-47d2-488e-9fd4-a8322070392f  0002-1433   0002-1433-61   \n",
       "\n",
       "                                  PACKAGEDESCRIPTION  \n",
       "0  1 VIAL in 1 CARTON (0002-0800-01)  > 10 mL in ...  \n",
       "1  1 VIAL, MULTI-DOSE in 1 CAN (0002-1200-30)  > ...  \n",
       "2  1 VIAL, MULTI-DOSE in 1 CAN (0002-1200-50)  > ...  \n",
       "3                    10 mL in 1 VIAL (0002-1407-01)   \n",
       "4  2 SYRINGE in 1 CARTON (0002-1433-61)  > .5 mL ...  "
      ]
     },
     "execution_count": 4,
     "metadata": {},
     "output_type": "execute_result"
    }
   ],
   "source": [
    "package.head()"
   ]
  },
  {
   "cell_type": "markdown",
   "metadata": {},
   "source": [
    "## Read simple product"
   ]
  },
  {
   "cell_type": "code",
   "execution_count": 5,
   "metadata": {},
   "outputs": [],
   "source": [
    "product = pd.read_csv(\"../../pipeline/fda_ndc/simple_product.tsv\", sep='\\t')"
   ]
  },
  {
   "cell_type": "code",
   "execution_count": 6,
   "metadata": {},
   "outputs": [
    {
     "data": {
      "text/plain": [
       "(130033, 17)"
      ]
     },
     "execution_count": 6,
     "metadata": {},
     "output_type": "execute_result"
    }
   ],
   "source": [
    "product.shape"
   ]
  },
  {
   "cell_type": "code",
   "execution_count": 7,
   "metadata": {},
   "outputs": [
    {
     "data": {
      "text/html": [
       "<div>\n",
       "<style scoped>\n",
       "    .dataframe tbody tr th:only-of-type {\n",
       "        vertical-align: middle;\n",
       "    }\n",
       "\n",
       "    .dataframe tbody tr th {\n",
       "        vertical-align: top;\n",
       "    }\n",
       "\n",
       "    .dataframe thead th {\n",
       "        text-align: right;\n",
       "    }\n",
       "</style>\n",
       "<table border=\"1\" class=\"dataframe\">\n",
       "  <thead>\n",
       "    <tr style=\"text-align: right;\">\n",
       "      <th></th>\n",
       "      <th>PRODUCTID</th>\n",
       "      <th>PRODUCTNDC</th>\n",
       "      <th>PRODUCTTYPENAME</th>\n",
       "      <th>PROPRIETARYNAME</th>\n",
       "      <th>NONPROPRIETARYNAME</th>\n",
       "      <th>DOSAGEFORMNAME</th>\n",
       "      <th>ROUTENAME</th>\n",
       "      <th>MARKETINGCATEGORYNAME</th>\n",
       "      <th>APPLICATIONNUMBER</th>\n",
       "      <th>LABELERNAME</th>\n",
       "      <th>SUBSTANCENAME</th>\n",
       "      <th>ACTIVE_NUMERATOR_STRENGTH</th>\n",
       "      <th>ACTIVE_INGRED_UNIT</th>\n",
       "      <th>PHARM_CLASSES</th>\n",
       "      <th>DEASCHEDULE</th>\n",
       "      <th>NDC_EXCLUDE_FLAG</th>\n",
       "      <th>LISTING_RECORD_CERTIFIED_THROUGH</th>\n",
       "    </tr>\n",
       "  </thead>\n",
       "  <tbody>\n",
       "    <tr>\n",
       "      <th>0</th>\n",
       "      <td>0002-0800_4bb5d1cb-0fa7-48c7-9f6d-8d45f9b91649</td>\n",
       "      <td>0002-0800</td>\n",
       "      <td>HUMAN OTC DRUG</td>\n",
       "      <td>Sterile Diluent</td>\n",
       "      <td>diluent</td>\n",
       "      <td>INJECTION, SOLUTION</td>\n",
       "      <td>SUBCUTANEOUS</td>\n",
       "      <td>NDA</td>\n",
       "      <td>NDA018781</td>\n",
       "      <td>Eli Lilly and Company</td>\n",
       "      <td>WATER</td>\n",
       "      <td>1</td>\n",
       "      <td>mL/mL</td>\n",
       "      <td>NaN</td>\n",
       "      <td>NaN</td>\n",
       "      <td>N</td>\n",
       "      <td>20191231.0</td>\n",
       "    </tr>\n",
       "    <tr>\n",
       "      <th>1</th>\n",
       "      <td>0002-1200_957ee1b5-dfa7-4e3f-96e1-6bed1ffc0abe</td>\n",
       "      <td>0002-1200</td>\n",
       "      <td>HUMAN PRESCRIPTION DRUG</td>\n",
       "      <td>Amyvid</td>\n",
       "      <td>Florbetapir F 18</td>\n",
       "      <td>INJECTION, SOLUTION</td>\n",
       "      <td>INTRAVENOUS</td>\n",
       "      <td>NDA</td>\n",
       "      <td>NDA202008</td>\n",
       "      <td>Eli Lilly and Company</td>\n",
       "      <td>FLORBETAPIR F-18</td>\n",
       "      <td>51</td>\n",
       "      <td>mCi/mL</td>\n",
       "      <td>Radioactive Diagnostic Agent [EPC],Positron Em...</td>\n",
       "      <td>NaN</td>\n",
       "      <td>N</td>\n",
       "      <td>20191231.0</td>\n",
       "    </tr>\n",
       "    <tr>\n",
       "      <th>2</th>\n",
       "      <td>0002-1407_14757f9d-f641-4836-acf3-229265588d1d</td>\n",
       "      <td>0002-1407</td>\n",
       "      <td>HUMAN PRESCRIPTION DRUG</td>\n",
       "      <td>Quinidine Gluconate</td>\n",
       "      <td>Quinidine Gluconate</td>\n",
       "      <td>SOLUTION</td>\n",
       "      <td>INTRAVENOUS</td>\n",
       "      <td>NDA</td>\n",
       "      <td>NDA007529</td>\n",
       "      <td>Eli Lilly and Company</td>\n",
       "      <td>QUINIDINE GLUCONATE</td>\n",
       "      <td>80</td>\n",
       "      <td>mg/mL</td>\n",
       "      <td>Antiarrhythmic [EPC],Cytochrome P450 2D6 Inhib...</td>\n",
       "      <td>NaN</td>\n",
       "      <td>N</td>\n",
       "      <td>20191231.0</td>\n",
       "    </tr>\n",
       "    <tr>\n",
       "      <th>3</th>\n",
       "      <td>0002-1433_4468578a-47d2-488e-9fd4-a8322070392f</td>\n",
       "      <td>0002-1433</td>\n",
       "      <td>HUMAN PRESCRIPTION DRUG</td>\n",
       "      <td>Trulicity</td>\n",
       "      <td>Dulaglutide</td>\n",
       "      <td>INJECTION, SOLUTION</td>\n",
       "      <td>SUBCUTANEOUS</td>\n",
       "      <td>BLA</td>\n",
       "      <td>BLA125469</td>\n",
       "      <td>Eli Lilly and Company</td>\n",
       "      <td>DULAGLUTIDE</td>\n",
       "      <td>.75</td>\n",
       "      <td>mg/.5mL</td>\n",
       "      <td>GLP-1 Receptor Agonist [EPC],Glucagon-Like Pep...</td>\n",
       "      <td>NaN</td>\n",
       "      <td>N</td>\n",
       "      <td>20201231.0</td>\n",
       "    </tr>\n",
       "    <tr>\n",
       "      <th>4</th>\n",
       "      <td>0002-1434_4468578a-47d2-488e-9fd4-a8322070392f</td>\n",
       "      <td>0002-1434</td>\n",
       "      <td>HUMAN PRESCRIPTION DRUG</td>\n",
       "      <td>Trulicity</td>\n",
       "      <td>Dulaglutide</td>\n",
       "      <td>INJECTION, SOLUTION</td>\n",
       "      <td>SUBCUTANEOUS</td>\n",
       "      <td>BLA</td>\n",
       "      <td>BLA125469</td>\n",
       "      <td>Eli Lilly and Company</td>\n",
       "      <td>DULAGLUTIDE</td>\n",
       "      <td>1.5</td>\n",
       "      <td>mg/.5mL</td>\n",
       "      <td>GLP-1 Receptor Agonist [EPC],Glucagon-Like Pep...</td>\n",
       "      <td>NaN</td>\n",
       "      <td>N</td>\n",
       "      <td>20201231.0</td>\n",
       "    </tr>\n",
       "  </tbody>\n",
       "</table>\n",
       "</div>"
      ],
      "text/plain": [
       "                                        PRODUCTID PRODUCTNDC  \\\n",
       "0  0002-0800_4bb5d1cb-0fa7-48c7-9f6d-8d45f9b91649  0002-0800   \n",
       "1  0002-1200_957ee1b5-dfa7-4e3f-96e1-6bed1ffc0abe  0002-1200   \n",
       "2  0002-1407_14757f9d-f641-4836-acf3-229265588d1d  0002-1407   \n",
       "3  0002-1433_4468578a-47d2-488e-9fd4-a8322070392f  0002-1433   \n",
       "4  0002-1434_4468578a-47d2-488e-9fd4-a8322070392f  0002-1434   \n",
       "\n",
       "           PRODUCTTYPENAME      PROPRIETARYNAME   NONPROPRIETARYNAME  \\\n",
       "0           HUMAN OTC DRUG      Sterile Diluent              diluent   \n",
       "1  HUMAN PRESCRIPTION DRUG               Amyvid     Florbetapir F 18   \n",
       "2  HUMAN PRESCRIPTION DRUG  Quinidine Gluconate  Quinidine Gluconate   \n",
       "3  HUMAN PRESCRIPTION DRUG            Trulicity          Dulaglutide   \n",
       "4  HUMAN PRESCRIPTION DRUG            Trulicity          Dulaglutide   \n",
       "\n",
       "        DOSAGEFORMNAME     ROUTENAME MARKETINGCATEGORYNAME APPLICATIONNUMBER  \\\n",
       "0  INJECTION, SOLUTION  SUBCUTANEOUS                   NDA         NDA018781   \n",
       "1  INJECTION, SOLUTION   INTRAVENOUS                   NDA         NDA202008   \n",
       "2             SOLUTION   INTRAVENOUS                   NDA         NDA007529   \n",
       "3  INJECTION, SOLUTION  SUBCUTANEOUS                   BLA         BLA125469   \n",
       "4  INJECTION, SOLUTION  SUBCUTANEOUS                   BLA         BLA125469   \n",
       "\n",
       "             LABELERNAME        SUBSTANCENAME ACTIVE_NUMERATOR_STRENGTH  \\\n",
       "0  Eli Lilly and Company                WATER                         1   \n",
       "1  Eli Lilly and Company     FLORBETAPIR F-18                        51   \n",
       "2  Eli Lilly and Company  QUINIDINE GLUCONATE                        80   \n",
       "3  Eli Lilly and Company          DULAGLUTIDE                       .75   \n",
       "4  Eli Lilly and Company          DULAGLUTIDE                       1.5   \n",
       "\n",
       "  ACTIVE_INGRED_UNIT                                      PHARM_CLASSES  \\\n",
       "0              mL/mL                                                NaN   \n",
       "1             mCi/mL  Radioactive Diagnostic Agent [EPC],Positron Em...   \n",
       "2              mg/mL  Antiarrhythmic [EPC],Cytochrome P450 2D6 Inhib...   \n",
       "3            mg/.5mL  GLP-1 Receptor Agonist [EPC],Glucagon-Like Pep...   \n",
       "4            mg/.5mL  GLP-1 Receptor Agonist [EPC],Glucagon-Like Pep...   \n",
       "\n",
       "  DEASCHEDULE NDC_EXCLUDE_FLAG  LISTING_RECORD_CERTIFIED_THROUGH  \n",
       "0         NaN                N                        20191231.0  \n",
       "1         NaN                N                        20191231.0  \n",
       "2         NaN                N                        20191231.0  \n",
       "3         NaN                N                        20201231.0  \n",
       "4         NaN                N                        20201231.0  "
      ]
     },
     "execution_count": 7,
     "metadata": {},
     "output_type": "execute_result"
    }
   ],
   "source": [
    "product.head()"
   ]
  },
  {
   "cell_type": "markdown",
   "metadata": {},
   "source": [
    "## Check that merge ids match up"
   ]
  },
  {
   "cell_type": "code",
   "execution_count": 8,
   "metadata": {},
   "outputs": [],
   "source": [
    "packids = set(package[\"PRODUCTID\"])"
   ]
  },
  {
   "cell_type": "code",
   "execution_count": 9,
   "metadata": {},
   "outputs": [],
   "source": [
    "prodids = set(product[\"PRODUCTID\"])"
   ]
  },
  {
   "cell_type": "code",
   "execution_count": 10,
   "metadata": {},
   "outputs": [
    {
     "data": {
      "text/plain": [
       "129764"
      ]
     },
     "execution_count": 10,
     "metadata": {},
     "output_type": "execute_result"
    }
   ],
   "source": [
    "len(packids)"
   ]
  },
  {
   "cell_type": "code",
   "execution_count": 11,
   "metadata": {},
   "outputs": [
    {
     "data": {
      "text/plain": [
       "130033"
      ]
     },
     "execution_count": 11,
     "metadata": {},
     "output_type": "execute_result"
    }
   ],
   "source": [
    "len(prodids)"
   ]
  },
  {
   "cell_type": "code",
   "execution_count": 12,
   "metadata": {},
   "outputs": [
    {
     "data": {
      "text/plain": [
       "False"
      ]
     },
     "execution_count": 12,
     "metadata": {},
     "output_type": "execute_result"
    }
   ],
   "source": [
    "packids <= prodids"
   ]
  },
  {
   "cell_type": "markdown",
   "metadata": {},
   "source": [
    "This is weird... How can the ids be mismatched?"
   ]
  },
  {
   "cell_type": "markdown",
   "metadata": {},
   "source": [
    "### Unknown package ids"
   ]
  },
  {
   "cell_type": "code",
   "execution_count": 13,
   "metadata": {},
   "outputs": [
    {
     "data": {
      "text/plain": [
       "4"
      ]
     },
     "execution_count": 13,
     "metadata": {},
     "output_type": "execute_result"
    }
   ],
   "source": [
    "len(packids - prodids)"
   ]
  },
  {
   "cell_type": "code",
   "execution_count": 14,
   "metadata": {},
   "outputs": [
    {
     "data": {
      "text/html": [
       "<div>\n",
       "<style scoped>\n",
       "    .dataframe tbody tr th:only-of-type {\n",
       "        vertical-align: middle;\n",
       "    }\n",
       "\n",
       "    .dataframe tbody tr th {\n",
       "        vertical-align: top;\n",
       "    }\n",
       "\n",
       "    .dataframe thead th {\n",
       "        text-align: right;\n",
       "    }\n",
       "</style>\n",
       "<table border=\"1\" class=\"dataframe\">\n",
       "  <thead>\n",
       "    <tr style=\"text-align: right;\">\n",
       "      <th></th>\n",
       "      <th>PRODUCTID</th>\n",
       "      <th>PRODUCTNDC</th>\n",
       "      <th>NDCPACKAGECODE</th>\n",
       "      <th>PACKAGEDESCRIPTION</th>\n",
       "    </tr>\n",
       "  </thead>\n",
       "  <tbody>\n",
       "    <tr>\n",
       "      <th>0</th>\n",
       "      <td>65862-171_e0f2459c-5edf-47f3-b8b2-dc699884d683</td>\n",
       "      <td>65862-171</td>\n",
       "      <td>65862-171-60</td>\n",
       "      <td>60 TABLET, FILM COATED in 1 BOTTLE (65862-171-...</td>\n",
       "    </tr>\n",
       "    <tr>\n",
       "      <th>1</th>\n",
       "      <td>65862-172_e0f2459c-5edf-47f3-b8b2-dc699884d683</td>\n",
       "      <td>65862-172</td>\n",
       "      <td>65862-172-60</td>\n",
       "      <td>60 TABLET, FILM COATED in 1 BOTTLE (65862-172-...</td>\n",
       "    </tr>\n",
       "    <tr>\n",
       "      <th>2</th>\n",
       "      <td>65862-173_e0f2459c-5edf-47f3-b8b2-dc699884d683</td>\n",
       "      <td>65862-173</td>\n",
       "      <td>65862-173-60</td>\n",
       "      <td>60 TABLET, FILM COATED in 1 BOTTLE (65862-173-...</td>\n",
       "    </tr>\n",
       "    <tr>\n",
       "      <th>3</th>\n",
       "      <td>65862-174_e0f2459c-5edf-47f3-b8b2-dc699884d683</td>\n",
       "      <td>65862-174</td>\n",
       "      <td>65862-174-60</td>\n",
       "      <td>60 TABLET, FILM COATED in 1 BOTTLE (65862-174-...</td>\n",
       "    </tr>\n",
       "  </tbody>\n",
       "</table>\n",
       "</div>"
      ],
      "text/plain": [
       "                                        PRODUCTID PRODUCTNDC NDCPACKAGECODE  \\\n",
       "0  65862-171_e0f2459c-5edf-47f3-b8b2-dc699884d683  65862-171   65862-171-60   \n",
       "1  65862-172_e0f2459c-5edf-47f3-b8b2-dc699884d683  65862-172   65862-172-60   \n",
       "2  65862-173_e0f2459c-5edf-47f3-b8b2-dc699884d683  65862-173   65862-173-60   \n",
       "3  65862-174_e0f2459c-5edf-47f3-b8b2-dc699884d683  65862-174   65862-174-60   \n",
       "\n",
       "                                  PACKAGEDESCRIPTION  \n",
       "0  60 TABLET, FILM COATED in 1 BOTTLE (65862-171-...  \n",
       "1  60 TABLET, FILM COATED in 1 BOTTLE (65862-172-...  \n",
       "2  60 TABLET, FILM COATED in 1 BOTTLE (65862-173-...  \n",
       "3  60 TABLET, FILM COATED in 1 BOTTLE (65862-174-...  "
      ]
     },
     "execution_count": 14,
     "metadata": {},
     "output_type": "execute_result"
    }
   ],
   "source": [
    "(pd\n",
    "    .Series(list(packids - prodids))\n",
    "    .to_frame(\"PRODUCTID\")\n",
    "    .merge(package, how=\"left\", on=\"PRODUCTID\")\n",
    "    .sort_values(\"NDCPACKAGECODE\")\n",
    "    .reset_index(drop=True)\n",
    ")"
   ]
  },
  {
   "cell_type": "markdown",
   "metadata": {},
   "source": [
    "### Unknown product ids"
   ]
  },
  {
   "cell_type": "code",
   "execution_count": 15,
   "metadata": {},
   "outputs": [
    {
     "data": {
      "text/plain": [
       "273"
      ]
     },
     "execution_count": 15,
     "metadata": {},
     "output_type": "execute_result"
    }
   ],
   "source": [
    "len(prodids - packids)"
   ]
  },
  {
   "cell_type": "code",
   "execution_count": 16,
   "metadata": {},
   "outputs": [
    {
     "data": {
      "text/html": [
       "<div>\n",
       "<style scoped>\n",
       "    .dataframe tbody tr th:only-of-type {\n",
       "        vertical-align: middle;\n",
       "    }\n",
       "\n",
       "    .dataframe tbody tr th {\n",
       "        vertical-align: top;\n",
       "    }\n",
       "\n",
       "    .dataframe thead th {\n",
       "        text-align: right;\n",
       "    }\n",
       "</style>\n",
       "<table border=\"1\" class=\"dataframe\">\n",
       "  <thead>\n",
       "    <tr style=\"text-align: right;\">\n",
       "      <th></th>\n",
       "      <th>PRODUCTID</th>\n",
       "      <th>PRODUCTNDC</th>\n",
       "      <th>PRODUCTTYPENAME</th>\n",
       "      <th>PROPRIETARYNAME</th>\n",
       "      <th>NONPROPRIETARYNAME</th>\n",
       "      <th>DOSAGEFORMNAME</th>\n",
       "      <th>ROUTENAME</th>\n",
       "      <th>MARKETINGCATEGORYNAME</th>\n",
       "      <th>APPLICATIONNUMBER</th>\n",
       "      <th>LABELERNAME</th>\n",
       "      <th>SUBSTANCENAME</th>\n",
       "      <th>ACTIVE_NUMERATOR_STRENGTH</th>\n",
       "      <th>ACTIVE_INGRED_UNIT</th>\n",
       "      <th>PHARM_CLASSES</th>\n",
       "      <th>DEASCHEDULE</th>\n",
       "      <th>NDC_EXCLUDE_FLAG</th>\n",
       "      <th>LISTING_RECORD_CERTIFIED_THROUGH</th>\n",
       "    </tr>\n",
       "  </thead>\n",
       "  <tbody>\n",
       "    <tr>\n",
       "      <th>0</th>\n",
       "      <td>0002-3004_f1404e9d-0c95-44e4-9eb0-7a2836a67bd8</td>\n",
       "      <td>0002-3004</td>\n",
       "      <td>HUMAN PRESCRIPTION DRUG</td>\n",
       "      <td>Prozac</td>\n",
       "      <td>Fluoxetine hydrochloride</td>\n",
       "      <td>CAPSULE, DELAYED RELEASE</td>\n",
       "      <td>ORAL</td>\n",
       "      <td>NDA</td>\n",
       "      <td>NDA021235</td>\n",
       "      <td>Eli Lilly and Company</td>\n",
       "      <td>FLUOXETINE HYDROCHLORIDE</td>\n",
       "      <td>90</td>\n",
       "      <td>mg/1</td>\n",
       "      <td>Serotonin Reuptake Inhibitor [EPC],Serotonin U...</td>\n",
       "      <td>NaN</td>\n",
       "      <td>N</td>\n",
       "      <td>20191231.0</td>\n",
       "    </tr>\n",
       "    <tr>\n",
       "      <th>1</th>\n",
       "      <td>0023-4385_f7c032a8-8330-4784-a5e7-f85dfec0cbe6</td>\n",
       "      <td>0023-4385</td>\n",
       "      <td>HUMAN PRESCRIPTION DRUG</td>\n",
       "      <td>BETAGAN</td>\n",
       "      <td>levobunolol hydrochloride</td>\n",
       "      <td>SOLUTION/ DROPS</td>\n",
       "      <td>OPHTHALMIC</td>\n",
       "      <td>NDA</td>\n",
       "      <td>NDA019219</td>\n",
       "      <td>Allergan, Inc.</td>\n",
       "      <td>LEVOBUNOLOL HYDROCHLORIDE</td>\n",
       "      <td>5</td>\n",
       "      <td>mg/mL</td>\n",
       "      <td>Adrenergic beta-Antagonists [MoA],beta-Adrener...</td>\n",
       "      <td>NaN</td>\n",
       "      <td>N</td>\n",
       "      <td>20201231.0</td>\n",
       "    </tr>\n",
       "    <tr>\n",
       "      <th>2</th>\n",
       "      <td>0054-0086_84e16e83-b683-4e03-908a-2732c8b59628</td>\n",
       "      <td>0054-0086</td>\n",
       "      <td>HUMAN PRESCRIPTION DRUG</td>\n",
       "      <td>Zolpidem Tartrate</td>\n",
       "      <td>zolpidem tartrate</td>\n",
       "      <td>TABLET, FILM COATED</td>\n",
       "      <td>ORAL</td>\n",
       "      <td>ANDA</td>\n",
       "      <td>ANDA077214</td>\n",
       "      <td>Roxane Laboratories, Inc</td>\n",
       "      <td>ZOLPIDEM TARTRATE</td>\n",
       "      <td>5</td>\n",
       "      <td>mg/1</td>\n",
       "      <td>gamma-Aminobutyric Acid-ergic Agonist [EPC],GA...</td>\n",
       "      <td>CIV</td>\n",
       "      <td>N</td>\n",
       "      <td>20191231.0</td>\n",
       "    </tr>\n",
       "    <tr>\n",
       "      <th>3</th>\n",
       "      <td>0054-0087_84e16e83-b683-4e03-908a-2732c8b59628</td>\n",
       "      <td>0054-0087</td>\n",
       "      <td>HUMAN PRESCRIPTION DRUG</td>\n",
       "      <td>Zolpidem Tartrate</td>\n",
       "      <td>zolpidem tartrate</td>\n",
       "      <td>TABLET, FILM COATED</td>\n",
       "      <td>ORAL</td>\n",
       "      <td>ANDA</td>\n",
       "      <td>ANDA077214</td>\n",
       "      <td>Roxane Laboratories, Inc</td>\n",
       "      <td>ZOLPIDEM TARTRATE</td>\n",
       "      <td>10</td>\n",
       "      <td>mg/1</td>\n",
       "      <td>gamma-Aminobutyric Acid-ergic Agonist [EPC],GA...</td>\n",
       "      <td>CIV</td>\n",
       "      <td>N</td>\n",
       "      <td>20191231.0</td>\n",
       "    </tr>\n",
       "    <tr>\n",
       "      <th>4</th>\n",
       "      <td>0054-0320_910d587e-5e7b-4a49-ae91-e802baf4bff0</td>\n",
       "      <td>0054-0320</td>\n",
       "      <td>HUMAN PRESCRIPTION DRUG</td>\n",
       "      <td>Temozolomide</td>\n",
       "      <td>Temozolomide</td>\n",
       "      <td>CAPSULE</td>\n",
       "      <td>ORAL</td>\n",
       "      <td>ANDA</td>\n",
       "      <td>ANDA202606</td>\n",
       "      <td>Roxane Laboratories, Inc.</td>\n",
       "      <td>TEMOZOLOMIDE</td>\n",
       "      <td>5</td>\n",
       "      <td>mg/1</td>\n",
       "      <td>Alkylating Activity [MoA],Alkylating Drug [EPC]</td>\n",
       "      <td>NaN</td>\n",
       "      <td>E</td>\n",
       "      <td>20181231.0</td>\n",
       "    </tr>\n",
       "  </tbody>\n",
       "</table>\n",
       "</div>"
      ],
      "text/plain": [
       "                                        PRODUCTID PRODUCTNDC  \\\n",
       "0  0002-3004_f1404e9d-0c95-44e4-9eb0-7a2836a67bd8  0002-3004   \n",
       "1  0023-4385_f7c032a8-8330-4784-a5e7-f85dfec0cbe6  0023-4385   \n",
       "2  0054-0086_84e16e83-b683-4e03-908a-2732c8b59628  0054-0086   \n",
       "3  0054-0087_84e16e83-b683-4e03-908a-2732c8b59628  0054-0087   \n",
       "4  0054-0320_910d587e-5e7b-4a49-ae91-e802baf4bff0  0054-0320   \n",
       "\n",
       "           PRODUCTTYPENAME    PROPRIETARYNAME         NONPROPRIETARYNAME  \\\n",
       "0  HUMAN PRESCRIPTION DRUG             Prozac   Fluoxetine hydrochloride   \n",
       "1  HUMAN PRESCRIPTION DRUG            BETAGAN  levobunolol hydrochloride   \n",
       "2  HUMAN PRESCRIPTION DRUG  Zolpidem Tartrate          zolpidem tartrate   \n",
       "3  HUMAN PRESCRIPTION DRUG  Zolpidem Tartrate          zolpidem tartrate   \n",
       "4  HUMAN PRESCRIPTION DRUG       Temozolomide               Temozolomide   \n",
       "\n",
       "             DOSAGEFORMNAME   ROUTENAME MARKETINGCATEGORYNAME  \\\n",
       "0  CAPSULE, DELAYED RELEASE        ORAL                   NDA   \n",
       "1           SOLUTION/ DROPS  OPHTHALMIC                   NDA   \n",
       "2       TABLET, FILM COATED        ORAL                  ANDA   \n",
       "3       TABLET, FILM COATED        ORAL                  ANDA   \n",
       "4                   CAPSULE        ORAL                  ANDA   \n",
       "\n",
       "  APPLICATIONNUMBER                LABELERNAME              SUBSTANCENAME  \\\n",
       "0         NDA021235      Eli Lilly and Company   FLUOXETINE HYDROCHLORIDE   \n",
       "1         NDA019219             Allergan, Inc.  LEVOBUNOLOL HYDROCHLORIDE   \n",
       "2        ANDA077214   Roxane Laboratories, Inc          ZOLPIDEM TARTRATE   \n",
       "3        ANDA077214   Roxane Laboratories, Inc          ZOLPIDEM TARTRATE   \n",
       "4        ANDA202606  Roxane Laboratories, Inc.               TEMOZOLOMIDE   \n",
       "\n",
       "  ACTIVE_NUMERATOR_STRENGTH ACTIVE_INGRED_UNIT  \\\n",
       "0                        90               mg/1   \n",
       "1                         5              mg/mL   \n",
       "2                         5               mg/1   \n",
       "3                        10               mg/1   \n",
       "4                         5               mg/1   \n",
       "\n",
       "                                       PHARM_CLASSES DEASCHEDULE  \\\n",
       "0  Serotonin Reuptake Inhibitor [EPC],Serotonin U...         NaN   \n",
       "1  Adrenergic beta-Antagonists [MoA],beta-Adrener...         NaN   \n",
       "2  gamma-Aminobutyric Acid-ergic Agonist [EPC],GA...         CIV   \n",
       "3  gamma-Aminobutyric Acid-ergic Agonist [EPC],GA...         CIV   \n",
       "4    Alkylating Activity [MoA],Alkylating Drug [EPC]         NaN   \n",
       "\n",
       "  NDC_EXCLUDE_FLAG  LISTING_RECORD_CERTIFIED_THROUGH  \n",
       "0                N                        20191231.0  \n",
       "1                N                        20201231.0  \n",
       "2                N                        20191231.0  \n",
       "3                N                        20191231.0  \n",
       "4                E                        20181231.0  "
      ]
     },
     "execution_count": 16,
     "metadata": {},
     "output_type": "execute_result"
    }
   ],
   "source": [
    "(pd\n",
    "    .Series(list(prodids - packids))\n",
    "    .to_frame(\"PRODUCTID\")\n",
    "    .merge(product, how=\"left\", on=\"PRODUCTID\")\n",
    "    .sort_values(\"PRODUCTNDC\")\n",
    "    .reset_index(drop=True)\n",
    ").head(5)"
   ]
  },
  {
   "cell_type": "markdown",
   "metadata": {},
   "source": [
    "Ok, so it seems like the data is not super well formatted when released. Seems like this is all the super new products anyways, so we shouldn't need to worry."
   ]
  },
  {
   "cell_type": "markdown",
   "metadata": {},
   "source": [
    "---"
   ]
  },
  {
   "cell_type": "markdown",
   "metadata": {},
   "source": [
    "## Merge as best as we can"
   ]
  },
  {
   "cell_type": "code",
   "execution_count": 17,
   "metadata": {},
   "outputs": [],
   "source": [
    "res = package.merge(product, how=\"inner\", on=\"PRODUCTID\")"
   ]
  },
  {
   "cell_type": "code",
   "execution_count": 18,
   "metadata": {},
   "outputs": [
    {
     "data": {
      "text/plain": [
       "(246376, 20)"
      ]
     },
     "execution_count": 18,
     "metadata": {},
     "output_type": "execute_result"
    }
   ],
   "source": [
    "res.shape"
   ]
  },
  {
   "cell_type": "code",
   "execution_count": 19,
   "metadata": {},
   "outputs": [
    {
     "data": {
      "text/html": [
       "<div>\n",
       "<style scoped>\n",
       "    .dataframe tbody tr th:only-of-type {\n",
       "        vertical-align: middle;\n",
       "    }\n",
       "\n",
       "    .dataframe tbody tr th {\n",
       "        vertical-align: top;\n",
       "    }\n",
       "\n",
       "    .dataframe thead th {\n",
       "        text-align: right;\n",
       "    }\n",
       "</style>\n",
       "<table border=\"1\" class=\"dataframe\">\n",
       "  <thead>\n",
       "    <tr style=\"text-align: right;\">\n",
       "      <th></th>\n",
       "      <th>PRODUCTID</th>\n",
       "      <th>PRODUCTNDC_x</th>\n",
       "      <th>NDCPACKAGECODE</th>\n",
       "      <th>PACKAGEDESCRIPTION</th>\n",
       "      <th>PRODUCTNDC_y</th>\n",
       "      <th>PRODUCTTYPENAME</th>\n",
       "      <th>PROPRIETARYNAME</th>\n",
       "      <th>NONPROPRIETARYNAME</th>\n",
       "      <th>DOSAGEFORMNAME</th>\n",
       "      <th>ROUTENAME</th>\n",
       "      <th>MARKETINGCATEGORYNAME</th>\n",
       "      <th>APPLICATIONNUMBER</th>\n",
       "      <th>LABELERNAME</th>\n",
       "      <th>SUBSTANCENAME</th>\n",
       "      <th>ACTIVE_NUMERATOR_STRENGTH</th>\n",
       "      <th>ACTIVE_INGRED_UNIT</th>\n",
       "      <th>PHARM_CLASSES</th>\n",
       "      <th>DEASCHEDULE</th>\n",
       "      <th>NDC_EXCLUDE_FLAG</th>\n",
       "      <th>LISTING_RECORD_CERTIFIED_THROUGH</th>\n",
       "    </tr>\n",
       "  </thead>\n",
       "  <tbody>\n",
       "    <tr>\n",
       "      <th>0</th>\n",
       "      <td>0002-0800_4bb5d1cb-0fa7-48c7-9f6d-8d45f9b91649</td>\n",
       "      <td>0002-0800</td>\n",
       "      <td>0002-0800-01</td>\n",
       "      <td>1 VIAL in 1 CARTON (0002-0800-01)  &gt; 10 mL in ...</td>\n",
       "      <td>0002-0800</td>\n",
       "      <td>HUMAN OTC DRUG</td>\n",
       "      <td>Sterile Diluent</td>\n",
       "      <td>diluent</td>\n",
       "      <td>INJECTION, SOLUTION</td>\n",
       "      <td>SUBCUTANEOUS</td>\n",
       "      <td>NDA</td>\n",
       "      <td>NDA018781</td>\n",
       "      <td>Eli Lilly and Company</td>\n",
       "      <td>WATER</td>\n",
       "      <td>1</td>\n",
       "      <td>mL/mL</td>\n",
       "      <td>NaN</td>\n",
       "      <td>NaN</td>\n",
       "      <td>N</td>\n",
       "      <td>20191231.0</td>\n",
       "    </tr>\n",
       "    <tr>\n",
       "      <th>1</th>\n",
       "      <td>0002-1200_957ee1b5-dfa7-4e3f-96e1-6bed1ffc0abe</td>\n",
       "      <td>0002-1200</td>\n",
       "      <td>0002-1200-30</td>\n",
       "      <td>1 VIAL, MULTI-DOSE in 1 CAN (0002-1200-30)  &gt; ...</td>\n",
       "      <td>0002-1200</td>\n",
       "      <td>HUMAN PRESCRIPTION DRUG</td>\n",
       "      <td>Amyvid</td>\n",
       "      <td>Florbetapir F 18</td>\n",
       "      <td>INJECTION, SOLUTION</td>\n",
       "      <td>INTRAVENOUS</td>\n",
       "      <td>NDA</td>\n",
       "      <td>NDA202008</td>\n",
       "      <td>Eli Lilly and Company</td>\n",
       "      <td>FLORBETAPIR F-18</td>\n",
       "      <td>51</td>\n",
       "      <td>mCi/mL</td>\n",
       "      <td>Radioactive Diagnostic Agent [EPC],Positron Em...</td>\n",
       "      <td>NaN</td>\n",
       "      <td>N</td>\n",
       "      <td>20191231.0</td>\n",
       "    </tr>\n",
       "    <tr>\n",
       "      <th>2</th>\n",
       "      <td>0002-1200_957ee1b5-dfa7-4e3f-96e1-6bed1ffc0abe</td>\n",
       "      <td>0002-1200</td>\n",
       "      <td>0002-1200-50</td>\n",
       "      <td>1 VIAL, MULTI-DOSE in 1 CAN (0002-1200-50)  &gt; ...</td>\n",
       "      <td>0002-1200</td>\n",
       "      <td>HUMAN PRESCRIPTION DRUG</td>\n",
       "      <td>Amyvid</td>\n",
       "      <td>Florbetapir F 18</td>\n",
       "      <td>INJECTION, SOLUTION</td>\n",
       "      <td>INTRAVENOUS</td>\n",
       "      <td>NDA</td>\n",
       "      <td>NDA202008</td>\n",
       "      <td>Eli Lilly and Company</td>\n",
       "      <td>FLORBETAPIR F-18</td>\n",
       "      <td>51</td>\n",
       "      <td>mCi/mL</td>\n",
       "      <td>Radioactive Diagnostic Agent [EPC],Positron Em...</td>\n",
       "      <td>NaN</td>\n",
       "      <td>N</td>\n",
       "      <td>20191231.0</td>\n",
       "    </tr>\n",
       "    <tr>\n",
       "      <th>3</th>\n",
       "      <td>0002-1407_14757f9d-f641-4836-acf3-229265588d1d</td>\n",
       "      <td>0002-1407</td>\n",
       "      <td>0002-1407-01</td>\n",
       "      <td>10 mL in 1 VIAL (0002-1407-01)</td>\n",
       "      <td>0002-1407</td>\n",
       "      <td>HUMAN PRESCRIPTION DRUG</td>\n",
       "      <td>Quinidine Gluconate</td>\n",
       "      <td>Quinidine Gluconate</td>\n",
       "      <td>SOLUTION</td>\n",
       "      <td>INTRAVENOUS</td>\n",
       "      <td>NDA</td>\n",
       "      <td>NDA007529</td>\n",
       "      <td>Eli Lilly and Company</td>\n",
       "      <td>QUINIDINE GLUCONATE</td>\n",
       "      <td>80</td>\n",
       "      <td>mg/mL</td>\n",
       "      <td>Antiarrhythmic [EPC],Cytochrome P450 2D6 Inhib...</td>\n",
       "      <td>NaN</td>\n",
       "      <td>N</td>\n",
       "      <td>20191231.0</td>\n",
       "    </tr>\n",
       "    <tr>\n",
       "      <th>4</th>\n",
       "      <td>0002-1433_4468578a-47d2-488e-9fd4-a8322070392f</td>\n",
       "      <td>0002-1433</td>\n",
       "      <td>0002-1433-61</td>\n",
       "      <td>2 SYRINGE in 1 CARTON (0002-1433-61)  &gt; .5 mL ...</td>\n",
       "      <td>0002-1433</td>\n",
       "      <td>HUMAN PRESCRIPTION DRUG</td>\n",
       "      <td>Trulicity</td>\n",
       "      <td>Dulaglutide</td>\n",
       "      <td>INJECTION, SOLUTION</td>\n",
       "      <td>SUBCUTANEOUS</td>\n",
       "      <td>BLA</td>\n",
       "      <td>BLA125469</td>\n",
       "      <td>Eli Lilly and Company</td>\n",
       "      <td>DULAGLUTIDE</td>\n",
       "      <td>.75</td>\n",
       "      <td>mg/.5mL</td>\n",
       "      <td>GLP-1 Receptor Agonist [EPC],Glucagon-Like Pep...</td>\n",
       "      <td>NaN</td>\n",
       "      <td>N</td>\n",
       "      <td>20201231.0</td>\n",
       "    </tr>\n",
       "  </tbody>\n",
       "</table>\n",
       "</div>"
      ],
      "text/plain": [
       "                                        PRODUCTID PRODUCTNDC_x NDCPACKAGECODE  \\\n",
       "0  0002-0800_4bb5d1cb-0fa7-48c7-9f6d-8d45f9b91649    0002-0800   0002-0800-01   \n",
       "1  0002-1200_957ee1b5-dfa7-4e3f-96e1-6bed1ffc0abe    0002-1200   0002-1200-30   \n",
       "2  0002-1200_957ee1b5-dfa7-4e3f-96e1-6bed1ffc0abe    0002-1200   0002-1200-50   \n",
       "3  0002-1407_14757f9d-f641-4836-acf3-229265588d1d    0002-1407   0002-1407-01   \n",
       "4  0002-1433_4468578a-47d2-488e-9fd4-a8322070392f    0002-1433   0002-1433-61   \n",
       "\n",
       "                                  PACKAGEDESCRIPTION PRODUCTNDC_y  \\\n",
       "0  1 VIAL in 1 CARTON (0002-0800-01)  > 10 mL in ...    0002-0800   \n",
       "1  1 VIAL, MULTI-DOSE in 1 CAN (0002-1200-30)  > ...    0002-1200   \n",
       "2  1 VIAL, MULTI-DOSE in 1 CAN (0002-1200-50)  > ...    0002-1200   \n",
       "3                    10 mL in 1 VIAL (0002-1407-01)     0002-1407   \n",
       "4  2 SYRINGE in 1 CARTON (0002-1433-61)  > .5 mL ...    0002-1433   \n",
       "\n",
       "           PRODUCTTYPENAME      PROPRIETARYNAME   NONPROPRIETARYNAME  \\\n",
       "0           HUMAN OTC DRUG      Sterile Diluent              diluent   \n",
       "1  HUMAN PRESCRIPTION DRUG               Amyvid     Florbetapir F 18   \n",
       "2  HUMAN PRESCRIPTION DRUG               Amyvid     Florbetapir F 18   \n",
       "3  HUMAN PRESCRIPTION DRUG  Quinidine Gluconate  Quinidine Gluconate   \n",
       "4  HUMAN PRESCRIPTION DRUG            Trulicity          Dulaglutide   \n",
       "\n",
       "        DOSAGEFORMNAME     ROUTENAME MARKETINGCATEGORYNAME APPLICATIONNUMBER  \\\n",
       "0  INJECTION, SOLUTION  SUBCUTANEOUS                   NDA         NDA018781   \n",
       "1  INJECTION, SOLUTION   INTRAVENOUS                   NDA         NDA202008   \n",
       "2  INJECTION, SOLUTION   INTRAVENOUS                   NDA         NDA202008   \n",
       "3             SOLUTION   INTRAVENOUS                   NDA         NDA007529   \n",
       "4  INJECTION, SOLUTION  SUBCUTANEOUS                   BLA         BLA125469   \n",
       "\n",
       "             LABELERNAME        SUBSTANCENAME ACTIVE_NUMERATOR_STRENGTH  \\\n",
       "0  Eli Lilly and Company                WATER                         1   \n",
       "1  Eli Lilly and Company     FLORBETAPIR F-18                        51   \n",
       "2  Eli Lilly and Company     FLORBETAPIR F-18                        51   \n",
       "3  Eli Lilly and Company  QUINIDINE GLUCONATE                        80   \n",
       "4  Eli Lilly and Company          DULAGLUTIDE                       .75   \n",
       "\n",
       "  ACTIVE_INGRED_UNIT                                      PHARM_CLASSES  \\\n",
       "0              mL/mL                                                NaN   \n",
       "1             mCi/mL  Radioactive Diagnostic Agent [EPC],Positron Em...   \n",
       "2             mCi/mL  Radioactive Diagnostic Agent [EPC],Positron Em...   \n",
       "3              mg/mL  Antiarrhythmic [EPC],Cytochrome P450 2D6 Inhib...   \n",
       "4            mg/.5mL  GLP-1 Receptor Agonist [EPC],Glucagon-Like Pep...   \n",
       "\n",
       "  DEASCHEDULE NDC_EXCLUDE_FLAG  LISTING_RECORD_CERTIFIED_THROUGH  \n",
       "0         NaN                N                        20191231.0  \n",
       "1         NaN                N                        20191231.0  \n",
       "2         NaN                N                        20191231.0  \n",
       "3         NaN                N                        20191231.0  \n",
       "4         NaN                N                        20201231.0  "
      ]
     },
     "execution_count": 19,
     "metadata": {},
     "output_type": "execute_result"
    }
   ],
   "source": [
    "res.head()"
   ]
  },
  {
   "cell_type": "markdown",
   "metadata": {},
   "source": [
    "### Check things match"
   ]
  },
  {
   "cell_type": "code",
   "execution_count": 20,
   "metadata": {},
   "outputs": [
    {
     "data": {
      "text/plain": [
       "True"
      ]
     },
     "execution_count": 20,
     "metadata": {},
     "output_type": "execute_result"
    }
   ],
   "source": [
    "(res[\"PRODUCTNDC_x\"] == res[\"PRODUCTNDC_y\"]).all()"
   ]
  },
  {
   "cell_type": "markdown",
   "metadata": {},
   "source": [
    "## Generate final table"
   ]
  },
  {
   "cell_type": "code",
   "execution_count": 21,
   "metadata": {},
   "outputs": [],
   "source": [
    "final = (res\n",
    "    .drop([\"PRODUCTID\", \"PRODUCTNDC_y\"], axis=1)\n",
    "    .rename(columns={\"PRODUCTNDC_x\": \"PRODUCTNDC\"})\n",
    "    .drop_duplicates()\n",
    ")"
   ]
  },
  {
   "cell_type": "code",
   "execution_count": 22,
   "metadata": {},
   "outputs": [
    {
     "data": {
      "text/plain": [
       "(246372, 18)"
      ]
     },
     "execution_count": 22,
     "metadata": {},
     "output_type": "execute_result"
    }
   ],
   "source": [
    "final.shape"
   ]
  },
  {
   "cell_type": "code",
   "execution_count": 23,
   "metadata": {},
   "outputs": [
    {
     "data": {
      "text/html": [
       "<div>\n",
       "<style scoped>\n",
       "    .dataframe tbody tr th:only-of-type {\n",
       "        vertical-align: middle;\n",
       "    }\n",
       "\n",
       "    .dataframe tbody tr th {\n",
       "        vertical-align: top;\n",
       "    }\n",
       "\n",
       "    .dataframe thead th {\n",
       "        text-align: right;\n",
       "    }\n",
       "</style>\n",
       "<table border=\"1\" class=\"dataframe\">\n",
       "  <thead>\n",
       "    <tr style=\"text-align: right;\">\n",
       "      <th></th>\n",
       "      <th>PRODUCTNDC</th>\n",
       "      <th>NDCPACKAGECODE</th>\n",
       "      <th>PACKAGEDESCRIPTION</th>\n",
       "      <th>PRODUCTTYPENAME</th>\n",
       "      <th>PROPRIETARYNAME</th>\n",
       "      <th>NONPROPRIETARYNAME</th>\n",
       "      <th>DOSAGEFORMNAME</th>\n",
       "      <th>ROUTENAME</th>\n",
       "      <th>MARKETINGCATEGORYNAME</th>\n",
       "      <th>APPLICATIONNUMBER</th>\n",
       "      <th>LABELERNAME</th>\n",
       "      <th>SUBSTANCENAME</th>\n",
       "      <th>ACTIVE_NUMERATOR_STRENGTH</th>\n",
       "      <th>ACTIVE_INGRED_UNIT</th>\n",
       "      <th>PHARM_CLASSES</th>\n",
       "      <th>DEASCHEDULE</th>\n",
       "      <th>NDC_EXCLUDE_FLAG</th>\n",
       "      <th>LISTING_RECORD_CERTIFIED_THROUGH</th>\n",
       "    </tr>\n",
       "  </thead>\n",
       "  <tbody>\n",
       "    <tr>\n",
       "      <th>0</th>\n",
       "      <td>0002-0800</td>\n",
       "      <td>0002-0800-01</td>\n",
       "      <td>1 VIAL in 1 CARTON (0002-0800-01)  &gt; 10 mL in ...</td>\n",
       "      <td>HUMAN OTC DRUG</td>\n",
       "      <td>Sterile Diluent</td>\n",
       "      <td>diluent</td>\n",
       "      <td>INJECTION, SOLUTION</td>\n",
       "      <td>SUBCUTANEOUS</td>\n",
       "      <td>NDA</td>\n",
       "      <td>NDA018781</td>\n",
       "      <td>Eli Lilly and Company</td>\n",
       "      <td>WATER</td>\n",
       "      <td>1</td>\n",
       "      <td>mL/mL</td>\n",
       "      <td>NaN</td>\n",
       "      <td>NaN</td>\n",
       "      <td>N</td>\n",
       "      <td>20191231.0</td>\n",
       "    </tr>\n",
       "    <tr>\n",
       "      <th>1</th>\n",
       "      <td>0002-1200</td>\n",
       "      <td>0002-1200-30</td>\n",
       "      <td>1 VIAL, MULTI-DOSE in 1 CAN (0002-1200-30)  &gt; ...</td>\n",
       "      <td>HUMAN PRESCRIPTION DRUG</td>\n",
       "      <td>Amyvid</td>\n",
       "      <td>Florbetapir F 18</td>\n",
       "      <td>INJECTION, SOLUTION</td>\n",
       "      <td>INTRAVENOUS</td>\n",
       "      <td>NDA</td>\n",
       "      <td>NDA202008</td>\n",
       "      <td>Eli Lilly and Company</td>\n",
       "      <td>FLORBETAPIR F-18</td>\n",
       "      <td>51</td>\n",
       "      <td>mCi/mL</td>\n",
       "      <td>Radioactive Diagnostic Agent [EPC],Positron Em...</td>\n",
       "      <td>NaN</td>\n",
       "      <td>N</td>\n",
       "      <td>20191231.0</td>\n",
       "    </tr>\n",
       "    <tr>\n",
       "      <th>2</th>\n",
       "      <td>0002-1200</td>\n",
       "      <td>0002-1200-50</td>\n",
       "      <td>1 VIAL, MULTI-DOSE in 1 CAN (0002-1200-50)  &gt; ...</td>\n",
       "      <td>HUMAN PRESCRIPTION DRUG</td>\n",
       "      <td>Amyvid</td>\n",
       "      <td>Florbetapir F 18</td>\n",
       "      <td>INJECTION, SOLUTION</td>\n",
       "      <td>INTRAVENOUS</td>\n",
       "      <td>NDA</td>\n",
       "      <td>NDA202008</td>\n",
       "      <td>Eli Lilly and Company</td>\n",
       "      <td>FLORBETAPIR F-18</td>\n",
       "      <td>51</td>\n",
       "      <td>mCi/mL</td>\n",
       "      <td>Radioactive Diagnostic Agent [EPC],Positron Em...</td>\n",
       "      <td>NaN</td>\n",
       "      <td>N</td>\n",
       "      <td>20191231.0</td>\n",
       "    </tr>\n",
       "    <tr>\n",
       "      <th>3</th>\n",
       "      <td>0002-1407</td>\n",
       "      <td>0002-1407-01</td>\n",
       "      <td>10 mL in 1 VIAL (0002-1407-01)</td>\n",
       "      <td>HUMAN PRESCRIPTION DRUG</td>\n",
       "      <td>Quinidine Gluconate</td>\n",
       "      <td>Quinidine Gluconate</td>\n",
       "      <td>SOLUTION</td>\n",
       "      <td>INTRAVENOUS</td>\n",
       "      <td>NDA</td>\n",
       "      <td>NDA007529</td>\n",
       "      <td>Eli Lilly and Company</td>\n",
       "      <td>QUINIDINE GLUCONATE</td>\n",
       "      <td>80</td>\n",
       "      <td>mg/mL</td>\n",
       "      <td>Antiarrhythmic [EPC],Cytochrome P450 2D6 Inhib...</td>\n",
       "      <td>NaN</td>\n",
       "      <td>N</td>\n",
       "      <td>20191231.0</td>\n",
       "    </tr>\n",
       "    <tr>\n",
       "      <th>4</th>\n",
       "      <td>0002-1433</td>\n",
       "      <td>0002-1433-61</td>\n",
       "      <td>2 SYRINGE in 1 CARTON (0002-1433-61)  &gt; .5 mL ...</td>\n",
       "      <td>HUMAN PRESCRIPTION DRUG</td>\n",
       "      <td>Trulicity</td>\n",
       "      <td>Dulaglutide</td>\n",
       "      <td>INJECTION, SOLUTION</td>\n",
       "      <td>SUBCUTANEOUS</td>\n",
       "      <td>BLA</td>\n",
       "      <td>BLA125469</td>\n",
       "      <td>Eli Lilly and Company</td>\n",
       "      <td>DULAGLUTIDE</td>\n",
       "      <td>.75</td>\n",
       "      <td>mg/.5mL</td>\n",
       "      <td>GLP-1 Receptor Agonist [EPC],Glucagon-Like Pep...</td>\n",
       "      <td>NaN</td>\n",
       "      <td>N</td>\n",
       "      <td>20201231.0</td>\n",
       "    </tr>\n",
       "  </tbody>\n",
       "</table>\n",
       "</div>"
      ],
      "text/plain": [
       "  PRODUCTNDC NDCPACKAGECODE  \\\n",
       "0  0002-0800   0002-0800-01   \n",
       "1  0002-1200   0002-1200-30   \n",
       "2  0002-1200   0002-1200-50   \n",
       "3  0002-1407   0002-1407-01   \n",
       "4  0002-1433   0002-1433-61   \n",
       "\n",
       "                                  PACKAGEDESCRIPTION          PRODUCTTYPENAME  \\\n",
       "0  1 VIAL in 1 CARTON (0002-0800-01)  > 10 mL in ...           HUMAN OTC DRUG   \n",
       "1  1 VIAL, MULTI-DOSE in 1 CAN (0002-1200-30)  > ...  HUMAN PRESCRIPTION DRUG   \n",
       "2  1 VIAL, MULTI-DOSE in 1 CAN (0002-1200-50)  > ...  HUMAN PRESCRIPTION DRUG   \n",
       "3                    10 mL in 1 VIAL (0002-1407-01)   HUMAN PRESCRIPTION DRUG   \n",
       "4  2 SYRINGE in 1 CARTON (0002-1433-61)  > .5 mL ...  HUMAN PRESCRIPTION DRUG   \n",
       "\n",
       "       PROPRIETARYNAME   NONPROPRIETARYNAME       DOSAGEFORMNAME  \\\n",
       "0      Sterile Diluent              diluent  INJECTION, SOLUTION   \n",
       "1               Amyvid     Florbetapir F 18  INJECTION, SOLUTION   \n",
       "2               Amyvid     Florbetapir F 18  INJECTION, SOLUTION   \n",
       "3  Quinidine Gluconate  Quinidine Gluconate             SOLUTION   \n",
       "4            Trulicity          Dulaglutide  INJECTION, SOLUTION   \n",
       "\n",
       "      ROUTENAME MARKETINGCATEGORYNAME APPLICATIONNUMBER  \\\n",
       "0  SUBCUTANEOUS                   NDA         NDA018781   \n",
       "1   INTRAVENOUS                   NDA         NDA202008   \n",
       "2   INTRAVENOUS                   NDA         NDA202008   \n",
       "3   INTRAVENOUS                   NDA         NDA007529   \n",
       "4  SUBCUTANEOUS                   BLA         BLA125469   \n",
       "\n",
       "             LABELERNAME        SUBSTANCENAME ACTIVE_NUMERATOR_STRENGTH  \\\n",
       "0  Eli Lilly and Company                WATER                         1   \n",
       "1  Eli Lilly and Company     FLORBETAPIR F-18                        51   \n",
       "2  Eli Lilly and Company     FLORBETAPIR F-18                        51   \n",
       "3  Eli Lilly and Company  QUINIDINE GLUCONATE                        80   \n",
       "4  Eli Lilly and Company          DULAGLUTIDE                       .75   \n",
       "\n",
       "  ACTIVE_INGRED_UNIT                                      PHARM_CLASSES  \\\n",
       "0              mL/mL                                                NaN   \n",
       "1             mCi/mL  Radioactive Diagnostic Agent [EPC],Positron Em...   \n",
       "2             mCi/mL  Radioactive Diagnostic Agent [EPC],Positron Em...   \n",
       "3              mg/mL  Antiarrhythmic [EPC],Cytochrome P450 2D6 Inhib...   \n",
       "4            mg/.5mL  GLP-1 Receptor Agonist [EPC],Glucagon-Like Pep...   \n",
       "\n",
       "  DEASCHEDULE NDC_EXCLUDE_FLAG  LISTING_RECORD_CERTIFIED_THROUGH  \n",
       "0         NaN                N                        20191231.0  \n",
       "1         NaN                N                        20191231.0  \n",
       "2         NaN                N                        20191231.0  \n",
       "3         NaN                N                        20191231.0  \n",
       "4         NaN                N                        20201231.0  "
      ]
     },
     "execution_count": 23,
     "metadata": {},
     "output_type": "execute_result"
    }
   ],
   "source": [
    "final.head()"
   ]
  },
  {
   "cell_type": "code",
   "execution_count": 24,
   "metadata": {},
   "outputs": [
    {
     "data": {
      "text/plain": [
       "128080"
      ]
     },
     "execution_count": 24,
     "metadata": {},
     "output_type": "execute_result"
    }
   ],
   "source": [
    "final[\"PRODUCTNDC\"].nunique()"
   ]
  },
  {
   "cell_type": "code",
   "execution_count": 25,
   "metadata": {},
   "outputs": [
    {
     "data": {
      "text/plain": [
       "246357"
      ]
     },
     "execution_count": 25,
     "metadata": {},
     "output_type": "execute_result"
    }
   ],
   "source": [
    "final[\"NDCPACKAGECODE\"].nunique()"
   ]
  },
  {
   "cell_type": "code",
   "execution_count": 26,
   "metadata": {},
   "outputs": [
    {
     "data": {
      "text/plain": [
       "PRODUCTNDC                               0\n",
       "NDCPACKAGECODE                           0\n",
       "PACKAGEDESCRIPTION                       0\n",
       "PRODUCTTYPENAME                          0\n",
       "PROPRIETARYNAME                         11\n",
       "NONPROPRIETARYNAME                       7\n",
       "DOSAGEFORMNAME                           0\n",
       "ROUTENAME                             2571\n",
       "MARKETINGCATEGORYNAME                    0\n",
       "APPLICATIONNUMBER                    34413\n",
       "LABELERNAME                              0\n",
       "SUBSTANCENAME                         3113\n",
       "ACTIVE_NUMERATOR_STRENGTH             3114\n",
       "ACTIVE_INGRED_UNIT                    3113\n",
       "PHARM_CLASSES                       121349\n",
       "DEASCHEDULE                         233995\n",
       "NDC_EXCLUDE_FLAG                         0\n",
       "LISTING_RECORD_CERTIFIED_THROUGH      5285\n",
       "dtype: int64"
      ]
     },
     "execution_count": 26,
     "metadata": {},
     "output_type": "execute_result"
    }
   ],
   "source": [
    "final.isnull().sum()"
   ]
  },
  {
   "cell_type": "code",
   "execution_count": 27,
   "metadata": {},
   "outputs": [
    {
     "data": {
      "text/plain": [
       "N    183541\n",
       "E     62831\n",
       "Name: NDC_EXCLUDE_FLAG, dtype: int64"
      ]
     },
     "execution_count": 27,
     "metadata": {},
     "output_type": "execute_result"
    }
   ],
   "source": [
    "final[\"NDC_EXCLUDE_FLAG\"].value_counts()"
   ]
  },
  {
   "cell_type": "markdown",
   "metadata": {},
   "source": [
    "## Save to file"
   ]
  },
  {
   "cell_type": "code",
   "execution_count": 28,
   "metadata": {},
   "outputs": [],
   "source": [
    "final.to_csv(\"../../pipeline/fda_ndc/ndc_info.tsv\", sep='\\t', index=False)"
   ]
  }
 ],
 "metadata": {
  "kernelspec": {
   "display_name": "Python 3",
   "language": "python",
   "name": "python3"
  },
  "language_info": {
   "codemirror_mode": {
    "name": "ipython",
    "version": 3
   },
   "file_extension": ".py",
   "mimetype": "text/x-python",
   "name": "python",
   "nbconvert_exporter": "python",
   "pygments_lexer": "ipython3",
   "version": "3.6.7"
  }
 },
 "nbformat": 4,
 "nbformat_minor": 2
}
