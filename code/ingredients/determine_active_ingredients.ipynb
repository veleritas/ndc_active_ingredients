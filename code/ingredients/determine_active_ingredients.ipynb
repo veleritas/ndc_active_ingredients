{
 "cells": [
  {
   "cell_type": "markdown",
   "metadata": {},
   "source": [
    "# Determine the active ingredients of RXCUIs associated with National Drug Codes\n",
    "\n",
    "2019-06-03\n",
    "\n",
    "Now that we have managed to convert NDCs into RXCUIs, we have an entry point into the RxNorm semantic network.\n",
    "We will use the relationships contained in the semantic network to determine what the active ingredients of each NDC are."
   ]
  },
  {
   "cell_type": "markdown",
   "metadata": {},
   "source": [
    "## Version 6\n",
    "\n",
    "Algorithm for version 6:\n",
    "- walk the RxNorm semantic network using BFS\n",
    "- only traverse good edges\n",
    "- don't add a node if one of its `has_form` targets is already an ingredient\n",
    "- only add ingredient (IN) and precise ingredient (PIN) nodes\n",
    "\n",
    "Changes\n",
    "- Algorithm is the same as version 5\n",
    "- Harmonize results for NDCs with multiple RXCUIs using the RxNorm suppress column\n",
    "\n",
    "### All RXCUI edge types\n",
    "\n",
    "From `code/rxnorm/extract_rxcui_relationships.ipynb`:\n",
    "\n",
    "```\n",
    "isa                       202708\n",
    "inverse_isa               202708\n",
    "ingredient_of             155438\n",
    "has_ingredient            155438\n",
    "constitutes               110911\n",
    "consists_of               110911\n",
    "tradename_of              106752\n",
    "has_tradename             106752\n",
    "dose_form_of               89850\n",
    "has_dose_form              89850\n",
    "has_doseformgroup          36876\n",
    "doseformgroup_of           36876\n",
    "has_ingredients            11649\n",
    "ingredients_of             11649\n",
    "has_precise_ingredient     10864\n",
    "precise_ingredient_of      10864\n",
    "has_part                   10585\n",
    "part_of                    10585\n",
    "quantified_form_of          5310\n",
    "has_quantified_form         5310\n",
    "has_form                    2845\n",
    "form_of                     2845\n",
    "contained_in                2310\n",
    "contains                    2310\n",
    "reformulation_of              62\n",
    "reformulated_to               62\n",
    "Name: rela, dtype: int64\n",
    "```\n",
    "\n",
    "Of these, I sampled the edges of each type by hand to determine which ones were useful for finding the active ingredients.\n",
    "\n",
    "### Good edge types\n",
    "\n",
    "```\n",
    "# special, treat differently\n",
    "has_precise_ingredient     10864\n",
    "\n",
    "# all equal as far as i can tell\n",
    "\n",
    "has_ingredient            155438\n",
    "has_ingredients            11649\n",
    "\n",
    "consists_of               110911\n",
    "contains                    2310\n",
    "has_part                   10585\n",
    "```"
   ]
  },
  {
   "cell_type": "code",
   "execution_count": 1,
   "metadata": {},
   "outputs": [],
   "source": [
    "import pandas as pd\n",
    "from collections import deque\n",
    "from collections import defaultdict"
   ]
  },
  {
   "cell_type": "markdown",
   "metadata": {},
   "source": [
    "## Read semantic network and convert to adjacency list"
   ]
  },
  {
   "cell_type": "code",
   "execution_count": 2,
   "metadata": {},
   "outputs": [],
   "source": [
    "def get_adj_list(rels_fname):\n",
    "    rel_table = pd.read_csv(rels_fname, sep='\\t')\n",
    "    \n",
    "    adj_list = defaultdict(lambda: defaultdict(list))\n",
    "    for row in rel_table.itertuples():\n",
    "        adj_list[row.rxcui2][row.rela].append(row.rxcui1)\n",
    "        \n",
    "    return adj_list"
   ]
  },
  {
   "cell_type": "code",
   "execution_count": 3,
   "metadata": {},
   "outputs": [],
   "source": [
    "fname = \"../../pipeline/rxnorm/rxcui_rels.tsv\"\n",
    "\n",
    "adj_list = get_adj_list(fname)"
   ]
  },
  {
   "cell_type": "code",
   "execution_count": 4,
   "metadata": {},
   "outputs": [
    {
     "data": {
      "text/plain": [
       "196202"
      ]
     },
     "execution_count": 4,
     "metadata": {},
     "output_type": "execute_result"
    }
   ],
   "source": [
    "len(adj_list)"
   ]
  },
  {
   "cell_type": "code",
   "execution_count": 5,
   "metadata": {},
   "outputs": [
    {
     "data": {
      "text/plain": [
       "defaultdict(list,\n",
       "            {'has_dose_form': [317541],\n",
       "             'consists_of': [330343, 602732],\n",
       "             'tradename_of': [579148],\n",
       "             'has_ingredient': [583099],\n",
       "             'isa': [602733, 1178299, 1178300]})"
      ]
     },
     "execution_count": 5,
     "metadata": {},
     "output_type": "execute_result"
    }
   ],
   "source": [
    "adj_list[602734]"
   ]
  },
  {
   "cell_type": "markdown",
   "metadata": {},
   "source": [
    "---"
   ]
  },
  {
   "cell_type": "markdown",
   "metadata": {},
   "source": [
    "## Identify all ingredients and precise ingredients"
   ]
  },
  {
   "cell_type": "code",
   "execution_count": 6,
   "metadata": {},
   "outputs": [],
   "source": [
    "def get_rxnorm_ingredients(conso_fname):\n",
    "    return set(pd\n",
    "        .read_csv(conso_fname, sep='\\t')\n",
    "        .query(\"tty == 'IN' or tty == 'PIN'\")\n",
    "        [\"rxcui\"]\n",
    "    )"
   ]
  },
  {
   "cell_type": "code",
   "execution_count": 7,
   "metadata": {},
   "outputs": [],
   "source": [
    "conso_fname = \"../../pipeline/rxnorm/rxconso_info.tsv\"\n",
    "\n",
    "rxnorm_ingredients = get_rxnorm_ingredients(conso_fname)"
   ]
  },
  {
   "cell_type": "markdown",
   "metadata": {},
   "source": [
    "## Determine active ingredients"
   ]
  },
  {
   "cell_type": "code",
   "execution_count": 8,
   "metadata": {},
   "outputs": [],
   "source": [
    "def get_active_ingredients(start_rxcui):\n",
    "    \"\"\"Get the active ingredients of a specific RxCUI.\"\"\"\n",
    "\n",
    "    GOOD_ETYPES = [\n",
    "        \"has_ingredient\",\n",
    "        \"has_ingredients\",\n",
    "        \"consists_of\",\n",
    "        \"contains\",\n",
    "        \"has_part\"\n",
    "    ]\n",
    "\n",
    "    ingredients = set()\n",
    "\n",
    "    queue = deque([start_rxcui])\n",
    "    been = set([start_rxcui])\n",
    "\n",
    "    while queue:\n",
    "        cur_node = queue.popleft()\n",
    "        \n",
    "        if \"has_precise_ingredient\" in adj_list[cur_node]:\n",
    "            # there can be multiple precise ingredients!\n",
    "            \n",
    "            assert set(adj_list[cur_node][\"has_precise_ingredient\"]) <= rxnorm_ingredients\n",
    "        \n",
    "            ingredients |= set(adj_list[cur_node][\"has_precise_ingredient\"])\n",
    "            \n",
    "        elif adj_list[cur_node].keys().isdisjoint(set(GOOD_ETYPES)):\n",
    "            \n",
    "            # no more edges to walk\n",
    "            if (cur_node in rxnorm_ingredients) and (set(adj_list[cur_node][\"has_form\"]).isdisjoint(ingredients)):\n",
    "                ingredients.add(cur_node)\n",
    "\n",
    "        else:\n",
    "            # we need to continue to traverse the graph\n",
    "            for etype in GOOD_ETYPES:\n",
    "                for neighbour in adj_list[cur_node][etype]:\n",
    "                    if neighbour not in been:\n",
    "                        queue.append(neighbour)\n",
    "                        been.add(neighbour)\n",
    "\n",
    "    if not ingredients:\n",
    "        return \"-1\"\n",
    "\n",
    "    return \",\".join(str(v) for v in sorted(list(ingredients)))"
   ]
  },
  {
   "cell_type": "markdown",
   "metadata": {},
   "source": [
    "---"
   ]
  },
  {
   "cell_type": "markdown",
   "metadata": {},
   "source": [
    "## Read all NDCs with RXCUIs"
   ]
  },
  {
   "cell_type": "code",
   "execution_count": 9,
   "metadata": {},
   "outputs": [],
   "source": [
    "data = pd.read_csv(\"../../pipeline/merged_ndc_info.tsv\", sep='\\t')"
   ]
  },
  {
   "cell_type": "code",
   "execution_count": 10,
   "metadata": {},
   "outputs": [
    {
     "data": {
      "text/plain": [
       "(246695, 20)"
      ]
     },
     "execution_count": 10,
     "metadata": {},
     "output_type": "execute_result"
    }
   ],
   "source": [
    "data.shape"
   ]
  },
  {
   "cell_type": "code",
   "execution_count": 11,
   "metadata": {},
   "outputs": [
    {
     "data": {
      "text/html": [
       "<div>\n",
       "<style scoped>\n",
       "    .dataframe tbody tr th:only-of-type {\n",
       "        vertical-align: middle;\n",
       "    }\n",
       "\n",
       "    .dataframe tbody tr th {\n",
       "        vertical-align: top;\n",
       "    }\n",
       "\n",
       "    .dataframe thead th {\n",
       "        text-align: right;\n",
       "    }\n",
       "</style>\n",
       "<table border=\"1\" class=\"dataframe\">\n",
       "  <thead>\n",
       "    <tr style=\"text-align: right;\">\n",
       "      <th></th>\n",
       "      <th>NDCPACKAGECODE</th>\n",
       "      <th>rxcui</th>\n",
       "      <th>suppress</th>\n",
       "      <th>PRODUCTNDC</th>\n",
       "      <th>PACKAGEDESCRIPTION</th>\n",
       "      <th>PRODUCTTYPENAME</th>\n",
       "      <th>PROPRIETARYNAME</th>\n",
       "      <th>NONPROPRIETARYNAME</th>\n",
       "      <th>DOSAGEFORMNAME</th>\n",
       "      <th>ROUTENAME</th>\n",
       "      <th>MARKETINGCATEGORYNAME</th>\n",
       "      <th>APPLICATIONNUMBER</th>\n",
       "      <th>LABELERNAME</th>\n",
       "      <th>SUBSTANCENAME</th>\n",
       "      <th>ACTIVE_NUMERATOR_STRENGTH</th>\n",
       "      <th>ACTIVE_INGRED_UNIT</th>\n",
       "      <th>PHARM_CLASSES</th>\n",
       "      <th>DEASCHEDULE</th>\n",
       "      <th>NDC_EXCLUDE_FLAG</th>\n",
       "      <th>LISTING_RECORD_CERTIFIED_THROUGH</th>\n",
       "    </tr>\n",
       "  </thead>\n",
       "  <tbody>\n",
       "    <tr>\n",
       "      <th>0</th>\n",
       "      <td>0002-0800-01</td>\n",
       "      <td>540930</td>\n",
       "      <td>False</td>\n",
       "      <td>0002-0800</td>\n",
       "      <td>1 VIAL in 1 CARTON (0002-0800-01)  &gt; 10 mL in ...</td>\n",
       "      <td>HUMAN OTC DRUG</td>\n",
       "      <td>Sterile Diluent</td>\n",
       "      <td>diluent</td>\n",
       "      <td>INJECTION, SOLUTION</td>\n",
       "      <td>SUBCUTANEOUS</td>\n",
       "      <td>NDA</td>\n",
       "      <td>NDA018781</td>\n",
       "      <td>Eli Lilly and Company</td>\n",
       "      <td>WATER</td>\n",
       "      <td>1</td>\n",
       "      <td>mL/mL</td>\n",
       "      <td>NaN</td>\n",
       "      <td>NaN</td>\n",
       "      <td>N</td>\n",
       "      <td>20191231.0</td>\n",
       "    </tr>\n",
       "    <tr>\n",
       "      <th>1</th>\n",
       "      <td>0002-1200-30</td>\n",
       "      <td>1297712</td>\n",
       "      <td>False</td>\n",
       "      <td>0002-1200</td>\n",
       "      <td>1 VIAL, MULTI-DOSE in 1 CAN (0002-1200-30)  &gt; ...</td>\n",
       "      <td>HUMAN PRESCRIPTION DRUG</td>\n",
       "      <td>Amyvid</td>\n",
       "      <td>Florbetapir F 18</td>\n",
       "      <td>INJECTION, SOLUTION</td>\n",
       "      <td>INTRAVENOUS</td>\n",
       "      <td>NDA</td>\n",
       "      <td>NDA202008</td>\n",
       "      <td>Eli Lilly and Company</td>\n",
       "      <td>FLORBETAPIR F-18</td>\n",
       "      <td>51</td>\n",
       "      <td>mCi/mL</td>\n",
       "      <td>Radioactive Diagnostic Agent [EPC],Positron Em...</td>\n",
       "      <td>NaN</td>\n",
       "      <td>N</td>\n",
       "      <td>20191231.0</td>\n",
       "    </tr>\n",
       "  </tbody>\n",
       "</table>\n",
       "</div>"
      ],
      "text/plain": [
       "  NDCPACKAGECODE    rxcui  suppress PRODUCTNDC  \\\n",
       "0   0002-0800-01   540930     False  0002-0800   \n",
       "1   0002-1200-30  1297712     False  0002-1200   \n",
       "\n",
       "                                  PACKAGEDESCRIPTION          PRODUCTTYPENAME  \\\n",
       "0  1 VIAL in 1 CARTON (0002-0800-01)  > 10 mL in ...           HUMAN OTC DRUG   \n",
       "1  1 VIAL, MULTI-DOSE in 1 CAN (0002-1200-30)  > ...  HUMAN PRESCRIPTION DRUG   \n",
       "\n",
       "   PROPRIETARYNAME NONPROPRIETARYNAME       DOSAGEFORMNAME     ROUTENAME  \\\n",
       "0  Sterile Diluent            diluent  INJECTION, SOLUTION  SUBCUTANEOUS   \n",
       "1           Amyvid   Florbetapir F 18  INJECTION, SOLUTION   INTRAVENOUS   \n",
       "\n",
       "  MARKETINGCATEGORYNAME APPLICATIONNUMBER            LABELERNAME  \\\n",
       "0                   NDA         NDA018781  Eli Lilly and Company   \n",
       "1                   NDA         NDA202008  Eli Lilly and Company   \n",
       "\n",
       "      SUBSTANCENAME ACTIVE_NUMERATOR_STRENGTH ACTIVE_INGRED_UNIT  \\\n",
       "0             WATER                         1              mL/mL   \n",
       "1  FLORBETAPIR F-18                        51             mCi/mL   \n",
       "\n",
       "                                       PHARM_CLASSES DEASCHEDULE  \\\n",
       "0                                                NaN         NaN   \n",
       "1  Radioactive Diagnostic Agent [EPC],Positron Em...         NaN   \n",
       "\n",
       "  NDC_EXCLUDE_FLAG  LISTING_RECORD_CERTIFIED_THROUGH  \n",
       "0                N                        20191231.0  \n",
       "1                N                        20191231.0  "
      ]
     },
     "execution_count": 11,
     "metadata": {},
     "output_type": "execute_result"
    }
   ],
   "source": [
    "data.head(2)"
   ]
  },
  {
   "cell_type": "markdown",
   "metadata": {},
   "source": [
    "## Filter out relevant data\n",
    "\n",
    "We just need the starting RXCUI."
   ]
  },
  {
   "cell_type": "code",
   "execution_count": 12,
   "metadata": {},
   "outputs": [],
   "source": [
    "drugs = (data\n",
    "    [[\"rxcui\"]]\n",
    "    .drop_duplicates()\n",
    "    .sort_values(\"rxcui\")\n",
    "    .reset_index(drop=True)\n",
    ")"
   ]
  },
  {
   "cell_type": "code",
   "execution_count": 13,
   "metadata": {},
   "outputs": [
    {
     "data": {
      "text/plain": [
       "(43556, 1)"
      ]
     },
     "execution_count": 13,
     "metadata": {},
     "output_type": "execute_result"
    }
   ],
   "source": [
    "drugs.shape"
   ]
  },
  {
   "cell_type": "code",
   "execution_count": 14,
   "metadata": {},
   "outputs": [
    {
     "data": {
      "text/html": [
       "<div>\n",
       "<style scoped>\n",
       "    .dataframe tbody tr th:only-of-type {\n",
       "        vertical-align: middle;\n",
       "    }\n",
       "\n",
       "    .dataframe tbody tr th {\n",
       "        vertical-align: top;\n",
       "    }\n",
       "\n",
       "    .dataframe thead th {\n",
       "        text-align: right;\n",
       "    }\n",
       "</style>\n",
       "<table border=\"1\" class=\"dataframe\">\n",
       "  <thead>\n",
       "    <tr style=\"text-align: right;\">\n",
       "      <th></th>\n",
       "      <th>rxcui</th>\n",
       "    </tr>\n",
       "  </thead>\n",
       "  <tbody>\n",
       "    <tr>\n",
       "      <th>0</th>\n",
       "      <td>91349</td>\n",
       "    </tr>\n",
       "    <tr>\n",
       "      <th>1</th>\n",
       "      <td>91792</td>\n",
       "    </tr>\n",
       "    <tr>\n",
       "      <th>2</th>\n",
       "      <td>92582</td>\n",
       "    </tr>\n",
       "    <tr>\n",
       "      <th>3</th>\n",
       "      <td>92583</td>\n",
       "    </tr>\n",
       "    <tr>\n",
       "      <th>4</th>\n",
       "      <td>92584</td>\n",
       "    </tr>\n",
       "  </tbody>\n",
       "</table>\n",
       "</div>"
      ],
      "text/plain": [
       "   rxcui\n",
       "0  91349\n",
       "1  91792\n",
       "2  92582\n",
       "3  92583\n",
       "4  92584"
      ]
     },
     "execution_count": 14,
     "metadata": {},
     "output_type": "execute_result"
    }
   ],
   "source": [
    "drugs.head()"
   ]
  },
  {
   "cell_type": "markdown",
   "metadata": {},
   "source": [
    "We will analyze our algorithm's performance in another notebook.\n",
    "For the purposes of finding the active ingredients we only need the starting RXCUI associated with the NDC."
   ]
  },
  {
   "cell_type": "markdown",
   "metadata": {},
   "source": [
    "# Use the semantic network to determine the active ingredients"
   ]
  },
  {
   "cell_type": "code",
   "execution_count": 15,
   "metadata": {},
   "outputs": [],
   "source": [
    "ingredients = drugs.assign(\n",
    "    active_ingredients = lambda df: df[\"rxcui\"].map(get_active_ingredients)\n",
    ")"
   ]
  },
  {
   "cell_type": "code",
   "execution_count": 16,
   "metadata": {},
   "outputs": [
    {
     "data": {
      "text/plain": [
       "(43556, 2)"
      ]
     },
     "execution_count": 16,
     "metadata": {},
     "output_type": "execute_result"
    }
   ],
   "source": [
    "ingredients.shape"
   ]
  },
  {
   "cell_type": "code",
   "execution_count": 17,
   "metadata": {},
   "outputs": [
    {
     "data": {
      "text/html": [
       "<div>\n",
       "<style scoped>\n",
       "    .dataframe tbody tr th:only-of-type {\n",
       "        vertical-align: middle;\n",
       "    }\n",
       "\n",
       "    .dataframe tbody tr th {\n",
       "        vertical-align: top;\n",
       "    }\n",
       "\n",
       "    .dataframe thead th {\n",
       "        text-align: right;\n",
       "    }\n",
       "</style>\n",
       "<table border=\"1\" class=\"dataframe\">\n",
       "  <thead>\n",
       "    <tr style=\"text-align: right;\">\n",
       "      <th></th>\n",
       "      <th>rxcui</th>\n",
       "      <th>active_ingredients</th>\n",
       "    </tr>\n",
       "  </thead>\n",
       "  <tbody>\n",
       "    <tr>\n",
       "      <th>0</th>\n",
       "      <td>91349</td>\n",
       "      <td>5499</td>\n",
       "    </tr>\n",
       "    <tr>\n",
       "      <th>1</th>\n",
       "      <td>91792</td>\n",
       "      <td>7813</td>\n",
       "    </tr>\n",
       "    <tr>\n",
       "      <th>2</th>\n",
       "      <td>92582</td>\n",
       "      <td>30145</td>\n",
       "    </tr>\n",
       "    <tr>\n",
       "      <th>3</th>\n",
       "      <td>92583</td>\n",
       "      <td>30145</td>\n",
       "    </tr>\n",
       "    <tr>\n",
       "      <th>4</th>\n",
       "      <td>92584</td>\n",
       "      <td>30145</td>\n",
       "    </tr>\n",
       "  </tbody>\n",
       "</table>\n",
       "</div>"
      ],
      "text/plain": [
       "   rxcui active_ingredients\n",
       "0  91349               5499\n",
       "1  91792               7813\n",
       "2  92582              30145\n",
       "3  92583              30145\n",
       "4  92584              30145"
      ]
     },
     "execution_count": 17,
     "metadata": {},
     "output_type": "execute_result"
    }
   ],
   "source": [
    "ingredients.head()"
   ]
  },
  {
   "cell_type": "markdown",
   "metadata": {},
   "source": [
    "## Save results to file"
   ]
  },
  {
   "cell_type": "code",
   "execution_count": 18,
   "metadata": {},
   "outputs": [],
   "source": [
    "ingredients.to_csv(\n",
    "    \"../../pipeline/ingredients/rxcui_ingredients/rxcui_ingredients_version_7.tsv\",\n",
    "    sep='\\t', index=False\n",
    ")"
   ]
  }
 ],
 "metadata": {
  "kernelspec": {
   "display_name": "Python 3",
   "language": "python",
   "name": "python3"
  },
  "language_info": {
   "codemirror_mode": {
    "name": "ipython",
    "version": 3
   },
   "file_extension": ".py",
   "mimetype": "text/x-python",
   "name": "python",
   "nbconvert_exporter": "python",
   "pygments_lexer": "ipython3",
   "version": "3.6.7"
  }
 },
 "nbformat": 4,
 "nbformat_minor": 2
}
