{
 "cells": [
  {
   "cell_type": "markdown",
   "metadata": {},
   "source": [
    "# Determine the active ingredients of RXCUIs associated with National Drug Codes\n",
    "\n",
    "2019-04-22\n",
    "\n",
    "Now that we have managed to convert NDCs into RXCUIs, we have an entry point into the RxNorm semantic network.\n",
    "We will use the relationships contained in the semantic network to determine what the active ingredients of each NDC are."
   ]
  },
  {
   "cell_type": "markdown",
   "metadata": {},
   "source": [
    "## Version 1\n",
    "\n",
    "Algorithm for the first version: we assume that\n",
    "1. All drugs only have a single active ingredient\n",
    "2. The active ingredient for each RXCUI follows this pattern:\n",
    "\n",
    "`(RXCUI of NDC) -> [has_ingredient] -> (intermediate node) -> [has_precise_ingredient] -> (RXCUI of active ingredient)`\n",
    "\n",
    "\n",
    "### Rationale\n",
    "\n",
    "I used the drug Razadyne as a starting point for exploring the semantic network.\n",
    "After looking at all the edges which linked the nodes, I managed to explore my way to the active ingredient using these two particular edges.\n",
    "This seemed to work for the six razadyne drugs."
   ]
  },
  {
   "cell_type": "code",
   "execution_count": 1,
   "metadata": {},
   "outputs": [],
   "source": [
    "import pandas as pd\n",
    "from collections import deque\n",
    "from collections import defaultdict"
   ]
  },
  {
   "cell_type": "markdown",
   "metadata": {},
   "source": [
    "## Read semantic network and convert to adjacency list"
   ]
  },
  {
   "cell_type": "code",
   "execution_count": 2,
   "metadata": {},
   "outputs": [],
   "source": [
    "def get_adj_list(rels_fname):\n",
    "    rel_table = pd.read_csv(rels_fname, sep='\\t')\n",
    "    \n",
    "    adj_list = defaultdict(lambda: defaultdict(list))\n",
    "    for row in rel_table.itertuples():\n",
    "        adj_list[row.rxcui2][row.rela].append(row.rxcui1)\n",
    "        \n",
    "    return adj_list"
   ]
  },
  {
   "cell_type": "code",
   "execution_count": 3,
   "metadata": {},
   "outputs": [],
   "source": [
    "fname = \"../../pipeline/rxnorm/rxcui_rels.tsv\"\n",
    "\n",
    "adj_list = get_adj_list(fname)"
   ]
  },
  {
   "cell_type": "code",
   "execution_count": 4,
   "metadata": {},
   "outputs": [
    {
     "data": {
      "text/plain": [
       "196300"
      ]
     },
     "execution_count": 4,
     "metadata": {},
     "output_type": "execute_result"
    }
   ],
   "source": [
    "len(adj_list)"
   ]
  },
  {
   "cell_type": "code",
   "execution_count": 5,
   "metadata": {},
   "outputs": [
    {
     "data": {
      "text/plain": [
       "defaultdict(list,\n",
       "            {'has_dose_form': [317541],\n",
       "             'consists_of': [330343, 602732],\n",
       "             'tradename_of': [579148],\n",
       "             'has_ingredient': [583099],\n",
       "             'isa': [602733, 1178299, 1178300]})"
      ]
     },
     "execution_count": 5,
     "metadata": {},
     "output_type": "execute_result"
    }
   ],
   "source": [
    "adj_list[602734]"
   ]
  },
  {
   "cell_type": "markdown",
   "metadata": {},
   "source": [
    "---"
   ]
  },
  {
   "cell_type": "markdown",
   "metadata": {},
   "source": [
    "## Determine active ingredients"
   ]
  },
  {
   "cell_type": "code",
   "execution_count": 6,
   "metadata": {},
   "outputs": [],
   "source": [
    "def get_ingredient(start_node):\n",
    "    \"\"\"\n",
    "    Get active ingredient.\n",
    "    \"\"\"\n",
    "    \n",
    "    # different format\n",
    "    if \"has_ingredient\" not in adj_list[start_node]:\n",
    "        return -90000\n",
    "    \n",
    "    # multiple ingredients\n",
    "    if len(adj_list[start_node][\"has_ingredient\"]) > 1:\n",
    "        return -7000\n",
    "    \n",
    "    assert len(adj_list[start_node][\"has_ingredient\"]) == 1\n",
    "\n",
    "    \n",
    "    \n",
    "    neighbour = adj_list[start_node][\"has_ingredient\"][0]\n",
    "    \n",
    "    if \"has_precise_ingredient\" not in adj_list[neighbour]:\n",
    "        return -500\n",
    "    \n",
    "    if len(adj_list[neighbour][\"has_precise_ingredient\"]) > 1:\n",
    "        return -40\n",
    "    \n",
    "    assert len(adj_list[neighbour][\"has_precise_ingredient\"]) == 1\n",
    "    \n",
    "    return adj_list[neighbour][\"has_precise_ingredient\"][0]"
   ]
  },
  {
   "cell_type": "markdown",
   "metadata": {},
   "source": [
    "---"
   ]
  },
  {
   "cell_type": "markdown",
   "metadata": {},
   "source": [
    "## Read all NDCs with RXCUIs"
   ]
  },
  {
   "cell_type": "code",
   "execution_count": 7,
   "metadata": {},
   "outputs": [],
   "source": [
    "data = pd.read_csv(\"../../pipeline/merged_ndc_info.tsv\", sep='\\t')"
   ]
  },
  {
   "cell_type": "code",
   "execution_count": 8,
   "metadata": {},
   "outputs": [
    {
     "data": {
      "text/plain": [
       "(265692, 22)"
      ]
     },
     "execution_count": 8,
     "metadata": {},
     "output_type": "execute_result"
    }
   ],
   "source": [
    "data.shape"
   ]
  },
  {
   "cell_type": "code",
   "execution_count": 9,
   "metadata": {},
   "outputs": [
    {
     "data": {
      "text/html": [
       "<div>\n",
       "<style scoped>\n",
       "    .dataframe tbody tr th:only-of-type {\n",
       "        vertical-align: middle;\n",
       "    }\n",
       "\n",
       "    .dataframe tbody tr th {\n",
       "        vertical-align: top;\n",
       "    }\n",
       "\n",
       "    .dataframe thead th {\n",
       "        text-align: right;\n",
       "    }\n",
       "</style>\n",
       "<table border=\"1\" class=\"dataframe\">\n",
       "  <thead>\n",
       "    <tr style=\"text-align: right;\">\n",
       "      <th></th>\n",
       "      <th>rxcui</th>\n",
       "      <th>rxaui</th>\n",
       "      <th>NDCPACKAGECODE</th>\n",
       "      <th>suppress</th>\n",
       "      <th>PRODUCTID</th>\n",
       "      <th>PRODUCTNDC</th>\n",
       "      <th>PACKAGEDESCRIPTION</th>\n",
       "      <th>PRODUCTTYPENAME</th>\n",
       "      <th>PROPRIETARYNAME</th>\n",
       "      <th>NONPROPRIETARYNAME</th>\n",
       "      <th>...</th>\n",
       "      <th>MARKETINGCATEGORYNAME</th>\n",
       "      <th>APPLICATIONNUMBER</th>\n",
       "      <th>LABELERNAME</th>\n",
       "      <th>SUBSTANCENAME</th>\n",
       "      <th>ACTIVE_NUMERATOR_STRENGTH</th>\n",
       "      <th>ACTIVE_INGRED_UNIT</th>\n",
       "      <th>PHARM_CLASSES</th>\n",
       "      <th>DEASCHEDULE</th>\n",
       "      <th>NDC_EXCLUDE_FLAG</th>\n",
       "      <th>LISTING_RECORD_CERTIFIED_THROUGH</th>\n",
       "    </tr>\n",
       "  </thead>\n",
       "  <tbody>\n",
       "    <tr>\n",
       "      <th>0</th>\n",
       "      <td>91349</td>\n",
       "      <td>3507080</td>\n",
       "      <td>12745-202-01</td>\n",
       "      <td>N</td>\n",
       "      <td>12745-202_7d063901-255c-bffc-e053-2a91aa0a91ee</td>\n",
       "      <td>12745-202</td>\n",
       "      <td>59 mL in 1 BOTTLE, PLASTIC (12745-202-01)</td>\n",
       "      <td>HUMAN OTC DRUG</td>\n",
       "      <td>HYDROGEN PEROXIDE</td>\n",
       "      <td>HYDROGEN PEROXIDE</td>\n",
       "      <td>...</td>\n",
       "      <td>OTC MONOGRAPH NOT FINAL</td>\n",
       "      <td>part333A</td>\n",
       "      <td>Medical Chemical Corporation</td>\n",
       "      <td>HYDROGEN PEROXIDE</td>\n",
       "      <td>8.57</td>\n",
       "      <td>g/100mL</td>\n",
       "      <td>NaN</td>\n",
       "      <td>NaN</td>\n",
       "      <td>N</td>\n",
       "      <td>20191231.0</td>\n",
       "    </tr>\n",
       "    <tr>\n",
       "      <th>1</th>\n",
       "      <td>91349</td>\n",
       "      <td>3507080</td>\n",
       "      <td>12745-202-02</td>\n",
       "      <td>N</td>\n",
       "      <td>12745-202_7d063901-255c-bffc-e053-2a91aa0a91ee</td>\n",
       "      <td>12745-202</td>\n",
       "      <td>118 mL in 1 BOTTLE, PLASTIC (12745-202-02)</td>\n",
       "      <td>HUMAN OTC DRUG</td>\n",
       "      <td>HYDROGEN PEROXIDE</td>\n",
       "      <td>HYDROGEN PEROXIDE</td>\n",
       "      <td>...</td>\n",
       "      <td>OTC MONOGRAPH NOT FINAL</td>\n",
       "      <td>part333A</td>\n",
       "      <td>Medical Chemical Corporation</td>\n",
       "      <td>HYDROGEN PEROXIDE</td>\n",
       "      <td>8.57</td>\n",
       "      <td>g/100mL</td>\n",
       "      <td>NaN</td>\n",
       "      <td>NaN</td>\n",
       "      <td>N</td>\n",
       "      <td>20191231.0</td>\n",
       "    </tr>\n",
       "  </tbody>\n",
       "</table>\n",
       "<p>2 rows × 22 columns</p>\n",
       "</div>"
      ],
      "text/plain": [
       "   rxcui    rxaui NDCPACKAGECODE suppress  \\\n",
       "0  91349  3507080   12745-202-01        N   \n",
       "1  91349  3507080   12745-202-02        N   \n",
       "\n",
       "                                        PRODUCTID PRODUCTNDC  \\\n",
       "0  12745-202_7d063901-255c-bffc-e053-2a91aa0a91ee  12745-202   \n",
       "1  12745-202_7d063901-255c-bffc-e053-2a91aa0a91ee  12745-202   \n",
       "\n",
       "                            PACKAGEDESCRIPTION PRODUCTTYPENAME  \\\n",
       "0   59 mL in 1 BOTTLE, PLASTIC (12745-202-01)   HUMAN OTC DRUG   \n",
       "1  118 mL in 1 BOTTLE, PLASTIC (12745-202-02)   HUMAN OTC DRUG   \n",
       "\n",
       "     PROPRIETARYNAME NONPROPRIETARYNAME  ...    MARKETINGCATEGORYNAME  \\\n",
       "0  HYDROGEN PEROXIDE  HYDROGEN PEROXIDE  ...  OTC MONOGRAPH NOT FINAL   \n",
       "1  HYDROGEN PEROXIDE  HYDROGEN PEROXIDE  ...  OTC MONOGRAPH NOT FINAL   \n",
       "\n",
       "  APPLICATIONNUMBER                   LABELERNAME      SUBSTANCENAME  \\\n",
       "0          part333A  Medical Chemical Corporation  HYDROGEN PEROXIDE   \n",
       "1          part333A  Medical Chemical Corporation  HYDROGEN PEROXIDE   \n",
       "\n",
       "  ACTIVE_NUMERATOR_STRENGTH ACTIVE_INGRED_UNIT PHARM_CLASSES DEASCHEDULE  \\\n",
       "0                      8.57            g/100mL           NaN         NaN   \n",
       "1                      8.57            g/100mL           NaN         NaN   \n",
       "\n",
       "  NDC_EXCLUDE_FLAG LISTING_RECORD_CERTIFIED_THROUGH  \n",
       "0                N                       20191231.0  \n",
       "1                N                       20191231.0  \n",
       "\n",
       "[2 rows x 22 columns]"
      ]
     },
     "execution_count": 9,
     "metadata": {},
     "output_type": "execute_result"
    }
   ],
   "source": [
    "data.head(2)"
   ]
  },
  {
   "cell_type": "markdown",
   "metadata": {},
   "source": [
    "## Filter out relevant data\n",
    "\n",
    "We just need the starting RXCUI."
   ]
  },
  {
   "cell_type": "code",
   "execution_count": 10,
   "metadata": {},
   "outputs": [],
   "source": [
    "drugs = (data\n",
    "    [[\"rxcui\"]]\n",
    "    .drop_duplicates()\n",
    "    .sort_values(\"rxcui\")\n",
    "    .reset_index(drop=True)\n",
    ")"
   ]
  },
  {
   "cell_type": "code",
   "execution_count": 11,
   "metadata": {},
   "outputs": [
    {
     "data": {
      "text/plain": [
       "(41576, 1)"
      ]
     },
     "execution_count": 11,
     "metadata": {},
     "output_type": "execute_result"
    }
   ],
   "source": [
    "drugs.shape"
   ]
  },
  {
   "cell_type": "code",
   "execution_count": 12,
   "metadata": {},
   "outputs": [
    {
     "data": {
      "text/html": [
       "<div>\n",
       "<style scoped>\n",
       "    .dataframe tbody tr th:only-of-type {\n",
       "        vertical-align: middle;\n",
       "    }\n",
       "\n",
       "    .dataframe tbody tr th {\n",
       "        vertical-align: top;\n",
       "    }\n",
       "\n",
       "    .dataframe thead th {\n",
       "        text-align: right;\n",
       "    }\n",
       "</style>\n",
       "<table border=\"1\" class=\"dataframe\">\n",
       "  <thead>\n",
       "    <tr style=\"text-align: right;\">\n",
       "      <th></th>\n",
       "      <th>rxcui</th>\n",
       "    </tr>\n",
       "  </thead>\n",
       "  <tbody>\n",
       "    <tr>\n",
       "      <th>0</th>\n",
       "      <td>91349</td>\n",
       "    </tr>\n",
       "    <tr>\n",
       "      <th>1</th>\n",
       "      <td>91792</td>\n",
       "    </tr>\n",
       "    <tr>\n",
       "      <th>2</th>\n",
       "      <td>92582</td>\n",
       "    </tr>\n",
       "    <tr>\n",
       "      <th>3</th>\n",
       "      <td>92583</td>\n",
       "    </tr>\n",
       "    <tr>\n",
       "      <th>4</th>\n",
       "      <td>92584</td>\n",
       "    </tr>\n",
       "  </tbody>\n",
       "</table>\n",
       "</div>"
      ],
      "text/plain": [
       "   rxcui\n",
       "0  91349\n",
       "1  91792\n",
       "2  92582\n",
       "3  92583\n",
       "4  92584"
      ]
     },
     "execution_count": 12,
     "metadata": {},
     "output_type": "execute_result"
    }
   ],
   "source": [
    "drugs.head()"
   ]
  },
  {
   "cell_type": "markdown",
   "metadata": {},
   "source": [
    "We will analyze our algorithm's performance in another notebook.\n",
    "For the purposes of finding the active ingredients we only need the starting RXCUI associated with the NDC."
   ]
  },
  {
   "cell_type": "markdown",
   "metadata": {},
   "source": [
    "# Use the semantic network to determine the active ingredients"
   ]
  },
  {
   "cell_type": "code",
   "execution_count": 13,
   "metadata": {},
   "outputs": [],
   "source": [
    "ingredients = drugs.assign(\n",
    "    active_ingredients = lambda df: df[\"rxcui\"].map(get_ingredient)\n",
    ")"
   ]
  },
  {
   "cell_type": "code",
   "execution_count": 14,
   "metadata": {},
   "outputs": [
    {
     "data": {
      "text/plain": [
       "(41576, 2)"
      ]
     },
     "execution_count": 14,
     "metadata": {},
     "output_type": "execute_result"
    }
   ],
   "source": [
    "ingredients.shape"
   ]
  },
  {
   "cell_type": "code",
   "execution_count": 15,
   "metadata": {},
   "outputs": [
    {
     "data": {
      "text/html": [
       "<div>\n",
       "<style scoped>\n",
       "    .dataframe tbody tr th:only-of-type {\n",
       "        vertical-align: middle;\n",
       "    }\n",
       "\n",
       "    .dataframe tbody tr th {\n",
       "        vertical-align: top;\n",
       "    }\n",
       "\n",
       "    .dataframe thead th {\n",
       "        text-align: right;\n",
       "    }\n",
       "</style>\n",
       "<table border=\"1\" class=\"dataframe\">\n",
       "  <thead>\n",
       "    <tr style=\"text-align: right;\">\n",
       "      <th></th>\n",
       "      <th>rxcui</th>\n",
       "      <th>active_ingredients</th>\n",
       "    </tr>\n",
       "  </thead>\n",
       "  <tbody>\n",
       "    <tr>\n",
       "      <th>0</th>\n",
       "      <td>91349</td>\n",
       "      <td>-90000</td>\n",
       "    </tr>\n",
       "    <tr>\n",
       "      <th>1</th>\n",
       "      <td>91792</td>\n",
       "      <td>-500</td>\n",
       "    </tr>\n",
       "    <tr>\n",
       "      <th>2</th>\n",
       "      <td>92582</td>\n",
       "      <td>30145</td>\n",
       "    </tr>\n",
       "    <tr>\n",
       "      <th>3</th>\n",
       "      <td>92583</td>\n",
       "      <td>30145</td>\n",
       "    </tr>\n",
       "    <tr>\n",
       "      <th>4</th>\n",
       "      <td>92584</td>\n",
       "      <td>30145</td>\n",
       "    </tr>\n",
       "  </tbody>\n",
       "</table>\n",
       "</div>"
      ],
      "text/plain": [
       "   rxcui  active_ingredients\n",
       "0  91349              -90000\n",
       "1  91792                -500\n",
       "2  92582               30145\n",
       "3  92583               30145\n",
       "4  92584               30145"
      ]
     },
     "execution_count": 15,
     "metadata": {},
     "output_type": "execute_result"
    }
   ],
   "source": [
    "ingredients.head()"
   ]
  },
  {
   "cell_type": "markdown",
   "metadata": {},
   "source": [
    "## Save results to file"
   ]
  },
  {
   "cell_type": "code",
   "execution_count": 16,
   "metadata": {},
   "outputs": [],
   "source": [
    "ingredients.to_csv(\"../../pipeline/ingredients/ndc_active_ingredients_version_1.tsv\", sep='\\t', index=False)"
   ]
  }
 ],
 "metadata": {
  "kernelspec": {
   "display_name": "Python 3",
   "language": "python",
   "name": "python3"
  },
  "language_info": {
   "codemirror_mode": {
    "name": "ipython",
    "version": 3
   },
   "file_extension": ".py",
   "mimetype": "text/x-python",
   "name": "python",
   "nbconvert_exporter": "python",
   "pygments_lexer": "ipython3",
   "version": "3.6.7"
  }
 },
 "nbformat": 4,
 "nbformat_minor": 2
}
