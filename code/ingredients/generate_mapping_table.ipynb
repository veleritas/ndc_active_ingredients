{
 "cells": [
  {
   "cell_type": "markdown",
   "metadata": {},
   "source": [
    "# Generate the final table of NDC to active ingredient mappings\n",
    "\n",
    "2019-06-03\n",
    "\n",
    "Here we consolidate the results and generate the final mapping of NDC to active ingredients.\n",
    "\n",
    "This notebook ensures that we get a single, consistent set of active ingredients for each individual NDC."
   ]
  },
  {
   "cell_type": "code",
   "execution_count": 1,
   "metadata": {},
   "outputs": [],
   "source": [
    "import pandas as pd\n",
    "from collections import defaultdict"
   ]
  },
  {
   "cell_type": "markdown",
   "metadata": {},
   "source": [
    "## Read RXCUI to active ingredient RXCUI results"
   ]
  },
  {
   "cell_type": "code",
   "execution_count": 2,
   "metadata": {},
   "outputs": [],
   "source": [
    "ingredients = pd.read_csv(\n",
    "    \"../../pipeline/ingredients/rxcui_ingredients/rxcui_ingredients_version_7.tsv\",\n",
    "    sep='\\t'\n",
    ")"
   ]
  },
  {
   "cell_type": "code",
   "execution_count": 3,
   "metadata": {},
   "outputs": [
    {
     "data": {
      "text/plain": [
       "(43556, 2)"
      ]
     },
     "execution_count": 3,
     "metadata": {},
     "output_type": "execute_result"
    }
   ],
   "source": [
    "ingredients.shape"
   ]
  },
  {
   "cell_type": "code",
   "execution_count": 4,
   "metadata": {},
   "outputs": [
    {
     "data": {
      "text/html": [
       "<div>\n",
       "<style scoped>\n",
       "    .dataframe tbody tr th:only-of-type {\n",
       "        vertical-align: middle;\n",
       "    }\n",
       "\n",
       "    .dataframe tbody tr th {\n",
       "        vertical-align: top;\n",
       "    }\n",
       "\n",
       "    .dataframe thead th {\n",
       "        text-align: right;\n",
       "    }\n",
       "</style>\n",
       "<table border=\"1\" class=\"dataframe\">\n",
       "  <thead>\n",
       "    <tr style=\"text-align: right;\">\n",
       "      <th></th>\n",
       "      <th>rxcui</th>\n",
       "      <th>active_ingredients</th>\n",
       "    </tr>\n",
       "  </thead>\n",
       "  <tbody>\n",
       "    <tr>\n",
       "      <th>0</th>\n",
       "      <td>91349</td>\n",
       "      <td>5499</td>\n",
       "    </tr>\n",
       "    <tr>\n",
       "      <th>1</th>\n",
       "      <td>91792</td>\n",
       "      <td>7813</td>\n",
       "    </tr>\n",
       "    <tr>\n",
       "      <th>2</th>\n",
       "      <td>92582</td>\n",
       "      <td>30145</td>\n",
       "    </tr>\n",
       "    <tr>\n",
       "      <th>3</th>\n",
       "      <td>92583</td>\n",
       "      <td>30145</td>\n",
       "    </tr>\n",
       "    <tr>\n",
       "      <th>4</th>\n",
       "      <td>92584</td>\n",
       "      <td>30145</td>\n",
       "    </tr>\n",
       "  </tbody>\n",
       "</table>\n",
       "</div>"
      ],
      "text/plain": [
       "   rxcui active_ingredients\n",
       "0  91349               5499\n",
       "1  91792               7813\n",
       "2  92582              30145\n",
       "3  92583              30145\n",
       "4  92584              30145"
      ]
     },
     "execution_count": 4,
     "metadata": {},
     "output_type": "execute_result"
    }
   ],
   "source": [
    "ingredients.head()"
   ]
  },
  {
   "cell_type": "markdown",
   "metadata": {},
   "source": [
    "## Read NDC metadata"
   ]
  },
  {
   "cell_type": "code",
   "execution_count": 5,
   "metadata": {},
   "outputs": [],
   "source": [
    "ndc = pd.read_csv(\"../../pipeline/merged_ndc_info.tsv\", sep='\\t')"
   ]
  },
  {
   "cell_type": "code",
   "execution_count": 6,
   "metadata": {},
   "outputs": [
    {
     "data": {
      "text/plain": [
       "(246695, 20)"
      ]
     },
     "execution_count": 6,
     "metadata": {},
     "output_type": "execute_result"
    }
   ],
   "source": [
    "ndc.shape"
   ]
  },
  {
   "cell_type": "code",
   "execution_count": 7,
   "metadata": {},
   "outputs": [
    {
     "data": {
      "text/html": [
       "<div>\n",
       "<style scoped>\n",
       "    .dataframe tbody tr th:only-of-type {\n",
       "        vertical-align: middle;\n",
       "    }\n",
       "\n",
       "    .dataframe tbody tr th {\n",
       "        vertical-align: top;\n",
       "    }\n",
       "\n",
       "    .dataframe thead th {\n",
       "        text-align: right;\n",
       "    }\n",
       "</style>\n",
       "<table border=\"1\" class=\"dataframe\">\n",
       "  <thead>\n",
       "    <tr style=\"text-align: right;\">\n",
       "      <th></th>\n",
       "      <th>NDCPACKAGECODE</th>\n",
       "      <th>rxcui</th>\n",
       "      <th>suppress</th>\n",
       "      <th>PRODUCTNDC</th>\n",
       "      <th>PACKAGEDESCRIPTION</th>\n",
       "      <th>PRODUCTTYPENAME</th>\n",
       "      <th>PROPRIETARYNAME</th>\n",
       "      <th>NONPROPRIETARYNAME</th>\n",
       "      <th>DOSAGEFORMNAME</th>\n",
       "      <th>ROUTENAME</th>\n",
       "      <th>MARKETINGCATEGORYNAME</th>\n",
       "      <th>APPLICATIONNUMBER</th>\n",
       "      <th>LABELERNAME</th>\n",
       "      <th>SUBSTANCENAME</th>\n",
       "      <th>ACTIVE_NUMERATOR_STRENGTH</th>\n",
       "      <th>ACTIVE_INGRED_UNIT</th>\n",
       "      <th>PHARM_CLASSES</th>\n",
       "      <th>DEASCHEDULE</th>\n",
       "      <th>NDC_EXCLUDE_FLAG</th>\n",
       "      <th>LISTING_RECORD_CERTIFIED_THROUGH</th>\n",
       "    </tr>\n",
       "  </thead>\n",
       "  <tbody>\n",
       "    <tr>\n",
       "      <th>0</th>\n",
       "      <td>0002-0800-01</td>\n",
       "      <td>540930</td>\n",
       "      <td>False</td>\n",
       "      <td>0002-0800</td>\n",
       "      <td>1 VIAL in 1 CARTON (0002-0800-01)  &gt; 10 mL in ...</td>\n",
       "      <td>HUMAN OTC DRUG</td>\n",
       "      <td>Sterile Diluent</td>\n",
       "      <td>diluent</td>\n",
       "      <td>INJECTION, SOLUTION</td>\n",
       "      <td>SUBCUTANEOUS</td>\n",
       "      <td>NDA</td>\n",
       "      <td>NDA018781</td>\n",
       "      <td>Eli Lilly and Company</td>\n",
       "      <td>WATER</td>\n",
       "      <td>1</td>\n",
       "      <td>mL/mL</td>\n",
       "      <td>NaN</td>\n",
       "      <td>NaN</td>\n",
       "      <td>N</td>\n",
       "      <td>20191231.0</td>\n",
       "    </tr>\n",
       "    <tr>\n",
       "      <th>1</th>\n",
       "      <td>0002-1200-30</td>\n",
       "      <td>1297712</td>\n",
       "      <td>False</td>\n",
       "      <td>0002-1200</td>\n",
       "      <td>1 VIAL, MULTI-DOSE in 1 CAN (0002-1200-30)  &gt; ...</td>\n",
       "      <td>HUMAN PRESCRIPTION DRUG</td>\n",
       "      <td>Amyvid</td>\n",
       "      <td>Florbetapir F 18</td>\n",
       "      <td>INJECTION, SOLUTION</td>\n",
       "      <td>INTRAVENOUS</td>\n",
       "      <td>NDA</td>\n",
       "      <td>NDA202008</td>\n",
       "      <td>Eli Lilly and Company</td>\n",
       "      <td>FLORBETAPIR F-18</td>\n",
       "      <td>51</td>\n",
       "      <td>mCi/mL</td>\n",
       "      <td>Radioactive Diagnostic Agent [EPC],Positron Em...</td>\n",
       "      <td>NaN</td>\n",
       "      <td>N</td>\n",
       "      <td>20191231.0</td>\n",
       "    </tr>\n",
       "  </tbody>\n",
       "</table>\n",
       "</div>"
      ],
      "text/plain": [
       "  NDCPACKAGECODE    rxcui  suppress PRODUCTNDC  \\\n",
       "0   0002-0800-01   540930     False  0002-0800   \n",
       "1   0002-1200-30  1297712     False  0002-1200   \n",
       "\n",
       "                                  PACKAGEDESCRIPTION          PRODUCTTYPENAME  \\\n",
       "0  1 VIAL in 1 CARTON (0002-0800-01)  > 10 mL in ...           HUMAN OTC DRUG   \n",
       "1  1 VIAL, MULTI-DOSE in 1 CAN (0002-1200-30)  > ...  HUMAN PRESCRIPTION DRUG   \n",
       "\n",
       "   PROPRIETARYNAME NONPROPRIETARYNAME       DOSAGEFORMNAME     ROUTENAME  \\\n",
       "0  Sterile Diluent            diluent  INJECTION, SOLUTION  SUBCUTANEOUS   \n",
       "1           Amyvid   Florbetapir F 18  INJECTION, SOLUTION   INTRAVENOUS   \n",
       "\n",
       "  MARKETINGCATEGORYNAME APPLICATIONNUMBER            LABELERNAME  \\\n",
       "0                   NDA         NDA018781  Eli Lilly and Company   \n",
       "1                   NDA         NDA202008  Eli Lilly and Company   \n",
       "\n",
       "      SUBSTANCENAME ACTIVE_NUMERATOR_STRENGTH ACTIVE_INGRED_UNIT  \\\n",
       "0             WATER                         1              mL/mL   \n",
       "1  FLORBETAPIR F-18                        51             mCi/mL   \n",
       "\n",
       "                                       PHARM_CLASSES DEASCHEDULE  \\\n",
       "0                                                NaN         NaN   \n",
       "1  Radioactive Diagnostic Agent [EPC],Positron Em...         NaN   \n",
       "\n",
       "  NDC_EXCLUDE_FLAG  LISTING_RECORD_CERTIFIED_THROUGH  \n",
       "0                N                        20191231.0  \n",
       "1                N                        20191231.0  "
      ]
     },
     "execution_count": 7,
     "metadata": {},
     "output_type": "execute_result"
    }
   ],
   "source": [
    "ndc.head(2)"
   ]
  },
  {
   "cell_type": "markdown",
   "metadata": {},
   "source": [
    "---"
   ]
  },
  {
   "cell_type": "markdown",
   "metadata": {},
   "source": [
    "# Check that the results are consistent for NDCs with multiple RXCUIs"
   ]
  },
  {
   "cell_type": "code",
   "execution_count": 8,
   "metadata": {},
   "outputs": [],
   "source": [
    "summary = (ndc\n",
    "    [[\"NDCPACKAGECODE\", \"rxcui\", \"suppress\"]]\n",
    "    .merge(\n",
    "        ingredients, how=\"inner\", on=\"rxcui\"\n",
    "    )\n",
    "    .drop_duplicates()\n",
    ")"
   ]
  },
  {
   "cell_type": "code",
   "execution_count": 9,
   "metadata": {},
   "outputs": [
    {
     "data": {
      "text/plain": [
       "(246677, 4)"
      ]
     },
     "execution_count": 9,
     "metadata": {},
     "output_type": "execute_result"
    }
   ],
   "source": [
    "summary.shape"
   ]
  },
  {
   "cell_type": "code",
   "execution_count": 10,
   "metadata": {},
   "outputs": [
    {
     "data": {
      "text/html": [
       "<div>\n",
       "<style scoped>\n",
       "    .dataframe tbody tr th:only-of-type {\n",
       "        vertical-align: middle;\n",
       "    }\n",
       "\n",
       "    .dataframe tbody tr th {\n",
       "        vertical-align: top;\n",
       "    }\n",
       "\n",
       "    .dataframe thead th {\n",
       "        text-align: right;\n",
       "    }\n",
       "</style>\n",
       "<table border=\"1\" class=\"dataframe\">\n",
       "  <thead>\n",
       "    <tr style=\"text-align: right;\">\n",
       "      <th></th>\n",
       "      <th>NDCPACKAGECODE</th>\n",
       "      <th>rxcui</th>\n",
       "      <th>suppress</th>\n",
       "      <th>active_ingredients</th>\n",
       "    </tr>\n",
       "  </thead>\n",
       "  <tbody>\n",
       "    <tr>\n",
       "      <th>0</th>\n",
       "      <td>0002-0800-01</td>\n",
       "      <td>540930</td>\n",
       "      <td>False</td>\n",
       "      <td>11295</td>\n",
       "    </tr>\n",
       "    <tr>\n",
       "      <th>1</th>\n",
       "      <td>0006-4309-00</td>\n",
       "      <td>540930</td>\n",
       "      <td>False</td>\n",
       "      <td>11295</td>\n",
       "    </tr>\n",
       "    <tr>\n",
       "      <th>2</th>\n",
       "      <td>0264-7385-50</td>\n",
       "      <td>540930</td>\n",
       "      <td>False</td>\n",
       "      <td>11295</td>\n",
       "    </tr>\n",
       "    <tr>\n",
       "      <th>3</th>\n",
       "      <td>0264-7385-60</td>\n",
       "      <td>540930</td>\n",
       "      <td>False</td>\n",
       "      <td>11295</td>\n",
       "    </tr>\n",
       "    <tr>\n",
       "      <th>4</th>\n",
       "      <td>0264-7850-00</td>\n",
       "      <td>540930</td>\n",
       "      <td>False</td>\n",
       "      <td>11295</td>\n",
       "    </tr>\n",
       "  </tbody>\n",
       "</table>\n",
       "</div>"
      ],
      "text/plain": [
       "  NDCPACKAGECODE   rxcui  suppress active_ingredients\n",
       "0   0002-0800-01  540930     False              11295\n",
       "1   0006-4309-00  540930     False              11295\n",
       "2   0264-7385-50  540930     False              11295\n",
       "3   0264-7385-60  540930     False              11295\n",
       "4   0264-7850-00  540930     False              11295"
      ]
     },
     "execution_count": 10,
     "metadata": {},
     "output_type": "execute_result"
    }
   ],
   "source": [
    "summary.head()"
   ]
  },
  {
   "cell_type": "markdown",
   "metadata": {},
   "source": [
    "### Add in number of RXCUIs per NDC"
   ]
  },
  {
   "cell_type": "code",
   "execution_count": 11,
   "metadata": {},
   "outputs": [],
   "source": [
    "ncuis = (summary\n",
    "    .groupby(\"NDCPACKAGECODE\")\n",
    "    [\"rxcui\"]\n",
    "    .nunique()\n",
    "    .to_frame(\"ncuis\")\n",
    "    .reset_index()\n",
    ")"
   ]
  },
  {
   "cell_type": "code",
   "execution_count": 12,
   "metadata": {},
   "outputs": [
    {
     "data": {
      "text/plain": [
       "(244989, 2)"
      ]
     },
     "execution_count": 12,
     "metadata": {},
     "output_type": "execute_result"
    }
   ],
   "source": [
    "ncuis.shape"
   ]
  },
  {
   "cell_type": "code",
   "execution_count": 13,
   "metadata": {},
   "outputs": [
    {
     "data": {
      "text/html": [
       "<div>\n",
       "<style scoped>\n",
       "    .dataframe tbody tr th:only-of-type {\n",
       "        vertical-align: middle;\n",
       "    }\n",
       "\n",
       "    .dataframe tbody tr th {\n",
       "        vertical-align: top;\n",
       "    }\n",
       "\n",
       "    .dataframe thead th {\n",
       "        text-align: right;\n",
       "    }\n",
       "</style>\n",
       "<table border=\"1\" class=\"dataframe\">\n",
       "  <thead>\n",
       "    <tr style=\"text-align: right;\">\n",
       "      <th></th>\n",
       "      <th>NDCPACKAGECODE</th>\n",
       "      <th>ncuis</th>\n",
       "    </tr>\n",
       "  </thead>\n",
       "  <tbody>\n",
       "    <tr>\n",
       "      <th>0</th>\n",
       "      <td>0002-0800-01</td>\n",
       "      <td>1</td>\n",
       "    </tr>\n",
       "    <tr>\n",
       "      <th>1</th>\n",
       "      <td>0002-1200-30</td>\n",
       "      <td>1</td>\n",
       "    </tr>\n",
       "    <tr>\n",
       "      <th>2</th>\n",
       "      <td>0002-1200-50</td>\n",
       "      <td>1</td>\n",
       "    </tr>\n",
       "    <tr>\n",
       "      <th>3</th>\n",
       "      <td>0002-1407-01</td>\n",
       "      <td>1</td>\n",
       "    </tr>\n",
       "    <tr>\n",
       "      <th>4</th>\n",
       "      <td>0002-1433-61</td>\n",
       "      <td>1</td>\n",
       "    </tr>\n",
       "  </tbody>\n",
       "</table>\n",
       "</div>"
      ],
      "text/plain": [
       "  NDCPACKAGECODE  ncuis\n",
       "0   0002-0800-01      1\n",
       "1   0002-1200-30      1\n",
       "2   0002-1200-50      1\n",
       "3   0002-1407-01      1\n",
       "4   0002-1433-61      1"
      ]
     },
     "execution_count": 13,
     "metadata": {},
     "output_type": "execute_result"
    }
   ],
   "source": [
    "ncuis.head()"
   ]
  },
  {
   "cell_type": "code",
   "execution_count": 14,
   "metadata": {},
   "outputs": [
    {
     "data": {
      "text/plain": [
       "1    243321\n",
       "2      1648\n",
       "3        20\n",
       "Name: ncuis, dtype: int64"
      ]
     },
     "execution_count": 14,
     "metadata": {},
     "output_type": "execute_result"
    }
   ],
   "source": [
    "ncuis[\"ncuis\"].value_counts()"
   ]
  },
  {
   "cell_type": "code",
   "execution_count": 15,
   "metadata": {},
   "outputs": [],
   "source": [
    "stats = (summary\n",
    "    .merge(\n",
    "        ncuis, how=\"inner\", on=\"NDCPACKAGECODE\"\n",
    "    )\n",
    "    .assign(\n",
    "        good_ans = lambda df: df[\"active_ingredients\"].map(\n",
    "            lambda v: v != \"-1\"\n",
    "        )\n",
    "    )\n",
    ")"
   ]
  },
  {
   "cell_type": "code",
   "execution_count": 16,
   "metadata": {},
   "outputs": [
    {
     "data": {
      "text/plain": [
       "(246677, 6)"
      ]
     },
     "execution_count": 16,
     "metadata": {},
     "output_type": "execute_result"
    }
   ],
   "source": [
    "stats.shape"
   ]
  },
  {
   "cell_type": "code",
   "execution_count": 17,
   "metadata": {},
   "outputs": [
    {
     "data": {
      "text/html": [
       "<div>\n",
       "<style scoped>\n",
       "    .dataframe tbody tr th:only-of-type {\n",
       "        vertical-align: middle;\n",
       "    }\n",
       "\n",
       "    .dataframe tbody tr th {\n",
       "        vertical-align: top;\n",
       "    }\n",
       "\n",
       "    .dataframe thead th {\n",
       "        text-align: right;\n",
       "    }\n",
       "</style>\n",
       "<table border=\"1\" class=\"dataframe\">\n",
       "  <thead>\n",
       "    <tr style=\"text-align: right;\">\n",
       "      <th></th>\n",
       "      <th>NDCPACKAGECODE</th>\n",
       "      <th>rxcui</th>\n",
       "      <th>suppress</th>\n",
       "      <th>active_ingredients</th>\n",
       "      <th>ncuis</th>\n",
       "      <th>good_ans</th>\n",
       "    </tr>\n",
       "  </thead>\n",
       "  <tbody>\n",
       "    <tr>\n",
       "      <th>0</th>\n",
       "      <td>0002-0800-01</td>\n",
       "      <td>540930</td>\n",
       "      <td>False</td>\n",
       "      <td>11295</td>\n",
       "      <td>1</td>\n",
       "      <td>True</td>\n",
       "    </tr>\n",
       "    <tr>\n",
       "      <th>1</th>\n",
       "      <td>0006-4309-00</td>\n",
       "      <td>540930</td>\n",
       "      <td>False</td>\n",
       "      <td>11295</td>\n",
       "      <td>1</td>\n",
       "      <td>True</td>\n",
       "    </tr>\n",
       "    <tr>\n",
       "      <th>2</th>\n",
       "      <td>0264-7385-50</td>\n",
       "      <td>540930</td>\n",
       "      <td>False</td>\n",
       "      <td>11295</td>\n",
       "      <td>1</td>\n",
       "      <td>True</td>\n",
       "    </tr>\n",
       "    <tr>\n",
       "      <th>3</th>\n",
       "      <td>0264-7385-60</td>\n",
       "      <td>540930</td>\n",
       "      <td>False</td>\n",
       "      <td>11295</td>\n",
       "      <td>1</td>\n",
       "      <td>True</td>\n",
       "    </tr>\n",
       "    <tr>\n",
       "      <th>4</th>\n",
       "      <td>0264-7850-00</td>\n",
       "      <td>540930</td>\n",
       "      <td>False</td>\n",
       "      <td>11295</td>\n",
       "      <td>1</td>\n",
       "      <td>True</td>\n",
       "    </tr>\n",
       "  </tbody>\n",
       "</table>\n",
       "</div>"
      ],
      "text/plain": [
       "  NDCPACKAGECODE   rxcui  suppress active_ingredients  ncuis  good_ans\n",
       "0   0002-0800-01  540930     False              11295      1      True\n",
       "1   0006-4309-00  540930     False              11295      1      True\n",
       "2   0264-7385-50  540930     False              11295      1      True\n",
       "3   0264-7385-60  540930     False              11295      1      True\n",
       "4   0264-7850-00  540930     False              11295      1      True"
      ]
     },
     "execution_count": 17,
     "metadata": {},
     "output_type": "execute_result"
    }
   ],
   "source": [
    "stats.head()"
   ]
  },
  {
   "cell_type": "markdown",
   "metadata": {},
   "source": [
    "### Check that we get consistent results for NDCs with multiple RXCUIs"
   ]
  },
  {
   "cell_type": "code",
   "execution_count": 18,
   "metadata": {},
   "outputs": [],
   "source": [
    "weird = []\n",
    "for label, df in stats.query(\"ncuis > 1\").groupby(\"NDCPACKAGECODE\"):\n",
    "    if df.query(\"good_ans\")[\"active_ingredients\"].nunique() > 1:\n",
    "        weird.append(label)"
   ]
  },
  {
   "cell_type": "code",
   "execution_count": 19,
   "metadata": {},
   "outputs": [
    {
     "data": {
      "text/plain": [
       "5"
      ]
     },
     "execution_count": 19,
     "metadata": {},
     "output_type": "execute_result"
    }
   ],
   "source": [
    "len(weird)"
   ]
  },
  {
   "cell_type": "code",
   "execution_count": 20,
   "metadata": {},
   "outputs": [
    {
     "data": {
      "text/html": [
       "<div>\n",
       "<style scoped>\n",
       "    .dataframe tbody tr th:only-of-type {\n",
       "        vertical-align: middle;\n",
       "    }\n",
       "\n",
       "    .dataframe tbody tr th {\n",
       "        vertical-align: top;\n",
       "    }\n",
       "\n",
       "    .dataframe thead th {\n",
       "        text-align: right;\n",
       "    }\n",
       "</style>\n",
       "<table border=\"1\" class=\"dataframe\">\n",
       "  <thead>\n",
       "    <tr style=\"text-align: right;\">\n",
       "      <th></th>\n",
       "      <th>NDCPACKAGECODE</th>\n",
       "      <th>rxcui</th>\n",
       "      <th>suppress</th>\n",
       "      <th>active_ingredients</th>\n",
       "      <th>ncuis</th>\n",
       "      <th>good_ans</th>\n",
       "    </tr>\n",
       "  </thead>\n",
       "  <tbody>\n",
       "    <tr>\n",
       "      <th>0</th>\n",
       "      <td>52584-360-01</td>\n",
       "      <td>1668250</td>\n",
       "      <td>False</td>\n",
       "      <td>1908</td>\n",
       "      <td>2</td>\n",
       "      <td>True</td>\n",
       "    </tr>\n",
       "    <tr>\n",
       "      <th>1</th>\n",
       "      <td>52584-360-01</td>\n",
       "      <td>1867737</td>\n",
       "      <td>True</td>\n",
       "      <td>1901</td>\n",
       "      <td>2</td>\n",
       "      <td>True</td>\n",
       "    </tr>\n",
       "    <tr>\n",
       "      <th>2</th>\n",
       "      <td>52584-360-03</td>\n",
       "      <td>1668248</td>\n",
       "      <td>False</td>\n",
       "      <td>1908</td>\n",
       "      <td>2</td>\n",
       "      <td>True</td>\n",
       "    </tr>\n",
       "    <tr>\n",
       "      <th>3</th>\n",
       "      <td>52584-360-03</td>\n",
       "      <td>1867737</td>\n",
       "      <td>True</td>\n",
       "      <td>1901</td>\n",
       "      <td>2</td>\n",
       "      <td>True</td>\n",
       "    </tr>\n",
       "    <tr>\n",
       "      <th>4</th>\n",
       "      <td>68001-285-36</td>\n",
       "      <td>1803932</td>\n",
       "      <td>False</td>\n",
       "      <td>6313</td>\n",
       "      <td>2</td>\n",
       "      <td>True</td>\n",
       "    </tr>\n",
       "    <tr>\n",
       "      <th>5</th>\n",
       "      <td>68001-285-36</td>\n",
       "      <td>1720771</td>\n",
       "      <td>True</td>\n",
       "      <td>877015</td>\n",
       "      <td>2</td>\n",
       "      <td>True</td>\n",
       "    </tr>\n",
       "    <tr>\n",
       "      <th>6</th>\n",
       "      <td>68001-285-37</td>\n",
       "      <td>1803937</td>\n",
       "      <td>False</td>\n",
       "      <td>6313</td>\n",
       "      <td>2</td>\n",
       "      <td>True</td>\n",
       "    </tr>\n",
       "    <tr>\n",
       "      <th>7</th>\n",
       "      <td>68001-285-37</td>\n",
       "      <td>1720771</td>\n",
       "      <td>True</td>\n",
       "      <td>877015</td>\n",
       "      <td>2</td>\n",
       "      <td>True</td>\n",
       "    </tr>\n",
       "    <tr>\n",
       "      <th>8</th>\n",
       "      <td>68001-285-40</td>\n",
       "      <td>1803930</td>\n",
       "      <td>False</td>\n",
       "      <td>6313</td>\n",
       "      <td>2</td>\n",
       "      <td>True</td>\n",
       "    </tr>\n",
       "    <tr>\n",
       "      <th>9</th>\n",
       "      <td>68001-285-40</td>\n",
       "      <td>1720771</td>\n",
       "      <td>True</td>\n",
       "      <td>877015</td>\n",
       "      <td>2</td>\n",
       "      <td>True</td>\n",
       "    </tr>\n",
       "  </tbody>\n",
       "</table>\n",
       "</div>"
      ],
      "text/plain": [
       "  NDCPACKAGECODE    rxcui  suppress active_ingredients  ncuis  good_ans\n",
       "0   52584-360-01  1668250     False               1908      2      True\n",
       "1   52584-360-01  1867737      True               1901      2      True\n",
       "2   52584-360-03  1668248     False               1908      2      True\n",
       "3   52584-360-03  1867737      True               1901      2      True\n",
       "4   68001-285-36  1803932     False               6313      2      True\n",
       "5   68001-285-36  1720771      True             877015      2      True\n",
       "6   68001-285-37  1803937     False               6313      2      True\n",
       "7   68001-285-37  1720771      True             877015      2      True\n",
       "8   68001-285-40  1803930     False               6313      2      True\n",
       "9   68001-285-40  1720771      True             877015      2      True"
      ]
     },
     "execution_count": 20,
     "metadata": {},
     "output_type": "execute_result"
    }
   ],
   "source": [
    "(pd\n",
    "    .Series(weird)\n",
    "    .to_frame(\"NDCPACKAGECODE\")\n",
    "    .merge(stats, how=\"left\", on=\"NDCPACKAGECODE\")\n",
    "    .sort_values([\"NDCPACKAGECODE\", \"suppress\"])\n",
    ")"
   ]
  },
  {
   "cell_type": "markdown",
   "metadata": {},
   "source": [
    "After checking these examples by hand, I concluded that the suppressed values are incorrect."
   ]
  },
  {
   "cell_type": "markdown",
   "metadata": {},
   "source": [
    "---"
   ]
  },
  {
   "cell_type": "markdown",
   "metadata": {},
   "source": [
    "# Harmonize results\n",
    "\n",
    "There can be multiple RXCUIs for each NDC.\n",
    "Some of the RXCUIs for the same NDC will not be in the semantic network, and therefore we won't find active ingredients for those RXCUIs.\n",
    "\n",
    "However, this does not mean that we did not manage to find the active ingredients for that NDC through another RXCUI.\n",
    "\n",
    "We will use the suppress status from RxNorm to determine which rows to keep as our final mapping.\n",
    "\n",
    "### Note\n",
    "\n",
    "There are some NDCs where all the RXCUIs are suppressed, but we managed to find an active ingredient for one of the RXCUIs anyways.\n",
    "\n",
    "Example: 58789-005-01\n",
    "\n",
    "In these instances we will take only the good answers."
   ]
  },
  {
   "cell_type": "code",
   "execution_count": 21,
   "metadata": {},
   "outputs": [],
   "source": [
    "def subset(df):\n",
    "    if not df[\"suppress\"].all():\n",
    "        return df.query(\"~suppress\")\n",
    "    \n",
    "    if df[\"good_ans\"].any():\n",
    "        return df.query(\"good_ans\")\n",
    "    \n",
    "    return df\n",
    "\n",
    "\n",
    "multi = (stats\n",
    "    .query(\"ncuis > 1\")\n",
    "    .drop(\"ncuis\", axis=1)\n",
    "\n",
    "    .groupby(\"NDCPACKAGECODE\")\n",
    "    .apply(subset)\n",
    "    .reset_index(drop=True)\n",
    ")"
   ]
  },
  {
   "cell_type": "code",
   "execution_count": 22,
   "metadata": {},
   "outputs": [
    {
     "data": {
      "text/plain": [
       "(1690, 5)"
      ]
     },
     "execution_count": 22,
     "metadata": {},
     "output_type": "execute_result"
    }
   ],
   "source": [
    "multi.shape"
   ]
  },
  {
   "cell_type": "code",
   "execution_count": 23,
   "metadata": {},
   "outputs": [
    {
     "data": {
      "text/html": [
       "<div>\n",
       "<style scoped>\n",
       "    .dataframe tbody tr th:only-of-type {\n",
       "        vertical-align: middle;\n",
       "    }\n",
       "\n",
       "    .dataframe tbody tr th {\n",
       "        vertical-align: top;\n",
       "    }\n",
       "\n",
       "    .dataframe thead th {\n",
       "        text-align: right;\n",
       "    }\n",
       "</style>\n",
       "<table border=\"1\" class=\"dataframe\">\n",
       "  <thead>\n",
       "    <tr style=\"text-align: right;\">\n",
       "      <th></th>\n",
       "      <th>NDCPACKAGECODE</th>\n",
       "      <th>rxcui</th>\n",
       "      <th>suppress</th>\n",
       "      <th>active_ingredients</th>\n",
       "      <th>good_ans</th>\n",
       "    </tr>\n",
       "  </thead>\n",
       "  <tbody>\n",
       "    <tr>\n",
       "      <th>0</th>\n",
       "      <td>0003-0315-05</td>\n",
       "      <td>2168097</td>\n",
       "      <td>False</td>\n",
       "      <td>10761</td>\n",
       "      <td>True</td>\n",
       "    </tr>\n",
       "    <tr>\n",
       "      <th>1</th>\n",
       "      <td>0003-0315-20</td>\n",
       "      <td>2168083</td>\n",
       "      <td>False</td>\n",
       "      <td>10761</td>\n",
       "      <td>True</td>\n",
       "    </tr>\n",
       "    <tr>\n",
       "      <th>2</th>\n",
       "      <td>0003-2188-11</td>\n",
       "      <td>1145932</td>\n",
       "      <td>False</td>\n",
       "      <td>614391</td>\n",
       "      <td>True</td>\n",
       "    </tr>\n",
       "    <tr>\n",
       "      <th>3</th>\n",
       "      <td>0003-2188-21</td>\n",
       "      <td>1145932</td>\n",
       "      <td>False</td>\n",
       "      <td>614391</td>\n",
       "      <td>True</td>\n",
       "    </tr>\n",
       "    <tr>\n",
       "      <th>4</th>\n",
       "      <td>0003-2188-50</td>\n",
       "      <td>1799230</td>\n",
       "      <td>False</td>\n",
       "      <td>614391</td>\n",
       "      <td>True</td>\n",
       "    </tr>\n",
       "  </tbody>\n",
       "</table>\n",
       "</div>"
      ],
      "text/plain": [
       "  NDCPACKAGECODE    rxcui  suppress active_ingredients  good_ans\n",
       "0   0003-0315-05  2168097     False              10761      True\n",
       "1   0003-0315-20  2168083     False              10761      True\n",
       "2   0003-2188-11  1145932     False             614391      True\n",
       "3   0003-2188-21  1145932     False             614391      True\n",
       "4   0003-2188-50  1799230     False             614391      True"
      ]
     },
     "execution_count": 23,
     "metadata": {},
     "output_type": "execute_result"
    }
   ],
   "source": [
    "multi.head()"
   ]
  },
  {
   "cell_type": "markdown",
   "metadata": {},
   "source": [
    "### Stats about NDCs with multiple RXCUIs"
   ]
  },
  {
   "cell_type": "code",
   "execution_count": 24,
   "metadata": {},
   "outputs": [
    {
     "data": {
      "text/plain": [
       "True     1648\n",
       "False      20\n",
       "Name: good_ans, dtype: int64"
      ]
     },
     "execution_count": 24,
     "metadata": {},
     "output_type": "execute_result"
    }
   ],
   "source": [
    "multi.groupby(\"NDCPACKAGECODE\")[\"good_ans\"].any().value_counts()"
   ]
  },
  {
   "cell_type": "code",
   "execution_count": 25,
   "metadata": {},
   "outputs": [
    {
     "data": {
      "text/plain": [
       "1    1650\n",
       "2      14\n",
       "3       4\n",
       "dtype: int64"
      ]
     },
     "execution_count": 25,
     "metadata": {},
     "output_type": "execute_result"
    }
   ],
   "source": [
    "multi.groupby(\"NDCPACKAGECODE\").size().value_counts()"
   ]
  },
  {
   "cell_type": "markdown",
   "metadata": {},
   "source": [
    "### Check that there's only one answer for each NDC"
   ]
  },
  {
   "cell_type": "code",
   "execution_count": 26,
   "metadata": {},
   "outputs": [
    {
     "data": {
      "text/plain": [
       "1    1668\n",
       "Name: active_ingredients, dtype: int64"
      ]
     },
     "execution_count": 26,
     "metadata": {},
     "output_type": "execute_result"
    }
   ],
   "source": [
    "multi.groupby(\"NDCPACKAGECODE\")[\"active_ingredients\"].nunique().value_counts()"
   ]
  },
  {
   "cell_type": "code",
   "execution_count": 27,
   "metadata": {},
   "outputs": [
    {
     "data": {
      "text/plain": [
       "1    1668\n",
       "Name: good_ans, dtype: int64"
      ]
     },
     "execution_count": 27,
     "metadata": {},
     "output_type": "execute_result"
    }
   ],
   "source": [
    "multi.groupby(\"NDCPACKAGECODE\")[\"good_ans\"].nunique().value_counts()"
   ]
  },
  {
   "cell_type": "markdown",
   "metadata": {},
   "source": [
    "### Rejoin with single RXCUI NDCs"
   ]
  },
  {
   "cell_type": "code",
   "execution_count": 28,
   "metadata": {},
   "outputs": [],
   "source": [
    "res = (stats\n",
    "    .query(\"ncuis == 1\")\n",
    "    .drop([\"ncuis\", \"good_ans\"], axis=1)\n",
    "\n",
    "    .append(multi.drop(\"good_ans\", axis=1))\n",
    "\n",
    "    .sort_values([\"NDCPACKAGECODE\", \"rxcui\", \"suppress\", \"active_ingredients\"])\n",
    "    .reset_index(drop=True)\n",
    ")"
   ]
  },
  {
   "cell_type": "code",
   "execution_count": 29,
   "metadata": {},
   "outputs": [
    {
     "data": {
      "text/plain": [
       "(245011, 4)"
      ]
     },
     "execution_count": 29,
     "metadata": {},
     "output_type": "execute_result"
    }
   ],
   "source": [
    "res.shape"
   ]
  },
  {
   "cell_type": "code",
   "execution_count": 30,
   "metadata": {},
   "outputs": [
    {
     "data": {
      "text/html": [
       "<div>\n",
       "<style scoped>\n",
       "    .dataframe tbody tr th:only-of-type {\n",
       "        vertical-align: middle;\n",
       "    }\n",
       "\n",
       "    .dataframe tbody tr th {\n",
       "        vertical-align: top;\n",
       "    }\n",
       "\n",
       "    .dataframe thead th {\n",
       "        text-align: right;\n",
       "    }\n",
       "</style>\n",
       "<table border=\"1\" class=\"dataframe\">\n",
       "  <thead>\n",
       "    <tr style=\"text-align: right;\">\n",
       "      <th></th>\n",
       "      <th>NDCPACKAGECODE</th>\n",
       "      <th>rxcui</th>\n",
       "      <th>suppress</th>\n",
       "      <th>active_ingredients</th>\n",
       "    </tr>\n",
       "  </thead>\n",
       "  <tbody>\n",
       "    <tr>\n",
       "      <th>0</th>\n",
       "      <td>0002-0800-01</td>\n",
       "      <td>540930</td>\n",
       "      <td>False</td>\n",
       "      <td>11295</td>\n",
       "    </tr>\n",
       "    <tr>\n",
       "      <th>1</th>\n",
       "      <td>0002-1200-30</td>\n",
       "      <td>1297712</td>\n",
       "      <td>False</td>\n",
       "      <td>-1</td>\n",
       "    </tr>\n",
       "    <tr>\n",
       "      <th>2</th>\n",
       "      <td>0002-1200-50</td>\n",
       "      <td>1297712</td>\n",
       "      <td>False</td>\n",
       "      <td>-1</td>\n",
       "    </tr>\n",
       "    <tr>\n",
       "      <th>3</th>\n",
       "      <td>0002-1407-01</td>\n",
       "      <td>853004</td>\n",
       "      <td>False</td>\n",
       "      <td>35220</td>\n",
       "    </tr>\n",
       "    <tr>\n",
       "      <th>4</th>\n",
       "      <td>0002-1433-61</td>\n",
       "      <td>1551300</td>\n",
       "      <td>False</td>\n",
       "      <td>1551291</td>\n",
       "    </tr>\n",
       "  </tbody>\n",
       "</table>\n",
       "</div>"
      ],
      "text/plain": [
       "  NDCPACKAGECODE    rxcui  suppress active_ingredients\n",
       "0   0002-0800-01   540930     False              11295\n",
       "1   0002-1200-30  1297712     False                 -1\n",
       "2   0002-1200-50  1297712     False                 -1\n",
       "3   0002-1407-01   853004     False              35220\n",
       "4   0002-1433-61  1551300     False            1551291"
      ]
     },
     "execution_count": 30,
     "metadata": {},
     "output_type": "execute_result"
    }
   ],
   "source": [
    "res.head()"
   ]
  },
  {
   "cell_type": "markdown",
   "metadata": {},
   "source": [
    "### Verify data behaves in the ways we expect it to"
   ]
  },
  {
   "cell_type": "code",
   "execution_count": 31,
   "metadata": {},
   "outputs": [
    {
     "data": {
      "text/plain": [
       "NDCPACKAGECODE        0\n",
       "rxcui                 0\n",
       "suppress              0\n",
       "active_ingredients    0\n",
       "dtype: int64"
      ]
     },
     "execution_count": 31,
     "metadata": {},
     "output_type": "execute_result"
    }
   ],
   "source": [
    "res.isnull().sum()"
   ]
  },
  {
   "cell_type": "code",
   "execution_count": 32,
   "metadata": {},
   "outputs": [
    {
     "data": {
      "text/plain": [
       "244989"
      ]
     },
     "execution_count": 32,
     "metadata": {},
     "output_type": "execute_result"
    }
   ],
   "source": [
    "res[\"NDCPACKAGECODE\"].nunique()"
   ]
  },
  {
   "cell_type": "code",
   "execution_count": 33,
   "metadata": {},
   "outputs": [
    {
     "data": {
      "text/plain": [
       "43231"
      ]
     },
     "execution_count": 33,
     "metadata": {},
     "output_type": "execute_result"
    }
   ],
   "source": [
    "res[\"rxcui\"].nunique()"
   ]
  },
  {
   "cell_type": "code",
   "execution_count": 34,
   "metadata": {},
   "outputs": [
    {
     "data": {
      "text/plain": [
       "False    240291\n",
       "True       4720\n",
       "Name: suppress, dtype: int64"
      ]
     },
     "execution_count": 34,
     "metadata": {},
     "output_type": "execute_result"
    }
   ],
   "source": [
    "res[\"suppress\"].value_counts()"
   ]
  },
  {
   "cell_type": "markdown",
   "metadata": {},
   "source": [
    "### Check that there's only one result for each NDC"
   ]
  },
  {
   "cell_type": "code",
   "execution_count": 35,
   "metadata": {},
   "outputs": [
    {
     "data": {
      "text/plain": [
       "1    244989\n",
       "dtype: int64"
      ]
     },
     "execution_count": 35,
     "metadata": {},
     "output_type": "execute_result"
    }
   ],
   "source": [
    "(res\n",
    "    [[\"NDCPACKAGECODE\", \"active_ingredients\"]]\n",
    "    .drop_duplicates()\n",
    "    .groupby(\"NDCPACKAGECODE\")\n",
    "    .size()\n",
    "    .value_counts()\n",
    ")"
   ]
  },
  {
   "cell_type": "markdown",
   "metadata": {},
   "source": [
    "---"
   ]
  },
  {
   "cell_type": "markdown",
   "metadata": {},
   "source": [
    "## Save to file"
   ]
  },
  {
   "cell_type": "code",
   "execution_count": 36,
   "metadata": {},
   "outputs": [],
   "source": [
    "res.to_csv(\"../../pipeline/ingredients/ndc_tables/ndc_to_rxcui_map_version_2.tsv\", sep='\\t', index=False)"
   ]
  }
 ],
 "metadata": {
  "kernelspec": {
   "display_name": "Python 3",
   "language": "python",
   "name": "python3"
  },
  "language_info": {
   "codemirror_mode": {
    "name": "ipython",
    "version": 3
   },
   "file_extension": ".py",
   "mimetype": "text/x-python",
   "name": "python",
   "nbconvert_exporter": "python",
   "pygments_lexer": "ipython3",
   "version": "3.6.7"
  }
 },
 "nbformat": 4,
 "nbformat_minor": 2
}
