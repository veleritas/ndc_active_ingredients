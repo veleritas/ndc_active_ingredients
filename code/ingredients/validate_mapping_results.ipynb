{
 "cells": [
  {
   "cell_type": "markdown",
   "metadata": {},
   "source": [
    "# Validate the generated NDC to active ingredient mappings\n",
    "\n",
    "2019-05-01\n",
    "\n",
    "Ensure that the mappings we generated from NDCs to active ingredient RXCUIs are correct."
   ]
  },
  {
   "cell_type": "markdown",
   "metadata": {},
   "source": [
    "## Version 5\n",
    "\n",
    "Check that we have removed the BN nodes from the active ingredients list.\n",
    "\n",
    "Look for any remaining errors."
   ]
  },
  {
   "cell_type": "code",
   "execution_count": 1,
   "metadata": {},
   "outputs": [],
   "source": [
    "import pandas as pd\n",
    "from collections import defaultdict"
   ]
  },
  {
   "cell_type": "markdown",
   "metadata": {},
   "source": [
    "## Read generated mappings"
   ]
  },
  {
   "cell_type": "code",
   "execution_count": 2,
   "metadata": {},
   "outputs": [],
   "source": [
    "ingredients = pd.read_csv(\"../../pipeline/ingredients/ndc_active_ingredients_version_5.tsv\", sep='\\t')"
   ]
  },
  {
   "cell_type": "code",
   "execution_count": 3,
   "metadata": {},
   "outputs": [
    {
     "data": {
      "text/plain": [
       "(41576, 2)"
      ]
     },
     "execution_count": 3,
     "metadata": {},
     "output_type": "execute_result"
    }
   ],
   "source": [
    "ingredients.shape"
   ]
  },
  {
   "cell_type": "code",
   "execution_count": 4,
   "metadata": {},
   "outputs": [
    {
     "data": {
      "text/html": [
       "<div>\n",
       "<style scoped>\n",
       "    .dataframe tbody tr th:only-of-type {\n",
       "        vertical-align: middle;\n",
       "    }\n",
       "\n",
       "    .dataframe tbody tr th {\n",
       "        vertical-align: top;\n",
       "    }\n",
       "\n",
       "    .dataframe thead th {\n",
       "        text-align: right;\n",
       "    }\n",
       "</style>\n",
       "<table border=\"1\" class=\"dataframe\">\n",
       "  <thead>\n",
       "    <tr style=\"text-align: right;\">\n",
       "      <th></th>\n",
       "      <th>rxcui</th>\n",
       "      <th>active_ingredients</th>\n",
       "    </tr>\n",
       "  </thead>\n",
       "  <tbody>\n",
       "    <tr>\n",
       "      <th>0</th>\n",
       "      <td>91349</td>\n",
       "      <td>5499</td>\n",
       "    </tr>\n",
       "    <tr>\n",
       "      <th>1</th>\n",
       "      <td>91792</td>\n",
       "      <td>7813</td>\n",
       "    </tr>\n",
       "    <tr>\n",
       "      <th>2</th>\n",
       "      <td>92582</td>\n",
       "      <td>30145</td>\n",
       "    </tr>\n",
       "    <tr>\n",
       "      <th>3</th>\n",
       "      <td>92583</td>\n",
       "      <td>30145</td>\n",
       "    </tr>\n",
       "    <tr>\n",
       "      <th>4</th>\n",
       "      <td>92584</td>\n",
       "      <td>30145</td>\n",
       "    </tr>\n",
       "  </tbody>\n",
       "</table>\n",
       "</div>"
      ],
      "text/plain": [
       "   rxcui active_ingredients\n",
       "0  91349               5499\n",
       "1  91792               7813\n",
       "2  92582              30145\n",
       "3  92583              30145\n",
       "4  92584              30145"
      ]
     },
     "execution_count": 4,
     "metadata": {},
     "output_type": "execute_result"
    }
   ],
   "source": [
    "ingredients.head()"
   ]
  },
  {
   "cell_type": "markdown",
   "metadata": {},
   "source": [
    "## Read NDC metadata"
   ]
  },
  {
   "cell_type": "code",
   "execution_count": 5,
   "metadata": {},
   "outputs": [],
   "source": [
    "data = pd.read_csv(\"../../pipeline/merged_ndc_info.tsv\", sep='\\t')"
   ]
  },
  {
   "cell_type": "code",
   "execution_count": 6,
   "metadata": {},
   "outputs": [
    {
     "data": {
      "text/plain": [
       "(265692, 22)"
      ]
     },
     "execution_count": 6,
     "metadata": {},
     "output_type": "execute_result"
    }
   ],
   "source": [
    "data.shape"
   ]
  },
  {
   "cell_type": "code",
   "execution_count": 7,
   "metadata": {},
   "outputs": [
    {
     "data": {
      "text/html": [
       "<div>\n",
       "<style scoped>\n",
       "    .dataframe tbody tr th:only-of-type {\n",
       "        vertical-align: middle;\n",
       "    }\n",
       "\n",
       "    .dataframe tbody tr th {\n",
       "        vertical-align: top;\n",
       "    }\n",
       "\n",
       "    .dataframe thead th {\n",
       "        text-align: right;\n",
       "    }\n",
       "</style>\n",
       "<table border=\"1\" class=\"dataframe\">\n",
       "  <thead>\n",
       "    <tr style=\"text-align: right;\">\n",
       "      <th></th>\n",
       "      <th>rxcui</th>\n",
       "      <th>rxaui</th>\n",
       "      <th>NDCPACKAGECODE</th>\n",
       "      <th>suppress</th>\n",
       "      <th>PRODUCTID</th>\n",
       "      <th>PRODUCTNDC</th>\n",
       "      <th>PACKAGEDESCRIPTION</th>\n",
       "      <th>PRODUCTTYPENAME</th>\n",
       "      <th>PROPRIETARYNAME</th>\n",
       "      <th>NONPROPRIETARYNAME</th>\n",
       "      <th>...</th>\n",
       "      <th>MARKETINGCATEGORYNAME</th>\n",
       "      <th>APPLICATIONNUMBER</th>\n",
       "      <th>LABELERNAME</th>\n",
       "      <th>SUBSTANCENAME</th>\n",
       "      <th>ACTIVE_NUMERATOR_STRENGTH</th>\n",
       "      <th>ACTIVE_INGRED_UNIT</th>\n",
       "      <th>PHARM_CLASSES</th>\n",
       "      <th>DEASCHEDULE</th>\n",
       "      <th>NDC_EXCLUDE_FLAG</th>\n",
       "      <th>LISTING_RECORD_CERTIFIED_THROUGH</th>\n",
       "    </tr>\n",
       "  </thead>\n",
       "  <tbody>\n",
       "    <tr>\n",
       "      <th>0</th>\n",
       "      <td>91349</td>\n",
       "      <td>3507080</td>\n",
       "      <td>12745-202-01</td>\n",
       "      <td>N</td>\n",
       "      <td>12745-202_7d063901-255c-bffc-e053-2a91aa0a91ee</td>\n",
       "      <td>12745-202</td>\n",
       "      <td>59 mL in 1 BOTTLE, PLASTIC (12745-202-01)</td>\n",
       "      <td>HUMAN OTC DRUG</td>\n",
       "      <td>HYDROGEN PEROXIDE</td>\n",
       "      <td>HYDROGEN PEROXIDE</td>\n",
       "      <td>...</td>\n",
       "      <td>OTC MONOGRAPH NOT FINAL</td>\n",
       "      <td>part333A</td>\n",
       "      <td>Medical Chemical Corporation</td>\n",
       "      <td>HYDROGEN PEROXIDE</td>\n",
       "      <td>8.57</td>\n",
       "      <td>g/100mL</td>\n",
       "      <td>NaN</td>\n",
       "      <td>NaN</td>\n",
       "      <td>N</td>\n",
       "      <td>20191231.0</td>\n",
       "    </tr>\n",
       "    <tr>\n",
       "      <th>1</th>\n",
       "      <td>91349</td>\n",
       "      <td>3507080</td>\n",
       "      <td>12745-202-02</td>\n",
       "      <td>N</td>\n",
       "      <td>12745-202_7d063901-255c-bffc-e053-2a91aa0a91ee</td>\n",
       "      <td>12745-202</td>\n",
       "      <td>118 mL in 1 BOTTLE, PLASTIC (12745-202-02)</td>\n",
       "      <td>HUMAN OTC DRUG</td>\n",
       "      <td>HYDROGEN PEROXIDE</td>\n",
       "      <td>HYDROGEN PEROXIDE</td>\n",
       "      <td>...</td>\n",
       "      <td>OTC MONOGRAPH NOT FINAL</td>\n",
       "      <td>part333A</td>\n",
       "      <td>Medical Chemical Corporation</td>\n",
       "      <td>HYDROGEN PEROXIDE</td>\n",
       "      <td>8.57</td>\n",
       "      <td>g/100mL</td>\n",
       "      <td>NaN</td>\n",
       "      <td>NaN</td>\n",
       "      <td>N</td>\n",
       "      <td>20191231.0</td>\n",
       "    </tr>\n",
       "  </tbody>\n",
       "</table>\n",
       "<p>2 rows × 22 columns</p>\n",
       "</div>"
      ],
      "text/plain": [
       "   rxcui    rxaui NDCPACKAGECODE suppress  \\\n",
       "0  91349  3507080   12745-202-01        N   \n",
       "1  91349  3507080   12745-202-02        N   \n",
       "\n",
       "                                        PRODUCTID PRODUCTNDC  \\\n",
       "0  12745-202_7d063901-255c-bffc-e053-2a91aa0a91ee  12745-202   \n",
       "1  12745-202_7d063901-255c-bffc-e053-2a91aa0a91ee  12745-202   \n",
       "\n",
       "                            PACKAGEDESCRIPTION PRODUCTTYPENAME  \\\n",
       "0   59 mL in 1 BOTTLE, PLASTIC (12745-202-01)   HUMAN OTC DRUG   \n",
       "1  118 mL in 1 BOTTLE, PLASTIC (12745-202-02)   HUMAN OTC DRUG   \n",
       "\n",
       "     PROPRIETARYNAME NONPROPRIETARYNAME  ...    MARKETINGCATEGORYNAME  \\\n",
       "0  HYDROGEN PEROXIDE  HYDROGEN PEROXIDE  ...  OTC MONOGRAPH NOT FINAL   \n",
       "1  HYDROGEN PEROXIDE  HYDROGEN PEROXIDE  ...  OTC MONOGRAPH NOT FINAL   \n",
       "\n",
       "  APPLICATIONNUMBER                   LABELERNAME      SUBSTANCENAME  \\\n",
       "0          part333A  Medical Chemical Corporation  HYDROGEN PEROXIDE   \n",
       "1          part333A  Medical Chemical Corporation  HYDROGEN PEROXIDE   \n",
       "\n",
       "  ACTIVE_NUMERATOR_STRENGTH ACTIVE_INGRED_UNIT PHARM_CLASSES DEASCHEDULE  \\\n",
       "0                      8.57            g/100mL           NaN         NaN   \n",
       "1                      8.57            g/100mL           NaN         NaN   \n",
       "\n",
       "  NDC_EXCLUDE_FLAG LISTING_RECORD_CERTIFIED_THROUGH  \n",
       "0                N                       20191231.0  \n",
       "1                N                       20191231.0  \n",
       "\n",
       "[2 rows x 22 columns]"
      ]
     },
     "execution_count": 7,
     "metadata": {},
     "output_type": "execute_result"
    }
   ],
   "source": [
    "data.head(2)"
   ]
  },
  {
   "cell_type": "markdown",
   "metadata": {},
   "source": [
    "---"
   ]
  },
  {
   "cell_type": "markdown",
   "metadata": {},
   "source": [
    "# Create results table\n",
    "\n",
    "Compare against the previous version."
   ]
  },
  {
   "cell_type": "code",
   "execution_count": 8,
   "metadata": {},
   "outputs": [],
   "source": [
    "prev = pd.read_csv(\"../../pipeline/ingredients/ndc_active_ingredients_version_4.tsv\", sep='\\t')"
   ]
  },
  {
   "cell_type": "code",
   "execution_count": 9,
   "metadata": {},
   "outputs": [
    {
     "data": {
      "text/html": [
       "<div>\n",
       "<style scoped>\n",
       "    .dataframe tbody tr th:only-of-type {\n",
       "        vertical-align: middle;\n",
       "    }\n",
       "\n",
       "    .dataframe tbody tr th {\n",
       "        vertical-align: top;\n",
       "    }\n",
       "\n",
       "    .dataframe thead th {\n",
       "        text-align: right;\n",
       "    }\n",
       "</style>\n",
       "<table border=\"1\" class=\"dataframe\">\n",
       "  <thead>\n",
       "    <tr style=\"text-align: right;\">\n",
       "      <th></th>\n",
       "      <th>rxcui</th>\n",
       "      <th>active_ingredients</th>\n",
       "    </tr>\n",
       "  </thead>\n",
       "  <tbody>\n",
       "    <tr>\n",
       "      <th>0</th>\n",
       "      <td>91349</td>\n",
       "      <td>5499</td>\n",
       "    </tr>\n",
       "    <tr>\n",
       "      <th>1</th>\n",
       "      <td>91792</td>\n",
       "      <td>7813,215260</td>\n",
       "    </tr>\n",
       "    <tr>\n",
       "      <th>2</th>\n",
       "      <td>92582</td>\n",
       "      <td>30145</td>\n",
       "    </tr>\n",
       "    <tr>\n",
       "      <th>3</th>\n",
       "      <td>92583</td>\n",
       "      <td>30145</td>\n",
       "    </tr>\n",
       "    <tr>\n",
       "      <th>4</th>\n",
       "      <td>92584</td>\n",
       "      <td>30145</td>\n",
       "    </tr>\n",
       "  </tbody>\n",
       "</table>\n",
       "</div>"
      ],
      "text/plain": [
       "   rxcui active_ingredients\n",
       "0  91349               5499\n",
       "1  91792        7813,215260\n",
       "2  92582              30145\n",
       "3  92583              30145\n",
       "4  92584              30145"
      ]
     },
     "execution_count": 9,
     "metadata": {},
     "output_type": "execute_result"
    }
   ],
   "source": [
    "prev.head()"
   ]
  },
  {
   "cell_type": "code",
   "execution_count": 10,
   "metadata": {},
   "outputs": [],
   "source": [
    "res = (data\n",
    "    [[\n",
    "        \"rxcui\", \"NDCPACKAGECODE\", \"PROPRIETARYNAME\",\n",
    "        \"NONPROPRIETARYNAME\", \"SUBSTANCENAME\"\n",
    "    ]]\n",
    "    .drop_duplicates()\n",
    "    .reset_index(drop=True)\n",
    "       \n",
    "    .merge(ingredients, how=\"inner\", on=\"rxcui\")\n",
    "    .rename(columns={\"active_ingredients\": \"v5\"})\n",
    "       \n",
    "    .merge(prev, how=\"inner\", on=\"rxcui\")\n",
    "    .rename(columns={\"active_ingredients\": \"v4\"})\n",
    "\n",
    "    .reset_index(drop=True)\n",
    ")"
   ]
  },
  {
   "cell_type": "code",
   "execution_count": 11,
   "metadata": {},
   "outputs": [
    {
     "data": {
      "text/plain": [
       "(241458, 7)"
      ]
     },
     "execution_count": 11,
     "metadata": {},
     "output_type": "execute_result"
    }
   ],
   "source": [
    "res.shape"
   ]
  },
  {
   "cell_type": "code",
   "execution_count": 12,
   "metadata": {},
   "outputs": [
    {
     "data": {
      "text/html": [
       "<div>\n",
       "<style scoped>\n",
       "    .dataframe tbody tr th:only-of-type {\n",
       "        vertical-align: middle;\n",
       "    }\n",
       "\n",
       "    .dataframe tbody tr th {\n",
       "        vertical-align: top;\n",
       "    }\n",
       "\n",
       "    .dataframe thead th {\n",
       "        text-align: right;\n",
       "    }\n",
       "</style>\n",
       "<table border=\"1\" class=\"dataframe\">\n",
       "  <thead>\n",
       "    <tr style=\"text-align: right;\">\n",
       "      <th></th>\n",
       "      <th>rxcui</th>\n",
       "      <th>NDCPACKAGECODE</th>\n",
       "      <th>PROPRIETARYNAME</th>\n",
       "      <th>NONPROPRIETARYNAME</th>\n",
       "      <th>SUBSTANCENAME</th>\n",
       "      <th>v5</th>\n",
       "      <th>v4</th>\n",
       "    </tr>\n",
       "  </thead>\n",
       "  <tbody>\n",
       "    <tr>\n",
       "      <th>0</th>\n",
       "      <td>91349</td>\n",
       "      <td>12745-202-01</td>\n",
       "      <td>HYDROGEN PEROXIDE</td>\n",
       "      <td>HYDROGEN PEROXIDE</td>\n",
       "      <td>HYDROGEN PEROXIDE</td>\n",
       "      <td>5499</td>\n",
       "      <td>5499</td>\n",
       "    </tr>\n",
       "    <tr>\n",
       "      <th>1</th>\n",
       "      <td>91349</td>\n",
       "      <td>12745-202-02</td>\n",
       "      <td>HYDROGEN PEROXIDE</td>\n",
       "      <td>HYDROGEN PEROXIDE</td>\n",
       "      <td>HYDROGEN PEROXIDE</td>\n",
       "      <td>5499</td>\n",
       "      <td>5499</td>\n",
       "    </tr>\n",
       "    <tr>\n",
       "      <th>2</th>\n",
       "      <td>91349</td>\n",
       "      <td>12745-202-03</td>\n",
       "      <td>HYDROGEN PEROXIDE</td>\n",
       "      <td>HYDROGEN PEROXIDE</td>\n",
       "      <td>HYDROGEN PEROXIDE</td>\n",
       "      <td>5499</td>\n",
       "      <td>5499</td>\n",
       "    </tr>\n",
       "    <tr>\n",
       "      <th>3</th>\n",
       "      <td>91349</td>\n",
       "      <td>34645-8030-4</td>\n",
       "      <td>Hydrogen Peroxide</td>\n",
       "      <td>Hydrogen Peroxide</td>\n",
       "      <td>HYDROGEN PEROXIDE</td>\n",
       "      <td>5499</td>\n",
       "      <td>5499</td>\n",
       "    </tr>\n",
       "    <tr>\n",
       "      <th>4</th>\n",
       "      <td>91349</td>\n",
       "      <td>55316-871-43</td>\n",
       "      <td>Hydrogen Peroxide</td>\n",
       "      <td>Hydrogen Peroxide</td>\n",
       "      <td>HYDROGEN PEROXIDE</td>\n",
       "      <td>5499</td>\n",
       "      <td>5499</td>\n",
       "    </tr>\n",
       "  </tbody>\n",
       "</table>\n",
       "</div>"
      ],
      "text/plain": [
       "   rxcui NDCPACKAGECODE    PROPRIETARYNAME NONPROPRIETARYNAME  \\\n",
       "0  91349   12745-202-01  HYDROGEN PEROXIDE  HYDROGEN PEROXIDE   \n",
       "1  91349   12745-202-02  HYDROGEN PEROXIDE  HYDROGEN PEROXIDE   \n",
       "2  91349   12745-202-03  HYDROGEN PEROXIDE  HYDROGEN PEROXIDE   \n",
       "3  91349   34645-8030-4  Hydrogen Peroxide  Hydrogen Peroxide   \n",
       "4  91349   55316-871-43  Hydrogen Peroxide  Hydrogen Peroxide   \n",
       "\n",
       "       SUBSTANCENAME    v5    v4  \n",
       "0  HYDROGEN PEROXIDE  5499  5499  \n",
       "1  HYDROGEN PEROXIDE  5499  5499  \n",
       "2  HYDROGEN PEROXIDE  5499  5499  \n",
       "3  HYDROGEN PEROXIDE  5499  5499  \n",
       "4  HYDROGEN PEROXIDE  5499  5499  "
      ]
     },
     "execution_count": 12,
     "metadata": {},
     "output_type": "execute_result"
    }
   ],
   "source": [
    "res.head()"
   ]
  },
  {
   "cell_type": "markdown",
   "metadata": {},
   "source": [
    "---"
   ]
  },
  {
   "cell_type": "markdown",
   "metadata": {},
   "source": [
    "## Changes from version 4"
   ]
  },
  {
   "cell_type": "code",
   "execution_count": 13,
   "metadata": {},
   "outputs": [
    {
     "data": {
      "text/plain": [
       "True     179535\n",
       "False     61923\n",
       "dtype: int64"
      ]
     },
     "execution_count": 13,
     "metadata": {},
     "output_type": "execute_result"
    }
   ],
   "source": [
    "(res[\"v5\"] == res[\"v4\"]).value_counts()"
   ]
  },
  {
   "cell_type": "markdown",
   "metadata": {},
   "source": [
    "## Check that the BN example was fixed"
   ]
  },
  {
   "cell_type": "code",
   "execution_count": 14,
   "metadata": {},
   "outputs": [
    {
     "data": {
      "text/html": [
       "<div>\n",
       "<style scoped>\n",
       "    .dataframe tbody tr th:only-of-type {\n",
       "        vertical-align: middle;\n",
       "    }\n",
       "\n",
       "    .dataframe tbody tr th {\n",
       "        vertical-align: top;\n",
       "    }\n",
       "\n",
       "    .dataframe thead th {\n",
       "        text-align: right;\n",
       "    }\n",
       "</style>\n",
       "<table border=\"1\" class=\"dataframe\">\n",
       "  <thead>\n",
       "    <tr style=\"text-align: right;\">\n",
       "      <th></th>\n",
       "      <th>rxcui</th>\n",
       "      <th>NDCPACKAGECODE</th>\n",
       "      <th>PROPRIETARYNAME</th>\n",
       "      <th>NONPROPRIETARYNAME</th>\n",
       "      <th>SUBSTANCENAME</th>\n",
       "      <th>v5</th>\n",
       "      <th>v4</th>\n",
       "    </tr>\n",
       "  </thead>\n",
       "  <tbody>\n",
       "    <tr>\n",
       "      <th>591</th>\n",
       "      <td>104375</td>\n",
       "      <td>52427-438-90</td>\n",
       "      <td>Zestril</td>\n",
       "      <td>Lisinopril</td>\n",
       "      <td>LISINOPRIL</td>\n",
       "      <td>29046</td>\n",
       "      <td>29046,196472</td>\n",
       "    </tr>\n",
       "    <tr>\n",
       "      <th>592</th>\n",
       "      <td>104376</td>\n",
       "      <td>52427-439-90</td>\n",
       "      <td>Zestril</td>\n",
       "      <td>Lisinopril</td>\n",
       "      <td>LISINOPRIL</td>\n",
       "      <td>29046</td>\n",
       "      <td>29046,196472</td>\n",
       "    </tr>\n",
       "    <tr>\n",
       "      <th>593</th>\n",
       "      <td>104377</td>\n",
       "      <td>52427-440-90</td>\n",
       "      <td>Zestril</td>\n",
       "      <td>Lisinopril</td>\n",
       "      <td>LISINOPRIL</td>\n",
       "      <td>29046</td>\n",
       "      <td>29046,196472</td>\n",
       "    </tr>\n",
       "    <tr>\n",
       "      <th>594</th>\n",
       "      <td>104377</td>\n",
       "      <td>70518-1451-0</td>\n",
       "      <td>Zestril</td>\n",
       "      <td>Lisinopril</td>\n",
       "      <td>LISINOPRIL</td>\n",
       "      <td>29046</td>\n",
       "      <td>29046,196472</td>\n",
       "    </tr>\n",
       "    <tr>\n",
       "      <th>595</th>\n",
       "      <td>104378</td>\n",
       "      <td>52427-441-90</td>\n",
       "      <td>Zestril</td>\n",
       "      <td>Lisinopril</td>\n",
       "      <td>LISINOPRIL</td>\n",
       "      <td>29046</td>\n",
       "      <td>29046,196472</td>\n",
       "    </tr>\n",
       "    <tr>\n",
       "      <th>596</th>\n",
       "      <td>104378</td>\n",
       "      <td>70518-1741-0</td>\n",
       "      <td>Zestril</td>\n",
       "      <td>Lisinopril</td>\n",
       "      <td>LISINOPRIL</td>\n",
       "      <td>29046</td>\n",
       "      <td>29046,196472</td>\n",
       "    </tr>\n",
       "    <tr>\n",
       "      <th>28636</th>\n",
       "      <td>206771</td>\n",
       "      <td>52427-443-90</td>\n",
       "      <td>Zestril</td>\n",
       "      <td>Lisinopril</td>\n",
       "      <td>LISINOPRIL</td>\n",
       "      <td>29046</td>\n",
       "      <td>29046,196472</td>\n",
       "    </tr>\n",
       "    <tr>\n",
       "      <th>31079</th>\n",
       "      <td>213482</td>\n",
       "      <td>52427-442-90</td>\n",
       "      <td>Zestril</td>\n",
       "      <td>Lisinopril</td>\n",
       "      <td>LISINOPRIL</td>\n",
       "      <td>29046</td>\n",
       "      <td>29046,196472</td>\n",
       "    </tr>\n",
       "  </tbody>\n",
       "</table>\n",
       "</div>"
      ],
      "text/plain": [
       "        rxcui NDCPACKAGECODE PROPRIETARYNAME NONPROPRIETARYNAME SUBSTANCENAME  \\\n",
       "591    104375   52427-438-90         Zestril         Lisinopril    LISINOPRIL   \n",
       "592    104376   52427-439-90         Zestril         Lisinopril    LISINOPRIL   \n",
       "593    104377   52427-440-90         Zestril         Lisinopril    LISINOPRIL   \n",
       "594    104377   70518-1451-0         Zestril         Lisinopril    LISINOPRIL   \n",
       "595    104378   52427-441-90         Zestril         Lisinopril    LISINOPRIL   \n",
       "596    104378   70518-1741-0         Zestril         Lisinopril    LISINOPRIL   \n",
       "28636  206771   52427-443-90         Zestril         Lisinopril    LISINOPRIL   \n",
       "31079  213482   52427-442-90         Zestril         Lisinopril    LISINOPRIL   \n",
       "\n",
       "          v5            v4  \n",
       "591    29046  29046,196472  \n",
       "592    29046  29046,196472  \n",
       "593    29046  29046,196472  \n",
       "594    29046  29046,196472  \n",
       "595    29046  29046,196472  \n",
       "596    29046  29046,196472  \n",
       "28636  29046  29046,196472  \n",
       "31079  29046  29046,196472  "
      ]
     },
     "execution_count": 14,
     "metadata": {},
     "output_type": "execute_result"
    }
   ],
   "source": [
    "# we now correctly only find the active ingredient 29046\n",
    "# the incorrect BN node 196472 has been removed\n",
    "\n",
    "res.query(\"PROPRIETARYNAME == 'Zestril'\")"
   ]
  },
  {
   "cell_type": "markdown",
   "metadata": {},
   "source": [
    "# Examine results"
   ]
  },
  {
   "cell_type": "markdown",
   "metadata": {},
   "source": [
    "## Case study: razadyne"
   ]
  },
  {
   "cell_type": "code",
   "execution_count": 15,
   "metadata": {},
   "outputs": [
    {
     "data": {
      "text/html": [
       "<div>\n",
       "<style scoped>\n",
       "    .dataframe tbody tr th:only-of-type {\n",
       "        vertical-align: middle;\n",
       "    }\n",
       "\n",
       "    .dataframe tbody tr th {\n",
       "        vertical-align: top;\n",
       "    }\n",
       "\n",
       "    .dataframe thead th {\n",
       "        text-align: right;\n",
       "    }\n",
       "</style>\n",
       "<table border=\"1\" class=\"dataframe\">\n",
       "  <thead>\n",
       "    <tr style=\"text-align: right;\">\n",
       "      <th></th>\n",
       "      <th>rxcui</th>\n",
       "      <th>NDCPACKAGECODE</th>\n",
       "      <th>PROPRIETARYNAME</th>\n",
       "      <th>NONPROPRIETARYNAME</th>\n",
       "      <th>SUBSTANCENAME</th>\n",
       "      <th>v5</th>\n",
       "      <th>v4</th>\n",
       "    </tr>\n",
       "  </thead>\n",
       "  <tbody>\n",
       "    <tr>\n",
       "      <th>90547</th>\n",
       "      <td>602734</td>\n",
       "      <td>21695-591-30</td>\n",
       "      <td>RAZADYNE</td>\n",
       "      <td>galantamine hydrobromide</td>\n",
       "      <td>GALANTAMINE HYDROBROMIDE</td>\n",
       "      <td>860693</td>\n",
       "      <td>860693</td>\n",
       "    </tr>\n",
       "    <tr>\n",
       "      <th>90548</th>\n",
       "      <td>602734</td>\n",
       "      <td>50458-398-60</td>\n",
       "      <td>RAZADYNE</td>\n",
       "      <td>galantamine hydrobromide</td>\n",
       "      <td>GALANTAMINE HYDROBROMIDE</td>\n",
       "      <td>860693</td>\n",
       "      <td>860693</td>\n",
       "    </tr>\n",
       "    <tr>\n",
       "      <th>90549</th>\n",
       "      <td>602736</td>\n",
       "      <td>50458-396-60</td>\n",
       "      <td>RAZADYNE</td>\n",
       "      <td>galantamine hydrobromide</td>\n",
       "      <td>GALANTAMINE HYDROBROMIDE</td>\n",
       "      <td>860693</td>\n",
       "      <td>860693</td>\n",
       "    </tr>\n",
       "    <tr>\n",
       "      <th>90550</th>\n",
       "      <td>602737</td>\n",
       "      <td>50458-397-60</td>\n",
       "      <td>RAZADYNE</td>\n",
       "      <td>galantamine hydrobromide</td>\n",
       "      <td>GALANTAMINE HYDROBROMIDE</td>\n",
       "      <td>860693</td>\n",
       "      <td>860693</td>\n",
       "    </tr>\n",
       "    <tr>\n",
       "      <th>115659</th>\n",
       "      <td>860697</td>\n",
       "      <td>50458-388-30</td>\n",
       "      <td>RAZADYNE</td>\n",
       "      <td>galantamine hydrobromide</td>\n",
       "      <td>GALANTAMINE HYDROBROMIDE</td>\n",
       "      <td>860693</td>\n",
       "      <td>860693</td>\n",
       "    </tr>\n",
       "    <tr>\n",
       "      <th>115671</th>\n",
       "      <td>860709</td>\n",
       "      <td>50458-389-30</td>\n",
       "      <td>RAZADYNE</td>\n",
       "      <td>galantamine hydrobromide</td>\n",
       "      <td>GALANTAMINE HYDROBROMIDE</td>\n",
       "      <td>860693</td>\n",
       "      <td>860693</td>\n",
       "    </tr>\n",
       "    <tr>\n",
       "      <th>115683</th>\n",
       "      <td>860717</td>\n",
       "      <td>50458-387-30</td>\n",
       "      <td>RAZADYNE</td>\n",
       "      <td>galantamine hydrobromide</td>\n",
       "      <td>GALANTAMINE HYDROBROMIDE</td>\n",
       "      <td>860693</td>\n",
       "      <td>860693</td>\n",
       "    </tr>\n",
       "    <tr>\n",
       "      <th>238571</th>\n",
       "      <td>2103461</td>\n",
       "      <td>21695-184-30</td>\n",
       "      <td>RAZADYNE</td>\n",
       "      <td>galantamine hydrobromide</td>\n",
       "      <td>GALANTAMINE HYDROBROMIDE</td>\n",
       "      <td>-1</td>\n",
       "      <td>2103461</td>\n",
       "    </tr>\n",
       "  </tbody>\n",
       "</table>\n",
       "</div>"
      ],
      "text/plain": [
       "          rxcui NDCPACKAGECODE PROPRIETARYNAME        NONPROPRIETARYNAME  \\\n",
       "90547    602734   21695-591-30        RAZADYNE  galantamine hydrobromide   \n",
       "90548    602734   50458-398-60        RAZADYNE  galantamine hydrobromide   \n",
       "90549    602736   50458-396-60        RAZADYNE  galantamine hydrobromide   \n",
       "90550    602737   50458-397-60        RAZADYNE  galantamine hydrobromide   \n",
       "115659   860697   50458-388-30        RAZADYNE  galantamine hydrobromide   \n",
       "115671   860709   50458-389-30        RAZADYNE  galantamine hydrobromide   \n",
       "115683   860717   50458-387-30        RAZADYNE  galantamine hydrobromide   \n",
       "238571  2103461   21695-184-30        RAZADYNE  galantamine hydrobromide   \n",
       "\n",
       "                   SUBSTANCENAME      v5       v4  \n",
       "90547   GALANTAMINE HYDROBROMIDE  860693   860693  \n",
       "90548   GALANTAMINE HYDROBROMIDE  860693   860693  \n",
       "90549   GALANTAMINE HYDROBROMIDE  860693   860693  \n",
       "90550   GALANTAMINE HYDROBROMIDE  860693   860693  \n",
       "115659  GALANTAMINE HYDROBROMIDE  860693   860693  \n",
       "115671  GALANTAMINE HYDROBROMIDE  860693   860693  \n",
       "115683  GALANTAMINE HYDROBROMIDE  860693   860693  \n",
       "238571  GALANTAMINE HYDROBROMIDE      -1  2103461  "
      ]
     },
     "execution_count": 15,
     "metadata": {},
     "output_type": "execute_result"
    }
   ],
   "source": [
    "# we correctly identified the active ingredient for the drug razadyne\n",
    "\n",
    "# problem still not resolved in version 5\n",
    "\n",
    "# rxcui 2103461 is giving us an error because it has no edges\n",
    "# it was removed from the FDA database though\n",
    "# deal with this in a later version\n",
    "\n",
    "res.query(\"PROPRIETARYNAME == 'RAZADYNE'\")"
   ]
  },
  {
   "cell_type": "markdown",
   "metadata": {},
   "source": [
    "---"
   ]
  },
  {
   "cell_type": "markdown",
   "metadata": {},
   "source": [
    "# Analyze based on the FDA's stated active ingredients\n",
    "\n",
    "The FDA provides some information about the active ingredient.\n",
    "Use the information to see if we can find disagreements with our algorithm."
   ]
  },
  {
   "cell_type": "markdown",
   "metadata": {},
   "source": [
    "### Examine disagreements between our algorithm and the FDA"
   ]
  },
  {
   "cell_type": "code",
   "execution_count": 16,
   "metadata": {},
   "outputs": [
    {
     "data": {
      "text/html": [
       "<div>\n",
       "<style scoped>\n",
       "    .dataframe tbody tr th:only-of-type {\n",
       "        vertical-align: middle;\n",
       "    }\n",
       "\n",
       "    .dataframe tbody tr th {\n",
       "        vertical-align: top;\n",
       "    }\n",
       "\n",
       "    .dataframe thead th {\n",
       "        text-align: right;\n",
       "    }\n",
       "</style>\n",
       "<table border=\"1\" class=\"dataframe\">\n",
       "  <thead>\n",
       "    <tr style=\"text-align: right;\">\n",
       "      <th></th>\n",
       "      <th>rxcui</th>\n",
       "      <th>NDCPACKAGECODE</th>\n",
       "      <th>PROPRIETARYNAME</th>\n",
       "      <th>NONPROPRIETARYNAME</th>\n",
       "      <th>SUBSTANCENAME</th>\n",
       "      <th>v5</th>\n",
       "      <th>v4</th>\n",
       "    </tr>\n",
       "  </thead>\n",
       "  <tbody>\n",
       "    <tr>\n",
       "      <th>96010</th>\n",
       "      <td>727542</td>\n",
       "      <td>55513-190-01</td>\n",
       "      <td>Neulasta</td>\n",
       "      <td>pegfilgrastim</td>\n",
       "      <td>PEGFILGRASTIM</td>\n",
       "      <td>338036</td>\n",
       "      <td>338036,353501</td>\n",
       "    </tr>\n",
       "    <tr>\n",
       "      <th>235873</th>\n",
       "      <td>2048025</td>\n",
       "      <td>67457-833-06</td>\n",
       "      <td>Fulphila</td>\n",
       "      <td>pegfilgrastim</td>\n",
       "      <td>PEGFILGRASTIM</td>\n",
       "      <td>2048018</td>\n",
       "      <td>2048018</td>\n",
       "    </tr>\n",
       "    <tr>\n",
       "      <th>238216</th>\n",
       "      <td>2102705</td>\n",
       "      <td>70114-101-01</td>\n",
       "      <td>UDENYCA</td>\n",
       "      <td>pegfilgrastim-cbqv</td>\n",
       "      <td>PEGFILGRASTIM</td>\n",
       "      <td>2102692</td>\n",
       "      <td>2102692</td>\n",
       "    </tr>\n",
       "  </tbody>\n",
       "</table>\n",
       "</div>"
      ],
      "text/plain": [
       "          rxcui NDCPACKAGECODE PROPRIETARYNAME  NONPROPRIETARYNAME  \\\n",
       "96010    727542   55513-190-01        Neulasta       pegfilgrastim   \n",
       "235873  2048025   67457-833-06        Fulphila       pegfilgrastim   \n",
       "238216  2102705   70114-101-01         UDENYCA  pegfilgrastim-cbqv   \n",
       "\n",
       "        SUBSTANCENAME       v5             v4  \n",
       "96010   PEGFILGRASTIM   338036  338036,353501  \n",
       "235873  PEGFILGRASTIM  2048018        2048018  \n",
       "238216  PEGFILGRASTIM  2102692        2102692  "
      ]
     },
     "execution_count": 16,
     "metadata": {},
     "output_type": "execute_result"
    }
   ],
   "source": [
    "# this one also had a BN error earlier, which is now fixed\n",
    "\n",
    "# there are three versions of the same protein\n",
    "# debateable whether they're really the same\n",
    "\n",
    "res.query(\"SUBSTANCENAME == 'PEGFILGRASTIM'\")"
   ]
  },
  {
   "cell_type": "code",
   "execution_count": 17,
   "metadata": {},
   "outputs": [
    {
     "data": {
      "text/html": [
       "<div>\n",
       "<style scoped>\n",
       "    .dataframe tbody tr th:only-of-type {\n",
       "        vertical-align: middle;\n",
       "    }\n",
       "\n",
       "    .dataframe tbody tr th {\n",
       "        vertical-align: top;\n",
       "    }\n",
       "\n",
       "    .dataframe thead th {\n",
       "        text-align: right;\n",
       "    }\n",
       "</style>\n",
       "<table border=\"1\" class=\"dataframe\">\n",
       "  <thead>\n",
       "    <tr style=\"text-align: right;\">\n",
       "      <th></th>\n",
       "      <th>rxcui</th>\n",
       "      <th>NDCPACKAGECODE</th>\n",
       "      <th>PROPRIETARYNAME</th>\n",
       "      <th>NONPROPRIETARYNAME</th>\n",
       "      <th>SUBSTANCENAME</th>\n",
       "      <th>v5</th>\n",
       "      <th>v4</th>\n",
       "    </tr>\n",
       "  </thead>\n",
       "  <tbody>\n",
       "    <tr>\n",
       "      <th>103251</th>\n",
       "      <td>847245</td>\n",
       "      <td>0169-7708-21</td>\n",
       "      <td>Norditropin</td>\n",
       "      <td>somatropin</td>\n",
       "      <td>SOMATROPIN</td>\n",
       "      <td>314845</td>\n",
       "      <td>314845</td>\n",
       "    </tr>\n",
       "    <tr>\n",
       "      <th>103252</th>\n",
       "      <td>847245</td>\n",
       "      <td>0169-7708-92</td>\n",
       "      <td>Norditropin</td>\n",
       "      <td>somatropin</td>\n",
       "      <td>SOMATROPIN</td>\n",
       "      <td>314845</td>\n",
       "      <td>314845</td>\n",
       "    </tr>\n",
       "    <tr>\n",
       "      <th>103253</th>\n",
       "      <td>847247</td>\n",
       "      <td>0169-7704-21</td>\n",
       "      <td>Norditropin</td>\n",
       "      <td>somatropin</td>\n",
       "      <td>SOMATROPIN</td>\n",
       "      <td>314845</td>\n",
       "      <td>314845</td>\n",
       "    </tr>\n",
       "    <tr>\n",
       "      <th>103254</th>\n",
       "      <td>847247</td>\n",
       "      <td>0169-7704-92</td>\n",
       "      <td>Norditropin</td>\n",
       "      <td>somatropin</td>\n",
       "      <td>SOMATROPIN</td>\n",
       "      <td>314845</td>\n",
       "      <td>314845</td>\n",
       "    </tr>\n",
       "    <tr>\n",
       "      <th>103259</th>\n",
       "      <td>847348</td>\n",
       "      <td>0169-7705-21</td>\n",
       "      <td>Norditropin</td>\n",
       "      <td>somatropin</td>\n",
       "      <td>SOMATROPIN</td>\n",
       "      <td>314845</td>\n",
       "      <td>314845</td>\n",
       "    </tr>\n",
       "    <tr>\n",
       "      <th>103260</th>\n",
       "      <td>847348</td>\n",
       "      <td>0169-7705-92</td>\n",
       "      <td>Norditropin</td>\n",
       "      <td>somatropin</td>\n",
       "      <td>SOMATROPIN</td>\n",
       "      <td>314845</td>\n",
       "      <td>314845</td>\n",
       "    </tr>\n",
       "    <tr>\n",
       "      <th>104543</th>\n",
       "      <td>849851</td>\n",
       "      <td>0169-7703-21</td>\n",
       "      <td>Norditropin</td>\n",
       "      <td>somatropin</td>\n",
       "      <td>SOMATROPIN</td>\n",
       "      <td>314845</td>\n",
       "      <td>314845</td>\n",
       "    </tr>\n",
       "    <tr>\n",
       "      <th>108460</th>\n",
       "      <td>854302</td>\n",
       "      <td>0781-3004-07</td>\n",
       "      <td>Omnitrope</td>\n",
       "      <td>Somatropin</td>\n",
       "      <td>SOMATROPIN</td>\n",
       "      <td>314845</td>\n",
       "      <td>314845</td>\n",
       "    </tr>\n",
       "    <tr>\n",
       "      <th>108461</th>\n",
       "      <td>854302</td>\n",
       "      <td>0781-3004-26</td>\n",
       "      <td>Omnitrope</td>\n",
       "      <td>Somatropin</td>\n",
       "      <td>SOMATROPIN</td>\n",
       "      <td>314845</td>\n",
       "      <td>314845</td>\n",
       "    </tr>\n",
       "    <tr>\n",
       "      <th>118882</th>\n",
       "      <td>864110</td>\n",
       "      <td>0781-3001-07</td>\n",
       "      <td>Omnitrope</td>\n",
       "      <td>Somatropin</td>\n",
       "      <td>SOMATROPIN</td>\n",
       "      <td>314845</td>\n",
       "      <td>314845</td>\n",
       "    </tr>\n",
       "    <tr>\n",
       "      <th>118883</th>\n",
       "      <td>864110</td>\n",
       "      <td>0781-3001-26</td>\n",
       "      <td>Omnitrope</td>\n",
       "      <td>Somatropin</td>\n",
       "      <td>SOMATROPIN</td>\n",
       "      <td>314845</td>\n",
       "      <td>314845</td>\n",
       "    </tr>\n",
       "    <tr>\n",
       "      <th>140564</th>\n",
       "      <td>992403</td>\n",
       "      <td>50242-075-01</td>\n",
       "      <td>Nutropin AQ NuSpin 5</td>\n",
       "      <td>somatropin</td>\n",
       "      <td>SOMATROPIN</td>\n",
       "      <td>259321</td>\n",
       "      <td>259321</td>\n",
       "    </tr>\n",
       "    <tr>\n",
       "      <th>187411</th>\n",
       "      <td>1433135</td>\n",
       "      <td>50970-002-01</td>\n",
       "      <td>e-HGH</td>\n",
       "      <td>hGH somatropin</td>\n",
       "      <td>SOMATROPIN</td>\n",
       "      <td>-1</td>\n",
       "      <td>1433135</td>\n",
       "    </tr>\n",
       "    <tr>\n",
       "      <th>187412</th>\n",
       "      <td>1433135</td>\n",
       "      <td>50970-002-02</td>\n",
       "      <td>e-HGH</td>\n",
       "      <td>hGH somatropin</td>\n",
       "      <td>SOMATROPIN</td>\n",
       "      <td>-1</td>\n",
       "      <td>1433135</td>\n",
       "    </tr>\n",
       "    <tr>\n",
       "      <th>211033</th>\n",
       "      <td>1735496</td>\n",
       "      <td>50242-076-01</td>\n",
       "      <td>Nutropin AQ NuSpin 20</td>\n",
       "      <td>somatropin</td>\n",
       "      <td>SOMATROPIN</td>\n",
       "      <td>259321</td>\n",
       "      <td>259321</td>\n",
       "    </tr>\n",
       "    <tr>\n",
       "      <th>211042</th>\n",
       "      <td>1735537</td>\n",
       "      <td>50242-074-01</td>\n",
       "      <td>Nutropin AQ NuSpin 10</td>\n",
       "      <td>somatropin</td>\n",
       "      <td>SOMATROPIN</td>\n",
       "      <td>259321</td>\n",
       "      <td>259321</td>\n",
       "    </tr>\n",
       "    <tr>\n",
       "      <th>239647</th>\n",
       "      <td>2107044</td>\n",
       "      <td>71559-305-02</td>\n",
       "      <td>Vitality Drops</td>\n",
       "      <td>hGH Somotropin</td>\n",
       "      <td>SOMATROPIN</td>\n",
       "      <td>-1</td>\n",
       "      <td>2107044</td>\n",
       "    </tr>\n",
       "  </tbody>\n",
       "</table>\n",
       "</div>"
      ],
      "text/plain": [
       "          rxcui NDCPACKAGECODE        PROPRIETARYNAME NONPROPRIETARYNAME  \\\n",
       "103251   847245   0169-7708-21            Norditropin         somatropin   \n",
       "103252   847245   0169-7708-92            Norditropin         somatropin   \n",
       "103253   847247   0169-7704-21            Norditropin         somatropin   \n",
       "103254   847247   0169-7704-92            Norditropin         somatropin   \n",
       "103259   847348   0169-7705-21            Norditropin         somatropin   \n",
       "103260   847348   0169-7705-92            Norditropin         somatropin   \n",
       "104543   849851   0169-7703-21            Norditropin         somatropin   \n",
       "108460   854302   0781-3004-07              Omnitrope         Somatropin   \n",
       "108461   854302   0781-3004-26              Omnitrope         Somatropin   \n",
       "118882   864110   0781-3001-07              Omnitrope         Somatropin   \n",
       "118883   864110   0781-3001-26              Omnitrope         Somatropin   \n",
       "140564   992403   50242-075-01   Nutropin AQ NuSpin 5         somatropin   \n",
       "187411  1433135   50970-002-01                  e-HGH     hGH somatropin   \n",
       "187412  1433135   50970-002-02                  e-HGH     hGH somatropin   \n",
       "211033  1735496   50242-076-01  Nutropin AQ NuSpin 20         somatropin   \n",
       "211042  1735537   50242-074-01  Nutropin AQ NuSpin 10         somatropin   \n",
       "239647  2107044   71559-305-02         Vitality Drops     hGH Somotropin   \n",
       "\n",
       "       SUBSTANCENAME      v5       v4  \n",
       "103251    SOMATROPIN  314845   314845  \n",
       "103252    SOMATROPIN  314845   314845  \n",
       "103253    SOMATROPIN  314845   314845  \n",
       "103254    SOMATROPIN  314845   314845  \n",
       "103259    SOMATROPIN  314845   314845  \n",
       "103260    SOMATROPIN  314845   314845  \n",
       "104543    SOMATROPIN  314845   314845  \n",
       "108460    SOMATROPIN  314845   314845  \n",
       "108461    SOMATROPIN  314845   314845  \n",
       "118882    SOMATROPIN  314845   314845  \n",
       "118883    SOMATROPIN  314845   314845  \n",
       "140564    SOMATROPIN  259321   259321  \n",
       "187411    SOMATROPIN      -1  1433135  \n",
       "187412    SOMATROPIN      -1  1433135  \n",
       "211033    SOMATROPIN  259321   259321  \n",
       "211042    SOMATROPIN  259321   259321  \n",
       "239647    SOMATROPIN      -1  2107044  "
      ]
     },
     "execution_count": 17,
     "metadata": {},
     "output_type": "execute_result"
    }
   ],
   "source": [
    "# this seems ok since one is e coli derived and the other is recombinant dna\n",
    "\n",
    "# still good in version 4\n",
    "\n",
    "res.query(\"SUBSTANCENAME == 'SOMATROPIN'\")"
   ]
  },
  {
   "cell_type": "markdown",
   "metadata": {},
   "source": [
    "For these examples it seems that there are nuanced differences between the active ingredients of some similar drugs.\n",
    "The FDA's table provides a high level summary of the active ingredients, but does not contain enough information to draw a conclusion regarding whether the mapping is correct.\n",
    "\n",
    "For the two examples we looked at here our algorithm's outputs seem to be correct."
   ]
  },
  {
   "cell_type": "markdown",
   "metadata": {},
   "source": [
    "## Previous version 2 disagreements with version 1"
   ]
  },
  {
   "cell_type": "code",
   "execution_count": 18,
   "metadata": {},
   "outputs": [
    {
     "data": {
      "text/html": [
       "<div>\n",
       "<style scoped>\n",
       "    .dataframe tbody tr th:only-of-type {\n",
       "        vertical-align: middle;\n",
       "    }\n",
       "\n",
       "    .dataframe tbody tr th {\n",
       "        vertical-align: top;\n",
       "    }\n",
       "\n",
       "    .dataframe thead th {\n",
       "        text-align: right;\n",
       "    }\n",
       "</style>\n",
       "<table border=\"1\" class=\"dataframe\">\n",
       "  <thead>\n",
       "    <tr style=\"text-align: right;\">\n",
       "      <th></th>\n",
       "      <th>rxcui</th>\n",
       "      <th>NDCPACKAGECODE</th>\n",
       "      <th>PROPRIETARYNAME</th>\n",
       "      <th>NONPROPRIETARYNAME</th>\n",
       "      <th>SUBSTANCENAME</th>\n",
       "      <th>v5</th>\n",
       "      <th>v4</th>\n",
       "    </tr>\n",
       "  </thead>\n",
       "  <tbody>\n",
       "    <tr>\n",
       "      <th>654</th>\n",
       "      <td>104894</td>\n",
       "      <td>68462-157-13</td>\n",
       "      <td>Ondansetron</td>\n",
       "      <td>Ondansetron</td>\n",
       "      <td>ONDANSETRON</td>\n",
       "      <td>26225</td>\n",
       "      <td>26225</td>\n",
       "    </tr>\n",
       "    <tr>\n",
       "      <th>655</th>\n",
       "      <td>104894</td>\n",
       "      <td>0781-5238-01</td>\n",
       "      <td>Ondansetron</td>\n",
       "      <td>Ondansetron</td>\n",
       "      <td>ONDANSETRON</td>\n",
       "      <td>26225</td>\n",
       "      <td>26225</td>\n",
       "    </tr>\n",
       "    <tr>\n",
       "      <th>656</th>\n",
       "      <td>104894</td>\n",
       "      <td>0781-5238-64</td>\n",
       "      <td>Ondansetron</td>\n",
       "      <td>Ondansetron</td>\n",
       "      <td>ONDANSETRON</td>\n",
       "      <td>26225</td>\n",
       "      <td>26225</td>\n",
       "    </tr>\n",
       "    <tr>\n",
       "      <th>657</th>\n",
       "      <td>104894</td>\n",
       "      <td>0378-7732-93</td>\n",
       "      <td>Ondansetron</td>\n",
       "      <td>Ondansetron</td>\n",
       "      <td>ONDANSETRON</td>\n",
       "      <td>26225</td>\n",
       "      <td>26225</td>\n",
       "    </tr>\n",
       "    <tr>\n",
       "      <th>658</th>\n",
       "      <td>104894</td>\n",
       "      <td>62756-240-64</td>\n",
       "      <td>ondansetron</td>\n",
       "      <td>ondansetron</td>\n",
       "      <td>ONDANSETRON</td>\n",
       "      <td>26225</td>\n",
       "      <td>26225</td>\n",
       "    </tr>\n",
       "  </tbody>\n",
       "</table>\n",
       "</div>"
      ],
      "text/plain": [
       "      rxcui NDCPACKAGECODE PROPRIETARYNAME NONPROPRIETARYNAME SUBSTANCENAME  \\\n",
       "654  104894   68462-157-13     Ondansetron        Ondansetron   ONDANSETRON   \n",
       "655  104894   0781-5238-01     Ondansetron        Ondansetron   ONDANSETRON   \n",
       "656  104894   0781-5238-64     Ondansetron        Ondansetron   ONDANSETRON   \n",
       "657  104894   0378-7732-93     Ondansetron        Ondansetron   ONDANSETRON   \n",
       "658  104894   62756-240-64     ondansetron        ondansetron   ONDANSETRON   \n",
       "\n",
       "        v5     v4  \n",
       "654  26225  26225  \n",
       "655  26225  26225  \n",
       "656  26225  26225  \n",
       "657  26225  26225  \n",
       "658  26225  26225  "
      ]
     },
     "execution_count": 18,
     "metadata": {},
     "output_type": "execute_result"
    }
   ],
   "source": [
    "res.query(\"SUBSTANCENAME == 'ONDANSETRON'\").head()"
   ]
  },
  {
   "cell_type": "code",
   "execution_count": 19,
   "metadata": {},
   "outputs": [
    {
     "data": {
      "text/html": [
       "<div>\n",
       "<style scoped>\n",
       "    .dataframe tbody tr th:only-of-type {\n",
       "        vertical-align: middle;\n",
       "    }\n",
       "\n",
       "    .dataframe tbody tr th {\n",
       "        vertical-align: top;\n",
       "    }\n",
       "\n",
       "    .dataframe thead th {\n",
       "        text-align: right;\n",
       "    }\n",
       "</style>\n",
       "<table border=\"1\" class=\"dataframe\">\n",
       "  <thead>\n",
       "    <tr style=\"text-align: right;\">\n",
       "      <th></th>\n",
       "      <th>rxcui</th>\n",
       "      <th>NDCPACKAGECODE</th>\n",
       "      <th>PROPRIETARYNAME</th>\n",
       "      <th>NONPROPRIETARYNAME</th>\n",
       "      <th>SUBSTANCENAME</th>\n",
       "      <th>v5</th>\n",
       "      <th>v4</th>\n",
       "    </tr>\n",
       "  </thead>\n",
       "  <tbody>\n",
       "    <tr>\n",
       "      <th>1041</th>\n",
       "      <td>106222</td>\n",
       "      <td>61543-1601-1</td>\n",
       "      <td>Bikini Zone Medicated CREME</td>\n",
       "      <td>LIDOCAINE</td>\n",
       "      <td>LIDOCAINE</td>\n",
       "      <td>6387</td>\n",
       "      <td>6387</td>\n",
       "    </tr>\n",
       "    <tr>\n",
       "      <th>34420</th>\n",
       "      <td>251919</td>\n",
       "      <td>66428-007-01</td>\n",
       "      <td>Instant Cool Skin</td>\n",
       "      <td>Lidocaine 0.5%</td>\n",
       "      <td>LIDOCAINE</td>\n",
       "      <td>6387</td>\n",
       "      <td>6387</td>\n",
       "    </tr>\n",
       "    <tr>\n",
       "      <th>148619</th>\n",
       "      <td>1010895</td>\n",
       "      <td>50488-6262-1</td>\n",
       "      <td>Lidocaine 4%</td>\n",
       "      <td>Lidocaine</td>\n",
       "      <td>LIDOCAINE</td>\n",
       "      <td>142440</td>\n",
       "      <td>142440</td>\n",
       "    </tr>\n",
       "    <tr>\n",
       "      <th>148711</th>\n",
       "      <td>1010895</td>\n",
       "      <td>50488-6263-1</td>\n",
       "      <td>Lidocaine 4 Percent PLUS</td>\n",
       "      <td>Lidocaine</td>\n",
       "      <td>LIDOCAINE</td>\n",
       "      <td>142440</td>\n",
       "      <td>142440</td>\n",
       "    </tr>\n",
       "    <tr>\n",
       "      <th>148799</th>\n",
       "      <td>1010931</td>\n",
       "      <td>46122-113-21</td>\n",
       "      <td>Good Neighbor Pharmacy Burn Relief</td>\n",
       "      <td>Lidocaine</td>\n",
       "      <td>LIDOCAINE</td>\n",
       "      <td>142440</td>\n",
       "      <td>142440</td>\n",
       "    </tr>\n",
       "  </tbody>\n",
       "</table>\n",
       "</div>"
      ],
      "text/plain": [
       "          rxcui NDCPACKAGECODE                     PROPRIETARYNAME  \\\n",
       "1041     106222   61543-1601-1         Bikini Zone Medicated CREME   \n",
       "34420    251919   66428-007-01                   Instant Cool Skin   \n",
       "148619  1010895   50488-6262-1                        Lidocaine 4%   \n",
       "148711  1010895   50488-6263-1            Lidocaine 4 Percent PLUS   \n",
       "148799  1010931   46122-113-21  Good Neighbor Pharmacy Burn Relief   \n",
       "\n",
       "       NONPROPRIETARYNAME SUBSTANCENAME      v5      v4  \n",
       "1041            LIDOCAINE     LIDOCAINE    6387    6387  \n",
       "34420      Lidocaine 0.5%     LIDOCAINE    6387    6387  \n",
       "148619          Lidocaine     LIDOCAINE  142440  142440  \n",
       "148711          Lidocaine     LIDOCAINE  142440  142440  \n",
       "148799          Lidocaine     LIDOCAINE  142440  142440  "
      ]
     },
     "execution_count": 19,
     "metadata": {},
     "output_type": "execute_result"
    }
   ],
   "source": [
    "res.query(\"SUBSTANCENAME == 'LIDOCAINE'\").head()"
   ]
  },
  {
   "cell_type": "markdown",
   "metadata": {},
   "source": [
    "---"
   ]
  },
  {
   "cell_type": "markdown",
   "metadata": {},
   "source": [
    "## Multi active ingredient drug examples"
   ]
  },
  {
   "cell_type": "code",
   "execution_count": 20,
   "metadata": {},
   "outputs": [
    {
     "data": {
      "text/html": [
       "<div>\n",
       "<style scoped>\n",
       "    .dataframe tbody tr th:only-of-type {\n",
       "        vertical-align: middle;\n",
       "    }\n",
       "\n",
       "    .dataframe tbody tr th {\n",
       "        vertical-align: top;\n",
       "    }\n",
       "\n",
       "    .dataframe thead th {\n",
       "        text-align: right;\n",
       "    }\n",
       "</style>\n",
       "<table border=\"1\" class=\"dataframe\">\n",
       "  <thead>\n",
       "    <tr style=\"text-align: right;\">\n",
       "      <th></th>\n",
       "      <th>rxcui</th>\n",
       "      <th>NDCPACKAGECODE</th>\n",
       "      <th>PROPRIETARYNAME</th>\n",
       "      <th>NONPROPRIETARYNAME</th>\n",
       "      <th>SUBSTANCENAME</th>\n",
       "      <th>v5</th>\n",
       "      <th>v4</th>\n",
       "    </tr>\n",
       "  </thead>\n",
       "  <tbody>\n",
       "    <tr>\n",
       "      <th>179723</th>\n",
       "      <td>1300293</td>\n",
       "      <td>51457-000-04</td>\n",
       "      <td>Alo Therapeutic Massage</td>\n",
       "      <td>MENTHOL, HISTAMINE DIHYDROCHLORIDE</td>\n",
       "      <td>MENTHOL; HISTAMINE DIHYDROCHLORIDE</td>\n",
       "      <td>6750,142136</td>\n",
       "      <td>6750,142136</td>\n",
       "    </tr>\n",
       "    <tr>\n",
       "      <th>179724</th>\n",
       "      <td>1300293</td>\n",
       "      <td>71061-763-04</td>\n",
       "      <td>Alo Therapeutic Massage</td>\n",
       "      <td>MENTHOL, HISTAMINE DIHYDROCHLORIDE</td>\n",
       "      <td>MENTHOL; HISTAMINE DIHYDROCHLORIDE</td>\n",
       "      <td>6750,142136</td>\n",
       "      <td>6750,142136</td>\n",
       "    </tr>\n",
       "    <tr>\n",
       "      <th>179725</th>\n",
       "      <td>1300293</td>\n",
       "      <td>71061-764-32</td>\n",
       "      <td>Alo Therapeutic Massage</td>\n",
       "      <td>MENTHOL, HISTAMINE DIHYDROCHLORIDE</td>\n",
       "      <td>MENTHOL; HISTAMINE DIHYDROCHLORIDE</td>\n",
       "      <td>6750,142136</td>\n",
       "      <td>6750,142136</td>\n",
       "    </tr>\n",
       "    <tr>\n",
       "      <th>179726</th>\n",
       "      <td>1300293</td>\n",
       "      <td>71061-765-28</td>\n",
       "      <td>Alo Therapeutic Massage</td>\n",
       "      <td>MENTHOL, HISTAMINE DIHYDROCHLORIDE</td>\n",
       "      <td>MENTHOL; HISTAMINE DIHYDROCHLORIDE</td>\n",
       "      <td>6750,142136</td>\n",
       "      <td>6750,142136</td>\n",
       "    </tr>\n",
       "    <tr>\n",
       "      <th>179727</th>\n",
       "      <td>1300293</td>\n",
       "      <td>71061-766-05</td>\n",
       "      <td>Alo Therapeutic Massage</td>\n",
       "      <td>MENTHOL, HISTAMINE DIHYDROCHLORIDE</td>\n",
       "      <td>MENTHOL; HISTAMINE DIHYDROCHLORIDE</td>\n",
       "      <td>6750,142136</td>\n",
       "      <td>6750,142136</td>\n",
       "    </tr>\n",
       "    <tr>\n",
       "      <th>179728</th>\n",
       "      <td>1300293</td>\n",
       "      <td>51457-001-32</td>\n",
       "      <td>ALO THERAPEUTIC MASSAGE PAIN RELIEVING</td>\n",
       "      <td>MENTHOL, HISTAMINE DIHYDROCHLORIDE</td>\n",
       "      <td>MENTHOL; HISTAMINE DIHYDROCHLORIDE</td>\n",
       "      <td>6750,142136</td>\n",
       "      <td>6750,142136</td>\n",
       "    </tr>\n",
       "  </tbody>\n",
       "</table>\n",
       "</div>"
      ],
      "text/plain": [
       "          rxcui NDCPACKAGECODE                         PROPRIETARYNAME  \\\n",
       "179723  1300293   51457-000-04                 Alo Therapeutic Massage   \n",
       "179724  1300293   71061-763-04                 Alo Therapeutic Massage   \n",
       "179725  1300293   71061-764-32                 Alo Therapeutic Massage   \n",
       "179726  1300293   71061-765-28                 Alo Therapeutic Massage   \n",
       "179727  1300293   71061-766-05                 Alo Therapeutic Massage   \n",
       "179728  1300293   51457-001-32  ALO THERAPEUTIC MASSAGE PAIN RELIEVING   \n",
       "\n",
       "                        NONPROPRIETARYNAME  \\\n",
       "179723  MENTHOL, HISTAMINE DIHYDROCHLORIDE   \n",
       "179724  MENTHOL, HISTAMINE DIHYDROCHLORIDE   \n",
       "179725  MENTHOL, HISTAMINE DIHYDROCHLORIDE   \n",
       "179726  MENTHOL, HISTAMINE DIHYDROCHLORIDE   \n",
       "179727  MENTHOL, HISTAMINE DIHYDROCHLORIDE   \n",
       "179728  MENTHOL, HISTAMINE DIHYDROCHLORIDE   \n",
       "\n",
       "                             SUBSTANCENAME           v5           v4  \n",
       "179723  MENTHOL; HISTAMINE DIHYDROCHLORIDE  6750,142136  6750,142136  \n",
       "179724  MENTHOL; HISTAMINE DIHYDROCHLORIDE  6750,142136  6750,142136  \n",
       "179725  MENTHOL; HISTAMINE DIHYDROCHLORIDE  6750,142136  6750,142136  \n",
       "179726  MENTHOL; HISTAMINE DIHYDROCHLORIDE  6750,142136  6750,142136  \n",
       "179727  MENTHOL; HISTAMINE DIHYDROCHLORIDE  6750,142136  6750,142136  \n",
       "179728  MENTHOL; HISTAMINE DIHYDROCHLORIDE  6750,142136  6750,142136  "
      ]
     },
     "execution_count": 20,
     "metadata": {},
     "output_type": "execute_result"
    }
   ],
   "source": [
    "# now uses the right form of menthol\n",
    "\n",
    "res.query(\"rxcui == 1300293\")"
   ]
  },
  {
   "cell_type": "code",
   "execution_count": 21,
   "metadata": {},
   "outputs": [
    {
     "data": {
      "text/html": [
       "<div>\n",
       "<style scoped>\n",
       "    .dataframe tbody tr th:only-of-type {\n",
       "        vertical-align: middle;\n",
       "    }\n",
       "\n",
       "    .dataframe tbody tr th {\n",
       "        vertical-align: top;\n",
       "    }\n",
       "\n",
       "    .dataframe thead th {\n",
       "        text-align: right;\n",
       "    }\n",
       "</style>\n",
       "<table border=\"1\" class=\"dataframe\">\n",
       "  <thead>\n",
       "    <tr style=\"text-align: right;\">\n",
       "      <th></th>\n",
       "      <th>rxcui</th>\n",
       "      <th>NDCPACKAGECODE</th>\n",
       "      <th>PROPRIETARYNAME</th>\n",
       "      <th>NONPROPRIETARYNAME</th>\n",
       "      <th>SUBSTANCENAME</th>\n",
       "      <th>v5</th>\n",
       "      <th>v4</th>\n",
       "    </tr>\n",
       "  </thead>\n",
       "  <tbody>\n",
       "    <tr>\n",
       "      <th>85480</th>\n",
       "      <td>543879</td>\n",
       "      <td>51674-0130-5</td>\n",
       "      <td>RELEGARD</td>\n",
       "      <td>GLACIAL ACETIC ACID, OXYQUINOLINE</td>\n",
       "      <td>ACETIC ACID; OXYQUINOLINE</td>\n",
       "      <td>168,42836</td>\n",
       "      <td>168,42836</td>\n",
       "    </tr>\n",
       "  </tbody>\n",
       "</table>\n",
       "</div>"
      ],
      "text/plain": [
       "        rxcui NDCPACKAGECODE PROPRIETARYNAME  \\\n",
       "85480  543879   51674-0130-5        RELEGARD   \n",
       "\n",
       "                      NONPROPRIETARYNAME              SUBSTANCENAME  \\\n",
       "85480  GLACIAL ACETIC ACID, OXYQUINOLINE  ACETIC ACID; OXYQUINOLINE   \n",
       "\n",
       "              v5         v4  \n",
       "85480  168,42836  168,42836  "
      ]
     },
     "execution_count": 21,
     "metadata": {},
     "output_type": "execute_result"
    }
   ],
   "source": [
    "# this is also now correct\n",
    "\n",
    "res.query(\"rxcui == 543879\")"
   ]
  },
  {
   "cell_type": "markdown",
   "metadata": {},
   "source": [
    "---"
   ]
  },
  {
   "cell_type": "markdown",
   "metadata": {},
   "source": [
    "# What are the term types of the active ingredients we found?\n",
    "\n",
    "Verify that all the BN term nodes have been removed as active ingredients."
   ]
  },
  {
   "cell_type": "markdown",
   "metadata": {},
   "source": [
    "## Read relationships"
   ]
  },
  {
   "cell_type": "code",
   "execution_count": 22,
   "metadata": {},
   "outputs": [],
   "source": [
    "rels = pd.read_csv(\"../../pipeline/rxnorm/rxcui_rels.tsv\", sep='\\t')"
   ]
  },
  {
   "cell_type": "code",
   "execution_count": 23,
   "metadata": {},
   "outputs": [
    {
     "data": {
      "text/html": [
       "<div>\n",
       "<style scoped>\n",
       "    .dataframe tbody tr th:only-of-type {\n",
       "        vertical-align: middle;\n",
       "    }\n",
       "\n",
       "    .dataframe tbody tr th {\n",
       "        vertical-align: top;\n",
       "    }\n",
       "\n",
       "    .dataframe thead th {\n",
       "        text-align: right;\n",
       "    }\n",
       "</style>\n",
       "<table border=\"1\" class=\"dataframe\">\n",
       "  <thead>\n",
       "    <tr style=\"text-align: right;\">\n",
       "      <th></th>\n",
       "      <th>rxcui1</th>\n",
       "      <th>rel</th>\n",
       "      <th>rxcui2</th>\n",
       "      <th>rela</th>\n",
       "      <th>rui</th>\n",
       "    </tr>\n",
       "  </thead>\n",
       "  <tbody>\n",
       "    <tr>\n",
       "      <th>0</th>\n",
       "      <td>38</td>\n",
       "      <td>RB</td>\n",
       "      <td>1760</td>\n",
       "      <td>has_tradename</td>\n",
       "      <td>4696871</td>\n",
       "    </tr>\n",
       "    <tr>\n",
       "      <th>1</th>\n",
       "      <td>38</td>\n",
       "      <td>RO</td>\n",
       "      <td>105050</td>\n",
       "      <td>has_ingredient</td>\n",
       "      <td>4343918</td>\n",
       "    </tr>\n",
       "    <tr>\n",
       "      <th>2</th>\n",
       "      <td>38</td>\n",
       "      <td>RO</td>\n",
       "      <td>105445</td>\n",
       "      <td>has_ingredient</td>\n",
       "      <td>4229336</td>\n",
       "    </tr>\n",
       "    <tr>\n",
       "      <th>3</th>\n",
       "      <td>38</td>\n",
       "      <td>RO</td>\n",
       "      <td>105446</td>\n",
       "      <td>has_ingredient</td>\n",
       "      <td>3798489</td>\n",
       "    </tr>\n",
       "    <tr>\n",
       "      <th>4</th>\n",
       "      <td>38</td>\n",
       "      <td>RO</td>\n",
       "      <td>105447</td>\n",
       "      <td>has_ingredient</td>\n",
       "      <td>4423580</td>\n",
       "    </tr>\n",
       "  </tbody>\n",
       "</table>\n",
       "</div>"
      ],
      "text/plain": [
       "   rxcui1 rel  rxcui2            rela      rui\n",
       "0      38  RB    1760   has_tradename  4696871\n",
       "1      38  RO  105050  has_ingredient  4343918\n",
       "2      38  RO  105445  has_ingredient  4229336\n",
       "3      38  RO  105446  has_ingredient  3798489\n",
       "4      38  RO  105447  has_ingredient  4423580"
      ]
     },
     "execution_count": 23,
     "metadata": {},
     "output_type": "execute_result"
    }
   ],
   "source": [
    "rels.head()"
   ]
  },
  {
   "cell_type": "markdown",
   "metadata": {},
   "source": [
    "## Read term types"
   ]
  },
  {
   "cell_type": "code",
   "execution_count": 24,
   "metadata": {},
   "outputs": [],
   "source": [
    "conso = pd.read_csv(\"../../pipeline/rxnorm/rxconso_info.tsv\", sep='\\t')"
   ]
  },
  {
   "cell_type": "code",
   "execution_count": 25,
   "metadata": {},
   "outputs": [
    {
     "data": {
      "text/html": [
       "<div>\n",
       "<style scoped>\n",
       "    .dataframe tbody tr th:only-of-type {\n",
       "        vertical-align: middle;\n",
       "    }\n",
       "\n",
       "    .dataframe tbody tr th {\n",
       "        vertical-align: top;\n",
       "    }\n",
       "\n",
       "    .dataframe thead th {\n",
       "        text-align: right;\n",
       "    }\n",
       "</style>\n",
       "<table border=\"1\" class=\"dataframe\">\n",
       "  <thead>\n",
       "    <tr style=\"text-align: right;\">\n",
       "      <th></th>\n",
       "      <th>rxcui</th>\n",
       "      <th>rxaui</th>\n",
       "      <th>tty</th>\n",
       "      <th>str</th>\n",
       "      <th>suppress</th>\n",
       "      <th>cvf</th>\n",
       "    </tr>\n",
       "  </thead>\n",
       "  <tbody>\n",
       "    <tr>\n",
       "      <th>0</th>\n",
       "      <td>38</td>\n",
       "      <td>829</td>\n",
       "      <td>BN</td>\n",
       "      <td>Parlodel</td>\n",
       "      <td>N</td>\n",
       "      <td>4096.0</td>\n",
       "    </tr>\n",
       "    <tr>\n",
       "      <th>1</th>\n",
       "      <td>44</td>\n",
       "      <td>947</td>\n",
       "      <td>IN</td>\n",
       "      <td>Mesna</td>\n",
       "      <td>N</td>\n",
       "      <td>4096.0</td>\n",
       "    </tr>\n",
       "    <tr>\n",
       "      <th>2</th>\n",
       "      <td>61</td>\n",
       "      <td>1424</td>\n",
       "      <td>IN</td>\n",
       "      <td>beta-Alanine</td>\n",
       "      <td>N</td>\n",
       "      <td>4096.0</td>\n",
       "    </tr>\n",
       "    <tr>\n",
       "      <th>3</th>\n",
       "      <td>73</td>\n",
       "      <td>2458041</td>\n",
       "      <td>IN</td>\n",
       "      <td>Docosahexaenoate</td>\n",
       "      <td>N</td>\n",
       "      <td>4096.0</td>\n",
       "    </tr>\n",
       "    <tr>\n",
       "      <th>4</th>\n",
       "      <td>74</td>\n",
       "      <td>1684</td>\n",
       "      <td>IN</td>\n",
       "      <td>4-Aminobenzoic Acid</td>\n",
       "      <td>N</td>\n",
       "      <td>4096.0</td>\n",
       "    </tr>\n",
       "  </tbody>\n",
       "</table>\n",
       "</div>"
      ],
      "text/plain": [
       "   rxcui    rxaui tty                  str suppress     cvf\n",
       "0     38      829  BN             Parlodel        N  4096.0\n",
       "1     44      947  IN                Mesna        N  4096.0\n",
       "2     61     1424  IN         beta-Alanine        N  4096.0\n",
       "3     73  2458041  IN     Docosahexaenoate        N  4096.0\n",
       "4     74     1684  IN  4-Aminobenzoic Acid        N  4096.0"
      ]
     },
     "execution_count": 25,
     "metadata": {},
     "output_type": "execute_result"
    }
   ],
   "source": [
    "conso.head()"
   ]
  },
  {
   "cell_type": "markdown",
   "metadata": {},
   "source": [
    "### Get term types for each node"
   ]
  },
  {
   "cell_type": "code",
   "execution_count": 26,
   "metadata": {},
   "outputs": [],
   "source": [
    "tty = defaultdict(set)\n",
    "for row in conso.itertuples():\n",
    "    tty[row.rxcui].add(row.tty)"
   ]
  },
  {
   "cell_type": "markdown",
   "metadata": {},
   "source": [
    "### Generate results"
   ]
  },
  {
   "cell_type": "code",
   "execution_count": 27,
   "metadata": {},
   "outputs": [],
   "source": [
    "ans_ttys = defaultdict(set)\n",
    "\n",
    "for row in ingredients.itertuples():\n",
    "    for node in row.active_ingredients.split(\",\"):\n",
    "        ans_ttys[row.rxcui] |= tty[int(node)]"
   ]
  },
  {
   "cell_type": "code",
   "execution_count": 28,
   "metadata": {},
   "outputs": [],
   "source": [
    "ans = defaultdict(list)\n",
    "\n",
    "for rxcui, temp in ans_ttys.items():\n",
    "    ans[\"rxcui\"].append(rxcui)\n",
    "    ans[\"ing_ttys\"].append(\",\".join(sorted(temp)))\n",
    "    ans[\"num_ttys\"].append(len(temp))\n",
    "    \n",
    "ans = pd.DataFrame(ans)"
   ]
  },
  {
   "cell_type": "code",
   "execution_count": 29,
   "metadata": {},
   "outputs": [
    {
     "data": {
      "text/plain": [
       "(41576, 3)"
      ]
     },
     "execution_count": 29,
     "metadata": {},
     "output_type": "execute_result"
    }
   ],
   "source": [
    "ans.shape"
   ]
  },
  {
   "cell_type": "code",
   "execution_count": 30,
   "metadata": {},
   "outputs": [
    {
     "data": {
      "text/html": [
       "<div>\n",
       "<style scoped>\n",
       "    .dataframe tbody tr th:only-of-type {\n",
       "        vertical-align: middle;\n",
       "    }\n",
       "\n",
       "    .dataframe tbody tr th {\n",
       "        vertical-align: top;\n",
       "    }\n",
       "\n",
       "    .dataframe thead th {\n",
       "        text-align: right;\n",
       "    }\n",
       "</style>\n",
       "<table border=\"1\" class=\"dataframe\">\n",
       "  <thead>\n",
       "    <tr style=\"text-align: right;\">\n",
       "      <th></th>\n",
       "      <th>rxcui</th>\n",
       "      <th>ing_ttys</th>\n",
       "      <th>num_ttys</th>\n",
       "    </tr>\n",
       "  </thead>\n",
       "  <tbody>\n",
       "    <tr>\n",
       "      <th>0</th>\n",
       "      <td>91349</td>\n",
       "      <td>IN</td>\n",
       "      <td>1</td>\n",
       "    </tr>\n",
       "    <tr>\n",
       "      <th>1</th>\n",
       "      <td>91792</td>\n",
       "      <td>IN</td>\n",
       "      <td>1</td>\n",
       "    </tr>\n",
       "    <tr>\n",
       "      <th>2</th>\n",
       "      <td>92582</td>\n",
       "      <td>PIN</td>\n",
       "      <td>1</td>\n",
       "    </tr>\n",
       "    <tr>\n",
       "      <th>3</th>\n",
       "      <td>92583</td>\n",
       "      <td>PIN</td>\n",
       "      <td>1</td>\n",
       "    </tr>\n",
       "    <tr>\n",
       "      <th>4</th>\n",
       "      <td>92584</td>\n",
       "      <td>PIN</td>\n",
       "      <td>1</td>\n",
       "    </tr>\n",
       "  </tbody>\n",
       "</table>\n",
       "</div>"
      ],
      "text/plain": [
       "   rxcui ing_ttys  num_ttys\n",
       "0  91349       IN         1\n",
       "1  91792       IN         1\n",
       "2  92582      PIN         1\n",
       "3  92583      PIN         1\n",
       "4  92584      PIN         1"
      ]
     },
     "execution_count": 30,
     "metadata": {},
     "output_type": "execute_result"
    }
   ],
   "source": [
    "ans.head()"
   ]
  },
  {
   "cell_type": "markdown",
   "metadata": {},
   "source": [
    "## Term types of active ingredients"
   ]
  },
  {
   "cell_type": "code",
   "execution_count": 31,
   "metadata": {},
   "outputs": [
    {
     "data": {
      "text/plain": [
       "                  25229\n",
       "IN                 7972\n",
       "PIN                3853\n",
       "IN,SY              1849\n",
       "IN,TMSY             756\n",
       "IN,PIN              689\n",
       "PIN,TMSY            635\n",
       "IN,PIN,TMSY         453\n",
       "IN,PIN,SY            89\n",
       "PIN,SY               27\n",
       "IN,SY,TMSY           12\n",
       "IN,PIN,SY,TMSY       12\n",
       "Name: ing_ttys, dtype: int64"
      ]
     },
     "execution_count": 31,
     "metadata": {},
     "output_type": "execute_result"
    }
   ],
   "source": [
    "ans[\"ing_ttys\"].value_counts()"
   ]
  },
  {
   "cell_type": "markdown",
   "metadata": {},
   "source": [
    "All of the BN terms are gone.\n",
    "Only the IN and PIN nodes remain.\n",
    "The SY and TMSY terms are synonyms."
   ]
  },
  {
   "cell_type": "code",
   "execution_count": 32,
   "metadata": {},
   "outputs": [
    {
     "data": {
      "text/plain": [
       "0    25229\n",
       "1    11825\n",
       "2     3956\n",
       "3      554\n",
       "4       12\n",
       "Name: num_ttys, dtype: int64"
      ]
     },
     "execution_count": 32,
     "metadata": {},
     "output_type": "execute_result"
    }
   ],
   "source": [
    "ans[\"num_ttys\"].value_counts()"
   ]
  },
  {
   "cell_type": "markdown",
   "metadata": {},
   "source": [
    "## Sample some examples"
   ]
  },
  {
   "cell_type": "code",
   "execution_count": 33,
   "metadata": {},
   "outputs": [
    {
     "data": {
      "text/html": [
       "<div>\n",
       "<style scoped>\n",
       "    .dataframe tbody tr th:only-of-type {\n",
       "        vertical-align: middle;\n",
       "    }\n",
       "\n",
       "    .dataframe tbody tr th {\n",
       "        vertical-align: top;\n",
       "    }\n",
       "\n",
       "    .dataframe thead th {\n",
       "        text-align: right;\n",
       "    }\n",
       "</style>\n",
       "<table border=\"1\" class=\"dataframe\">\n",
       "  <thead>\n",
       "    <tr style=\"text-align: right;\">\n",
       "      <th></th>\n",
       "      <th>rxcui</th>\n",
       "      <th>ing_ttys</th>\n",
       "      <th>num_ttys</th>\n",
       "      <th>NDCPACKAGECODE</th>\n",
       "      <th>PROPRIETARYNAME</th>\n",
       "      <th>NONPROPRIETARYNAME</th>\n",
       "      <th>SUBSTANCENAME</th>\n",
       "      <th>v5</th>\n",
       "      <th>v4</th>\n",
       "    </tr>\n",
       "  </thead>\n",
       "  <tbody>\n",
       "    <tr>\n",
       "      <th>0</th>\n",
       "      <td>757969</td>\n",
       "      <td>IN,PIN</td>\n",
       "      <td>2</td>\n",
       "      <td>64764-702-01</td>\n",
       "      <td>PREVPAC</td>\n",
       "      <td>lansoprazole, amoxicillin and clarithromycin</td>\n",
       "      <td>NaN</td>\n",
       "      <td>17128,21212,133008</td>\n",
       "      <td>17128,21212,83156,133008,203729</td>\n",
       "    </tr>\n",
       "  </tbody>\n",
       "</table>\n",
       "</div>"
      ],
      "text/plain": [
       "    rxcui ing_ttys  num_ttys NDCPACKAGECODE PROPRIETARYNAME  \\\n",
       "0  757969   IN,PIN         2   64764-702-01         PREVPAC   \n",
       "\n",
       "                             NONPROPRIETARYNAME SUBSTANCENAME  \\\n",
       "0  lansoprazole, amoxicillin and clarithromycin           NaN   \n",
       "\n",
       "                   v5                               v4  \n",
       "0  17128,21212,133008  17128,21212,83156,133008,203729  "
      ]
     },
     "execution_count": 33,
     "metadata": {},
     "output_type": "execute_result"
    }
   ],
   "source": [
    "# BN terms have been removed\n",
    "\n",
    "ans.query(\"rxcui == 757969\").merge(res, how=\"left\", on=\"rxcui\")"
   ]
  },
  {
   "cell_type": "code",
   "execution_count": 34,
   "metadata": {},
   "outputs": [
    {
     "data": {
      "text/html": [
       "<div>\n",
       "<style scoped>\n",
       "    .dataframe tbody tr th:only-of-type {\n",
       "        vertical-align: middle;\n",
       "    }\n",
       "\n",
       "    .dataframe tbody tr th {\n",
       "        vertical-align: top;\n",
       "    }\n",
       "\n",
       "    .dataframe thead th {\n",
       "        text-align: right;\n",
       "    }\n",
       "</style>\n",
       "<table border=\"1\" class=\"dataframe\">\n",
       "  <thead>\n",
       "    <tr style=\"text-align: right;\">\n",
       "      <th></th>\n",
       "      <th>rxcui</th>\n",
       "      <th>ing_ttys</th>\n",
       "      <th>num_ttys</th>\n",
       "      <th>NDCPACKAGECODE</th>\n",
       "      <th>PROPRIETARYNAME</th>\n",
       "      <th>NONPROPRIETARYNAME</th>\n",
       "      <th>SUBSTANCENAME</th>\n",
       "      <th>v5</th>\n",
       "      <th>v4</th>\n",
       "    </tr>\n",
       "  </thead>\n",
       "  <tbody>\n",
       "    <tr>\n",
       "      <th>0</th>\n",
       "      <td>1493510</td>\n",
       "      <td>IN,PIN</td>\n",
       "      <td>2</td>\n",
       "      <td>51531-8977-0</td>\n",
       "      <td>Clear Proof Acne System</td>\n",
       "      <td>Benzoyl Peroxide and Salicylic Acid</td>\n",
       "      <td>NaN</td>\n",
       "      <td>1418,9522,9907,235418,253186</td>\n",
       "      <td>1418,9522,9907,235418,253186,1489128</td>\n",
       "    </tr>\n",
       "  </tbody>\n",
       "</table>\n",
       "</div>"
      ],
      "text/plain": [
       "     rxcui ing_ttys  num_ttys NDCPACKAGECODE          PROPRIETARYNAME  \\\n",
       "0  1493510   IN,PIN         2   51531-8977-0  Clear Proof Acne System   \n",
       "\n",
       "                    NONPROPRIETARYNAME SUBSTANCENAME  \\\n",
       "0  Benzoyl Peroxide and Salicylic Acid           NaN   \n",
       "\n",
       "                             v5                                    v4  \n",
       "0  1418,9522,9907,235418,253186  1418,9522,9907,235418,253186,1489128  "
      ]
     },
     "execution_count": 34,
     "metadata": {},
     "output_type": "execute_result"
    }
   ],
   "source": [
    "# here we included one BN term as an ingredient\n",
    "\n",
    "ans.query(\"rxcui == 1493510\").merge(res, how=\"left\", on=\"rxcui\")"
   ]
  },
  {
   "cell_type": "markdown",
   "metadata": {},
   "source": [
    "## Summary\n",
    "\n",
    "The term type filter has worked very well.\n",
    "All BN nodes have been removed as active ingredients."
   ]
  },
  {
   "cell_type": "markdown",
   "metadata": {},
   "source": [
    "---"
   ]
  },
  {
   "cell_type": "markdown",
   "metadata": {},
   "source": [
    "# Remaining problems\n",
    "\n",
    "NDCs with multiple RXCUIS: do they only have one consistent answer?"
   ]
  },
  {
   "cell_type": "code",
   "execution_count": 35,
   "metadata": {},
   "outputs": [],
   "source": [
    "summary = (ingredients\n",
    "    .merge(\n",
    "        data[[\"rxcui\", \"NDCPACKAGECODE\", \"suppress\"]],\n",
    "        how=\"inner\", on=\"rxcui\"\n",
    "    )\n",
    "    .drop_duplicates()\n",
    "    [[\"NDCPACKAGECODE\", \"suppress\", \"rxcui\", \"active_ingredients\"]]\n",
    "    .sort_values([\"NDCPACKAGECODE\", \"rxcui\"])\n",
    "    .reset_index(drop=True)\n",
    ")"
   ]
  },
  {
   "cell_type": "code",
   "execution_count": 36,
   "metadata": {},
   "outputs": [
    {
     "data": {
      "text/plain": [
       "(241456, 4)"
      ]
     },
     "execution_count": 36,
     "metadata": {},
     "output_type": "execute_result"
    }
   ],
   "source": [
    "summary.shape"
   ]
  },
  {
   "cell_type": "code",
   "execution_count": 37,
   "metadata": {},
   "outputs": [
    {
     "data": {
      "text/html": [
       "<div>\n",
       "<style scoped>\n",
       "    .dataframe tbody tr th:only-of-type {\n",
       "        vertical-align: middle;\n",
       "    }\n",
       "\n",
       "    .dataframe tbody tr th {\n",
       "        vertical-align: top;\n",
       "    }\n",
       "\n",
       "    .dataframe thead th {\n",
       "        text-align: right;\n",
       "    }\n",
       "</style>\n",
       "<table border=\"1\" class=\"dataframe\">\n",
       "  <thead>\n",
       "    <tr style=\"text-align: right;\">\n",
       "      <th></th>\n",
       "      <th>NDCPACKAGECODE</th>\n",
       "      <th>suppress</th>\n",
       "      <th>rxcui</th>\n",
       "      <th>active_ingredients</th>\n",
       "    </tr>\n",
       "  </thead>\n",
       "  <tbody>\n",
       "    <tr>\n",
       "      <th>0</th>\n",
       "      <td>0002-0800-01</td>\n",
       "      <td>N</td>\n",
       "      <td>540930</td>\n",
       "      <td>11295</td>\n",
       "    </tr>\n",
       "    <tr>\n",
       "      <th>1</th>\n",
       "      <td>0002-1200-30</td>\n",
       "      <td>N</td>\n",
       "      <td>1297712</td>\n",
       "      <td>-1</td>\n",
       "    </tr>\n",
       "    <tr>\n",
       "      <th>2</th>\n",
       "      <td>0002-1200-50</td>\n",
       "      <td>N</td>\n",
       "      <td>1297712</td>\n",
       "      <td>-1</td>\n",
       "    </tr>\n",
       "    <tr>\n",
       "      <th>3</th>\n",
       "      <td>0002-1407-01</td>\n",
       "      <td>N</td>\n",
       "      <td>853004</td>\n",
       "      <td>35220</td>\n",
       "    </tr>\n",
       "    <tr>\n",
       "      <th>4</th>\n",
       "      <td>0002-1433-61</td>\n",
       "      <td>N</td>\n",
       "      <td>1551300</td>\n",
       "      <td>1551291</td>\n",
       "    </tr>\n",
       "  </tbody>\n",
       "</table>\n",
       "</div>"
      ],
      "text/plain": [
       "  NDCPACKAGECODE suppress    rxcui active_ingredients\n",
       "0   0002-0800-01        N   540930              11295\n",
       "1   0002-1200-30        N  1297712                 -1\n",
       "2   0002-1200-50        N  1297712                 -1\n",
       "3   0002-1407-01        N   853004              35220\n",
       "4   0002-1433-61        N  1551300            1551291"
      ]
     },
     "execution_count": 37,
     "metadata": {},
     "output_type": "execute_result"
    }
   ],
   "source": [
    "summary.head()"
   ]
  },
  {
   "cell_type": "code",
   "execution_count": 38,
   "metadata": {},
   "outputs": [
    {
     "data": {
      "text/plain": [
       "-1      51418\n",
       "7806     6125\n",
       "448      4792\n",
       "5640     3475\n",
       "1379     2289\n",
       "Name: active_ingredients, dtype: int64"
      ]
     },
     "execution_count": 38,
     "metadata": {},
     "output_type": "execute_result"
    }
   ],
   "source": [
    "summary[\"active_ingredients\"].value_counts().head()"
   ]
  },
  {
   "cell_type": "markdown",
   "metadata": {},
   "source": [
    "### Number of RXCUIs per NDC"
   ]
  },
  {
   "cell_type": "code",
   "execution_count": 39,
   "metadata": {},
   "outputs": [],
   "source": [
    "ncuis = (summary\n",
    "    .groupby(\"NDCPACKAGECODE\")\n",
    "    [\"rxcui\"]\n",
    "    .nunique()\n",
    "    .to_frame(\"num_cuis\")\n",
    "    .reset_index()\n",
    ")"
   ]
  },
  {
   "cell_type": "code",
   "execution_count": 40,
   "metadata": {},
   "outputs": [
    {
     "data": {
      "text/plain": [
       "(239810, 2)"
      ]
     },
     "execution_count": 40,
     "metadata": {},
     "output_type": "execute_result"
    }
   ],
   "source": [
    "ncuis.shape"
   ]
  },
  {
   "cell_type": "code",
   "execution_count": 41,
   "metadata": {},
   "outputs": [
    {
     "data": {
      "text/html": [
       "<div>\n",
       "<style scoped>\n",
       "    .dataframe tbody tr th:only-of-type {\n",
       "        vertical-align: middle;\n",
       "    }\n",
       "\n",
       "    .dataframe tbody tr th {\n",
       "        vertical-align: top;\n",
       "    }\n",
       "\n",
       "    .dataframe thead th {\n",
       "        text-align: right;\n",
       "    }\n",
       "</style>\n",
       "<table border=\"1\" class=\"dataframe\">\n",
       "  <thead>\n",
       "    <tr style=\"text-align: right;\">\n",
       "      <th></th>\n",
       "      <th>NDCPACKAGECODE</th>\n",
       "      <th>num_cuis</th>\n",
       "    </tr>\n",
       "  </thead>\n",
       "  <tbody>\n",
       "    <tr>\n",
       "      <th>0</th>\n",
       "      <td>0002-0800-01</td>\n",
       "      <td>1</td>\n",
       "    </tr>\n",
       "    <tr>\n",
       "      <th>1</th>\n",
       "      <td>0002-1200-30</td>\n",
       "      <td>1</td>\n",
       "    </tr>\n",
       "    <tr>\n",
       "      <th>2</th>\n",
       "      <td>0002-1200-50</td>\n",
       "      <td>1</td>\n",
       "    </tr>\n",
       "    <tr>\n",
       "      <th>3</th>\n",
       "      <td>0002-1407-01</td>\n",
       "      <td>1</td>\n",
       "    </tr>\n",
       "    <tr>\n",
       "      <th>4</th>\n",
       "      <td>0002-1433-61</td>\n",
       "      <td>1</td>\n",
       "    </tr>\n",
       "  </tbody>\n",
       "</table>\n",
       "</div>"
      ],
      "text/plain": [
       "  NDCPACKAGECODE  num_cuis\n",
       "0   0002-0800-01         1\n",
       "1   0002-1200-30         1\n",
       "2   0002-1200-50         1\n",
       "3   0002-1407-01         1\n",
       "4   0002-1433-61         1"
      ]
     },
     "execution_count": 41,
     "metadata": {},
     "output_type": "execute_result"
    }
   ],
   "source": [
    "ncuis.head()"
   ]
  },
  {
   "cell_type": "code",
   "execution_count": 42,
   "metadata": {},
   "outputs": [
    {
     "data": {
      "text/plain": [
       "1    238185\n",
       "2      1607\n",
       "3        18\n",
       "Name: num_cuis, dtype: int64"
      ]
     },
     "execution_count": 42,
     "metadata": {},
     "output_type": "execute_result"
    }
   ],
   "source": [
    "ncuis[\"num_cuis\"].value_counts()"
   ]
  },
  {
   "cell_type": "code",
   "execution_count": 43,
   "metadata": {},
   "outputs": [],
   "source": [
    "stats = (summary\n",
    "    .merge(\n",
    "        ncuis, how=\"inner\", on=\"NDCPACKAGECODE\"\n",
    "    )\n",
    "    .assign(\n",
    "        good_ans = lambda df: df[\"active_ingredients\"].map(\n",
    "            lambda v: v != \"-1\"\n",
    "        )\n",
    "    )\n",
    ")"
   ]
  },
  {
   "cell_type": "code",
   "execution_count": 44,
   "metadata": {},
   "outputs": [
    {
     "data": {
      "text/html": [
       "<div>\n",
       "<style scoped>\n",
       "    .dataframe tbody tr th:only-of-type {\n",
       "        vertical-align: middle;\n",
       "    }\n",
       "\n",
       "    .dataframe tbody tr th {\n",
       "        vertical-align: top;\n",
       "    }\n",
       "\n",
       "    .dataframe thead th {\n",
       "        text-align: right;\n",
       "    }\n",
       "</style>\n",
       "<table border=\"1\" class=\"dataframe\">\n",
       "  <thead>\n",
       "    <tr style=\"text-align: right;\">\n",
       "      <th></th>\n",
       "      <th>NDCPACKAGECODE</th>\n",
       "      <th>suppress</th>\n",
       "      <th>rxcui</th>\n",
       "      <th>active_ingredients</th>\n",
       "      <th>num_cuis</th>\n",
       "      <th>good_ans</th>\n",
       "    </tr>\n",
       "  </thead>\n",
       "  <tbody>\n",
       "    <tr>\n",
       "      <th>0</th>\n",
       "      <td>0002-0800-01</td>\n",
       "      <td>N</td>\n",
       "      <td>540930</td>\n",
       "      <td>11295</td>\n",
       "      <td>1</td>\n",
       "      <td>True</td>\n",
       "    </tr>\n",
       "    <tr>\n",
       "      <th>1</th>\n",
       "      <td>0002-1200-30</td>\n",
       "      <td>N</td>\n",
       "      <td>1297712</td>\n",
       "      <td>-1</td>\n",
       "      <td>1</td>\n",
       "      <td>False</td>\n",
       "    </tr>\n",
       "    <tr>\n",
       "      <th>2</th>\n",
       "      <td>0002-1200-50</td>\n",
       "      <td>N</td>\n",
       "      <td>1297712</td>\n",
       "      <td>-1</td>\n",
       "      <td>1</td>\n",
       "      <td>False</td>\n",
       "    </tr>\n",
       "    <tr>\n",
       "      <th>3</th>\n",
       "      <td>0002-1407-01</td>\n",
       "      <td>N</td>\n",
       "      <td>853004</td>\n",
       "      <td>35220</td>\n",
       "      <td>1</td>\n",
       "      <td>True</td>\n",
       "    </tr>\n",
       "    <tr>\n",
       "      <th>4</th>\n",
       "      <td>0002-1433-61</td>\n",
       "      <td>N</td>\n",
       "      <td>1551300</td>\n",
       "      <td>1551291</td>\n",
       "      <td>1</td>\n",
       "      <td>True</td>\n",
       "    </tr>\n",
       "  </tbody>\n",
       "</table>\n",
       "</div>"
      ],
      "text/plain": [
       "  NDCPACKAGECODE suppress    rxcui active_ingredients  num_cuis  good_ans\n",
       "0   0002-0800-01        N   540930              11295         1      True\n",
       "1   0002-1200-30        N  1297712                 -1         1     False\n",
       "2   0002-1200-50        N  1297712                 -1         1     False\n",
       "3   0002-1407-01        N   853004              35220         1      True\n",
       "4   0002-1433-61        N  1551300            1551291         1      True"
      ]
     },
     "execution_count": 44,
     "metadata": {},
     "output_type": "execute_result"
    }
   ],
   "source": [
    "stats.head()"
   ]
  },
  {
   "cell_type": "code",
   "execution_count": 45,
   "metadata": {},
   "outputs": [
    {
     "data": {
      "text/plain": [
       "True     190038\n",
       "False     51418\n",
       "Name: good_ans, dtype: int64"
      ]
     },
     "execution_count": 45,
     "metadata": {},
     "output_type": "execute_result"
    }
   ],
   "source": [
    "stats[\"good_ans\"].value_counts()"
   ]
  },
  {
   "cell_type": "code",
   "execution_count": 46,
   "metadata": {},
   "outputs": [
    {
     "data": {
      "text/plain": [
       "True     0.78705\n",
       "False    0.21295\n",
       "Name: good_ans, dtype: float64"
      ]
     },
     "execution_count": 46,
     "metadata": {},
     "output_type": "execute_result"
    }
   ],
   "source": [
    "stats[\"good_ans\"].value_counts(normalize=True)"
   ]
  },
  {
   "cell_type": "markdown",
   "metadata": {},
   "source": [
    "We have mapped 78% of all NDCs to their active ingredients."
   ]
  },
  {
   "cell_type": "code",
   "execution_count": 47,
   "metadata": {},
   "outputs": [
    {
     "data": {
      "text/plain": [
       "num_cuis  suppress  good_ans\n",
       "1         N         False        49229\n",
       "                    True        186032\n",
       "          O         False            4\n",
       "                    True            18\n",
       "          Y         False         1495\n",
       "                    True          1410\n",
       "2         N         False            3\n",
       "                    True          1588\n",
       "          Y         False          657\n",
       "                    True           966\n",
       "3         N         True            14\n",
       "          Y         False           30\n",
       "                    True            10\n",
       "dtype: int64"
      ]
     },
     "execution_count": 47,
     "metadata": {},
     "output_type": "execute_result"
    }
   ],
   "source": [
    "stats.groupby([\"num_cuis\", \"suppress\", \"good_ans\"]).size()"
   ]
  },
  {
   "cell_type": "markdown",
   "metadata": {},
   "source": [
    "## Check that we get consistent results for NDCs with multiple RXCUIs"
   ]
  },
  {
   "cell_type": "code",
   "execution_count": 48,
   "metadata": {},
   "outputs": [],
   "source": [
    "weird = []\n",
    "for label, df in stats.query(\"num_cuis > 1\").groupby(\"NDCPACKAGECODE\"):\n",
    "    if df[\"good_ans\"].any():\n",
    "        if df.query(\"good_ans\")[\"active_ingredients\"].nunique() != 1:\n",
    "            weird.append(label)"
   ]
  },
  {
   "cell_type": "code",
   "execution_count": 49,
   "metadata": {},
   "outputs": [
    {
     "data": {
      "text/html": [
       "<div>\n",
       "<style scoped>\n",
       "    .dataframe tbody tr th:only-of-type {\n",
       "        vertical-align: middle;\n",
       "    }\n",
       "\n",
       "    .dataframe tbody tr th {\n",
       "        vertical-align: top;\n",
       "    }\n",
       "\n",
       "    .dataframe thead th {\n",
       "        text-align: right;\n",
       "    }\n",
       "</style>\n",
       "<table border=\"1\" class=\"dataframe\">\n",
       "  <thead>\n",
       "    <tr style=\"text-align: right;\">\n",
       "      <th></th>\n",
       "      <th>NDCPACKAGECODE</th>\n",
       "      <th>suppress</th>\n",
       "      <th>rxcui</th>\n",
       "      <th>active_ingredients</th>\n",
       "      <th>num_cuis</th>\n",
       "      <th>good_ans</th>\n",
       "    </tr>\n",
       "  </thead>\n",
       "  <tbody>\n",
       "    <tr>\n",
       "      <th>0</th>\n",
       "      <td>52584-360-01</td>\n",
       "      <td>N</td>\n",
       "      <td>1668250</td>\n",
       "      <td>1908</td>\n",
       "      <td>2</td>\n",
       "      <td>True</td>\n",
       "    </tr>\n",
       "    <tr>\n",
       "      <th>1</th>\n",
       "      <td>52584-360-01</td>\n",
       "      <td>Y</td>\n",
       "      <td>1867737</td>\n",
       "      <td>1901</td>\n",
       "      <td>2</td>\n",
       "      <td>True</td>\n",
       "    </tr>\n",
       "    <tr>\n",
       "      <th>2</th>\n",
       "      <td>52584-360-03</td>\n",
       "      <td>N</td>\n",
       "      <td>1668248</td>\n",
       "      <td>1908</td>\n",
       "      <td>2</td>\n",
       "      <td>True</td>\n",
       "    </tr>\n",
       "    <tr>\n",
       "      <th>3</th>\n",
       "      <td>52584-360-03</td>\n",
       "      <td>Y</td>\n",
       "      <td>1867737</td>\n",
       "      <td>1901</td>\n",
       "      <td>2</td>\n",
       "      <td>True</td>\n",
       "    </tr>\n",
       "    <tr>\n",
       "      <th>5</th>\n",
       "      <td>68001-285-36</td>\n",
       "      <td>N</td>\n",
       "      <td>1803932</td>\n",
       "      <td>6313</td>\n",
       "      <td>2</td>\n",
       "      <td>True</td>\n",
       "    </tr>\n",
       "    <tr>\n",
       "      <th>4</th>\n",
       "      <td>68001-285-36</td>\n",
       "      <td>Y</td>\n",
       "      <td>1720771</td>\n",
       "      <td>877015</td>\n",
       "      <td>2</td>\n",
       "      <td>True</td>\n",
       "    </tr>\n",
       "    <tr>\n",
       "      <th>7</th>\n",
       "      <td>68001-285-37</td>\n",
       "      <td>N</td>\n",
       "      <td>1803937</td>\n",
       "      <td>6313</td>\n",
       "      <td>2</td>\n",
       "      <td>True</td>\n",
       "    </tr>\n",
       "    <tr>\n",
       "      <th>6</th>\n",
       "      <td>68001-285-37</td>\n",
       "      <td>Y</td>\n",
       "      <td>1720771</td>\n",
       "      <td>877015</td>\n",
       "      <td>2</td>\n",
       "      <td>True</td>\n",
       "    </tr>\n",
       "    <tr>\n",
       "      <th>9</th>\n",
       "      <td>68001-285-40</td>\n",
       "      <td>N</td>\n",
       "      <td>1803930</td>\n",
       "      <td>6313</td>\n",
       "      <td>2</td>\n",
       "      <td>True</td>\n",
       "    </tr>\n",
       "    <tr>\n",
       "      <th>8</th>\n",
       "      <td>68001-285-40</td>\n",
       "      <td>Y</td>\n",
       "      <td>1720771</td>\n",
       "      <td>877015</td>\n",
       "      <td>2</td>\n",
       "      <td>True</td>\n",
       "    </tr>\n",
       "  </tbody>\n",
       "</table>\n",
       "</div>"
      ],
      "text/plain": [
       "  NDCPACKAGECODE suppress    rxcui active_ingredients  num_cuis  good_ans\n",
       "0   52584-360-01        N  1668250               1908         2      True\n",
       "1   52584-360-01        Y  1867737               1901         2      True\n",
       "2   52584-360-03        N  1668248               1908         2      True\n",
       "3   52584-360-03        Y  1867737               1901         2      True\n",
       "5   68001-285-36        N  1803932               6313         2      True\n",
       "4   68001-285-36        Y  1720771             877015         2      True\n",
       "7   68001-285-37        N  1803937               6313         2      True\n",
       "6   68001-285-37        Y  1720771             877015         2      True\n",
       "9   68001-285-40        N  1803930               6313         2      True\n",
       "8   68001-285-40        Y  1720771             877015         2      True"
      ]
     },
     "execution_count": 49,
     "metadata": {},
     "output_type": "execute_result"
    }
   ],
   "source": [
    "(pd\n",
    "    .Series(weird)\n",
    "    .to_frame(\"NDCPACKAGECODE\")\n",
    "    .merge(stats, how=\"left\", on=\"NDCPACKAGECODE\")\n",
    "    .sort_values([\"NDCPACKAGECODE\", \"suppress\"])\n",
    ")"
   ]
  },
  {
   "cell_type": "markdown",
   "metadata": {},
   "source": [
    "Based on these results, it seems that the rows which are supposed to be suppressed are incorrect.\n",
    "The rows which are not supposed to be suppressed gave the correct results.\n",
    "\n",
    "We will update our algorithm to remove disagreements using the suppress column."
   ]
  },
  {
   "cell_type": "markdown",
   "metadata": {},
   "source": [
    "### Verify that we can use the suppress column, and that there will only be one unsuppressed result"
   ]
  },
  {
   "cell_type": "code",
   "execution_count": 50,
   "metadata": {},
   "outputs": [],
   "source": [
    "for label, df in stats.query(\"num_cuis > 1\").groupby(\"NDCPACKAGECODE\"):\n",
    "    if df[\"good_ans\"].any():\n",
    "        assert (df.query(\"~good_ans\")[\"suppress\"] != \"N\").all()"
   ]
  },
  {
   "cell_type": "code",
   "execution_count": 51,
   "metadata": {},
   "outputs": [],
   "source": [
    "for label, df in stats.query(\"num_cuis > 1\").groupby(\"NDCPACKAGECODE\"):\n",
    "    assert (df[\"suppress\"] == \"N\").sum() <= 1, label"
   ]
  },
  {
   "cell_type": "markdown",
   "metadata": {},
   "source": [
    "# Conclusion\n",
    "\n",
    "Version 5 has removed the bad BN nodes from the ingredients list.\n",
    "\n",
    "However, we have some issues with NDCs that have multiple RXCUIs."
   ]
  }
 ],
 "metadata": {
  "kernelspec": {
   "display_name": "Python 3",
   "language": "python",
   "name": "python3"
  },
  "language_info": {
   "codemirror_mode": {
    "name": "ipython",
    "version": 3
   },
   "file_extension": ".py",
   "mimetype": "text/x-python",
   "name": "python",
   "nbconvert_exporter": "python",
   "pygments_lexer": "ipython3",
   "version": "3.6.7"
  }
 },
 "nbformat": 4,
 "nbformat_minor": 2
}
