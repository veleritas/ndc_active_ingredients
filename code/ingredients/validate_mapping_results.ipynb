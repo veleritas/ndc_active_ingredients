{
 "cells": [
  {
   "cell_type": "markdown",
   "metadata": {},
   "source": [
    "# Validate the generated NDC to active ingredient mappings\n",
    "\n",
    "2019-04-22\n",
    "\n",
    "Ensure that the mappings we generated from NDCs to active ingredient RXCUIs are correct."
   ]
  },
  {
   "cell_type": "markdown",
   "metadata": {},
   "source": [
    "## Version 1\n",
    "\n",
    "We want to see where the simple pattern for finding active ingredients fails."
   ]
  },
  {
   "cell_type": "code",
   "execution_count": 1,
   "metadata": {},
   "outputs": [],
   "source": [
    "import pandas as pd"
   ]
  },
  {
   "cell_type": "markdown",
   "metadata": {},
   "source": [
    "## Read generated mappings"
   ]
  },
  {
   "cell_type": "code",
   "execution_count": 2,
   "metadata": {},
   "outputs": [],
   "source": [
    "ingredients = pd.read_csv(\"../../pipeline/ingredients/ndc_active_ingredients_version_1.tsv\", sep='\\t')"
   ]
  },
  {
   "cell_type": "code",
   "execution_count": 3,
   "metadata": {},
   "outputs": [
    {
     "data": {
      "text/plain": [
       "(41576, 2)"
      ]
     },
     "execution_count": 3,
     "metadata": {},
     "output_type": "execute_result"
    }
   ],
   "source": [
    "ingredients.shape"
   ]
  },
  {
   "cell_type": "code",
   "execution_count": 4,
   "metadata": {},
   "outputs": [
    {
     "data": {
      "text/html": [
       "<div>\n",
       "<style scoped>\n",
       "    .dataframe tbody tr th:only-of-type {\n",
       "        vertical-align: middle;\n",
       "    }\n",
       "\n",
       "    .dataframe tbody tr th {\n",
       "        vertical-align: top;\n",
       "    }\n",
       "\n",
       "    .dataframe thead th {\n",
       "        text-align: right;\n",
       "    }\n",
       "</style>\n",
       "<table border=\"1\" class=\"dataframe\">\n",
       "  <thead>\n",
       "    <tr style=\"text-align: right;\">\n",
       "      <th></th>\n",
       "      <th>rxcui</th>\n",
       "      <th>active_ingredients</th>\n",
       "    </tr>\n",
       "  </thead>\n",
       "  <tbody>\n",
       "    <tr>\n",
       "      <th>0</th>\n",
       "      <td>91349</td>\n",
       "      <td>-90000</td>\n",
       "    </tr>\n",
       "    <tr>\n",
       "      <th>1</th>\n",
       "      <td>91792</td>\n",
       "      <td>-500</td>\n",
       "    </tr>\n",
       "    <tr>\n",
       "      <th>2</th>\n",
       "      <td>92582</td>\n",
       "      <td>30145</td>\n",
       "    </tr>\n",
       "    <tr>\n",
       "      <th>3</th>\n",
       "      <td>92583</td>\n",
       "      <td>30145</td>\n",
       "    </tr>\n",
       "    <tr>\n",
       "      <th>4</th>\n",
       "      <td>92584</td>\n",
       "      <td>30145</td>\n",
       "    </tr>\n",
       "  </tbody>\n",
       "</table>\n",
       "</div>"
      ],
      "text/plain": [
       "   rxcui  active_ingredients\n",
       "0  91349              -90000\n",
       "1  91792                -500\n",
       "2  92582               30145\n",
       "3  92583               30145\n",
       "4  92584               30145"
      ]
     },
     "execution_count": 4,
     "metadata": {},
     "output_type": "execute_result"
    }
   ],
   "source": [
    "ingredients.head()"
   ]
  },
  {
   "cell_type": "markdown",
   "metadata": {},
   "source": [
    "## Read NDC metadata"
   ]
  },
  {
   "cell_type": "code",
   "execution_count": 5,
   "metadata": {},
   "outputs": [],
   "source": [
    "data = pd.read_csv(\"../../pipeline/merged_ndc_info.tsv\", sep='\\t')"
   ]
  },
  {
   "cell_type": "code",
   "execution_count": 6,
   "metadata": {},
   "outputs": [
    {
     "data": {
      "text/plain": [
       "(265692, 22)"
      ]
     },
     "execution_count": 6,
     "metadata": {},
     "output_type": "execute_result"
    }
   ],
   "source": [
    "data.shape"
   ]
  },
  {
   "cell_type": "code",
   "execution_count": 7,
   "metadata": {},
   "outputs": [
    {
     "data": {
      "text/html": [
       "<div>\n",
       "<style scoped>\n",
       "    .dataframe tbody tr th:only-of-type {\n",
       "        vertical-align: middle;\n",
       "    }\n",
       "\n",
       "    .dataframe tbody tr th {\n",
       "        vertical-align: top;\n",
       "    }\n",
       "\n",
       "    .dataframe thead th {\n",
       "        text-align: right;\n",
       "    }\n",
       "</style>\n",
       "<table border=\"1\" class=\"dataframe\">\n",
       "  <thead>\n",
       "    <tr style=\"text-align: right;\">\n",
       "      <th></th>\n",
       "      <th>rxcui</th>\n",
       "      <th>rxaui</th>\n",
       "      <th>NDCPACKAGECODE</th>\n",
       "      <th>suppress</th>\n",
       "      <th>PRODUCTID</th>\n",
       "      <th>PRODUCTNDC</th>\n",
       "      <th>PACKAGEDESCRIPTION</th>\n",
       "      <th>PRODUCTTYPENAME</th>\n",
       "      <th>PROPRIETARYNAME</th>\n",
       "      <th>NONPROPRIETARYNAME</th>\n",
       "      <th>...</th>\n",
       "      <th>MARKETINGCATEGORYNAME</th>\n",
       "      <th>APPLICATIONNUMBER</th>\n",
       "      <th>LABELERNAME</th>\n",
       "      <th>SUBSTANCENAME</th>\n",
       "      <th>ACTIVE_NUMERATOR_STRENGTH</th>\n",
       "      <th>ACTIVE_INGRED_UNIT</th>\n",
       "      <th>PHARM_CLASSES</th>\n",
       "      <th>DEASCHEDULE</th>\n",
       "      <th>NDC_EXCLUDE_FLAG</th>\n",
       "      <th>LISTING_RECORD_CERTIFIED_THROUGH</th>\n",
       "    </tr>\n",
       "  </thead>\n",
       "  <tbody>\n",
       "    <tr>\n",
       "      <th>0</th>\n",
       "      <td>91349</td>\n",
       "      <td>3507080</td>\n",
       "      <td>12745-202-01</td>\n",
       "      <td>N</td>\n",
       "      <td>12745-202_7d063901-255c-bffc-e053-2a91aa0a91ee</td>\n",
       "      <td>12745-202</td>\n",
       "      <td>59 mL in 1 BOTTLE, PLASTIC (12745-202-01)</td>\n",
       "      <td>HUMAN OTC DRUG</td>\n",
       "      <td>HYDROGEN PEROXIDE</td>\n",
       "      <td>HYDROGEN PEROXIDE</td>\n",
       "      <td>...</td>\n",
       "      <td>OTC MONOGRAPH NOT FINAL</td>\n",
       "      <td>part333A</td>\n",
       "      <td>Medical Chemical Corporation</td>\n",
       "      <td>HYDROGEN PEROXIDE</td>\n",
       "      <td>8.57</td>\n",
       "      <td>g/100mL</td>\n",
       "      <td>NaN</td>\n",
       "      <td>NaN</td>\n",
       "      <td>N</td>\n",
       "      <td>20191231.0</td>\n",
       "    </tr>\n",
       "    <tr>\n",
       "      <th>1</th>\n",
       "      <td>91349</td>\n",
       "      <td>3507080</td>\n",
       "      <td>12745-202-02</td>\n",
       "      <td>N</td>\n",
       "      <td>12745-202_7d063901-255c-bffc-e053-2a91aa0a91ee</td>\n",
       "      <td>12745-202</td>\n",
       "      <td>118 mL in 1 BOTTLE, PLASTIC (12745-202-02)</td>\n",
       "      <td>HUMAN OTC DRUG</td>\n",
       "      <td>HYDROGEN PEROXIDE</td>\n",
       "      <td>HYDROGEN PEROXIDE</td>\n",
       "      <td>...</td>\n",
       "      <td>OTC MONOGRAPH NOT FINAL</td>\n",
       "      <td>part333A</td>\n",
       "      <td>Medical Chemical Corporation</td>\n",
       "      <td>HYDROGEN PEROXIDE</td>\n",
       "      <td>8.57</td>\n",
       "      <td>g/100mL</td>\n",
       "      <td>NaN</td>\n",
       "      <td>NaN</td>\n",
       "      <td>N</td>\n",
       "      <td>20191231.0</td>\n",
       "    </tr>\n",
       "  </tbody>\n",
       "</table>\n",
       "<p>2 rows × 22 columns</p>\n",
       "</div>"
      ],
      "text/plain": [
       "   rxcui    rxaui NDCPACKAGECODE suppress  \\\n",
       "0  91349  3507080   12745-202-01        N   \n",
       "1  91349  3507080   12745-202-02        N   \n",
       "\n",
       "                                        PRODUCTID PRODUCTNDC  \\\n",
       "0  12745-202_7d063901-255c-bffc-e053-2a91aa0a91ee  12745-202   \n",
       "1  12745-202_7d063901-255c-bffc-e053-2a91aa0a91ee  12745-202   \n",
       "\n",
       "                            PACKAGEDESCRIPTION PRODUCTTYPENAME  \\\n",
       "0   59 mL in 1 BOTTLE, PLASTIC (12745-202-01)   HUMAN OTC DRUG   \n",
       "1  118 mL in 1 BOTTLE, PLASTIC (12745-202-02)   HUMAN OTC DRUG   \n",
       "\n",
       "     PROPRIETARYNAME NONPROPRIETARYNAME  ...    MARKETINGCATEGORYNAME  \\\n",
       "0  HYDROGEN PEROXIDE  HYDROGEN PEROXIDE  ...  OTC MONOGRAPH NOT FINAL   \n",
       "1  HYDROGEN PEROXIDE  HYDROGEN PEROXIDE  ...  OTC MONOGRAPH NOT FINAL   \n",
       "\n",
       "  APPLICATIONNUMBER                   LABELERNAME      SUBSTANCENAME  \\\n",
       "0          part333A  Medical Chemical Corporation  HYDROGEN PEROXIDE   \n",
       "1          part333A  Medical Chemical Corporation  HYDROGEN PEROXIDE   \n",
       "\n",
       "  ACTIVE_NUMERATOR_STRENGTH ACTIVE_INGRED_UNIT PHARM_CLASSES DEASCHEDULE  \\\n",
       "0                      8.57            g/100mL           NaN         NaN   \n",
       "1                      8.57            g/100mL           NaN         NaN   \n",
       "\n",
       "  NDC_EXCLUDE_FLAG LISTING_RECORD_CERTIFIED_THROUGH  \n",
       "0                N                       20191231.0  \n",
       "1                N                       20191231.0  \n",
       "\n",
       "[2 rows x 22 columns]"
      ]
     },
     "execution_count": 7,
     "metadata": {},
     "output_type": "execute_result"
    }
   ],
   "source": [
    "data.head(2)"
   ]
  },
  {
   "cell_type": "markdown",
   "metadata": {},
   "source": [
    "---"
   ]
  },
  {
   "cell_type": "markdown",
   "metadata": {},
   "source": [
    "# Create results table"
   ]
  },
  {
   "cell_type": "code",
   "execution_count": 8,
   "metadata": {},
   "outputs": [],
   "source": [
    "res = (data\n",
    "    [[\n",
    "        \"rxcui\", \"NDCPACKAGECODE\", \"PROPRIETARYNAME\",\n",
    "        \"NONPROPRIETARYNAME\", \"SUBSTANCENAME\"\n",
    "    ]]\n",
    "    .drop_duplicates()\n",
    "    .reset_index(drop=True)\n",
    "       \n",
    "    .merge(ingredients, how=\"inner\", on=\"rxcui\")\n",
    "    .reset_index(drop=True)\n",
    ")"
   ]
  },
  {
   "cell_type": "code",
   "execution_count": 9,
   "metadata": {},
   "outputs": [
    {
     "data": {
      "text/plain": [
       "(241458, 6)"
      ]
     },
     "execution_count": 9,
     "metadata": {},
     "output_type": "execute_result"
    }
   ],
   "source": [
    "res.shape"
   ]
  },
  {
   "cell_type": "code",
   "execution_count": 10,
   "metadata": {},
   "outputs": [
    {
     "data": {
      "text/html": [
       "<div>\n",
       "<style scoped>\n",
       "    .dataframe tbody tr th:only-of-type {\n",
       "        vertical-align: middle;\n",
       "    }\n",
       "\n",
       "    .dataframe tbody tr th {\n",
       "        vertical-align: top;\n",
       "    }\n",
       "\n",
       "    .dataframe thead th {\n",
       "        text-align: right;\n",
       "    }\n",
       "</style>\n",
       "<table border=\"1\" class=\"dataframe\">\n",
       "  <thead>\n",
       "    <tr style=\"text-align: right;\">\n",
       "      <th></th>\n",
       "      <th>rxcui</th>\n",
       "      <th>NDCPACKAGECODE</th>\n",
       "      <th>PROPRIETARYNAME</th>\n",
       "      <th>NONPROPRIETARYNAME</th>\n",
       "      <th>SUBSTANCENAME</th>\n",
       "      <th>active_ingredients</th>\n",
       "    </tr>\n",
       "  </thead>\n",
       "  <tbody>\n",
       "    <tr>\n",
       "      <th>0</th>\n",
       "      <td>91349</td>\n",
       "      <td>12745-202-01</td>\n",
       "      <td>HYDROGEN PEROXIDE</td>\n",
       "      <td>HYDROGEN PEROXIDE</td>\n",
       "      <td>HYDROGEN PEROXIDE</td>\n",
       "      <td>-90000</td>\n",
       "    </tr>\n",
       "    <tr>\n",
       "      <th>1</th>\n",
       "      <td>91349</td>\n",
       "      <td>12745-202-02</td>\n",
       "      <td>HYDROGEN PEROXIDE</td>\n",
       "      <td>HYDROGEN PEROXIDE</td>\n",
       "      <td>HYDROGEN PEROXIDE</td>\n",
       "      <td>-90000</td>\n",
       "    </tr>\n",
       "    <tr>\n",
       "      <th>2</th>\n",
       "      <td>91349</td>\n",
       "      <td>12745-202-03</td>\n",
       "      <td>HYDROGEN PEROXIDE</td>\n",
       "      <td>HYDROGEN PEROXIDE</td>\n",
       "      <td>HYDROGEN PEROXIDE</td>\n",
       "      <td>-90000</td>\n",
       "    </tr>\n",
       "    <tr>\n",
       "      <th>3</th>\n",
       "      <td>91349</td>\n",
       "      <td>34645-8030-4</td>\n",
       "      <td>Hydrogen Peroxide</td>\n",
       "      <td>Hydrogen Peroxide</td>\n",
       "      <td>HYDROGEN PEROXIDE</td>\n",
       "      <td>-90000</td>\n",
       "    </tr>\n",
       "    <tr>\n",
       "      <th>4</th>\n",
       "      <td>91349</td>\n",
       "      <td>55316-871-43</td>\n",
       "      <td>Hydrogen Peroxide</td>\n",
       "      <td>Hydrogen Peroxide</td>\n",
       "      <td>HYDROGEN PEROXIDE</td>\n",
       "      <td>-90000</td>\n",
       "    </tr>\n",
       "  </tbody>\n",
       "</table>\n",
       "</div>"
      ],
      "text/plain": [
       "   rxcui NDCPACKAGECODE    PROPRIETARYNAME NONPROPRIETARYNAME  \\\n",
       "0  91349   12745-202-01  HYDROGEN PEROXIDE  HYDROGEN PEROXIDE   \n",
       "1  91349   12745-202-02  HYDROGEN PEROXIDE  HYDROGEN PEROXIDE   \n",
       "2  91349   12745-202-03  HYDROGEN PEROXIDE  HYDROGEN PEROXIDE   \n",
       "3  91349   34645-8030-4  Hydrogen Peroxide  Hydrogen Peroxide   \n",
       "4  91349   55316-871-43  Hydrogen Peroxide  Hydrogen Peroxide   \n",
       "\n",
       "       SUBSTANCENAME  active_ingredients  \n",
       "0  HYDROGEN PEROXIDE              -90000  \n",
       "1  HYDROGEN PEROXIDE              -90000  \n",
       "2  HYDROGEN PEROXIDE              -90000  \n",
       "3  HYDROGEN PEROXIDE              -90000  \n",
       "4  HYDROGEN PEROXIDE              -90000  "
      ]
     },
     "execution_count": 10,
     "metadata": {},
     "output_type": "execute_result"
    }
   ],
   "source": [
    "res.head()"
   ]
  },
  {
   "cell_type": "markdown",
   "metadata": {},
   "source": [
    "---"
   ]
  },
  {
   "cell_type": "markdown",
   "metadata": {},
   "source": [
    "# Examine results"
   ]
  },
  {
   "cell_type": "markdown",
   "metadata": {},
   "source": [
    "## Case study: razadyne"
   ]
  },
  {
   "cell_type": "code",
   "execution_count": 11,
   "metadata": {},
   "outputs": [
    {
     "data": {
      "text/html": [
       "<div>\n",
       "<style scoped>\n",
       "    .dataframe tbody tr th:only-of-type {\n",
       "        vertical-align: middle;\n",
       "    }\n",
       "\n",
       "    .dataframe tbody tr th {\n",
       "        vertical-align: top;\n",
       "    }\n",
       "\n",
       "    .dataframe thead th {\n",
       "        text-align: right;\n",
       "    }\n",
       "</style>\n",
       "<table border=\"1\" class=\"dataframe\">\n",
       "  <thead>\n",
       "    <tr style=\"text-align: right;\">\n",
       "      <th></th>\n",
       "      <th>rxcui</th>\n",
       "      <th>NDCPACKAGECODE</th>\n",
       "      <th>PROPRIETARYNAME</th>\n",
       "      <th>NONPROPRIETARYNAME</th>\n",
       "      <th>SUBSTANCENAME</th>\n",
       "      <th>active_ingredients</th>\n",
       "    </tr>\n",
       "  </thead>\n",
       "  <tbody>\n",
       "    <tr>\n",
       "      <th>90547</th>\n",
       "      <td>602734</td>\n",
       "      <td>21695-591-30</td>\n",
       "      <td>RAZADYNE</td>\n",
       "      <td>galantamine hydrobromide</td>\n",
       "      <td>GALANTAMINE HYDROBROMIDE</td>\n",
       "      <td>860693</td>\n",
       "    </tr>\n",
       "    <tr>\n",
       "      <th>90548</th>\n",
       "      <td>602734</td>\n",
       "      <td>50458-398-60</td>\n",
       "      <td>RAZADYNE</td>\n",
       "      <td>galantamine hydrobromide</td>\n",
       "      <td>GALANTAMINE HYDROBROMIDE</td>\n",
       "      <td>860693</td>\n",
       "    </tr>\n",
       "    <tr>\n",
       "      <th>90549</th>\n",
       "      <td>602736</td>\n",
       "      <td>50458-396-60</td>\n",
       "      <td>RAZADYNE</td>\n",
       "      <td>galantamine hydrobromide</td>\n",
       "      <td>GALANTAMINE HYDROBROMIDE</td>\n",
       "      <td>860693</td>\n",
       "    </tr>\n",
       "    <tr>\n",
       "      <th>90550</th>\n",
       "      <td>602737</td>\n",
       "      <td>50458-397-60</td>\n",
       "      <td>RAZADYNE</td>\n",
       "      <td>galantamine hydrobromide</td>\n",
       "      <td>GALANTAMINE HYDROBROMIDE</td>\n",
       "      <td>860693</td>\n",
       "    </tr>\n",
       "    <tr>\n",
       "      <th>115659</th>\n",
       "      <td>860697</td>\n",
       "      <td>50458-388-30</td>\n",
       "      <td>RAZADYNE</td>\n",
       "      <td>galantamine hydrobromide</td>\n",
       "      <td>GALANTAMINE HYDROBROMIDE</td>\n",
       "      <td>860693</td>\n",
       "    </tr>\n",
       "    <tr>\n",
       "      <th>115671</th>\n",
       "      <td>860709</td>\n",
       "      <td>50458-389-30</td>\n",
       "      <td>RAZADYNE</td>\n",
       "      <td>galantamine hydrobromide</td>\n",
       "      <td>GALANTAMINE HYDROBROMIDE</td>\n",
       "      <td>860693</td>\n",
       "    </tr>\n",
       "    <tr>\n",
       "      <th>115683</th>\n",
       "      <td>860717</td>\n",
       "      <td>50458-387-30</td>\n",
       "      <td>RAZADYNE</td>\n",
       "      <td>galantamine hydrobromide</td>\n",
       "      <td>GALANTAMINE HYDROBROMIDE</td>\n",
       "      <td>860693</td>\n",
       "    </tr>\n",
       "    <tr>\n",
       "      <th>238571</th>\n",
       "      <td>2103461</td>\n",
       "      <td>21695-184-30</td>\n",
       "      <td>RAZADYNE</td>\n",
       "      <td>galantamine hydrobromide</td>\n",
       "      <td>GALANTAMINE HYDROBROMIDE</td>\n",
       "      <td>-90000</td>\n",
       "    </tr>\n",
       "  </tbody>\n",
       "</table>\n",
       "</div>"
      ],
      "text/plain": [
       "          rxcui NDCPACKAGECODE PROPRIETARYNAME        NONPROPRIETARYNAME  \\\n",
       "90547    602734   21695-591-30        RAZADYNE  galantamine hydrobromide   \n",
       "90548    602734   50458-398-60        RAZADYNE  galantamine hydrobromide   \n",
       "90549    602736   50458-396-60        RAZADYNE  galantamine hydrobromide   \n",
       "90550    602737   50458-397-60        RAZADYNE  galantamine hydrobromide   \n",
       "115659   860697   50458-388-30        RAZADYNE  galantamine hydrobromide   \n",
       "115671   860709   50458-389-30        RAZADYNE  galantamine hydrobromide   \n",
       "115683   860717   50458-387-30        RAZADYNE  galantamine hydrobromide   \n",
       "238571  2103461   21695-184-30        RAZADYNE  galantamine hydrobromide   \n",
       "\n",
       "                   SUBSTANCENAME  active_ingredients  \n",
       "90547   GALANTAMINE HYDROBROMIDE              860693  \n",
       "90548   GALANTAMINE HYDROBROMIDE              860693  \n",
       "90549   GALANTAMINE HYDROBROMIDE              860693  \n",
       "90550   GALANTAMINE HYDROBROMIDE              860693  \n",
       "115659  GALANTAMINE HYDROBROMIDE              860693  \n",
       "115671  GALANTAMINE HYDROBROMIDE              860693  \n",
       "115683  GALANTAMINE HYDROBROMIDE              860693  \n",
       "238571  GALANTAMINE HYDROBROMIDE              -90000  "
      ]
     },
     "execution_count": 11,
     "metadata": {},
     "output_type": "execute_result"
    }
   ],
   "source": [
    "# we correctly identified the active ingredient for the drug razadyne\n",
    "\n",
    "res.query(\"PROPRIETARYNAME == 'RAZADYNE'\")"
   ]
  },
  {
   "cell_type": "markdown",
   "metadata": {},
   "source": [
    "---"
   ]
  },
  {
   "cell_type": "code",
   "execution_count": 12,
   "metadata": {},
   "outputs": [],
   "source": [
    "bad = res.query(\"active_ingredients < 0\")"
   ]
  },
  {
   "cell_type": "code",
   "execution_count": 13,
   "metadata": {},
   "outputs": [
    {
     "data": {
      "text/plain": [
       "(234536, 6)"
      ]
     },
     "execution_count": 13,
     "metadata": {},
     "output_type": "execute_result"
    }
   ],
   "source": [
    "bad.shape"
   ]
  },
  {
   "cell_type": "code",
   "execution_count": 14,
   "metadata": {},
   "outputs": [
    {
     "data": {
      "text/html": [
       "<div>\n",
       "<style scoped>\n",
       "    .dataframe tbody tr th:only-of-type {\n",
       "        vertical-align: middle;\n",
       "    }\n",
       "\n",
       "    .dataframe tbody tr th {\n",
       "        vertical-align: top;\n",
       "    }\n",
       "\n",
       "    .dataframe thead th {\n",
       "        text-align: right;\n",
       "    }\n",
       "</style>\n",
       "<table border=\"1\" class=\"dataframe\">\n",
       "  <thead>\n",
       "    <tr style=\"text-align: right;\">\n",
       "      <th></th>\n",
       "      <th>rxcui</th>\n",
       "      <th>NDCPACKAGECODE</th>\n",
       "      <th>PROPRIETARYNAME</th>\n",
       "      <th>NONPROPRIETARYNAME</th>\n",
       "      <th>SUBSTANCENAME</th>\n",
       "      <th>active_ingredients</th>\n",
       "    </tr>\n",
       "  </thead>\n",
       "  <tbody>\n",
       "    <tr>\n",
       "      <th>0</th>\n",
       "      <td>91349</td>\n",
       "      <td>12745-202-01</td>\n",
       "      <td>HYDROGEN PEROXIDE</td>\n",
       "      <td>HYDROGEN PEROXIDE</td>\n",
       "      <td>HYDROGEN PEROXIDE</td>\n",
       "      <td>-90000</td>\n",
       "    </tr>\n",
       "    <tr>\n",
       "      <th>1</th>\n",
       "      <td>91349</td>\n",
       "      <td>12745-202-02</td>\n",
       "      <td>HYDROGEN PEROXIDE</td>\n",
       "      <td>HYDROGEN PEROXIDE</td>\n",
       "      <td>HYDROGEN PEROXIDE</td>\n",
       "      <td>-90000</td>\n",
       "    </tr>\n",
       "    <tr>\n",
       "      <th>2</th>\n",
       "      <td>91349</td>\n",
       "      <td>12745-202-03</td>\n",
       "      <td>HYDROGEN PEROXIDE</td>\n",
       "      <td>HYDROGEN PEROXIDE</td>\n",
       "      <td>HYDROGEN PEROXIDE</td>\n",
       "      <td>-90000</td>\n",
       "    </tr>\n",
       "    <tr>\n",
       "      <th>3</th>\n",
       "      <td>91349</td>\n",
       "      <td>34645-8030-4</td>\n",
       "      <td>Hydrogen Peroxide</td>\n",
       "      <td>Hydrogen Peroxide</td>\n",
       "      <td>HYDROGEN PEROXIDE</td>\n",
       "      <td>-90000</td>\n",
       "    </tr>\n",
       "    <tr>\n",
       "      <th>4</th>\n",
       "      <td>91349</td>\n",
       "      <td>55316-871-43</td>\n",
       "      <td>Hydrogen Peroxide</td>\n",
       "      <td>Hydrogen Peroxide</td>\n",
       "      <td>HYDROGEN PEROXIDE</td>\n",
       "      <td>-90000</td>\n",
       "    </tr>\n",
       "  </tbody>\n",
       "</table>\n",
       "</div>"
      ],
      "text/plain": [
       "   rxcui NDCPACKAGECODE    PROPRIETARYNAME NONPROPRIETARYNAME  \\\n",
       "0  91349   12745-202-01  HYDROGEN PEROXIDE  HYDROGEN PEROXIDE   \n",
       "1  91349   12745-202-02  HYDROGEN PEROXIDE  HYDROGEN PEROXIDE   \n",
       "2  91349   12745-202-03  HYDROGEN PEROXIDE  HYDROGEN PEROXIDE   \n",
       "3  91349   34645-8030-4  Hydrogen Peroxide  Hydrogen Peroxide   \n",
       "4  91349   55316-871-43  Hydrogen Peroxide  Hydrogen Peroxide   \n",
       "\n",
       "       SUBSTANCENAME  active_ingredients  \n",
       "0  HYDROGEN PEROXIDE              -90000  \n",
       "1  HYDROGEN PEROXIDE              -90000  \n",
       "2  HYDROGEN PEROXIDE              -90000  \n",
       "3  HYDROGEN PEROXIDE              -90000  \n",
       "4  HYDROGEN PEROXIDE              -90000  "
      ]
     },
     "execution_count": 14,
     "metadata": {},
     "output_type": "execute_result"
    }
   ],
   "source": [
    "bad.head()"
   ]
  },
  {
   "cell_type": "code",
   "execution_count": 15,
   "metadata": {},
   "outputs": [
    {
     "data": {
      "text/plain": [
       "38789"
      ]
     },
     "execution_count": 15,
     "metadata": {},
     "output_type": "execute_result"
    }
   ],
   "source": [
    "bad[\"rxcui\"].nunique()"
   ]
  },
  {
   "cell_type": "code",
   "execution_count": 16,
   "metadata": {},
   "outputs": [
    {
     "data": {
      "text/plain": [
       "-90000    222819\n",
       "-500       10377\n",
       "-40         1340\n",
       "Name: active_ingredients, dtype: int64"
      ]
     },
     "execution_count": 16,
     "metadata": {},
     "output_type": "execute_result"
    }
   ],
   "source": [
    "bad[\"active_ingredients\"].value_counts()"
   ]
  },
  {
   "cell_type": "markdown",
   "metadata": {},
   "source": [
    "These rows represent drugs for which the simple pattern does not apply."
   ]
  },
  {
   "cell_type": "markdown",
   "metadata": {},
   "source": [
    "## Look at good results"
   ]
  },
  {
   "cell_type": "code",
   "execution_count": 17,
   "metadata": {},
   "outputs": [],
   "source": [
    "good = res.query(\"active_ingredients > 0\")"
   ]
  },
  {
   "cell_type": "code",
   "execution_count": 18,
   "metadata": {},
   "outputs": [
    {
     "data": {
      "text/plain": [
       "(6922, 6)"
      ]
     },
     "execution_count": 18,
     "metadata": {},
     "output_type": "execute_result"
    }
   ],
   "source": [
    "good.shape"
   ]
  },
  {
   "cell_type": "code",
   "execution_count": 19,
   "metadata": {},
   "outputs": [
    {
     "data": {
      "text/html": [
       "<div>\n",
       "<style scoped>\n",
       "    .dataframe tbody tr th:only-of-type {\n",
       "        vertical-align: middle;\n",
       "    }\n",
       "\n",
       "    .dataframe tbody tr th {\n",
       "        vertical-align: top;\n",
       "    }\n",
       "\n",
       "    .dataframe thead th {\n",
       "        text-align: right;\n",
       "    }\n",
       "</style>\n",
       "<table border=\"1\" class=\"dataframe\">\n",
       "  <thead>\n",
       "    <tr style=\"text-align: right;\">\n",
       "      <th></th>\n",
       "      <th>rxcui</th>\n",
       "      <th>NDCPACKAGECODE</th>\n",
       "      <th>PROPRIETARYNAME</th>\n",
       "      <th>NONPROPRIETARYNAME</th>\n",
       "      <th>SUBSTANCENAME</th>\n",
       "      <th>active_ingredients</th>\n",
       "    </tr>\n",
       "  </thead>\n",
       "  <tbody>\n",
       "    <tr>\n",
       "      <th>244</th>\n",
       "      <td>92582</td>\n",
       "      <td>0085-3149-01</td>\n",
       "      <td>ELOCON</td>\n",
       "      <td>Mometasone Furoate</td>\n",
       "      <td>MOMETASONE FUROATE</td>\n",
       "      <td>30145</td>\n",
       "    </tr>\n",
       "    <tr>\n",
       "      <th>245</th>\n",
       "      <td>92582</td>\n",
       "      <td>0085-3149-02</td>\n",
       "      <td>ELOCON</td>\n",
       "      <td>Mometasone Furoate</td>\n",
       "      <td>MOMETASONE FUROATE</td>\n",
       "      <td>30145</td>\n",
       "    </tr>\n",
       "    <tr>\n",
       "      <th>246</th>\n",
       "      <td>92582</td>\n",
       "      <td>0085-3149-03</td>\n",
       "      <td>ELOCON</td>\n",
       "      <td>Mometasone Furoate</td>\n",
       "      <td>MOMETASONE FUROATE</td>\n",
       "      <td>30145</td>\n",
       "    </tr>\n",
       "    <tr>\n",
       "      <th>247</th>\n",
       "      <td>92583</td>\n",
       "      <td>0085-0854-01</td>\n",
       "      <td>ELOCON</td>\n",
       "      <td>Mometasone Furoate</td>\n",
       "      <td>MOMETASONE FUROATE</td>\n",
       "      <td>30145</td>\n",
       "    </tr>\n",
       "    <tr>\n",
       "      <th>248</th>\n",
       "      <td>92583</td>\n",
       "      <td>0085-0854-02</td>\n",
       "      <td>ELOCON</td>\n",
       "      <td>Mometasone Furoate</td>\n",
       "      <td>MOMETASONE FUROATE</td>\n",
       "      <td>30145</td>\n",
       "    </tr>\n",
       "  </tbody>\n",
       "</table>\n",
       "</div>"
      ],
      "text/plain": [
       "     rxcui NDCPACKAGECODE PROPRIETARYNAME  NONPROPRIETARYNAME  \\\n",
       "244  92582   0085-3149-01          ELOCON  Mometasone Furoate   \n",
       "245  92582   0085-3149-02          ELOCON  Mometasone Furoate   \n",
       "246  92582   0085-3149-03          ELOCON  Mometasone Furoate   \n",
       "247  92583   0085-0854-01          ELOCON  Mometasone Furoate   \n",
       "248  92583   0085-0854-02          ELOCON  Mometasone Furoate   \n",
       "\n",
       "          SUBSTANCENAME  active_ingredients  \n",
       "244  MOMETASONE FUROATE               30145  \n",
       "245  MOMETASONE FUROATE               30145  \n",
       "246  MOMETASONE FUROATE               30145  \n",
       "247  MOMETASONE FUROATE               30145  \n",
       "248  MOMETASONE FUROATE               30145  "
      ]
     },
     "execution_count": 19,
     "metadata": {},
     "output_type": "execute_result"
    }
   ],
   "source": [
    "good.head()"
   ]
  },
  {
   "cell_type": "code",
   "execution_count": 20,
   "metadata": {},
   "outputs": [
    {
     "data": {
      "text/plain": [
       "6736"
      ]
     },
     "execution_count": 20,
     "metadata": {},
     "output_type": "execute_result"
    }
   ],
   "source": [
    "good[\"NDCPACKAGECODE\"].nunique()"
   ]
  },
  {
   "cell_type": "code",
   "execution_count": 21,
   "metadata": {},
   "outputs": [
    {
     "data": {
      "text/plain": [
       "2787"
      ]
     },
     "execution_count": 21,
     "metadata": {},
     "output_type": "execute_result"
    }
   ],
   "source": [
    "good[\"rxcui\"].nunique()"
   ]
  },
  {
   "cell_type": "code",
   "execution_count": 22,
   "metadata": {},
   "outputs": [
    {
     "data": {
      "text/plain": [
       "611"
      ]
     },
     "execution_count": 22,
     "metadata": {},
     "output_type": "execute_result"
    }
   ],
   "source": [
    "good[\"active_ingredients\"].nunique()"
   ]
  },
  {
   "cell_type": "markdown",
   "metadata": {},
   "source": [
    "---"
   ]
  },
  {
   "cell_type": "markdown",
   "metadata": {},
   "source": [
    "# Analyze based on the FDA's stated active ingredients\n",
    "\n",
    "The FDA provides some information about the active ingredient.\n",
    "Use the information to see if we can find disagreements with our algorithm."
   ]
  },
  {
   "cell_type": "markdown",
   "metadata": {},
   "source": [
    "### Examine disagreements between our algorithm and the FDA"
   ]
  },
  {
   "cell_type": "code",
   "execution_count": 23,
   "metadata": {},
   "outputs": [
    {
     "name": "stdout",
     "output_type": "stream",
     "text": [
      "BOTULINUM TOXIN TYPE A\n",
      "CHLORCYCLIZINE HYDROCHLORIDE\n",
      "DEXTROMETHORPHAN HYDROBROMIDE\n",
      "DOXORUBICIN HYDROCHLORIDE\n",
      "DOXYCYCLINE\n",
      "FILGRASTIM\n",
      "GUANFACINE HYDROCHLORIDE\n",
      "HUMAN IMMUNOGLOBULIN G\n",
      "INFLIXIMAB\n",
      "IRINOTECAN HYDROCHLORIDE\n",
      "PEGFILGRASTIM\n",
      "SOMATROPIN\n"
     ]
    }
   ],
   "source": [
    "for label, df in good.groupby(\"SUBSTANCENAME\"):\n",
    "    if df[\"active_ingredients\"].nunique() != 1:\n",
    "        print(label)"
   ]
  },
  {
   "cell_type": "code",
   "execution_count": 24,
   "metadata": {},
   "outputs": [
    {
     "data": {
      "text/html": [
       "<div>\n",
       "<style scoped>\n",
       "    .dataframe tbody tr th:only-of-type {\n",
       "        vertical-align: middle;\n",
       "    }\n",
       "\n",
       "    .dataframe tbody tr th {\n",
       "        vertical-align: top;\n",
       "    }\n",
       "\n",
       "    .dataframe thead th {\n",
       "        text-align: right;\n",
       "    }\n",
       "</style>\n",
       "<table border=\"1\" class=\"dataframe\">\n",
       "  <thead>\n",
       "    <tr style=\"text-align: right;\">\n",
       "      <th></th>\n",
       "      <th>rxcui</th>\n",
       "      <th>NDCPACKAGECODE</th>\n",
       "      <th>PROPRIETARYNAME</th>\n",
       "      <th>NONPROPRIETARYNAME</th>\n",
       "      <th>SUBSTANCENAME</th>\n",
       "      <th>active_ingredients</th>\n",
       "    </tr>\n",
       "  </thead>\n",
       "  <tbody>\n",
       "    <tr>\n",
       "      <th>206647</th>\n",
       "      <td>1719777</td>\n",
       "      <td>69171-398-01</td>\n",
       "      <td>Onivyde</td>\n",
       "      <td>Irinotecan hydrochloride</td>\n",
       "      <td>IRINOTECAN HYDROCHLORIDE</td>\n",
       "      <td>1719767</td>\n",
       "    </tr>\n",
       "    <tr>\n",
       "      <th>206648</th>\n",
       "      <td>1719777</td>\n",
       "      <td>15054-0043-1</td>\n",
       "      <td>Onivyde</td>\n",
       "      <td>IRINOTECAN HYDROCHLORIDE</td>\n",
       "      <td>IRINOTECAN HYDROCHLORIDE</td>\n",
       "      <td>1719767</td>\n",
       "    </tr>\n",
       "    <tr>\n",
       "      <th>208228</th>\n",
       "      <td>1726321</td>\n",
       "      <td>0009-7529-04</td>\n",
       "      <td>Camptosar</td>\n",
       "      <td>irinotecan hydrochloride</td>\n",
       "      <td>IRINOTECAN HYDROCHLORIDE</td>\n",
       "      <td>153329</td>\n",
       "    </tr>\n",
       "    <tr>\n",
       "      <th>208229</th>\n",
       "      <td>1726323</td>\n",
       "      <td>0009-7529-04</td>\n",
       "      <td>Camptosar</td>\n",
       "      <td>irinotecan hydrochloride</td>\n",
       "      <td>IRINOTECAN HYDROCHLORIDE</td>\n",
       "      <td>153329</td>\n",
       "    </tr>\n",
       "    <tr>\n",
       "      <th>208230</th>\n",
       "      <td>1726323</td>\n",
       "      <td>0009-7529-03</td>\n",
       "      <td>Camptosar</td>\n",
       "      <td>irinotecan hydrochloride</td>\n",
       "      <td>IRINOTECAN HYDROCHLORIDE</td>\n",
       "      <td>153329</td>\n",
       "    </tr>\n",
       "    <tr>\n",
       "      <th>208231</th>\n",
       "      <td>1726323</td>\n",
       "      <td>0009-7529-05</td>\n",
       "      <td>Camptosar</td>\n",
       "      <td>irinotecan hydrochloride</td>\n",
       "      <td>IRINOTECAN HYDROCHLORIDE</td>\n",
       "      <td>153329</td>\n",
       "    </tr>\n",
       "    <tr>\n",
       "      <th>208232</th>\n",
       "      <td>1726323</td>\n",
       "      <td>0009-1111-02</td>\n",
       "      <td>Camptosar</td>\n",
       "      <td>irinotecan hydrochloride</td>\n",
       "      <td>IRINOTECAN HYDROCHLORIDE</td>\n",
       "      <td>153329</td>\n",
       "    </tr>\n",
       "    <tr>\n",
       "      <th>208250</th>\n",
       "      <td>1726325</td>\n",
       "      <td>0009-7529-03</td>\n",
       "      <td>Camptosar</td>\n",
       "      <td>irinotecan hydrochloride</td>\n",
       "      <td>IRINOTECAN HYDROCHLORIDE</td>\n",
       "      <td>153329</td>\n",
       "    </tr>\n",
       "    <tr>\n",
       "      <th>208251</th>\n",
       "      <td>1726325</td>\n",
       "      <td>0009-1111-02</td>\n",
       "      <td>Camptosar</td>\n",
       "      <td>irinotecan hydrochloride</td>\n",
       "      <td>IRINOTECAN HYDROCHLORIDE</td>\n",
       "      <td>153329</td>\n",
       "    </tr>\n",
       "    <tr>\n",
       "      <th>208252</th>\n",
       "      <td>1726335</td>\n",
       "      <td>0009-7529-05</td>\n",
       "      <td>Camptosar</td>\n",
       "      <td>irinotecan hydrochloride</td>\n",
       "      <td>IRINOTECAN HYDROCHLORIDE</td>\n",
       "      <td>153329</td>\n",
       "    </tr>\n",
       "  </tbody>\n",
       "</table>\n",
       "</div>"
      ],
      "text/plain": [
       "          rxcui NDCPACKAGECODE PROPRIETARYNAME        NONPROPRIETARYNAME  \\\n",
       "206647  1719777   69171-398-01         Onivyde  Irinotecan hydrochloride   \n",
       "206648  1719777   15054-0043-1         Onivyde  IRINOTECAN HYDROCHLORIDE   \n",
       "208228  1726321   0009-7529-04       Camptosar  irinotecan hydrochloride   \n",
       "208229  1726323   0009-7529-04       Camptosar  irinotecan hydrochloride   \n",
       "208230  1726323   0009-7529-03       Camptosar  irinotecan hydrochloride   \n",
       "208231  1726323   0009-7529-05       Camptosar  irinotecan hydrochloride   \n",
       "208232  1726323   0009-1111-02       Camptosar  irinotecan hydrochloride   \n",
       "208250  1726325   0009-7529-03       Camptosar  irinotecan hydrochloride   \n",
       "208251  1726325   0009-1111-02       Camptosar  irinotecan hydrochloride   \n",
       "208252  1726335   0009-7529-05       Camptosar  irinotecan hydrochloride   \n",
       "\n",
       "                   SUBSTANCENAME  active_ingredients  \n",
       "206647  IRINOTECAN HYDROCHLORIDE             1719767  \n",
       "206648  IRINOTECAN HYDROCHLORIDE             1719767  \n",
       "208228  IRINOTECAN HYDROCHLORIDE              153329  \n",
       "208229  IRINOTECAN HYDROCHLORIDE              153329  \n",
       "208230  IRINOTECAN HYDROCHLORIDE              153329  \n",
       "208231  IRINOTECAN HYDROCHLORIDE              153329  \n",
       "208232  IRINOTECAN HYDROCHLORIDE              153329  \n",
       "208250  IRINOTECAN HYDROCHLORIDE              153329  \n",
       "208251  IRINOTECAN HYDROCHLORIDE              153329  \n",
       "208252  IRINOTECAN HYDROCHLORIDE              153329  "
      ]
     },
     "execution_count": 24,
     "metadata": {},
     "output_type": "execute_result"
    }
   ],
   "source": [
    "# seems like rxnorm considers them two different things\n",
    "# no clear way to get from one form to the liposome form\n",
    "\n",
    "# does seem like a real difference\n",
    "\n",
    "good.query(\"SUBSTANCENAME == 'IRINOTECAN HYDROCHLORIDE'\")"
   ]
  },
  {
   "cell_type": "code",
   "execution_count": 25,
   "metadata": {},
   "outputs": [
    {
     "data": {
      "text/html": [
       "<div>\n",
       "<style scoped>\n",
       "    .dataframe tbody tr th:only-of-type {\n",
       "        vertical-align: middle;\n",
       "    }\n",
       "\n",
       "    .dataframe tbody tr th {\n",
       "        vertical-align: top;\n",
       "    }\n",
       "\n",
       "    .dataframe thead th {\n",
       "        text-align: right;\n",
       "    }\n",
       "</style>\n",
       "<table border=\"1\" class=\"dataframe\">\n",
       "  <thead>\n",
       "    <tr style=\"text-align: right;\">\n",
       "      <th></th>\n",
       "      <th>rxcui</th>\n",
       "      <th>NDCPACKAGECODE</th>\n",
       "      <th>PROPRIETARYNAME</th>\n",
       "      <th>NONPROPRIETARYNAME</th>\n",
       "      <th>SUBSTANCENAME</th>\n",
       "      <th>active_ingredients</th>\n",
       "    </tr>\n",
       "  </thead>\n",
       "  <tbody>\n",
       "    <tr>\n",
       "      <th>235873</th>\n",
       "      <td>2048025</td>\n",
       "      <td>67457-833-06</td>\n",
       "      <td>Fulphila</td>\n",
       "      <td>pegfilgrastim</td>\n",
       "      <td>PEGFILGRASTIM</td>\n",
       "      <td>2048018</td>\n",
       "    </tr>\n",
       "    <tr>\n",
       "      <th>238216</th>\n",
       "      <td>2102705</td>\n",
       "      <td>70114-101-01</td>\n",
       "      <td>UDENYCA</td>\n",
       "      <td>pegfilgrastim-cbqv</td>\n",
       "      <td>PEGFILGRASTIM</td>\n",
       "      <td>2102692</td>\n",
       "    </tr>\n",
       "  </tbody>\n",
       "</table>\n",
       "</div>"
      ],
      "text/plain": [
       "          rxcui NDCPACKAGECODE PROPRIETARYNAME  NONPROPRIETARYNAME  \\\n",
       "235873  2048025   67457-833-06        Fulphila       pegfilgrastim   \n",
       "238216  2102705   70114-101-01         UDENYCA  pegfilgrastim-cbqv   \n",
       "\n",
       "        SUBSTANCENAME  active_ingredients  \n",
       "235873  PEGFILGRASTIM             2048018  \n",
       "238216  PEGFILGRASTIM             2102692  "
      ]
     },
     "execution_count": 25,
     "metadata": {},
     "output_type": "execute_result"
    }
   ],
   "source": [
    "# seems to be two versions of the same protein\n",
    "# debateable whether they're really the same\n",
    "\n",
    "good.query(\"SUBSTANCENAME == 'PEGFILGRASTIM'\")"
   ]
  },
  {
   "cell_type": "code",
   "execution_count": 26,
   "metadata": {},
   "outputs": [
    {
     "data": {
      "text/html": [
       "<div>\n",
       "<style scoped>\n",
       "    .dataframe tbody tr th:only-of-type {\n",
       "        vertical-align: middle;\n",
       "    }\n",
       "\n",
       "    .dataframe tbody tr th {\n",
       "        vertical-align: top;\n",
       "    }\n",
       "\n",
       "    .dataframe thead th {\n",
       "        text-align: right;\n",
       "    }\n",
       "</style>\n",
       "<table border=\"1\" class=\"dataframe\">\n",
       "  <thead>\n",
       "    <tr style=\"text-align: right;\">\n",
       "      <th></th>\n",
       "      <th>rxcui</th>\n",
       "      <th>NDCPACKAGECODE</th>\n",
       "      <th>PROPRIETARYNAME</th>\n",
       "      <th>NONPROPRIETARYNAME</th>\n",
       "      <th>SUBSTANCENAME</th>\n",
       "      <th>active_ingredients</th>\n",
       "    </tr>\n",
       "  </thead>\n",
       "  <tbody>\n",
       "    <tr>\n",
       "      <th>103251</th>\n",
       "      <td>847245</td>\n",
       "      <td>0169-7708-21</td>\n",
       "      <td>Norditropin</td>\n",
       "      <td>somatropin</td>\n",
       "      <td>SOMATROPIN</td>\n",
       "      <td>314845</td>\n",
       "    </tr>\n",
       "    <tr>\n",
       "      <th>103252</th>\n",
       "      <td>847245</td>\n",
       "      <td>0169-7708-92</td>\n",
       "      <td>Norditropin</td>\n",
       "      <td>somatropin</td>\n",
       "      <td>SOMATROPIN</td>\n",
       "      <td>314845</td>\n",
       "    </tr>\n",
       "    <tr>\n",
       "      <th>103253</th>\n",
       "      <td>847247</td>\n",
       "      <td>0169-7704-21</td>\n",
       "      <td>Norditropin</td>\n",
       "      <td>somatropin</td>\n",
       "      <td>SOMATROPIN</td>\n",
       "      <td>314845</td>\n",
       "    </tr>\n",
       "    <tr>\n",
       "      <th>103254</th>\n",
       "      <td>847247</td>\n",
       "      <td>0169-7704-92</td>\n",
       "      <td>Norditropin</td>\n",
       "      <td>somatropin</td>\n",
       "      <td>SOMATROPIN</td>\n",
       "      <td>314845</td>\n",
       "    </tr>\n",
       "    <tr>\n",
       "      <th>103259</th>\n",
       "      <td>847348</td>\n",
       "      <td>0169-7705-21</td>\n",
       "      <td>Norditropin</td>\n",
       "      <td>somatropin</td>\n",
       "      <td>SOMATROPIN</td>\n",
       "      <td>314845</td>\n",
       "    </tr>\n",
       "    <tr>\n",
       "      <th>103260</th>\n",
       "      <td>847348</td>\n",
       "      <td>0169-7705-92</td>\n",
       "      <td>Norditropin</td>\n",
       "      <td>somatropin</td>\n",
       "      <td>SOMATROPIN</td>\n",
       "      <td>314845</td>\n",
       "    </tr>\n",
       "    <tr>\n",
       "      <th>104543</th>\n",
       "      <td>849851</td>\n",
       "      <td>0169-7703-21</td>\n",
       "      <td>Norditropin</td>\n",
       "      <td>somatropin</td>\n",
       "      <td>SOMATROPIN</td>\n",
       "      <td>314845</td>\n",
       "    </tr>\n",
       "    <tr>\n",
       "      <th>108460</th>\n",
       "      <td>854302</td>\n",
       "      <td>0781-3004-07</td>\n",
       "      <td>Omnitrope</td>\n",
       "      <td>Somatropin</td>\n",
       "      <td>SOMATROPIN</td>\n",
       "      <td>314845</td>\n",
       "    </tr>\n",
       "    <tr>\n",
       "      <th>108461</th>\n",
       "      <td>854302</td>\n",
       "      <td>0781-3004-26</td>\n",
       "      <td>Omnitrope</td>\n",
       "      <td>Somatropin</td>\n",
       "      <td>SOMATROPIN</td>\n",
       "      <td>314845</td>\n",
       "    </tr>\n",
       "    <tr>\n",
       "      <th>118882</th>\n",
       "      <td>864110</td>\n",
       "      <td>0781-3001-07</td>\n",
       "      <td>Omnitrope</td>\n",
       "      <td>Somatropin</td>\n",
       "      <td>SOMATROPIN</td>\n",
       "      <td>314845</td>\n",
       "    </tr>\n",
       "    <tr>\n",
       "      <th>118883</th>\n",
       "      <td>864110</td>\n",
       "      <td>0781-3001-26</td>\n",
       "      <td>Omnitrope</td>\n",
       "      <td>Somatropin</td>\n",
       "      <td>SOMATROPIN</td>\n",
       "      <td>314845</td>\n",
       "    </tr>\n",
       "    <tr>\n",
       "      <th>140564</th>\n",
       "      <td>992403</td>\n",
       "      <td>50242-075-01</td>\n",
       "      <td>Nutropin AQ NuSpin 5</td>\n",
       "      <td>somatropin</td>\n",
       "      <td>SOMATROPIN</td>\n",
       "      <td>259321</td>\n",
       "    </tr>\n",
       "    <tr>\n",
       "      <th>211033</th>\n",
       "      <td>1735496</td>\n",
       "      <td>50242-076-01</td>\n",
       "      <td>Nutropin AQ NuSpin 20</td>\n",
       "      <td>somatropin</td>\n",
       "      <td>SOMATROPIN</td>\n",
       "      <td>259321</td>\n",
       "    </tr>\n",
       "    <tr>\n",
       "      <th>211042</th>\n",
       "      <td>1735537</td>\n",
       "      <td>50242-074-01</td>\n",
       "      <td>Nutropin AQ NuSpin 10</td>\n",
       "      <td>somatropin</td>\n",
       "      <td>SOMATROPIN</td>\n",
       "      <td>259321</td>\n",
       "    </tr>\n",
       "  </tbody>\n",
       "</table>\n",
       "</div>"
      ],
      "text/plain": [
       "          rxcui NDCPACKAGECODE        PROPRIETARYNAME NONPROPRIETARYNAME  \\\n",
       "103251   847245   0169-7708-21            Norditropin         somatropin   \n",
       "103252   847245   0169-7708-92            Norditropin         somatropin   \n",
       "103253   847247   0169-7704-21            Norditropin         somatropin   \n",
       "103254   847247   0169-7704-92            Norditropin         somatropin   \n",
       "103259   847348   0169-7705-21            Norditropin         somatropin   \n",
       "103260   847348   0169-7705-92            Norditropin         somatropin   \n",
       "104543   849851   0169-7703-21            Norditropin         somatropin   \n",
       "108460   854302   0781-3004-07              Omnitrope         Somatropin   \n",
       "108461   854302   0781-3004-26              Omnitrope         Somatropin   \n",
       "118882   864110   0781-3001-07              Omnitrope         Somatropin   \n",
       "118883   864110   0781-3001-26              Omnitrope         Somatropin   \n",
       "140564   992403   50242-075-01   Nutropin AQ NuSpin 5         somatropin   \n",
       "211033  1735496   50242-076-01  Nutropin AQ NuSpin 20         somatropin   \n",
       "211042  1735537   50242-074-01  Nutropin AQ NuSpin 10         somatropin   \n",
       "\n",
       "       SUBSTANCENAME  active_ingredients  \n",
       "103251    SOMATROPIN              314845  \n",
       "103252    SOMATROPIN              314845  \n",
       "103253    SOMATROPIN              314845  \n",
       "103254    SOMATROPIN              314845  \n",
       "103259    SOMATROPIN              314845  \n",
       "103260    SOMATROPIN              314845  \n",
       "104543    SOMATROPIN              314845  \n",
       "108460    SOMATROPIN              314845  \n",
       "108461    SOMATROPIN              314845  \n",
       "118882    SOMATROPIN              314845  \n",
       "118883    SOMATROPIN              314845  \n",
       "140564    SOMATROPIN              259321  \n",
       "211033    SOMATROPIN              259321  \n",
       "211042    SOMATROPIN              259321  "
      ]
     },
     "execution_count": 26,
     "metadata": {},
     "output_type": "execute_result"
    }
   ],
   "source": [
    "# this seems ok since one is e coli derived and the other is recombinant dna\n",
    "\n",
    "good.query(\"SUBSTANCENAME == 'SOMATROPIN'\")"
   ]
  },
  {
   "cell_type": "markdown",
   "metadata": {},
   "source": [
    "For these examples it seems that there are nuanced differences between the active ingredients of some similar drugs.\n",
    "The FDA's table provides a high level summary of the active ingredients, but does not contain enough information to draw a conclusion regarding whether the mapping is correct.\n",
    "\n",
    "For the three examples we looked at here our algorithm's outputs seem to be correct."
   ]
  },
  {
   "cell_type": "markdown",
   "metadata": {},
   "source": [
    "## Drugs with multiple ingredients"
   ]
  },
  {
   "cell_type": "code",
   "execution_count": 27,
   "metadata": {},
   "outputs": [],
   "source": [
    "temp = (good\n",
    "    .groupby(\"SUBSTANCENAME\")\n",
    "    [\"active_ingredients\"]\n",
    "    .nunique()\n",
    "    .to_frame(\"num_ans\")\n",
    "    .reset_index()\n",
    "    .assign(num_ingredients = lambda df: df[\"SUBSTANCENAME\"].str.count(\";\") + 1)\n",
    "    .assign(match = lambda df: df[\"num_ans\"] == df[\"num_ingredients\"])\n",
    ")"
   ]
  },
  {
   "cell_type": "code",
   "execution_count": 28,
   "metadata": {},
   "outputs": [
    {
     "data": {
      "text/plain": [
       "(769, 4)"
      ]
     },
     "execution_count": 28,
     "metadata": {},
     "output_type": "execute_result"
    }
   ],
   "source": [
    "temp.shape"
   ]
  },
  {
   "cell_type": "code",
   "execution_count": 29,
   "metadata": {},
   "outputs": [
    {
     "data": {
      "text/html": [
       "<div>\n",
       "<style scoped>\n",
       "    .dataframe tbody tr th:only-of-type {\n",
       "        vertical-align: middle;\n",
       "    }\n",
       "\n",
       "    .dataframe tbody tr th {\n",
       "        vertical-align: top;\n",
       "    }\n",
       "\n",
       "    .dataframe thead th {\n",
       "        text-align: right;\n",
       "    }\n",
       "</style>\n",
       "<table border=\"1\" class=\"dataframe\">\n",
       "  <thead>\n",
       "    <tr style=\"text-align: right;\">\n",
       "      <th></th>\n",
       "      <th>SUBSTANCENAME</th>\n",
       "      <th>num_ans</th>\n",
       "      <th>num_ingredients</th>\n",
       "      <th>match</th>\n",
       "    </tr>\n",
       "  </thead>\n",
       "  <tbody>\n",
       "    <tr>\n",
       "      <th>0</th>\n",
       "      <td>.ALPHA.1-PROTEINASE INHIBITOR HUMAN</td>\n",
       "      <td>1</td>\n",
       "      <td>1</td>\n",
       "      <td>True</td>\n",
       "    </tr>\n",
       "    <tr>\n",
       "      <th>1</th>\n",
       "      <td>ABACAVIR SULFATE; LAMIVUDINE</td>\n",
       "      <td>1</td>\n",
       "      <td>2</td>\n",
       "      <td>False</td>\n",
       "    </tr>\n",
       "    <tr>\n",
       "      <th>2</th>\n",
       "      <td>ABIRATERONE ACETATE</td>\n",
       "      <td>1</td>\n",
       "      <td>1</td>\n",
       "      <td>True</td>\n",
       "    </tr>\n",
       "    <tr>\n",
       "      <th>3</th>\n",
       "      <td>ACEBUTOLOL HYDROCHLORIDE</td>\n",
       "      <td>1</td>\n",
       "      <td>1</td>\n",
       "      <td>True</td>\n",
       "    </tr>\n",
       "    <tr>\n",
       "      <th>4</th>\n",
       "      <td>ACETAMINOPHEN; ASPIRIN; DIPHENHYDRAMINE CITRATE</td>\n",
       "      <td>1</td>\n",
       "      <td>3</td>\n",
       "      <td>False</td>\n",
       "    </tr>\n",
       "  </tbody>\n",
       "</table>\n",
       "</div>"
      ],
      "text/plain": [
       "                                     SUBSTANCENAME  num_ans  num_ingredients  \\\n",
       "0              .ALPHA.1-PROTEINASE INHIBITOR HUMAN        1                1   \n",
       "1                     ABACAVIR SULFATE; LAMIVUDINE        1                2   \n",
       "2                              ABIRATERONE ACETATE        1                1   \n",
       "3                         ACEBUTOLOL HYDROCHLORIDE        1                1   \n",
       "4  ACETAMINOPHEN; ASPIRIN; DIPHENHYDRAMINE CITRATE        1                3   \n",
       "\n",
       "   match  \n",
       "0   True  \n",
       "1  False  \n",
       "2   True  \n",
       "3   True  \n",
       "4  False  "
      ]
     },
     "execution_count": 29,
     "metadata": {},
     "output_type": "execute_result"
    }
   ],
   "source": [
    "temp.head()"
   ]
  },
  {
   "cell_type": "code",
   "execution_count": 30,
   "metadata": {},
   "outputs": [
    {
     "data": {
      "text/plain": [
       "True     559\n",
       "False    210\n",
       "Name: match, dtype: int64"
      ]
     },
     "execution_count": 30,
     "metadata": {},
     "output_type": "execute_result"
    }
   ],
   "source": [
    "temp[\"match\"].value_counts()"
   ]
  },
  {
   "cell_type": "markdown",
   "metadata": {},
   "source": [
    "The majority of our results matches up with the FDA's.\n",
    "This isn't too bad for a first try."
   ]
  },
  {
   "cell_type": "markdown",
   "metadata": {},
   "source": [
    "---"
   ]
  },
  {
   "cell_type": "markdown",
   "metadata": {},
   "source": [
    "## Multi active ingredient drug examples"
   ]
  },
  {
   "cell_type": "code",
   "execution_count": 31,
   "metadata": {},
   "outputs": [
    {
     "data": {
      "text/plain": [
       "1    571\n",
       "2    141\n",
       "3     31\n",
       "4     15\n",
       "5      9\n",
       "8      1\n",
       "7      1\n",
       "Name: num_ingredients, dtype: int64"
      ]
     },
     "execution_count": 31,
     "metadata": {},
     "output_type": "execute_result"
    }
   ],
   "source": [
    "temp[\"num_ingredients\"].value_counts()"
   ]
  },
  {
   "cell_type": "code",
   "execution_count": 32,
   "metadata": {},
   "outputs": [
    {
     "data": {
      "text/html": [
       "<div>\n",
       "<style scoped>\n",
       "    .dataframe tbody tr th:only-of-type {\n",
       "        vertical-align: middle;\n",
       "    }\n",
       "\n",
       "    .dataframe tbody tr th {\n",
       "        vertical-align: top;\n",
       "    }\n",
       "\n",
       "    .dataframe thead th {\n",
       "        text-align: right;\n",
       "    }\n",
       "</style>\n",
       "<table border=\"1\" class=\"dataframe\">\n",
       "  <thead>\n",
       "    <tr style=\"text-align: right;\">\n",
       "      <th></th>\n",
       "      <th>rxcui</th>\n",
       "      <th>NDCPACKAGECODE</th>\n",
       "      <th>PROPRIETARYNAME</th>\n",
       "      <th>NONPROPRIETARYNAME</th>\n",
       "      <th>SUBSTANCENAME</th>\n",
       "      <th>active_ingredients</th>\n",
       "    </tr>\n",
       "  </thead>\n",
       "  <tbody>\n",
       "    <tr>\n",
       "      <th>179723</th>\n",
       "      <td>1300293</td>\n",
       "      <td>51457-000-04</td>\n",
       "      <td>Alo Therapeutic Massage</td>\n",
       "      <td>MENTHOL, HISTAMINE DIHYDROCHLORIDE</td>\n",
       "      <td>MENTHOL; HISTAMINE DIHYDROCHLORIDE</td>\n",
       "      <td>142136</td>\n",
       "    </tr>\n",
       "    <tr>\n",
       "      <th>179724</th>\n",
       "      <td>1300293</td>\n",
       "      <td>71061-763-04</td>\n",
       "      <td>Alo Therapeutic Massage</td>\n",
       "      <td>MENTHOL, HISTAMINE DIHYDROCHLORIDE</td>\n",
       "      <td>MENTHOL; HISTAMINE DIHYDROCHLORIDE</td>\n",
       "      <td>142136</td>\n",
       "    </tr>\n",
       "    <tr>\n",
       "      <th>179725</th>\n",
       "      <td>1300293</td>\n",
       "      <td>71061-764-32</td>\n",
       "      <td>Alo Therapeutic Massage</td>\n",
       "      <td>MENTHOL, HISTAMINE DIHYDROCHLORIDE</td>\n",
       "      <td>MENTHOL; HISTAMINE DIHYDROCHLORIDE</td>\n",
       "      <td>142136</td>\n",
       "    </tr>\n",
       "    <tr>\n",
       "      <th>179726</th>\n",
       "      <td>1300293</td>\n",
       "      <td>71061-765-28</td>\n",
       "      <td>Alo Therapeutic Massage</td>\n",
       "      <td>MENTHOL, HISTAMINE DIHYDROCHLORIDE</td>\n",
       "      <td>MENTHOL; HISTAMINE DIHYDROCHLORIDE</td>\n",
       "      <td>142136</td>\n",
       "    </tr>\n",
       "    <tr>\n",
       "      <th>179727</th>\n",
       "      <td>1300293</td>\n",
       "      <td>71061-766-05</td>\n",
       "      <td>Alo Therapeutic Massage</td>\n",
       "      <td>MENTHOL, HISTAMINE DIHYDROCHLORIDE</td>\n",
       "      <td>MENTHOL; HISTAMINE DIHYDROCHLORIDE</td>\n",
       "      <td>142136</td>\n",
       "    </tr>\n",
       "    <tr>\n",
       "      <th>179728</th>\n",
       "      <td>1300293</td>\n",
       "      <td>51457-001-32</td>\n",
       "      <td>ALO THERAPEUTIC MASSAGE PAIN RELIEVING</td>\n",
       "      <td>MENTHOL, HISTAMINE DIHYDROCHLORIDE</td>\n",
       "      <td>MENTHOL; HISTAMINE DIHYDROCHLORIDE</td>\n",
       "      <td>142136</td>\n",
       "    </tr>\n",
       "  </tbody>\n",
       "</table>\n",
       "</div>"
      ],
      "text/plain": [
       "          rxcui NDCPACKAGECODE                         PROPRIETARYNAME  \\\n",
       "179723  1300293   51457-000-04                 Alo Therapeutic Massage   \n",
       "179724  1300293   71061-763-04                 Alo Therapeutic Massage   \n",
       "179725  1300293   71061-764-32                 Alo Therapeutic Massage   \n",
       "179726  1300293   71061-765-28                 Alo Therapeutic Massage   \n",
       "179727  1300293   71061-766-05                 Alo Therapeutic Massage   \n",
       "179728  1300293   51457-001-32  ALO THERAPEUTIC MASSAGE PAIN RELIEVING   \n",
       "\n",
       "                        NONPROPRIETARYNAME  \\\n",
       "179723  MENTHOL, HISTAMINE DIHYDROCHLORIDE   \n",
       "179724  MENTHOL, HISTAMINE DIHYDROCHLORIDE   \n",
       "179725  MENTHOL, HISTAMINE DIHYDROCHLORIDE   \n",
       "179726  MENTHOL, HISTAMINE DIHYDROCHLORIDE   \n",
       "179727  MENTHOL, HISTAMINE DIHYDROCHLORIDE   \n",
       "179728  MENTHOL, HISTAMINE DIHYDROCHLORIDE   \n",
       "\n",
       "                             SUBSTANCENAME  active_ingredients  \n",
       "179723  MENTHOL; HISTAMINE DIHYDROCHLORIDE              142136  \n",
       "179724  MENTHOL; HISTAMINE DIHYDROCHLORIDE              142136  \n",
       "179725  MENTHOL; HISTAMINE DIHYDROCHLORIDE              142136  \n",
       "179726  MENTHOL; HISTAMINE DIHYDROCHLORIDE              142136  \n",
       "179727  MENTHOL; HISTAMINE DIHYDROCHLORIDE              142136  \n",
       "179728  MENTHOL; HISTAMINE DIHYDROCHLORIDE              142136  "
      ]
     },
     "execution_count": 32,
     "metadata": {},
     "output_type": "execute_result"
    }
   ],
   "source": [
    "# we only found one of the two active ingredients\n",
    "\n",
    "good.query(\"rxcui == 1300293\")"
   ]
  },
  {
   "cell_type": "code",
   "execution_count": 33,
   "metadata": {},
   "outputs": [
    {
     "data": {
      "text/html": [
       "<div>\n",
       "<style scoped>\n",
       "    .dataframe tbody tr th:only-of-type {\n",
       "        vertical-align: middle;\n",
       "    }\n",
       "\n",
       "    .dataframe tbody tr th {\n",
       "        vertical-align: top;\n",
       "    }\n",
       "\n",
       "    .dataframe thead th {\n",
       "        text-align: right;\n",
       "    }\n",
       "</style>\n",
       "<table border=\"1\" class=\"dataframe\">\n",
       "  <thead>\n",
       "    <tr style=\"text-align: right;\">\n",
       "      <th></th>\n",
       "      <th>rxcui</th>\n",
       "      <th>NDCPACKAGECODE</th>\n",
       "      <th>PROPRIETARYNAME</th>\n",
       "      <th>NONPROPRIETARYNAME</th>\n",
       "      <th>SUBSTANCENAME</th>\n",
       "      <th>active_ingredients</th>\n",
       "    </tr>\n",
       "  </thead>\n",
       "  <tbody>\n",
       "    <tr>\n",
       "      <th>90537</th>\n",
       "      <td>602395</td>\n",
       "      <td>53808-0767-1</td>\n",
       "      <td>EPZICOM</td>\n",
       "      <td>abacavir sulfate and lamivudine</td>\n",
       "      <td>ABACAVIR SULFATE; LAMIVUDINE</td>\n",
       "      <td>221052</td>\n",
       "    </tr>\n",
       "    <tr>\n",
       "      <th>90538</th>\n",
       "      <td>602395</td>\n",
       "      <td>49702-206-13</td>\n",
       "      <td>EPZICOM</td>\n",
       "      <td>abacavir sulfate and lamivudine</td>\n",
       "      <td>ABACAVIR SULFATE; LAMIVUDINE</td>\n",
       "      <td>221052</td>\n",
       "    </tr>\n",
       "    <tr>\n",
       "      <th>90539</th>\n",
       "      <td>602395</td>\n",
       "      <td>70518-0691-0</td>\n",
       "      <td>EPZICOM</td>\n",
       "      <td>abacavir sulfate and lamivudine</td>\n",
       "      <td>ABACAVIR SULFATE; LAMIVUDINE</td>\n",
       "      <td>221052</td>\n",
       "    </tr>\n",
       "    <tr>\n",
       "      <th>90540</th>\n",
       "      <td>602395</td>\n",
       "      <td>50090-0874-0</td>\n",
       "      <td>EPZICOM</td>\n",
       "      <td>abacavir sulfate and lamivudine</td>\n",
       "      <td>ABACAVIR SULFATE; LAMIVUDINE</td>\n",
       "      <td>221052</td>\n",
       "    </tr>\n",
       "  </tbody>\n",
       "</table>\n",
       "</div>"
      ],
      "text/plain": [
       "        rxcui NDCPACKAGECODE PROPRIETARYNAME               NONPROPRIETARYNAME  \\\n",
       "90537  602395   53808-0767-1         EPZICOM  abacavir sulfate and lamivudine   \n",
       "90538  602395   49702-206-13         EPZICOM  abacavir sulfate and lamivudine   \n",
       "90539  602395   70518-0691-0         EPZICOM  abacavir sulfate and lamivudine   \n",
       "90540  602395   50090-0874-0         EPZICOM  abacavir sulfate and lamivudine   \n",
       "\n",
       "                      SUBSTANCENAME  active_ingredients  \n",
       "90537  ABACAVIR SULFATE; LAMIVUDINE              221052  \n",
       "90538  ABACAVIR SULFATE; LAMIVUDINE              221052  \n",
       "90539  ABACAVIR SULFATE; LAMIVUDINE              221052  \n",
       "90540  ABACAVIR SULFATE; LAMIVUDINE              221052  "
      ]
     },
     "execution_count": 33,
     "metadata": {},
     "output_type": "execute_result"
    }
   ],
   "source": [
    "# again we see that we only found one of the two active ingredients\n",
    "\n",
    "good.query(\"SUBSTANCENAME == 'ABACAVIR SULFATE; LAMIVUDINE'\")"
   ]
  },
  {
   "cell_type": "markdown",
   "metadata": {},
   "source": [
    "# Conclusion\n",
    "\n",
    "Our simple pattern does a reasonable job at finding the active ingredient for a small number of drugs.\n",
    "It does however fail to work for drugs with multiple active ingredients.\n",
    "\n",
    "We will need to move to a BFS algorithm to deal with these more complex drugs."
   ]
  }
 ],
 "metadata": {
  "kernelspec": {
   "display_name": "Python 3",
   "language": "python",
   "name": "python3"
  },
  "language_info": {
   "codemirror_mode": {
    "name": "ipython",
    "version": 3
   },
   "file_extension": ".py",
   "mimetype": "text/x-python",
   "name": "python",
   "nbconvert_exporter": "python",
   "pygments_lexer": "ipython3",
   "version": "3.6.7"
  }
 },
 "nbformat": 4,
 "nbformat_minor": 2
}
