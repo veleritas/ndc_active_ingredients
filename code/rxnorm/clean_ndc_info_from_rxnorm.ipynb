{
 "cells": [
  {
   "cell_type": "markdown",
   "metadata": {},
   "source": [
    "# Clean up the NDC info we extracted out of `RXNSAT.RRF`\n",
    "\n",
    "2019-04-18\n",
    "\n",
    "Clean up the data so hopefully we can join it up with the FDA provided NDC info."
   ]
  },
  {
   "cell_type": "code",
   "execution_count": 1,
   "metadata": {},
   "outputs": [],
   "source": [
    "import pandas as pd\n",
    "import re"
   ]
  },
  {
   "cell_type": "markdown",
   "metadata": {},
   "source": [
    "## Read RxNorm NDC info"
   ]
  },
  {
   "cell_type": "code",
   "execution_count": 2,
   "metadata": {},
   "outputs": [],
   "source": [
    "ndcs = pd.read_csv(\"../../pipeline/rxnorm/raw_ndc_info.tsv\", sep='\\t', low_memory=False)"
   ]
  },
  {
   "cell_type": "code",
   "execution_count": 3,
   "metadata": {},
   "outputs": [
    {
     "data": {
      "text/plain": [
       "(1656783, 10)"
      ]
     },
     "execution_count": 3,
     "metadata": {},
     "output_type": "execute_result"
    }
   ],
   "source": [
    "ndcs.shape"
   ]
  },
  {
   "cell_type": "code",
   "execution_count": 4,
   "metadata": {},
   "outputs": [
    {
     "data": {
      "text/html": [
       "<div>\n",
       "<style scoped>\n",
       "    .dataframe tbody tr th:only-of-type {\n",
       "        vertical-align: middle;\n",
       "    }\n",
       "\n",
       "    .dataframe tbody tr th {\n",
       "        vertical-align: top;\n",
       "    }\n",
       "\n",
       "    .dataframe thead th {\n",
       "        text-align: right;\n",
       "    }\n",
       "</style>\n",
       "<table border=\"1\" class=\"dataframe\">\n",
       "  <thead>\n",
       "    <tr style=\"text-align: right;\">\n",
       "      <th></th>\n",
       "      <th>rxcui</th>\n",
       "      <th>rxaui</th>\n",
       "      <th>stype</th>\n",
       "      <th>code</th>\n",
       "      <th>atui</th>\n",
       "      <th>atn</th>\n",
       "      <th>sab</th>\n",
       "      <th>atv</th>\n",
       "      <th>suppress</th>\n",
       "      <th>cvf</th>\n",
       "    </tr>\n",
       "  </thead>\n",
       "  <tbody>\n",
       "    <tr>\n",
       "      <th>0</th>\n",
       "      <td>1356</td>\n",
       "      <td>1473211</td>\n",
       "      <td>AUI</td>\n",
       "      <td>4009746</td>\n",
       "      <td>NaN</td>\n",
       "      <td>NDC</td>\n",
       "      <td>VANDF</td>\n",
       "      <td>000395021301</td>\n",
       "      <td>O</td>\n",
       "      <td>NaN</td>\n",
       "    </tr>\n",
       "    <tr>\n",
       "      <th>1</th>\n",
       "      <td>1356</td>\n",
       "      <td>1473211</td>\n",
       "      <td>AUI</td>\n",
       "      <td>4009746</td>\n",
       "      <td>NaN</td>\n",
       "      <td>NDC</td>\n",
       "      <td>VANDF</td>\n",
       "      <td>000395021391</td>\n",
       "      <td>O</td>\n",
       "      <td>NaN</td>\n",
       "    </tr>\n",
       "    <tr>\n",
       "      <th>2</th>\n",
       "      <td>1356</td>\n",
       "      <td>1473211</td>\n",
       "      <td>AUI</td>\n",
       "      <td>4009746</td>\n",
       "      <td>NaN</td>\n",
       "      <td>NDC</td>\n",
       "      <td>VANDF</td>\n",
       "      <td>017317004101</td>\n",
       "      <td>O</td>\n",
       "      <td>NaN</td>\n",
       "    </tr>\n",
       "    <tr>\n",
       "      <th>3</th>\n",
       "      <td>1356</td>\n",
       "      <td>1473211</td>\n",
       "      <td>AUI</td>\n",
       "      <td>4009746</td>\n",
       "      <td>NaN</td>\n",
       "      <td>NDC</td>\n",
       "      <td>VANDF</td>\n",
       "      <td>017317004105</td>\n",
       "      <td>O</td>\n",
       "      <td>NaN</td>\n",
       "    </tr>\n",
       "    <tr>\n",
       "      <th>4</th>\n",
       "      <td>1356</td>\n",
       "      <td>1473211</td>\n",
       "      <td>AUI</td>\n",
       "      <td>4009746</td>\n",
       "      <td>NaN</td>\n",
       "      <td>NDC</td>\n",
       "      <td>VANDF</td>\n",
       "      <td>049452815001</td>\n",
       "      <td>O</td>\n",
       "      <td>NaN</td>\n",
       "    </tr>\n",
       "  </tbody>\n",
       "</table>\n",
       "</div>"
      ],
      "text/plain": [
       "   rxcui    rxaui stype     code atui  atn    sab           atv suppress  cvf\n",
       "0   1356  1473211   AUI  4009746  NaN  NDC  VANDF  000395021301        O  NaN\n",
       "1   1356  1473211   AUI  4009746  NaN  NDC  VANDF  000395021391        O  NaN\n",
       "2   1356  1473211   AUI  4009746  NaN  NDC  VANDF  017317004101        O  NaN\n",
       "3   1356  1473211   AUI  4009746  NaN  NDC  VANDF  017317004105        O  NaN\n",
       "4   1356  1473211   AUI  4009746  NaN  NDC  VANDF  049452815001        O  NaN"
      ]
     },
     "execution_count": 4,
     "metadata": {},
     "output_type": "execute_result"
    }
   ],
   "source": [
    "ndcs.head()"
   ]
  },
  {
   "cell_type": "markdown",
   "metadata": {},
   "source": [
    "## Basic info"
   ]
  },
  {
   "cell_type": "code",
   "execution_count": 5,
   "metadata": {},
   "outputs": [
    {
     "data": {
      "text/plain": [
       "rxcui             0\n",
       "rxaui             0\n",
       "stype             0\n",
       "code              0\n",
       "atui        1656782\n",
       "atn               0\n",
       "sab               0\n",
       "atv               0\n",
       "suppress          0\n",
       "cvf         1198256\n",
       "dtype: int64"
      ]
     },
     "execution_count": 5,
     "metadata": {},
     "output_type": "execute_result"
    }
   ],
   "source": [
    "ndcs.isnull().sum()"
   ]
  },
  {
   "cell_type": "markdown",
   "metadata": {},
   "source": [
    "### Suppress"
   ]
  },
  {
   "cell_type": "code",
   "execution_count": 6,
   "metadata": {},
   "outputs": [
    {
     "data": {
      "text/plain": [
       "N    942717\n",
       "O    659319\n",
       "Y     54747\n",
       "Name: suppress, dtype: int64"
      ]
     },
     "execution_count": 6,
     "metadata": {},
     "output_type": "execute_result"
    }
   ],
   "source": [
    "ndcs[\"suppress\"].value_counts()"
   ]
  },
  {
   "cell_type": "markdown",
   "metadata": {},
   "source": [
    "Not sure what to make of this column for now."
   ]
  },
  {
   "cell_type": "markdown",
   "metadata": {},
   "source": [
    "### ATUI column: only one value filled"
   ]
  },
  {
   "cell_type": "code",
   "execution_count": 7,
   "metadata": {},
   "outputs": [
    {
     "data": {
      "text/html": [
       "<div>\n",
       "<style scoped>\n",
       "    .dataframe tbody tr th:only-of-type {\n",
       "        vertical-align: middle;\n",
       "    }\n",
       "\n",
       "    .dataframe tbody tr th {\n",
       "        vertical-align: top;\n",
       "    }\n",
       "\n",
       "    .dataframe thead th {\n",
       "        text-align: right;\n",
       "    }\n",
       "</style>\n",
       "<table border=\"1\" class=\"dataframe\">\n",
       "  <thead>\n",
       "    <tr style=\"text-align: right;\">\n",
       "      <th></th>\n",
       "      <th>rxcui</th>\n",
       "      <th>rxaui</th>\n",
       "      <th>stype</th>\n",
       "      <th>code</th>\n",
       "      <th>atui</th>\n",
       "      <th>atn</th>\n",
       "      <th>sab</th>\n",
       "      <th>atv</th>\n",
       "      <th>suppress</th>\n",
       "      <th>cvf</th>\n",
       "    </tr>\n",
       "  </thead>\n",
       "  <tbody>\n",
       "    <tr>\n",
       "      <th>498381</th>\n",
       "      <td>310818</td>\n",
       "      <td>1429432</td>\n",
       "      <td>AUI</td>\n",
       "      <td>4002728</td>\n",
       "      <td>AT54210078</td>\n",
       "      <td>NDC</td>\n",
       "      <td>VANDF</td>\n",
       "      <td>00364224202</td>\n",
       "      <td>O</td>\n",
       "      <td>NaN</td>\n",
       "    </tr>\n",
       "  </tbody>\n",
       "</table>\n",
       "</div>"
      ],
      "text/plain": [
       "         rxcui    rxaui stype     code        atui  atn    sab          atv  \\\n",
       "498381  310818  1429432   AUI  4002728  AT54210078  NDC  VANDF  00364224202   \n",
       "\n",
       "       suppress  cvf  \n",
       "498381        O  NaN  "
      ]
     },
     "execution_count": 7,
     "metadata": {},
     "output_type": "execute_result"
    }
   ],
   "source": [
    "ndcs[ndcs[\"atui\"].notnull()]"
   ]
  },
  {
   "cell_type": "markdown",
   "metadata": {},
   "source": [
    "We can drop the single row with a not null ATUI code."
   ]
  },
  {
   "cell_type": "markdown",
   "metadata": {},
   "source": [
    "## Clean up NDC table"
   ]
  },
  {
   "cell_type": "code",
   "execution_count": 8,
   "metadata": {},
   "outputs": [],
   "source": [
    "gndcs = ndcs.drop(\"atui\", axis=1)"
   ]
  },
  {
   "cell_type": "code",
   "execution_count": 9,
   "metadata": {},
   "outputs": [
    {
     "data": {
      "text/plain": [
       "(1656783, 9)"
      ]
     },
     "execution_count": 9,
     "metadata": {},
     "output_type": "execute_result"
    }
   ],
   "source": [
    "gndcs.shape"
   ]
  },
  {
   "cell_type": "code",
   "execution_count": 10,
   "metadata": {},
   "outputs": [
    {
     "data": {
      "text/html": [
       "<div>\n",
       "<style scoped>\n",
       "    .dataframe tbody tr th:only-of-type {\n",
       "        vertical-align: middle;\n",
       "    }\n",
       "\n",
       "    .dataframe tbody tr th {\n",
       "        vertical-align: top;\n",
       "    }\n",
       "\n",
       "    .dataframe thead th {\n",
       "        text-align: right;\n",
       "    }\n",
       "</style>\n",
       "<table border=\"1\" class=\"dataframe\">\n",
       "  <thead>\n",
       "    <tr style=\"text-align: right;\">\n",
       "      <th></th>\n",
       "      <th>rxcui</th>\n",
       "      <th>rxaui</th>\n",
       "      <th>stype</th>\n",
       "      <th>code</th>\n",
       "      <th>atn</th>\n",
       "      <th>sab</th>\n",
       "      <th>atv</th>\n",
       "      <th>suppress</th>\n",
       "      <th>cvf</th>\n",
       "    </tr>\n",
       "  </thead>\n",
       "  <tbody>\n",
       "    <tr>\n",
       "      <th>0</th>\n",
       "      <td>1356</td>\n",
       "      <td>1473211</td>\n",
       "      <td>AUI</td>\n",
       "      <td>4009746</td>\n",
       "      <td>NDC</td>\n",
       "      <td>VANDF</td>\n",
       "      <td>000395021301</td>\n",
       "      <td>O</td>\n",
       "      <td>NaN</td>\n",
       "    </tr>\n",
       "    <tr>\n",
       "      <th>1</th>\n",
       "      <td>1356</td>\n",
       "      <td>1473211</td>\n",
       "      <td>AUI</td>\n",
       "      <td>4009746</td>\n",
       "      <td>NDC</td>\n",
       "      <td>VANDF</td>\n",
       "      <td>000395021391</td>\n",
       "      <td>O</td>\n",
       "      <td>NaN</td>\n",
       "    </tr>\n",
       "    <tr>\n",
       "      <th>2</th>\n",
       "      <td>1356</td>\n",
       "      <td>1473211</td>\n",
       "      <td>AUI</td>\n",
       "      <td>4009746</td>\n",
       "      <td>NDC</td>\n",
       "      <td>VANDF</td>\n",
       "      <td>017317004101</td>\n",
       "      <td>O</td>\n",
       "      <td>NaN</td>\n",
       "    </tr>\n",
       "    <tr>\n",
       "      <th>3</th>\n",
       "      <td>1356</td>\n",
       "      <td>1473211</td>\n",
       "      <td>AUI</td>\n",
       "      <td>4009746</td>\n",
       "      <td>NDC</td>\n",
       "      <td>VANDF</td>\n",
       "      <td>017317004105</td>\n",
       "      <td>O</td>\n",
       "      <td>NaN</td>\n",
       "    </tr>\n",
       "    <tr>\n",
       "      <th>4</th>\n",
       "      <td>1356</td>\n",
       "      <td>1473211</td>\n",
       "      <td>AUI</td>\n",
       "      <td>4009746</td>\n",
       "      <td>NDC</td>\n",
       "      <td>VANDF</td>\n",
       "      <td>049452815001</td>\n",
       "      <td>O</td>\n",
       "      <td>NaN</td>\n",
       "    </tr>\n",
       "  </tbody>\n",
       "</table>\n",
       "</div>"
      ],
      "text/plain": [
       "   rxcui    rxaui stype     code  atn    sab           atv suppress  cvf\n",
       "0   1356  1473211   AUI  4009746  NDC  VANDF  000395021301        O  NaN\n",
       "1   1356  1473211   AUI  4009746  NDC  VANDF  000395021391        O  NaN\n",
       "2   1356  1473211   AUI  4009746  NDC  VANDF  017317004101        O  NaN\n",
       "3   1356  1473211   AUI  4009746  NDC  VANDF  017317004105        O  NaN\n",
       "4   1356  1473211   AUI  4009746  NDC  VANDF  049452815001        O  NaN"
      ]
     },
     "execution_count": 10,
     "metadata": {},
     "output_type": "execute_result"
    }
   ],
   "source": [
    "gndcs.head()"
   ]
  },
  {
   "cell_type": "markdown",
   "metadata": {},
   "source": [
    "---"
   ]
  },
  {
   "cell_type": "markdown",
   "metadata": {},
   "source": [
    "## Number of unique drugs"
   ]
  },
  {
   "cell_type": "code",
   "execution_count": 11,
   "metadata": {},
   "outputs": [
    {
     "data": {
      "text/plain": [
       "98256"
      ]
     },
     "execution_count": 11,
     "metadata": {},
     "output_type": "execute_result"
    }
   ],
   "source": [
    "gndcs[\"rxcui\"].nunique()"
   ]
  },
  {
   "cell_type": "code",
   "execution_count": 12,
   "metadata": {},
   "outputs": [
    {
     "data": {
      "text/plain": [
       "1307212"
      ]
     },
     "execution_count": 12,
     "metadata": {},
     "output_type": "execute_result"
    }
   ],
   "source": [
    "gndcs[\"atv\"].nunique()"
   ]
  },
  {
   "cell_type": "markdown",
   "metadata": {},
   "source": [
    "Knowing that there are 250k NDCs, does that mean there are only 98k real unique drugs?"
   ]
  },
  {
   "cell_type": "markdown",
   "metadata": {},
   "source": [
    "### Number of NDCs per RXCUI"
   ]
  },
  {
   "cell_type": "code",
   "execution_count": 13,
   "metadata": {
    "scrolled": true
   },
   "outputs": [
    {
     "data": {
      "text/plain": [
       "1    38093\n",
       "2    21382\n",
       "3     6894\n",
       "4     6035\n",
       "6     3283\n",
       "Name: atv, dtype: int64"
      ]
     },
     "execution_count": 13,
     "metadata": {},
     "output_type": "execute_result"
    }
   ],
   "source": [
    "gndcs.groupby(\"rxcui\")[\"atv\"].nunique().value_counts().head()"
   ]
  },
  {
   "cell_type": "markdown",
   "metadata": {},
   "source": [
    "Keep in mind that there are multiple NDC formats in the data, and is therefore only an estimate of the number of unique NDCs per RXCUI."
   ]
  },
  {
   "cell_type": "markdown",
   "metadata": {},
   "source": [
    "---"
   ]
  },
  {
   "cell_type": "markdown",
   "metadata": {},
   "source": [
    "## Clean up NDC format\n",
    "\n",
    "RxNorm has many different formats for the NDC.\n",
    "We want to standardize the NDC format so that we can merge the RxNorm data with the FDA data."
   ]
  },
  {
   "cell_type": "code",
   "execution_count": 14,
   "metadata": {},
   "outputs": [],
   "source": [
    "info = gndcs.assign(atv_len = lambda df: df[\"atv\"].str.len())"
   ]
  },
  {
   "cell_type": "code",
   "execution_count": 15,
   "metadata": {},
   "outputs": [
    {
     "data": {
      "text/plain": [
       "(1656783, 10)"
      ]
     },
     "execution_count": 15,
     "metadata": {},
     "output_type": "execute_result"
    }
   ],
   "source": [
    "info.shape"
   ]
  },
  {
   "cell_type": "code",
   "execution_count": 16,
   "metadata": {},
   "outputs": [
    {
     "data": {
      "text/html": [
       "<div>\n",
       "<style scoped>\n",
       "    .dataframe tbody tr th:only-of-type {\n",
       "        vertical-align: middle;\n",
       "    }\n",
       "\n",
       "    .dataframe tbody tr th {\n",
       "        vertical-align: top;\n",
       "    }\n",
       "\n",
       "    .dataframe thead th {\n",
       "        text-align: right;\n",
       "    }\n",
       "</style>\n",
       "<table border=\"1\" class=\"dataframe\">\n",
       "  <thead>\n",
       "    <tr style=\"text-align: right;\">\n",
       "      <th></th>\n",
       "      <th>rxcui</th>\n",
       "      <th>rxaui</th>\n",
       "      <th>stype</th>\n",
       "      <th>code</th>\n",
       "      <th>atn</th>\n",
       "      <th>sab</th>\n",
       "      <th>atv</th>\n",
       "      <th>suppress</th>\n",
       "      <th>cvf</th>\n",
       "      <th>atv_len</th>\n",
       "    </tr>\n",
       "  </thead>\n",
       "  <tbody>\n",
       "    <tr>\n",
       "      <th>0</th>\n",
       "      <td>1356</td>\n",
       "      <td>1473211</td>\n",
       "      <td>AUI</td>\n",
       "      <td>4009746</td>\n",
       "      <td>NDC</td>\n",
       "      <td>VANDF</td>\n",
       "      <td>000395021301</td>\n",
       "      <td>O</td>\n",
       "      <td>NaN</td>\n",
       "      <td>12</td>\n",
       "    </tr>\n",
       "    <tr>\n",
       "      <th>1</th>\n",
       "      <td>1356</td>\n",
       "      <td>1473211</td>\n",
       "      <td>AUI</td>\n",
       "      <td>4009746</td>\n",
       "      <td>NDC</td>\n",
       "      <td>VANDF</td>\n",
       "      <td>000395021391</td>\n",
       "      <td>O</td>\n",
       "      <td>NaN</td>\n",
       "      <td>12</td>\n",
       "    </tr>\n",
       "    <tr>\n",
       "      <th>2</th>\n",
       "      <td>1356</td>\n",
       "      <td>1473211</td>\n",
       "      <td>AUI</td>\n",
       "      <td>4009746</td>\n",
       "      <td>NDC</td>\n",
       "      <td>VANDF</td>\n",
       "      <td>017317004101</td>\n",
       "      <td>O</td>\n",
       "      <td>NaN</td>\n",
       "      <td>12</td>\n",
       "    </tr>\n",
       "    <tr>\n",
       "      <th>3</th>\n",
       "      <td>1356</td>\n",
       "      <td>1473211</td>\n",
       "      <td>AUI</td>\n",
       "      <td>4009746</td>\n",
       "      <td>NDC</td>\n",
       "      <td>VANDF</td>\n",
       "      <td>017317004105</td>\n",
       "      <td>O</td>\n",
       "      <td>NaN</td>\n",
       "      <td>12</td>\n",
       "    </tr>\n",
       "    <tr>\n",
       "      <th>4</th>\n",
       "      <td>1356</td>\n",
       "      <td>1473211</td>\n",
       "      <td>AUI</td>\n",
       "      <td>4009746</td>\n",
       "      <td>NDC</td>\n",
       "      <td>VANDF</td>\n",
       "      <td>049452815001</td>\n",
       "      <td>O</td>\n",
       "      <td>NaN</td>\n",
       "      <td>12</td>\n",
       "    </tr>\n",
       "  </tbody>\n",
       "</table>\n",
       "</div>"
      ],
      "text/plain": [
       "   rxcui    rxaui stype     code  atn    sab           atv suppress  cvf  \\\n",
       "0   1356  1473211   AUI  4009746  NDC  VANDF  000395021301        O  NaN   \n",
       "1   1356  1473211   AUI  4009746  NDC  VANDF  000395021391        O  NaN   \n",
       "2   1356  1473211   AUI  4009746  NDC  VANDF  017317004101        O  NaN   \n",
       "3   1356  1473211   AUI  4009746  NDC  VANDF  017317004105        O  NaN   \n",
       "4   1356  1473211   AUI  4009746  NDC  VANDF  049452815001        O  NaN   \n",
       "\n",
       "   atv_len  \n",
       "0       12  \n",
       "1       12  \n",
       "2       12  \n",
       "3       12  \n",
       "4       12  "
      ]
     },
     "execution_count": 16,
     "metadata": {},
     "output_type": "execute_result"
    }
   ],
   "source": [
    "info.head()"
   ]
  },
  {
   "cell_type": "markdown",
   "metadata": {},
   "source": [
    "### NDC code lengths"
   ]
  },
  {
   "cell_type": "code",
   "execution_count": 17,
   "metadata": {},
   "outputs": [
    {
     "data": {
      "text/plain": [
       "11    671390\n",
       "12    568741\n",
       "13    416652\n",
       "Name: atv_len, dtype: int64"
      ]
     },
     "execution_count": 17,
     "metadata": {},
     "output_type": "execute_result"
    }
   ],
   "source": [
    "info[\"atv_len\"].value_counts()"
   ]
  },
  {
   "cell_type": "markdown",
   "metadata": {},
   "source": [
    "### Code length from each data source"
   ]
  },
  {
   "cell_type": "code",
   "execution_count": 18,
   "metadata": {},
   "outputs": [
    {
     "data": {
      "text/plain": [
       "atv_len  sab   \n",
       "11       MMSL      191175\n",
       "         NDDF      226094\n",
       "         RXNORM    254120\n",
       "         VANDF          1\n",
       "12       MTHSPL    309278\n",
       "         VANDF     259463\n",
       "13       CVX          549\n",
       "         GS        123074\n",
       "         MMX       293027\n",
       "         MTHSPL         2\n",
       "dtype: int64"
      ]
     },
     "execution_count": 18,
     "metadata": {},
     "output_type": "execute_result"
    }
   ],
   "source": [
    "info.groupby([\"atv_len\", \"sab\"]).size()"
   ]
  },
  {
   "cell_type": "markdown",
   "metadata": {},
   "source": [
    "---"
   ]
  },
  {
   "cell_type": "markdown",
   "metadata": {},
   "source": [
    "# Start with 12 digit codes\n",
    "\n",
    "Since we know that the official standardized format of the NDC is 10 digits with two dashes, we will start with the 12 digit codes.\n",
    "\n",
    "We will use the FDA NDC data to determine how well we have mapped the NDC space."
   ]
  },
  {
   "cell_type": "code",
   "execution_count": 19,
   "metadata": {},
   "outputs": [],
   "source": [
    "twelve = (info\n",
    "    .query(\"atv_len == 12\")\n",
    "    .reset_index(drop=True)\n",
    ")"
   ]
  },
  {
   "cell_type": "code",
   "execution_count": 20,
   "metadata": {},
   "outputs": [
    {
     "data": {
      "text/html": [
       "<div>\n",
       "<style scoped>\n",
       "    .dataframe tbody tr th:only-of-type {\n",
       "        vertical-align: middle;\n",
       "    }\n",
       "\n",
       "    .dataframe tbody tr th {\n",
       "        vertical-align: top;\n",
       "    }\n",
       "\n",
       "    .dataframe thead th {\n",
       "        text-align: right;\n",
       "    }\n",
       "</style>\n",
       "<table border=\"1\" class=\"dataframe\">\n",
       "  <thead>\n",
       "    <tr style=\"text-align: right;\">\n",
       "      <th></th>\n",
       "      <th>rxcui</th>\n",
       "      <th>rxaui</th>\n",
       "      <th>stype</th>\n",
       "      <th>code</th>\n",
       "      <th>atn</th>\n",
       "      <th>sab</th>\n",
       "      <th>atv</th>\n",
       "      <th>suppress</th>\n",
       "      <th>cvf</th>\n",
       "      <th>atv_len</th>\n",
       "    </tr>\n",
       "  </thead>\n",
       "  <tbody>\n",
       "    <tr>\n",
       "      <th>0</th>\n",
       "      <td>1356</td>\n",
       "      <td>1473211</td>\n",
       "      <td>AUI</td>\n",
       "      <td>4009746</td>\n",
       "      <td>NDC</td>\n",
       "      <td>VANDF</td>\n",
       "      <td>000395021301</td>\n",
       "      <td>O</td>\n",
       "      <td>NaN</td>\n",
       "      <td>12</td>\n",
       "    </tr>\n",
       "    <tr>\n",
       "      <th>1</th>\n",
       "      <td>1356</td>\n",
       "      <td>1473211</td>\n",
       "      <td>AUI</td>\n",
       "      <td>4009746</td>\n",
       "      <td>NDC</td>\n",
       "      <td>VANDF</td>\n",
       "      <td>000395021391</td>\n",
       "      <td>O</td>\n",
       "      <td>NaN</td>\n",
       "      <td>12</td>\n",
       "    </tr>\n",
       "    <tr>\n",
       "      <th>2</th>\n",
       "      <td>1356</td>\n",
       "      <td>1473211</td>\n",
       "      <td>AUI</td>\n",
       "      <td>4009746</td>\n",
       "      <td>NDC</td>\n",
       "      <td>VANDF</td>\n",
       "      <td>017317004101</td>\n",
       "      <td>O</td>\n",
       "      <td>NaN</td>\n",
       "      <td>12</td>\n",
       "    </tr>\n",
       "    <tr>\n",
       "      <th>3</th>\n",
       "      <td>1356</td>\n",
       "      <td>1473211</td>\n",
       "      <td>AUI</td>\n",
       "      <td>4009746</td>\n",
       "      <td>NDC</td>\n",
       "      <td>VANDF</td>\n",
       "      <td>017317004105</td>\n",
       "      <td>O</td>\n",
       "      <td>NaN</td>\n",
       "      <td>12</td>\n",
       "    </tr>\n",
       "    <tr>\n",
       "      <th>4</th>\n",
       "      <td>1356</td>\n",
       "      <td>1473211</td>\n",
       "      <td>AUI</td>\n",
       "      <td>4009746</td>\n",
       "      <td>NDC</td>\n",
       "      <td>VANDF</td>\n",
       "      <td>049452815001</td>\n",
       "      <td>O</td>\n",
       "      <td>NaN</td>\n",
       "      <td>12</td>\n",
       "    </tr>\n",
       "  </tbody>\n",
       "</table>\n",
       "</div>"
      ],
      "text/plain": [
       "   rxcui    rxaui stype     code  atn    sab           atv suppress  cvf  \\\n",
       "0   1356  1473211   AUI  4009746  NDC  VANDF  000395021301        O  NaN   \n",
       "1   1356  1473211   AUI  4009746  NDC  VANDF  000395021391        O  NaN   \n",
       "2   1356  1473211   AUI  4009746  NDC  VANDF  017317004101        O  NaN   \n",
       "3   1356  1473211   AUI  4009746  NDC  VANDF  017317004105        O  NaN   \n",
       "4   1356  1473211   AUI  4009746  NDC  VANDF  049452815001        O  NaN   \n",
       "\n",
       "   atv_len  \n",
       "0       12  \n",
       "1       12  \n",
       "2       12  \n",
       "3       12  \n",
       "4       12  "
      ]
     },
     "execution_count": 20,
     "metadata": {},
     "output_type": "execute_result"
    }
   ],
   "source": [
    "twelve.head()"
   ]
  },
  {
   "cell_type": "markdown",
   "metadata": {},
   "source": [
    "### VANDF origin"
   ]
  },
  {
   "cell_type": "code",
   "execution_count": 21,
   "metadata": {},
   "outputs": [
    {
     "data": {
      "text/html": [
       "<div>\n",
       "<style scoped>\n",
       "    .dataframe tbody tr th:only-of-type {\n",
       "        vertical-align: middle;\n",
       "    }\n",
       "\n",
       "    .dataframe tbody tr th {\n",
       "        vertical-align: top;\n",
       "    }\n",
       "\n",
       "    .dataframe thead th {\n",
       "        text-align: right;\n",
       "    }\n",
       "</style>\n",
       "<table border=\"1\" class=\"dataframe\">\n",
       "  <thead>\n",
       "    <tr style=\"text-align: right;\">\n",
       "      <th></th>\n",
       "      <th>rxcui</th>\n",
       "      <th>rxaui</th>\n",
       "      <th>stype</th>\n",
       "      <th>code</th>\n",
       "      <th>atn</th>\n",
       "      <th>sab</th>\n",
       "      <th>atv</th>\n",
       "      <th>suppress</th>\n",
       "      <th>cvf</th>\n",
       "      <th>atv_len</th>\n",
       "    </tr>\n",
       "  </thead>\n",
       "  <tbody>\n",
       "    <tr>\n",
       "      <th>0</th>\n",
       "      <td>1356</td>\n",
       "      <td>1473211</td>\n",
       "      <td>AUI</td>\n",
       "      <td>4009746</td>\n",
       "      <td>NDC</td>\n",
       "      <td>VANDF</td>\n",
       "      <td>000395021301</td>\n",
       "      <td>O</td>\n",
       "      <td>NaN</td>\n",
       "      <td>12</td>\n",
       "    </tr>\n",
       "    <tr>\n",
       "      <th>1</th>\n",
       "      <td>1356</td>\n",
       "      <td>1473211</td>\n",
       "      <td>AUI</td>\n",
       "      <td>4009746</td>\n",
       "      <td>NDC</td>\n",
       "      <td>VANDF</td>\n",
       "      <td>000395021391</td>\n",
       "      <td>O</td>\n",
       "      <td>NaN</td>\n",
       "      <td>12</td>\n",
       "    </tr>\n",
       "    <tr>\n",
       "      <th>2</th>\n",
       "      <td>1356</td>\n",
       "      <td>1473211</td>\n",
       "      <td>AUI</td>\n",
       "      <td>4009746</td>\n",
       "      <td>NDC</td>\n",
       "      <td>VANDF</td>\n",
       "      <td>017317004101</td>\n",
       "      <td>O</td>\n",
       "      <td>NaN</td>\n",
       "      <td>12</td>\n",
       "    </tr>\n",
       "    <tr>\n",
       "      <th>3</th>\n",
       "      <td>1356</td>\n",
       "      <td>1473211</td>\n",
       "      <td>AUI</td>\n",
       "      <td>4009746</td>\n",
       "      <td>NDC</td>\n",
       "      <td>VANDF</td>\n",
       "      <td>017317004105</td>\n",
       "      <td>O</td>\n",
       "      <td>NaN</td>\n",
       "      <td>12</td>\n",
       "    </tr>\n",
       "    <tr>\n",
       "      <th>4</th>\n",
       "      <td>1356</td>\n",
       "      <td>1473211</td>\n",
       "      <td>AUI</td>\n",
       "      <td>4009746</td>\n",
       "      <td>NDC</td>\n",
       "      <td>VANDF</td>\n",
       "      <td>049452815001</td>\n",
       "      <td>O</td>\n",
       "      <td>NaN</td>\n",
       "      <td>12</td>\n",
       "    </tr>\n",
       "  </tbody>\n",
       "</table>\n",
       "</div>"
      ],
      "text/plain": [
       "   rxcui    rxaui stype     code  atn    sab           atv suppress  cvf  \\\n",
       "0   1356  1473211   AUI  4009746  NDC  VANDF  000395021301        O  NaN   \n",
       "1   1356  1473211   AUI  4009746  NDC  VANDF  000395021391        O  NaN   \n",
       "2   1356  1473211   AUI  4009746  NDC  VANDF  017317004101        O  NaN   \n",
       "3   1356  1473211   AUI  4009746  NDC  VANDF  017317004105        O  NaN   \n",
       "4   1356  1473211   AUI  4009746  NDC  VANDF  049452815001        O  NaN   \n",
       "\n",
       "   atv_len  \n",
       "0       12  \n",
       "1       12  \n",
       "2       12  \n",
       "3       12  \n",
       "4       12  "
      ]
     },
     "execution_count": 21,
     "metadata": {},
     "output_type": "execute_result"
    }
   ],
   "source": [
    "twelve.query(\"sab == 'VANDF'\").head()"
   ]
  },
  {
   "cell_type": "markdown",
   "metadata": {},
   "source": [
    "### MTHSPL origin"
   ]
  },
  {
   "cell_type": "code",
   "execution_count": 22,
   "metadata": {},
   "outputs": [
    {
     "data": {
      "text/html": [
       "<div>\n",
       "<style scoped>\n",
       "    .dataframe tbody tr th:only-of-type {\n",
       "        vertical-align: middle;\n",
       "    }\n",
       "\n",
       "    .dataframe tbody tr th {\n",
       "        vertical-align: top;\n",
       "    }\n",
       "\n",
       "    .dataframe thead th {\n",
       "        text-align: right;\n",
       "    }\n",
       "</style>\n",
       "<table border=\"1\" class=\"dataframe\">\n",
       "  <thead>\n",
       "    <tr style=\"text-align: right;\">\n",
       "      <th></th>\n",
       "      <th>rxcui</th>\n",
       "      <th>rxaui</th>\n",
       "      <th>stype</th>\n",
       "      <th>code</th>\n",
       "      <th>atn</th>\n",
       "      <th>sab</th>\n",
       "      <th>atv</th>\n",
       "      <th>suppress</th>\n",
       "      <th>cvf</th>\n",
       "      <th>atv_len</th>\n",
       "    </tr>\n",
       "  </thead>\n",
       "  <tbody>\n",
       "    <tr>\n",
       "      <th>435</th>\n",
       "      <td>91349</td>\n",
       "      <td>3507080</td>\n",
       "      <td>AUI</td>\n",
       "      <td>12745-202</td>\n",
       "      <td>NDC</td>\n",
       "      <td>MTHSPL</td>\n",
       "      <td>12745-202-01</td>\n",
       "      <td>N</td>\n",
       "      <td>4096.0</td>\n",
       "      <td>12</td>\n",
       "    </tr>\n",
       "    <tr>\n",
       "      <th>436</th>\n",
       "      <td>91349</td>\n",
       "      <td>3507080</td>\n",
       "      <td>AUI</td>\n",
       "      <td>12745-202</td>\n",
       "      <td>NDC</td>\n",
       "      <td>MTHSPL</td>\n",
       "      <td>12745-202-02</td>\n",
       "      <td>N</td>\n",
       "      <td>4096.0</td>\n",
       "      <td>12</td>\n",
       "    </tr>\n",
       "    <tr>\n",
       "      <th>437</th>\n",
       "      <td>91349</td>\n",
       "      <td>3507080</td>\n",
       "      <td>AUI</td>\n",
       "      <td>12745-202</td>\n",
       "      <td>NDC</td>\n",
       "      <td>MTHSPL</td>\n",
       "      <td>12745-202-03</td>\n",
       "      <td>N</td>\n",
       "      <td>4096.0</td>\n",
       "      <td>12</td>\n",
       "    </tr>\n",
       "    <tr>\n",
       "      <th>438</th>\n",
       "      <td>91349</td>\n",
       "      <td>3518228</td>\n",
       "      <td>AUI</td>\n",
       "      <td>34645-8030</td>\n",
       "      <td>NDC</td>\n",
       "      <td>MTHSPL</td>\n",
       "      <td>34645-8030-4</td>\n",
       "      <td>N</td>\n",
       "      <td>4096.0</td>\n",
       "      <td>12</td>\n",
       "    </tr>\n",
       "    <tr>\n",
       "      <th>439</th>\n",
       "      <td>91349</td>\n",
       "      <td>3520567</td>\n",
       "      <td>AUI</td>\n",
       "      <td>55316-871</td>\n",
       "      <td>NDC</td>\n",
       "      <td>MTHSPL</td>\n",
       "      <td>55316-871-43</td>\n",
       "      <td>N</td>\n",
       "      <td>4096.0</td>\n",
       "      <td>12</td>\n",
       "    </tr>\n",
       "  </tbody>\n",
       "</table>\n",
       "</div>"
      ],
      "text/plain": [
       "     rxcui    rxaui stype        code  atn     sab           atv suppress  \\\n",
       "435  91349  3507080   AUI   12745-202  NDC  MTHSPL  12745-202-01        N   \n",
       "436  91349  3507080   AUI   12745-202  NDC  MTHSPL  12745-202-02        N   \n",
       "437  91349  3507080   AUI   12745-202  NDC  MTHSPL  12745-202-03        N   \n",
       "438  91349  3518228   AUI  34645-8030  NDC  MTHSPL  34645-8030-4        N   \n",
       "439  91349  3520567   AUI   55316-871  NDC  MTHSPL  55316-871-43        N   \n",
       "\n",
       "        cvf  atv_len  \n",
       "435  4096.0       12  \n",
       "436  4096.0       12  \n",
       "437  4096.0       12  \n",
       "438  4096.0       12  \n",
       "439  4096.0       12  "
      ]
     },
     "execution_count": 22,
     "metadata": {},
     "output_type": "execute_result"
    }
   ],
   "source": [
    "twelve.query(\"sab == 'MTHSPL'\").head()"
   ]
  },
  {
   "cell_type": "markdown",
   "metadata": {},
   "source": [
    "Notice that the MTHSPL codes are in the format we expect, while the VANDF codes are in an unknown 12 digit format.\n",
    "\n",
    "HIPAA normalization converts to a 11 digit code, so it is unclear why the VANDF codes are 12 digits in length."
   ]
  },
  {
   "cell_type": "markdown",
   "metadata": {},
   "source": [
    "## Verify NDC format consistency"
   ]
  },
  {
   "cell_type": "code",
   "execution_count": 23,
   "metadata": {},
   "outputs": [
    {
     "data": {
      "text/plain": [
       "num_dashes  sab   \n",
       "0           VANDF     259463\n",
       "2           MTHSPL    309278\n",
       "dtype: int64"
      ]
     },
     "execution_count": 23,
     "metadata": {},
     "output_type": "execute_result"
    }
   ],
   "source": [
    "(twelve\n",
    "    .assign(num_dashes = lambda df: df[\"atv\"].str.count(\"-\"))\n",
    "    .groupby([\"num_dashes\", \"sab\"])\n",
    "    .size()\n",
    ")"
   ]
  },
  {
   "cell_type": "markdown",
   "metadata": {},
   "source": [
    "Seems like the MTHSPL source (FDA structured product labels) has the proper two dash format, while the VANDF (Veterans Health Administration National Drug File) has a weird 12 digit format, which is not the HIPAA format.\n",
    "\n",
    "Originally I assumed that the VANDF entries were HIPAA normalized NDCs with a leading zero, but I verified that this was not the case.\n",
    "Since I could find no documentation on the VANDF NDCs, I decided to ignore them for now because I cannot cross-reference them with the FDA's data."
   ]
  },
  {
   "cell_type": "markdown",
   "metadata": {},
   "source": [
    "## Verify format of 12 digit MTHSPL NDCs"
   ]
  },
  {
   "cell_type": "code",
   "execution_count": 24,
   "metadata": {},
   "outputs": [],
   "source": [
    "dashed = (twelve\n",
    "    .query(\"sab == 'MTHSPL'\")\n",
    "    .drop(\"atv_len\", axis=1)\n",
    "    .reset_index(drop=True)\n",
    ")"
   ]
  },
  {
   "cell_type": "code",
   "execution_count": 25,
   "metadata": {},
   "outputs": [
    {
     "data": {
      "text/plain": [
       "(309278, 9)"
      ]
     },
     "execution_count": 25,
     "metadata": {},
     "output_type": "execute_result"
    }
   ],
   "source": [
    "dashed.shape"
   ]
  },
  {
   "cell_type": "code",
   "execution_count": 26,
   "metadata": {},
   "outputs": [
    {
     "data": {
      "text/html": [
       "<div>\n",
       "<style scoped>\n",
       "    .dataframe tbody tr th:only-of-type {\n",
       "        vertical-align: middle;\n",
       "    }\n",
       "\n",
       "    .dataframe tbody tr th {\n",
       "        vertical-align: top;\n",
       "    }\n",
       "\n",
       "    .dataframe thead th {\n",
       "        text-align: right;\n",
       "    }\n",
       "</style>\n",
       "<table border=\"1\" class=\"dataframe\">\n",
       "  <thead>\n",
       "    <tr style=\"text-align: right;\">\n",
       "      <th></th>\n",
       "      <th>rxcui</th>\n",
       "      <th>rxaui</th>\n",
       "      <th>stype</th>\n",
       "      <th>code</th>\n",
       "      <th>atn</th>\n",
       "      <th>sab</th>\n",
       "      <th>atv</th>\n",
       "      <th>suppress</th>\n",
       "      <th>cvf</th>\n",
       "    </tr>\n",
       "  </thead>\n",
       "  <tbody>\n",
       "    <tr>\n",
       "      <th>0</th>\n",
       "      <td>91349</td>\n",
       "      <td>3507080</td>\n",
       "      <td>AUI</td>\n",
       "      <td>12745-202</td>\n",
       "      <td>NDC</td>\n",
       "      <td>MTHSPL</td>\n",
       "      <td>12745-202-01</td>\n",
       "      <td>N</td>\n",
       "      <td>4096.0</td>\n",
       "    </tr>\n",
       "    <tr>\n",
       "      <th>1</th>\n",
       "      <td>91349</td>\n",
       "      <td>3507080</td>\n",
       "      <td>AUI</td>\n",
       "      <td>12745-202</td>\n",
       "      <td>NDC</td>\n",
       "      <td>MTHSPL</td>\n",
       "      <td>12745-202-02</td>\n",
       "      <td>N</td>\n",
       "      <td>4096.0</td>\n",
       "    </tr>\n",
       "    <tr>\n",
       "      <th>2</th>\n",
       "      <td>91349</td>\n",
       "      <td>3507080</td>\n",
       "      <td>AUI</td>\n",
       "      <td>12745-202</td>\n",
       "      <td>NDC</td>\n",
       "      <td>MTHSPL</td>\n",
       "      <td>12745-202-03</td>\n",
       "      <td>N</td>\n",
       "      <td>4096.0</td>\n",
       "    </tr>\n",
       "    <tr>\n",
       "      <th>3</th>\n",
       "      <td>91349</td>\n",
       "      <td>3518228</td>\n",
       "      <td>AUI</td>\n",
       "      <td>34645-8030</td>\n",
       "      <td>NDC</td>\n",
       "      <td>MTHSPL</td>\n",
       "      <td>34645-8030-4</td>\n",
       "      <td>N</td>\n",
       "      <td>4096.0</td>\n",
       "    </tr>\n",
       "    <tr>\n",
       "      <th>4</th>\n",
       "      <td>91349</td>\n",
       "      <td>3520567</td>\n",
       "      <td>AUI</td>\n",
       "      <td>55316-871</td>\n",
       "      <td>NDC</td>\n",
       "      <td>MTHSPL</td>\n",
       "      <td>55316-871-43</td>\n",
       "      <td>N</td>\n",
       "      <td>4096.0</td>\n",
       "    </tr>\n",
       "  </tbody>\n",
       "</table>\n",
       "</div>"
      ],
      "text/plain": [
       "   rxcui    rxaui stype        code  atn     sab           atv suppress  \\\n",
       "0  91349  3507080   AUI   12745-202  NDC  MTHSPL  12745-202-01        N   \n",
       "1  91349  3507080   AUI   12745-202  NDC  MTHSPL  12745-202-02        N   \n",
       "2  91349  3507080   AUI   12745-202  NDC  MTHSPL  12745-202-03        N   \n",
       "3  91349  3518228   AUI  34645-8030  NDC  MTHSPL  34645-8030-4        N   \n",
       "4  91349  3520567   AUI   55316-871  NDC  MTHSPL  55316-871-43        N   \n",
       "\n",
       "      cvf  \n",
       "0  4096.0  \n",
       "1  4096.0  \n",
       "2  4096.0  \n",
       "3  4096.0  \n",
       "4  4096.0  "
      ]
     },
     "execution_count": 26,
     "metadata": {},
     "output_type": "execute_result"
    }
   ],
   "source": [
    "dashed.head()"
   ]
  },
  {
   "cell_type": "markdown",
   "metadata": {},
   "source": [
    "### Verify NDC format"
   ]
  },
  {
   "cell_type": "code",
   "execution_count": 27,
   "metadata": {},
   "outputs": [],
   "source": [
    "def is_ndc_type_a(code):\n",
    "    return re.match(r'^\\d{4}-\\d{4}-\\d{2}$', code) is not None\n",
    "\n",
    "def is_ndc_type_b(code):\n",
    "    return re.match(r'^\\d{5}-\\d{3}-\\d{2}$', code) is not None\n",
    "\n",
    "def is_ndc_type_c(code):\n",
    "    return re.match(r'^\\d{5}-\\d{4}-\\d{1}$', code) is not None"
   ]
  },
  {
   "cell_type": "code",
   "execution_count": 28,
   "metadata": {},
   "outputs": [],
   "source": [
    "def get_ndc_type(code):\n",
    "    \"\"\"What format is this NDC in?\"\"\"\n",
    "    \n",
    "    # includes two dashes\n",
    "    NDC_CODE_LENGTH = 12\n",
    "    \n",
    "    assert len(code) == NDC_CODE_LENGTH\n",
    "    \n",
    "    res = [\n",
    "        is_ndc_type_a(code),\n",
    "        is_ndc_type_b(code),\n",
    "        is_ndc_type_c(code)\n",
    "    ]\n",
    "    \n",
    "    assert sum(res) == 1\n",
    "    \n",
    "    for val, code_type in zip(res, \"ABC\"):\n",
    "        if val:\n",
    "            return code_type"
   ]
  },
  {
   "cell_type": "code",
   "execution_count": 29,
   "metadata": {},
   "outputs": [],
   "source": [
    "dashed = dashed.assign(ndc_type = lambda df: df[\"atv\"].map(get_ndc_type))"
   ]
  },
  {
   "cell_type": "code",
   "execution_count": 30,
   "metadata": {},
   "outputs": [
    {
     "data": {
      "text/plain": [
       "(309278, 10)"
      ]
     },
     "execution_count": 30,
     "metadata": {},
     "output_type": "execute_result"
    }
   ],
   "source": [
    "dashed.shape"
   ]
  },
  {
   "cell_type": "code",
   "execution_count": 31,
   "metadata": {},
   "outputs": [
    {
     "data": {
      "text/html": [
       "<div>\n",
       "<style scoped>\n",
       "    .dataframe tbody tr th:only-of-type {\n",
       "        vertical-align: middle;\n",
       "    }\n",
       "\n",
       "    .dataframe tbody tr th {\n",
       "        vertical-align: top;\n",
       "    }\n",
       "\n",
       "    .dataframe thead th {\n",
       "        text-align: right;\n",
       "    }\n",
       "</style>\n",
       "<table border=\"1\" class=\"dataframe\">\n",
       "  <thead>\n",
       "    <tr style=\"text-align: right;\">\n",
       "      <th></th>\n",
       "      <th>rxcui</th>\n",
       "      <th>rxaui</th>\n",
       "      <th>stype</th>\n",
       "      <th>code</th>\n",
       "      <th>atn</th>\n",
       "      <th>sab</th>\n",
       "      <th>atv</th>\n",
       "      <th>suppress</th>\n",
       "      <th>cvf</th>\n",
       "      <th>ndc_type</th>\n",
       "    </tr>\n",
       "  </thead>\n",
       "  <tbody>\n",
       "    <tr>\n",
       "      <th>0</th>\n",
       "      <td>91349</td>\n",
       "      <td>3507080</td>\n",
       "      <td>AUI</td>\n",
       "      <td>12745-202</td>\n",
       "      <td>NDC</td>\n",
       "      <td>MTHSPL</td>\n",
       "      <td>12745-202-01</td>\n",
       "      <td>N</td>\n",
       "      <td>4096.0</td>\n",
       "      <td>B</td>\n",
       "    </tr>\n",
       "    <tr>\n",
       "      <th>1</th>\n",
       "      <td>91349</td>\n",
       "      <td>3507080</td>\n",
       "      <td>AUI</td>\n",
       "      <td>12745-202</td>\n",
       "      <td>NDC</td>\n",
       "      <td>MTHSPL</td>\n",
       "      <td>12745-202-02</td>\n",
       "      <td>N</td>\n",
       "      <td>4096.0</td>\n",
       "      <td>B</td>\n",
       "    </tr>\n",
       "    <tr>\n",
       "      <th>2</th>\n",
       "      <td>91349</td>\n",
       "      <td>3507080</td>\n",
       "      <td>AUI</td>\n",
       "      <td>12745-202</td>\n",
       "      <td>NDC</td>\n",
       "      <td>MTHSPL</td>\n",
       "      <td>12745-202-03</td>\n",
       "      <td>N</td>\n",
       "      <td>4096.0</td>\n",
       "      <td>B</td>\n",
       "    </tr>\n",
       "    <tr>\n",
       "      <th>3</th>\n",
       "      <td>91349</td>\n",
       "      <td>3518228</td>\n",
       "      <td>AUI</td>\n",
       "      <td>34645-8030</td>\n",
       "      <td>NDC</td>\n",
       "      <td>MTHSPL</td>\n",
       "      <td>34645-8030-4</td>\n",
       "      <td>N</td>\n",
       "      <td>4096.0</td>\n",
       "      <td>C</td>\n",
       "    </tr>\n",
       "    <tr>\n",
       "      <th>4</th>\n",
       "      <td>91349</td>\n",
       "      <td>3520567</td>\n",
       "      <td>AUI</td>\n",
       "      <td>55316-871</td>\n",
       "      <td>NDC</td>\n",
       "      <td>MTHSPL</td>\n",
       "      <td>55316-871-43</td>\n",
       "      <td>N</td>\n",
       "      <td>4096.0</td>\n",
       "      <td>B</td>\n",
       "    </tr>\n",
       "  </tbody>\n",
       "</table>\n",
       "</div>"
      ],
      "text/plain": [
       "   rxcui    rxaui stype        code  atn     sab           atv suppress  \\\n",
       "0  91349  3507080   AUI   12745-202  NDC  MTHSPL  12745-202-01        N   \n",
       "1  91349  3507080   AUI   12745-202  NDC  MTHSPL  12745-202-02        N   \n",
       "2  91349  3507080   AUI   12745-202  NDC  MTHSPL  12745-202-03        N   \n",
       "3  91349  3518228   AUI  34645-8030  NDC  MTHSPL  34645-8030-4        N   \n",
       "4  91349  3520567   AUI   55316-871  NDC  MTHSPL  55316-871-43        N   \n",
       "\n",
       "      cvf ndc_type  \n",
       "0  4096.0        B  \n",
       "1  4096.0        B  \n",
       "2  4096.0        B  \n",
       "3  4096.0        C  \n",
       "4  4096.0        B  "
      ]
     },
     "execution_count": 31,
     "metadata": {},
     "output_type": "execute_result"
    }
   ],
   "source": [
    "dashed.head()"
   ]
  },
  {
   "cell_type": "code",
   "execution_count": 32,
   "metadata": {},
   "outputs": [
    {
     "data": {
      "text/plain": [
       "B    171592\n",
       "C    107389\n",
       "A     30297\n",
       "Name: ndc_type, dtype: int64"
      ]
     },
     "execution_count": 32,
     "metadata": {},
     "output_type": "execute_result"
    }
   ],
   "source": [
    "dashed[\"ndc_type\"].value_counts()"
   ]
  },
  {
   "cell_type": "markdown",
   "metadata": {},
   "source": [
    "All the data from MTHSPL is good, and has the correct NDC format."
   ]
  },
  {
   "cell_type": "markdown",
   "metadata": {},
   "source": [
    "### Number of unique drugs"
   ]
  },
  {
   "cell_type": "code",
   "execution_count": 33,
   "metadata": {},
   "outputs": [
    {
     "data": {
      "text/plain": [
       "47091"
      ]
     },
     "execution_count": 33,
     "metadata": {},
     "output_type": "execute_result"
    }
   ],
   "source": [
    "dashed[\"rxcui\"].nunique()"
   ]
  },
  {
   "cell_type": "code",
   "execution_count": 34,
   "metadata": {},
   "outputs": [
    {
     "data": {
      "text/plain": [
       "280374"
      ]
     },
     "execution_count": 34,
     "metadata": {},
     "output_type": "execute_result"
    }
   ],
   "source": [
    "dashed[\"atv\"].nunique()"
   ]
  },
  {
   "cell_type": "code",
   "execution_count": 35,
   "metadata": {},
   "outputs": [
    {
     "data": {
      "text/plain": [
       "AUI    309278\n",
       "Name: stype, dtype: int64"
      ]
     },
     "execution_count": 35,
     "metadata": {},
     "output_type": "execute_result"
    }
   ],
   "source": [
    "dashed[\"stype\"].value_counts()"
   ]
  },
  {
   "cell_type": "code",
   "execution_count": 36,
   "metadata": {},
   "outputs": [
    {
     "data": {
      "text/plain": [
       "N    299518\n",
       "Y      7529\n",
       "O      2231\n",
       "Name: suppress, dtype: int64"
      ]
     },
     "execution_count": 36,
     "metadata": {},
     "output_type": "execute_result"
    }
   ],
   "source": [
    "dashed[\"suppress\"].value_counts()"
   ]
  },
  {
   "cell_type": "markdown",
   "metadata": {},
   "source": [
    "This seems promising, and the number of NDCs is very close to the FDA's number.\n",
    "We will see how well these NDCs match the FDA's data before using NDCs from other sources."
   ]
  },
  {
   "cell_type": "markdown",
   "metadata": {},
   "source": [
    "## Save NDC to RxNorm mappings to file"
   ]
  },
  {
   "cell_type": "code",
   "execution_count": 37,
   "metadata": {},
   "outputs": [],
   "source": [
    "(dashed\n",
    "    .drop(\"ndc_type\", axis=1) \n",
    "    .to_csv(\"../../pipeline/rxnorm/ndc_to_rxcui.tsv\", sep='\\t', index=False)\n",
    ")"
   ]
  }
 ],
 "metadata": {
  "kernelspec": {
   "display_name": "Python 3",
   "language": "python",
   "name": "python3"
  },
  "language_info": {
   "codemirror_mode": {
    "name": "ipython",
    "version": 3
   },
   "file_extension": ".py",
   "mimetype": "text/x-python",
   "name": "python",
   "nbconvert_exporter": "python",
   "pygments_lexer": "ipython3",
   "version": "3.6.7"
  }
 },
 "nbformat": 4,
 "nbformat_minor": 2
}
