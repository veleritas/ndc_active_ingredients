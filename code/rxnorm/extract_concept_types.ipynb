{
 "cells": [
  {
   "cell_type": "markdown",
   "metadata": {},
   "source": [
    "# Extract the concept types of RxNorm concepts in the semantic network\n",
    "\n",
    "2019-05-07\n",
    "\n",
    "We will use the term types to further refine which nodes to include as ingredients in the active ingredient finding algorithm."
   ]
  },
  {
   "cell_type": "code",
   "execution_count": 1,
   "metadata": {},
   "outputs": [],
   "source": [
    "import pandas as pd\n",
    "from collections import defaultdict"
   ]
  },
  {
   "cell_type": "markdown",
   "metadata": {},
   "source": [
    "## Which concept sources contain all the RXCUIs in the semantic network?\n",
    "\n",
    "We will use this source for the term types."
   ]
  },
  {
   "cell_type": "markdown",
   "metadata": {},
   "source": [
    "## Read relationships"
   ]
  },
  {
   "cell_type": "code",
   "execution_count": 2,
   "metadata": {},
   "outputs": [],
   "source": [
    "rels = pd.read_csv(\"../../pipeline/rxnorm/rxcui_rels.tsv\", sep='\\t')"
   ]
  },
  {
   "cell_type": "code",
   "execution_count": 3,
   "metadata": {},
   "outputs": [
    {
     "data": {
      "text/plain": [
       "(1489730, 4)"
      ]
     },
     "execution_count": 3,
     "metadata": {},
     "output_type": "execute_result"
    }
   ],
   "source": [
    "rels.shape"
   ]
  },
  {
   "cell_type": "code",
   "execution_count": 4,
   "metadata": {},
   "outputs": [
    {
     "data": {
      "text/html": [
       "<div>\n",
       "<style scoped>\n",
       "    .dataframe tbody tr th:only-of-type {\n",
       "        vertical-align: middle;\n",
       "    }\n",
       "\n",
       "    .dataframe tbody tr th {\n",
       "        vertical-align: top;\n",
       "    }\n",
       "\n",
       "    .dataframe thead th {\n",
       "        text-align: right;\n",
       "    }\n",
       "</style>\n",
       "<table border=\"1\" class=\"dataframe\">\n",
       "  <thead>\n",
       "    <tr style=\"text-align: right;\">\n",
       "      <th></th>\n",
       "      <th>rxcui1</th>\n",
       "      <th>rel</th>\n",
       "      <th>rxcui2</th>\n",
       "      <th>rela</th>\n",
       "    </tr>\n",
       "  </thead>\n",
       "  <tbody>\n",
       "    <tr>\n",
       "      <th>0</th>\n",
       "      <td>38</td>\n",
       "      <td>RB</td>\n",
       "      <td>1760</td>\n",
       "      <td>has_tradename</td>\n",
       "    </tr>\n",
       "    <tr>\n",
       "      <th>1</th>\n",
       "      <td>38</td>\n",
       "      <td>RO</td>\n",
       "      <td>105050</td>\n",
       "      <td>has_ingredient</td>\n",
       "    </tr>\n",
       "    <tr>\n",
       "      <th>2</th>\n",
       "      <td>38</td>\n",
       "      <td>RO</td>\n",
       "      <td>105445</td>\n",
       "      <td>has_ingredient</td>\n",
       "    </tr>\n",
       "    <tr>\n",
       "      <th>3</th>\n",
       "      <td>38</td>\n",
       "      <td>RO</td>\n",
       "      <td>105446</td>\n",
       "      <td>has_ingredient</td>\n",
       "    </tr>\n",
       "    <tr>\n",
       "      <th>4</th>\n",
       "      <td>38</td>\n",
       "      <td>RO</td>\n",
       "      <td>105447</td>\n",
       "      <td>has_ingredient</td>\n",
       "    </tr>\n",
       "  </tbody>\n",
       "</table>\n",
       "</div>"
      ],
      "text/plain": [
       "   rxcui1 rel  rxcui2            rela\n",
       "0      38  RB    1760   has_tradename\n",
       "1      38  RO  105050  has_ingredient\n",
       "2      38  RO  105445  has_ingredient\n",
       "3      38  RO  105446  has_ingredient\n",
       "4      38  RO  105447  has_ingredient"
      ]
     },
     "execution_count": 4,
     "metadata": {},
     "output_type": "execute_result"
    }
   ],
   "source": [
    "rels.head()"
   ]
  },
  {
   "cell_type": "code",
   "execution_count": 5,
   "metadata": {},
   "outputs": [],
   "source": [
    "rel_cuis = set(rels[\"rxcui1\"])"
   ]
  },
  {
   "cell_type": "code",
   "execution_count": 6,
   "metadata": {},
   "outputs": [
    {
     "data": {
      "text/plain": [
       "195978"
      ]
     },
     "execution_count": 6,
     "metadata": {},
     "output_type": "execute_result"
    }
   ],
   "source": [
    "len(rel_cuis)"
   ]
  },
  {
   "cell_type": "markdown",
   "metadata": {},
   "source": [
    "## Read `RXNCONSO.RRF` file"
   ]
  },
  {
   "cell_type": "code",
   "execution_count": 7,
   "metadata": {},
   "outputs": [],
   "source": [
    "rxconso = (pd\n",
    "    .read_csv(\"../../data/rxnorm/RXNCONSO.RRF\", sep='|', names=[\n",
    "        \"rxcui\", \"lat\", \"ts\", \"lui\", \"stt\",\n",
    "        \"sui\", \"ispref\", \"rxaui\", \"saui\", \"scui\", \"sdui\",\n",
    "        \"sab\", \"tty\", \"code\", \"str\", \"srl\",\n",
    "        \"suppress\", \"cvf\",\n",
    "        \"temp\"\n",
    "    ])\n",
    "    .dropna(axis=1, how=\"all\")\n",
    ")"
   ]
  },
  {
   "cell_type": "code",
   "execution_count": 8,
   "metadata": {},
   "outputs": [
    {
     "data": {
      "text/plain": [
       "(1028082, 12)"
      ]
     },
     "execution_count": 8,
     "metadata": {},
     "output_type": "execute_result"
    }
   ],
   "source": [
    "rxconso.shape"
   ]
  },
  {
   "cell_type": "code",
   "execution_count": 9,
   "metadata": {},
   "outputs": [
    {
     "data": {
      "text/html": [
       "<div>\n",
       "<style scoped>\n",
       "    .dataframe tbody tr th:only-of-type {\n",
       "        vertical-align: middle;\n",
       "    }\n",
       "\n",
       "    .dataframe tbody tr th {\n",
       "        vertical-align: top;\n",
       "    }\n",
       "\n",
       "    .dataframe thead th {\n",
       "        text-align: right;\n",
       "    }\n",
       "</style>\n",
       "<table border=\"1\" class=\"dataframe\">\n",
       "  <thead>\n",
       "    <tr style=\"text-align: right;\">\n",
       "      <th></th>\n",
       "      <th>rxcui</th>\n",
       "      <th>lat</th>\n",
       "      <th>rxaui</th>\n",
       "      <th>saui</th>\n",
       "      <th>scui</th>\n",
       "      <th>sdui</th>\n",
       "      <th>sab</th>\n",
       "      <th>tty</th>\n",
       "      <th>code</th>\n",
       "      <th>str</th>\n",
       "      <th>suppress</th>\n",
       "      <th>cvf</th>\n",
       "    </tr>\n",
       "  </thead>\n",
       "  <tbody>\n",
       "    <tr>\n",
       "      <th>0</th>\n",
       "      <td>3</td>\n",
       "      <td>ENG</td>\n",
       "      <td>8717795</td>\n",
       "      <td>NaN</td>\n",
       "      <td>58488005</td>\n",
       "      <td>NaN</td>\n",
       "      <td>SNOMEDCT_US</td>\n",
       "      <td>PT</td>\n",
       "      <td>58488005</td>\n",
       "      <td>1,4-alpha-Glucan branching enzyme</td>\n",
       "      <td>N</td>\n",
       "      <td>NaN</td>\n",
       "    </tr>\n",
       "    <tr>\n",
       "      <th>1</th>\n",
       "      <td>3</td>\n",
       "      <td>ENG</td>\n",
       "      <td>8717796</td>\n",
       "      <td>NaN</td>\n",
       "      <td>58488005</td>\n",
       "      <td>NaN</td>\n",
       "      <td>SNOMEDCT_US</td>\n",
       "      <td>FN</td>\n",
       "      <td>58488005</td>\n",
       "      <td>1,4-alpha-Glucan branching enzyme (substance)</td>\n",
       "      <td>N</td>\n",
       "      <td>NaN</td>\n",
       "    </tr>\n",
       "    <tr>\n",
       "      <th>2</th>\n",
       "      <td>3</td>\n",
       "      <td>ENG</td>\n",
       "      <td>8717808</td>\n",
       "      <td>NaN</td>\n",
       "      <td>58488005</td>\n",
       "      <td>NaN</td>\n",
       "      <td>SNOMEDCT_US</td>\n",
       "      <td>SY</td>\n",
       "      <td>58488005</td>\n",
       "      <td>Amylo-(1,4,6)-transglycosylase</td>\n",
       "      <td>N</td>\n",
       "      <td>NaN</td>\n",
       "    </tr>\n",
       "    <tr>\n",
       "      <th>3</th>\n",
       "      <td>3</td>\n",
       "      <td>ENG</td>\n",
       "      <td>8718164</td>\n",
       "      <td>NaN</td>\n",
       "      <td>58488005</td>\n",
       "      <td>NaN</td>\n",
       "      <td>SNOMEDCT_US</td>\n",
       "      <td>SY</td>\n",
       "      <td>58488005</td>\n",
       "      <td>Branching enzyme</td>\n",
       "      <td>N</td>\n",
       "      <td>NaN</td>\n",
       "    </tr>\n",
       "    <tr>\n",
       "      <th>4</th>\n",
       "      <td>19</td>\n",
       "      <td>ENG</td>\n",
       "      <td>10794494</td>\n",
       "      <td>NaN</td>\n",
       "      <td>112116001</td>\n",
       "      <td>NaN</td>\n",
       "      <td>SNOMEDCT_US</td>\n",
       "      <td>SY</td>\n",
       "      <td>112116001</td>\n",
       "      <td>17-hydrocorticosteroid</td>\n",
       "      <td>N</td>\n",
       "      <td>NaN</td>\n",
       "    </tr>\n",
       "  </tbody>\n",
       "</table>\n",
       "</div>"
      ],
      "text/plain": [
       "   rxcui  lat     rxaui  saui       scui sdui          sab tty       code  \\\n",
       "0      3  ENG   8717795   NaN   58488005  NaN  SNOMEDCT_US  PT   58488005   \n",
       "1      3  ENG   8717796   NaN   58488005  NaN  SNOMEDCT_US  FN   58488005   \n",
       "2      3  ENG   8717808   NaN   58488005  NaN  SNOMEDCT_US  SY   58488005   \n",
       "3      3  ENG   8718164   NaN   58488005  NaN  SNOMEDCT_US  SY   58488005   \n",
       "4     19  ENG  10794494   NaN  112116001  NaN  SNOMEDCT_US  SY  112116001   \n",
       "\n",
       "                                             str suppress  cvf  \n",
       "0              1,4-alpha-Glucan branching enzyme        N  NaN  \n",
       "1  1,4-alpha-Glucan branching enzyme (substance)        N  NaN  \n",
       "2                 Amylo-(1,4,6)-transglycosylase        N  NaN  \n",
       "3                               Branching enzyme        N  NaN  \n",
       "4                         17-hydrocorticosteroid        N  NaN  "
      ]
     },
     "execution_count": 9,
     "metadata": {},
     "output_type": "execute_result"
    }
   ],
   "source": [
    "rxconso.head()"
   ]
  },
  {
   "cell_type": "code",
   "execution_count": 10,
   "metadata": {},
   "outputs": [
    {
     "data": {
      "text/plain": [
       "rxcui             0\n",
       "lat               0\n",
       "rxaui             0\n",
       "saui         710554\n",
       "scui         562008\n",
       "sdui        1004564\n",
       "sab               0\n",
       "tty               0\n",
       "code              1\n",
       "str               0\n",
       "suppress          0\n",
       "cvf          782872\n",
       "dtype: int64"
      ]
     },
     "execution_count": 10,
     "metadata": {},
     "output_type": "execute_result"
    }
   ],
   "source": [
    "rxconso.isnull().sum()"
   ]
  },
  {
   "cell_type": "markdown",
   "metadata": {},
   "source": [
    "## Number of unique RXCUIs in each source"
   ]
  },
  {
   "cell_type": "code",
   "execution_count": 11,
   "metadata": {},
   "outputs": [
    {
     "data": {
      "text/plain": [
       "sab\n",
       "RXNORM         203436\n",
       "MMSL            67387\n",
       "MTHSPL          60443\n",
       "MMX             55761\n",
       "NDDF            43520\n",
       "SNOMEDCT_US     36874\n",
       "VANDF           34549\n",
       "GS              30299\n",
       "MSH              9102\n",
       "DRUGBANK         7916\n",
       "ATC              5485\n",
       "USP              4359\n",
       "CVX               439\n",
       "MTHCMSFRF           8\n",
       "Name: rxcui, dtype: int64"
      ]
     },
     "execution_count": 11,
     "metadata": {},
     "output_type": "execute_result"
    }
   ],
   "source": [
    "rxconso.groupby(\"sab\")[\"rxcui\"].nunique().sort_values(ascending=False)"
   ]
  },
  {
   "cell_type": "markdown",
   "metadata": {},
   "source": [
    "## Number of relationship RXCUIs in each source"
   ]
  },
  {
   "cell_type": "code",
   "execution_count": 12,
   "metadata": {},
   "outputs": [],
   "source": [
    "overlap = defaultdict(list)\n",
    "for sab, df in rxconso.groupby(\"sab\"):\n",
    "    overlap[\"sab\"].append(sab)\n",
    "    overlap[\"num_common\"].append(len(rel_cuis & set(df[\"rxcui\"])))\n",
    "    \n",
    "overlap = (pd\n",
    "    .DataFrame(overlap)\n",
    "    .sort_values(\"num_common\", ascending=False)\n",
    "    .reset_index(drop=True)\n",
    ")"
   ]
  },
  {
   "cell_type": "code",
   "execution_count": 13,
   "metadata": {},
   "outputs": [
    {
     "data": {
      "text/html": [
       "<div>\n",
       "<style scoped>\n",
       "    .dataframe tbody tr th:only-of-type {\n",
       "        vertical-align: middle;\n",
       "    }\n",
       "\n",
       "    .dataframe tbody tr th {\n",
       "        vertical-align: top;\n",
       "    }\n",
       "\n",
       "    .dataframe thead th {\n",
       "        text-align: right;\n",
       "    }\n",
       "</style>\n",
       "<table border=\"1\" class=\"dataframe\">\n",
       "  <thead>\n",
       "    <tr style=\"text-align: right;\">\n",
       "      <th></th>\n",
       "      <th>sab</th>\n",
       "      <th>num_common</th>\n",
       "    </tr>\n",
       "  </thead>\n",
       "  <tbody>\n",
       "    <tr>\n",
       "      <th>0</th>\n",
       "      <td>RXNORM</td>\n",
       "      <td>195978</td>\n",
       "    </tr>\n",
       "    <tr>\n",
       "      <th>1</th>\n",
       "      <td>MMSL</td>\n",
       "      <td>36549</td>\n",
       "    </tr>\n",
       "    <tr>\n",
       "      <th>2</th>\n",
       "      <td>MMX</td>\n",
       "      <td>27203</td>\n",
       "    </tr>\n",
       "    <tr>\n",
       "      <th>3</th>\n",
       "      <td>MTHSPL</td>\n",
       "      <td>23157</td>\n",
       "    </tr>\n",
       "    <tr>\n",
       "      <th>4</th>\n",
       "      <td>GS</td>\n",
       "      <td>20951</td>\n",
       "    </tr>\n",
       "    <tr>\n",
       "      <th>5</th>\n",
       "      <td>NDDF</td>\n",
       "      <td>19518</td>\n",
       "    </tr>\n",
       "    <tr>\n",
       "      <th>6</th>\n",
       "      <td>VANDF</td>\n",
       "      <td>16813</td>\n",
       "    </tr>\n",
       "    <tr>\n",
       "      <th>7</th>\n",
       "      <td>SNOMEDCT_US</td>\n",
       "      <td>13011</td>\n",
       "    </tr>\n",
       "    <tr>\n",
       "      <th>8</th>\n",
       "      <td>MSH</td>\n",
       "      <td>7722</td>\n",
       "    </tr>\n",
       "    <tr>\n",
       "      <th>9</th>\n",
       "      <td>DRUGBANK</td>\n",
       "      <td>3718</td>\n",
       "    </tr>\n",
       "    <tr>\n",
       "      <th>10</th>\n",
       "      <td>USP</td>\n",
       "      <td>3299</td>\n",
       "    </tr>\n",
       "    <tr>\n",
       "      <th>11</th>\n",
       "      <td>ATC</td>\n",
       "      <td>2591</td>\n",
       "    </tr>\n",
       "    <tr>\n",
       "      <th>12</th>\n",
       "      <td>CVX</td>\n",
       "      <td>253</td>\n",
       "    </tr>\n",
       "    <tr>\n",
       "      <th>13</th>\n",
       "      <td>MTHCMSFRF</td>\n",
       "      <td>0</td>\n",
       "    </tr>\n",
       "  </tbody>\n",
       "</table>\n",
       "</div>"
      ],
      "text/plain": [
       "            sab  num_common\n",
       "0        RXNORM      195978\n",
       "1          MMSL       36549\n",
       "2           MMX       27203\n",
       "3        MTHSPL       23157\n",
       "4            GS       20951\n",
       "5          NDDF       19518\n",
       "6         VANDF       16813\n",
       "7   SNOMEDCT_US       13011\n",
       "8           MSH        7722\n",
       "9      DRUGBANK        3718\n",
       "10          USP        3299\n",
       "11          ATC        2591\n",
       "12          CVX         253\n",
       "13    MTHCMSFRF           0"
      ]
     },
     "execution_count": 13,
     "metadata": {},
     "output_type": "execute_result"
    }
   ],
   "source": [
    "overlap"
   ]
  },
  {
   "cell_type": "code",
   "execution_count": 14,
   "metadata": {},
   "outputs": [
    {
     "data": {
      "text/plain": [
       "True"
      ]
     },
     "execution_count": 14,
     "metadata": {},
     "output_type": "execute_result"
    }
   ],
   "source": [
    "rel_cuis <= set(rxconso.query(\"sab == 'RXNORM'\")[\"rxcui\"])"
   ]
  },
  {
   "cell_type": "markdown",
   "metadata": {},
   "source": [
    "We have confirmed that only the RXNORM subset of concepts contains all the concepts in the semantic network."
   ]
  },
  {
   "cell_type": "markdown",
   "metadata": {},
   "source": [
    "---"
   ]
  },
  {
   "cell_type": "markdown",
   "metadata": {},
   "source": [
    "# Filter out RXNORM concepts"
   ]
  },
  {
   "cell_type": "code",
   "execution_count": 15,
   "metadata": {},
   "outputs": [],
   "source": [
    "good = (rxconso\n",
    "    .query(\"sab == 'RXNORM'\")\n",
    "    .dropna(how=\"all\", axis=1)\n",
    "    .reset_index(drop=True)\n",
    ")"
   ]
  },
  {
   "cell_type": "code",
   "execution_count": 16,
   "metadata": {},
   "outputs": [
    {
     "data": {
      "text/plain": [
       "(317528, 11)"
      ]
     },
     "execution_count": 16,
     "metadata": {},
     "output_type": "execute_result"
    }
   ],
   "source": [
    "good.shape"
   ]
  },
  {
   "cell_type": "code",
   "execution_count": 17,
   "metadata": {},
   "outputs": [
    {
     "data": {
      "text/html": [
       "<div>\n",
       "<style scoped>\n",
       "    .dataframe tbody tr th:only-of-type {\n",
       "        vertical-align: middle;\n",
       "    }\n",
       "\n",
       "    .dataframe tbody tr th {\n",
       "        vertical-align: top;\n",
       "    }\n",
       "\n",
       "    .dataframe thead th {\n",
       "        text-align: right;\n",
       "    }\n",
       "</style>\n",
       "<table border=\"1\" class=\"dataframe\">\n",
       "  <thead>\n",
       "    <tr style=\"text-align: right;\">\n",
       "      <th></th>\n",
       "      <th>rxcui</th>\n",
       "      <th>lat</th>\n",
       "      <th>rxaui</th>\n",
       "      <th>saui</th>\n",
       "      <th>scui</th>\n",
       "      <th>sab</th>\n",
       "      <th>tty</th>\n",
       "      <th>code</th>\n",
       "      <th>str</th>\n",
       "      <th>suppress</th>\n",
       "      <th>cvf</th>\n",
       "    </tr>\n",
       "  </thead>\n",
       "  <tbody>\n",
       "    <tr>\n",
       "      <th>0</th>\n",
       "      <td>38</td>\n",
       "      <td>ENG</td>\n",
       "      <td>829</td>\n",
       "      <td>829.0</td>\n",
       "      <td>38</td>\n",
       "      <td>RXNORM</td>\n",
       "      <td>BN</td>\n",
       "      <td>38</td>\n",
       "      <td>Parlodel</td>\n",
       "      <td>N</td>\n",
       "      <td>4096.0</td>\n",
       "    </tr>\n",
       "    <tr>\n",
       "      <th>1</th>\n",
       "      <td>44</td>\n",
       "      <td>ENG</td>\n",
       "      <td>947</td>\n",
       "      <td>947.0</td>\n",
       "      <td>44</td>\n",
       "      <td>RXNORM</td>\n",
       "      <td>IN</td>\n",
       "      <td>44</td>\n",
       "      <td>Mesna</td>\n",
       "      <td>N</td>\n",
       "      <td>4096.0</td>\n",
       "    </tr>\n",
       "    <tr>\n",
       "      <th>2</th>\n",
       "      <td>61</td>\n",
       "      <td>ENG</td>\n",
       "      <td>1424</td>\n",
       "      <td>1424.0</td>\n",
       "      <td>61</td>\n",
       "      <td>RXNORM</td>\n",
       "      <td>IN</td>\n",
       "      <td>61</td>\n",
       "      <td>beta-Alanine</td>\n",
       "      <td>N</td>\n",
       "      <td>4096.0</td>\n",
       "    </tr>\n",
       "    <tr>\n",
       "      <th>3</th>\n",
       "      <td>73</td>\n",
       "      <td>ENG</td>\n",
       "      <td>2458041</td>\n",
       "      <td>2458041.0</td>\n",
       "      <td>73</td>\n",
       "      <td>RXNORM</td>\n",
       "      <td>IN</td>\n",
       "      <td>73</td>\n",
       "      <td>Docosahexaenoate</td>\n",
       "      <td>N</td>\n",
       "      <td>4096.0</td>\n",
       "    </tr>\n",
       "    <tr>\n",
       "      <th>4</th>\n",
       "      <td>74</td>\n",
       "      <td>ENG</td>\n",
       "      <td>1684</td>\n",
       "      <td>1684.0</td>\n",
       "      <td>74</td>\n",
       "      <td>RXNORM</td>\n",
       "      <td>IN</td>\n",
       "      <td>74</td>\n",
       "      <td>4-Aminobenzoic Acid</td>\n",
       "      <td>N</td>\n",
       "      <td>4096.0</td>\n",
       "    </tr>\n",
       "  </tbody>\n",
       "</table>\n",
       "</div>"
      ],
      "text/plain": [
       "   rxcui  lat    rxaui       saui scui     sab tty code                  str  \\\n",
       "0     38  ENG      829      829.0   38  RXNORM  BN   38             Parlodel   \n",
       "1     44  ENG      947      947.0   44  RXNORM  IN   44                Mesna   \n",
       "2     61  ENG     1424     1424.0   61  RXNORM  IN   61         beta-Alanine   \n",
       "3     73  ENG  2458041  2458041.0   73  RXNORM  IN   73     Docosahexaenoate   \n",
       "4     74  ENG     1684     1684.0   74  RXNORM  IN   74  4-Aminobenzoic Acid   \n",
       "\n",
       "  suppress     cvf  \n",
       "0        N  4096.0  \n",
       "1        N  4096.0  \n",
       "2        N  4096.0  \n",
       "3        N  4096.0  \n",
       "4        N  4096.0  "
      ]
     },
     "execution_count": 17,
     "metadata": {},
     "output_type": "execute_result"
    }
   ],
   "source": [
    "good.head()"
   ]
  },
  {
   "cell_type": "code",
   "execution_count": 18,
   "metadata": {},
   "outputs": [
    {
     "data": {
      "text/plain": [
       "rxcui            0\n",
       "lat              0\n",
       "rxaui            0\n",
       "saui             0\n",
       "scui             0\n",
       "sab              0\n",
       "tty              0\n",
       "code             0\n",
       "str              0\n",
       "suppress         0\n",
       "cvf         184319\n",
       "dtype: int64"
      ]
     },
     "execution_count": 18,
     "metadata": {},
     "output_type": "execute_result"
    }
   ],
   "source": [
    "good.isnull().sum()"
   ]
  },
  {
   "cell_type": "code",
   "execution_count": 19,
   "metadata": {},
   "outputs": [
    {
     "data": {
      "text/plain": [
       "rxcui         int64\n",
       "lat          object\n",
       "rxaui         int64\n",
       "saui        float64\n",
       "scui         object\n",
       "sab          object\n",
       "tty          object\n",
       "code         object\n",
       "str          object\n",
       "suppress     object\n",
       "cvf         float64\n",
       "dtype: object"
      ]
     },
     "execution_count": 19,
     "metadata": {},
     "output_type": "execute_result"
    }
   ],
   "source": [
    "good.dtypes"
   ]
  },
  {
   "cell_type": "markdown",
   "metadata": {},
   "source": [
    "### Verify data columns"
   ]
  },
  {
   "cell_type": "code",
   "execution_count": 20,
   "metadata": {},
   "outputs": [
    {
     "data": {
      "text/plain": [
       "True"
      ]
     },
     "execution_count": 20,
     "metadata": {},
     "output_type": "execute_result"
    }
   ],
   "source": [
    "(good[\"saui\"].astype(\"int64\") == good[\"rxaui\"]).all()"
   ]
  },
  {
   "cell_type": "code",
   "execution_count": 21,
   "metadata": {},
   "outputs": [
    {
     "data": {
      "text/plain": [
       "True"
      ]
     },
     "execution_count": 21,
     "metadata": {},
     "output_type": "execute_result"
    }
   ],
   "source": [
    "(good[\"scui\"].astype(\"int64\") == good[\"rxcui\"]).all()"
   ]
  },
  {
   "cell_type": "code",
   "execution_count": 22,
   "metadata": {},
   "outputs": [
    {
     "data": {
      "text/plain": [
       "ENG    317528\n",
       "Name: lat, dtype: int64"
      ]
     },
     "execution_count": 22,
     "metadata": {},
     "output_type": "execute_result"
    }
   ],
   "source": [
    "good[\"lat\"].value_counts()"
   ]
  },
  {
   "cell_type": "code",
   "execution_count": 23,
   "metadata": {},
   "outputs": [
    {
     "data": {
      "text/plain": [
       "True"
      ]
     },
     "execution_count": 23,
     "metadata": {},
     "output_type": "execute_result"
    }
   ],
   "source": [
    "(good[\"code\"].astype(\"int64\") == good[\"rxcui\"]).all()"
   ]
  },
  {
   "cell_type": "markdown",
   "metadata": {},
   "source": [
    "These columns are redundant."
   ]
  },
  {
   "cell_type": "markdown",
   "metadata": {},
   "source": [
    "---"
   ]
  },
  {
   "cell_type": "code",
   "execution_count": 24,
   "metadata": {},
   "outputs": [
    {
     "data": {
      "text/plain": [
       "N    187845\n",
       "O    124236\n",
       "E      5447\n",
       "Name: suppress, dtype: int64"
      ]
     },
     "execution_count": 24,
     "metadata": {},
     "output_type": "execute_result"
    }
   ],
   "source": [
    "good[\"suppress\"].value_counts()"
   ]
  },
  {
   "cell_type": "markdown",
   "metadata": {},
   "source": [
    "## Drop irrelevant information"
   ]
  },
  {
   "cell_type": "code",
   "execution_count": 25,
   "metadata": {},
   "outputs": [],
   "source": [
    "final = good[[\"rxcui\", \"rxaui\", \"tty\", \"str\", \"suppress\", \"cvf\"]]"
   ]
  },
  {
   "cell_type": "code",
   "execution_count": 26,
   "metadata": {},
   "outputs": [
    {
     "data": {
      "text/plain": [
       "(317528, 6)"
      ]
     },
     "execution_count": 26,
     "metadata": {},
     "output_type": "execute_result"
    }
   ],
   "source": [
    "final.shape"
   ]
  },
  {
   "cell_type": "code",
   "execution_count": 27,
   "metadata": {},
   "outputs": [
    {
     "data": {
      "text/html": [
       "<div>\n",
       "<style scoped>\n",
       "    .dataframe tbody tr th:only-of-type {\n",
       "        vertical-align: middle;\n",
       "    }\n",
       "\n",
       "    .dataframe tbody tr th {\n",
       "        vertical-align: top;\n",
       "    }\n",
       "\n",
       "    .dataframe thead th {\n",
       "        text-align: right;\n",
       "    }\n",
       "</style>\n",
       "<table border=\"1\" class=\"dataframe\">\n",
       "  <thead>\n",
       "    <tr style=\"text-align: right;\">\n",
       "      <th></th>\n",
       "      <th>rxcui</th>\n",
       "      <th>rxaui</th>\n",
       "      <th>tty</th>\n",
       "      <th>str</th>\n",
       "      <th>suppress</th>\n",
       "      <th>cvf</th>\n",
       "    </tr>\n",
       "  </thead>\n",
       "  <tbody>\n",
       "    <tr>\n",
       "      <th>0</th>\n",
       "      <td>38</td>\n",
       "      <td>829</td>\n",
       "      <td>BN</td>\n",
       "      <td>Parlodel</td>\n",
       "      <td>N</td>\n",
       "      <td>4096.0</td>\n",
       "    </tr>\n",
       "    <tr>\n",
       "      <th>1</th>\n",
       "      <td>44</td>\n",
       "      <td>947</td>\n",
       "      <td>IN</td>\n",
       "      <td>Mesna</td>\n",
       "      <td>N</td>\n",
       "      <td>4096.0</td>\n",
       "    </tr>\n",
       "    <tr>\n",
       "      <th>2</th>\n",
       "      <td>61</td>\n",
       "      <td>1424</td>\n",
       "      <td>IN</td>\n",
       "      <td>beta-Alanine</td>\n",
       "      <td>N</td>\n",
       "      <td>4096.0</td>\n",
       "    </tr>\n",
       "    <tr>\n",
       "      <th>3</th>\n",
       "      <td>73</td>\n",
       "      <td>2458041</td>\n",
       "      <td>IN</td>\n",
       "      <td>Docosahexaenoate</td>\n",
       "      <td>N</td>\n",
       "      <td>4096.0</td>\n",
       "    </tr>\n",
       "    <tr>\n",
       "      <th>4</th>\n",
       "      <td>74</td>\n",
       "      <td>1684</td>\n",
       "      <td>IN</td>\n",
       "      <td>4-Aminobenzoic Acid</td>\n",
       "      <td>N</td>\n",
       "      <td>4096.0</td>\n",
       "    </tr>\n",
       "  </tbody>\n",
       "</table>\n",
       "</div>"
      ],
      "text/plain": [
       "   rxcui    rxaui tty                  str suppress     cvf\n",
       "0     38      829  BN             Parlodel        N  4096.0\n",
       "1     44      947  IN                Mesna        N  4096.0\n",
       "2     61     1424  IN         beta-Alanine        N  4096.0\n",
       "3     73  2458041  IN     Docosahexaenoate        N  4096.0\n",
       "4     74     1684  IN  4-Aminobenzoic Acid        N  4096.0"
      ]
     },
     "execution_count": 27,
     "metadata": {},
     "output_type": "execute_result"
    }
   ],
   "source": [
    "final.head()"
   ]
  },
  {
   "cell_type": "code",
   "execution_count": 28,
   "metadata": {},
   "outputs": [
    {
     "data": {
      "text/plain": [
       "rxcui            0\n",
       "rxaui            0\n",
       "tty              0\n",
       "str              0\n",
       "suppress         0\n",
       "cvf         184319\n",
       "dtype: int64"
      ]
     },
     "execution_count": 28,
     "metadata": {},
     "output_type": "execute_result"
    }
   ],
   "source": [
    "final.isnull().sum()"
   ]
  },
  {
   "cell_type": "markdown",
   "metadata": {},
   "source": [
    "## Save to file"
   ]
  },
  {
   "cell_type": "code",
   "execution_count": 29,
   "metadata": {},
   "outputs": [],
   "source": [
    "final.to_csv(\"../../pipeline/rxnorm/rxconso_info.tsv\", sep='\\t', index=False)"
   ]
  }
 ],
 "metadata": {
  "kernelspec": {
   "display_name": "Python 3",
   "language": "python",
   "name": "python3"
  },
  "language_info": {
   "codemirror_mode": {
    "name": "ipython",
    "version": 3
   },
   "file_extension": ".py",
   "mimetype": "text/x-python",
   "name": "python",
   "nbconvert_exporter": "python",
   "pygments_lexer": "ipython3",
   "version": "3.6.7"
  }
 },
 "nbformat": 4,
 "nbformat_minor": 2
}
