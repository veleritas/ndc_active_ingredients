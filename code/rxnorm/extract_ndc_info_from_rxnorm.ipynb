{
 "cells": [
  {
   "cell_type": "markdown",
   "metadata": {},
   "source": [
    "# Extract all NDC information from RxNorm\n",
    "\n",
    "2019-06-03\n",
    "\n",
    "Extract the NDC info in RxNorm.\n",
    "Analyze the information in a later step."
   ]
  },
  {
   "cell_type": "code",
   "execution_count": 1,
   "metadata": {},
   "outputs": [],
   "source": [
    "import pandas as pd"
   ]
  },
  {
   "cell_type": "markdown",
   "metadata": {},
   "source": [
    "## Read `RXNSAT.RRF`\n",
    "\n",
    "The NDCs should be in `RXNSAT.RRF` according to the technical documentation:\n",
    "https://www.nlm.nih.gov/research/umls/rxnorm/docs/2019/rxnorm_doco_full_2019-1.html#s6_0"
   ]
  },
  {
   "cell_type": "code",
   "execution_count": 2,
   "metadata": {},
   "outputs": [],
   "source": [
    "rxsat = (pd\n",
    "    .read_csv(\"../../data/rxnorm/RXNSAT.RRF\", sep='|', names=[\n",
    "        \"rxcui\", \"lui\", \"sui\", \"rxaui\", \"stype\",\n",
    "        \"code\", \"atui\", \"satui\", \"atn\", \"sab\",\n",
    "        \"atv\", \"suppress\", \"cvf\",\n",
    "        \"temp\"\n",
    "    ])\n",
    "    .dropna(axis=1, how=\"all\")\n",
    ")"
   ]
  },
  {
   "cell_type": "code",
   "execution_count": 3,
   "metadata": {},
   "outputs": [
    {
     "data": {
      "text/plain": [
       "(8245946, 10)"
      ]
     },
     "execution_count": 3,
     "metadata": {},
     "output_type": "execute_result"
    }
   ],
   "source": [
    "rxsat.shape"
   ]
  },
  {
   "cell_type": "code",
   "execution_count": 4,
   "metadata": {},
   "outputs": [
    {
     "data": {
      "text/html": [
       "<div>\n",
       "<style scoped>\n",
       "    .dataframe tbody tr th:only-of-type {\n",
       "        vertical-align: middle;\n",
       "    }\n",
       "\n",
       "    .dataframe tbody tr th {\n",
       "        vertical-align: top;\n",
       "    }\n",
       "\n",
       "    .dataframe thead th {\n",
       "        text-align: right;\n",
       "    }\n",
       "</style>\n",
       "<table border=\"1\" class=\"dataframe\">\n",
       "  <thead>\n",
       "    <tr style=\"text-align: right;\">\n",
       "      <th></th>\n",
       "      <th>rxcui</th>\n",
       "      <th>rxaui</th>\n",
       "      <th>stype</th>\n",
       "      <th>code</th>\n",
       "      <th>atui</th>\n",
       "      <th>atn</th>\n",
       "      <th>sab</th>\n",
       "      <th>atv</th>\n",
       "      <th>suppress</th>\n",
       "      <th>cvf</th>\n",
       "    </tr>\n",
       "  </thead>\n",
       "  <tbody>\n",
       "    <tr>\n",
       "      <th>0</th>\n",
       "      <td>3</td>\n",
       "      <td>8717795</td>\n",
       "      <td>AUI</td>\n",
       "      <td>58488005</td>\n",
       "      <td>NaN</td>\n",
       "      <td>UMLSAUI</td>\n",
       "      <td>RXNORM</td>\n",
       "      <td>A27769867</td>\n",
       "      <td>NaN</td>\n",
       "      <td>NaN</td>\n",
       "    </tr>\n",
       "    <tr>\n",
       "      <th>1</th>\n",
       "      <td>3</td>\n",
       "      <td>8717795</td>\n",
       "      <td>AUI</td>\n",
       "      <td>58488005</td>\n",
       "      <td>NaN</td>\n",
       "      <td>UMLSCUI</td>\n",
       "      <td>RXNORM</td>\n",
       "      <td>C0000052</td>\n",
       "      <td>NaN</td>\n",
       "      <td>NaN</td>\n",
       "    </tr>\n",
       "    <tr>\n",
       "      <th>2</th>\n",
       "      <td>3</td>\n",
       "      <td>8717796</td>\n",
       "      <td>AUI</td>\n",
       "      <td>58488005</td>\n",
       "      <td>NaN</td>\n",
       "      <td>UMLSAUI</td>\n",
       "      <td>RXNORM</td>\n",
       "      <td>A27780666</td>\n",
       "      <td>NaN</td>\n",
       "      <td>NaN</td>\n",
       "    </tr>\n",
       "    <tr>\n",
       "      <th>3</th>\n",
       "      <td>3</td>\n",
       "      <td>8717796</td>\n",
       "      <td>AUI</td>\n",
       "      <td>58488005</td>\n",
       "      <td>NaN</td>\n",
       "      <td>UMLSCUI</td>\n",
       "      <td>RXNORM</td>\n",
       "      <td>C0000052</td>\n",
       "      <td>NaN</td>\n",
       "      <td>NaN</td>\n",
       "    </tr>\n",
       "    <tr>\n",
       "      <th>4</th>\n",
       "      <td>3</td>\n",
       "      <td>8717808</td>\n",
       "      <td>AUI</td>\n",
       "      <td>58488005</td>\n",
       "      <td>NaN</td>\n",
       "      <td>UMLSAUI</td>\n",
       "      <td>RXNORM</td>\n",
       "      <td>A27766654</td>\n",
       "      <td>NaN</td>\n",
       "      <td>NaN</td>\n",
       "    </tr>\n",
       "  </tbody>\n",
       "</table>\n",
       "</div>"
      ],
      "text/plain": [
       "   rxcui    rxaui stype      code atui      atn     sab        atv suppress  \\\n",
       "0      3  8717795   AUI  58488005  NaN  UMLSAUI  RXNORM  A27769867      NaN   \n",
       "1      3  8717795   AUI  58488005  NaN  UMLSCUI  RXNORM   C0000052      NaN   \n",
       "2      3  8717796   AUI  58488005  NaN  UMLSAUI  RXNORM  A27780666      NaN   \n",
       "3      3  8717796   AUI  58488005  NaN  UMLSCUI  RXNORM   C0000052      NaN   \n",
       "4      3  8717808   AUI  58488005  NaN  UMLSAUI  RXNORM  A27766654      NaN   \n",
       "\n",
       "   cvf  \n",
       "0  NaN  \n",
       "1  NaN  \n",
       "2  NaN  \n",
       "3  NaN  \n",
       "4  NaN  "
      ]
     },
     "execution_count": 4,
     "metadata": {},
     "output_type": "execute_result"
    }
   ],
   "source": [
    "rxsat.head()"
   ]
  },
  {
   "cell_type": "markdown",
   "metadata": {},
   "source": [
    "### Basic info"
   ]
  },
  {
   "cell_type": "code",
   "execution_count": 5,
   "metadata": {},
   "outputs": [
    {
     "data": {
      "text/plain": [
       "NDC           1670442\n",
       "SPL_SET_ID    1408364\n",
       "UMLSCUI       1022945\n",
       "UMLSAUI       1015392\n",
       "LABELER        319007\n",
       "Name: atn, dtype: int64"
      ]
     },
     "execution_count": 5,
     "metadata": {},
     "output_type": "execute_result"
    }
   ],
   "source": [
    "rxsat[\"atn\"].value_counts().head()"
   ]
  },
  {
   "cell_type": "markdown",
   "metadata": {},
   "source": [
    "---"
   ]
  },
  {
   "cell_type": "markdown",
   "metadata": {},
   "source": [
    "## Extract NDCs"
   ]
  },
  {
   "cell_type": "code",
   "execution_count": 6,
   "metadata": {},
   "outputs": [],
   "source": [
    "ndcs = rxsat.query(\"atn == 'NDC'\")"
   ]
  },
  {
   "cell_type": "code",
   "execution_count": 7,
   "metadata": {},
   "outputs": [
    {
     "data": {
      "text/plain": [
       "(1670442, 10)"
      ]
     },
     "execution_count": 7,
     "metadata": {},
     "output_type": "execute_result"
    }
   ],
   "source": [
    "ndcs.shape"
   ]
  },
  {
   "cell_type": "code",
   "execution_count": 8,
   "metadata": {},
   "outputs": [
    {
     "data": {
      "text/html": [
       "<div>\n",
       "<style scoped>\n",
       "    .dataframe tbody tr th:only-of-type {\n",
       "        vertical-align: middle;\n",
       "    }\n",
       "\n",
       "    .dataframe tbody tr th {\n",
       "        vertical-align: top;\n",
       "    }\n",
       "\n",
       "    .dataframe thead th {\n",
       "        text-align: right;\n",
       "    }\n",
       "</style>\n",
       "<table border=\"1\" class=\"dataframe\">\n",
       "  <thead>\n",
       "    <tr style=\"text-align: right;\">\n",
       "      <th></th>\n",
       "      <th>rxcui</th>\n",
       "      <th>rxaui</th>\n",
       "      <th>stype</th>\n",
       "      <th>code</th>\n",
       "      <th>atui</th>\n",
       "      <th>atn</th>\n",
       "      <th>sab</th>\n",
       "      <th>atv</th>\n",
       "      <th>suppress</th>\n",
       "      <th>cvf</th>\n",
       "    </tr>\n",
       "  </thead>\n",
       "  <tbody>\n",
       "    <tr>\n",
       "      <th>49554</th>\n",
       "      <td>1356</td>\n",
       "      <td>1473211</td>\n",
       "      <td>AUI</td>\n",
       "      <td>4009746</td>\n",
       "      <td>NaN</td>\n",
       "      <td>NDC</td>\n",
       "      <td>VANDF</td>\n",
       "      <td>000395021301</td>\n",
       "      <td>O</td>\n",
       "      <td>NaN</td>\n",
       "    </tr>\n",
       "    <tr>\n",
       "      <th>49555</th>\n",
       "      <td>1356</td>\n",
       "      <td>1473211</td>\n",
       "      <td>AUI</td>\n",
       "      <td>4009746</td>\n",
       "      <td>NaN</td>\n",
       "      <td>NDC</td>\n",
       "      <td>VANDF</td>\n",
       "      <td>000395021391</td>\n",
       "      <td>O</td>\n",
       "      <td>NaN</td>\n",
       "    </tr>\n",
       "    <tr>\n",
       "      <th>49556</th>\n",
       "      <td>1356</td>\n",
       "      <td>1473211</td>\n",
       "      <td>AUI</td>\n",
       "      <td>4009746</td>\n",
       "      <td>NaN</td>\n",
       "      <td>NDC</td>\n",
       "      <td>VANDF</td>\n",
       "      <td>017317004101</td>\n",
       "      <td>O</td>\n",
       "      <td>NaN</td>\n",
       "    </tr>\n",
       "    <tr>\n",
       "      <th>49557</th>\n",
       "      <td>1356</td>\n",
       "      <td>1473211</td>\n",
       "      <td>AUI</td>\n",
       "      <td>4009746</td>\n",
       "      <td>NaN</td>\n",
       "      <td>NDC</td>\n",
       "      <td>VANDF</td>\n",
       "      <td>017317004105</td>\n",
       "      <td>O</td>\n",
       "      <td>NaN</td>\n",
       "    </tr>\n",
       "    <tr>\n",
       "      <th>49558</th>\n",
       "      <td>1356</td>\n",
       "      <td>1473211</td>\n",
       "      <td>AUI</td>\n",
       "      <td>4009746</td>\n",
       "      <td>NaN</td>\n",
       "      <td>NDC</td>\n",
       "      <td>VANDF</td>\n",
       "      <td>049452815001</td>\n",
       "      <td>O</td>\n",
       "      <td>NaN</td>\n",
       "    </tr>\n",
       "  </tbody>\n",
       "</table>\n",
       "</div>"
      ],
      "text/plain": [
       "       rxcui    rxaui stype     code atui  atn    sab           atv suppress  \\\n",
       "49554   1356  1473211   AUI  4009746  NaN  NDC  VANDF  000395021301        O   \n",
       "49555   1356  1473211   AUI  4009746  NaN  NDC  VANDF  000395021391        O   \n",
       "49556   1356  1473211   AUI  4009746  NaN  NDC  VANDF  017317004101        O   \n",
       "49557   1356  1473211   AUI  4009746  NaN  NDC  VANDF  017317004105        O   \n",
       "49558   1356  1473211   AUI  4009746  NaN  NDC  VANDF  049452815001        O   \n",
       "\n",
       "       cvf  \n",
       "49554  NaN  \n",
       "49555  NaN  \n",
       "49556  NaN  \n",
       "49557  NaN  \n",
       "49558  NaN  "
      ]
     },
     "execution_count": 8,
     "metadata": {},
     "output_type": "execute_result"
    }
   ],
   "source": [
    "ndcs.head()"
   ]
  },
  {
   "cell_type": "markdown",
   "metadata": {},
   "source": [
    "## Save to file"
   ]
  },
  {
   "cell_type": "code",
   "execution_count": 9,
   "metadata": {},
   "outputs": [],
   "source": [
    "ndcs.to_csv(\"../../pipeline/rxnorm/raw_ndc_info.tsv\", sep='\\t', index=False)"
   ]
  }
 ],
 "metadata": {
  "kernelspec": {
   "display_name": "Python 3",
   "language": "python",
   "name": "python3"
  },
  "language_info": {
   "codemirror_mode": {
    "name": "ipython",
    "version": 3
   },
   "file_extension": ".py",
   "mimetype": "text/x-python",
   "name": "python",
   "nbconvert_exporter": "python",
   "pygments_lexer": "ipython3",
   "version": "3.6.7"
  }
 },
 "nbformat": 4,
 "nbformat_minor": 2
}
