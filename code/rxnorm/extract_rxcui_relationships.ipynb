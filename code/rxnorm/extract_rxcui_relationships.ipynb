{
 "cells": [
  {
   "cell_type": "markdown",
   "metadata": {},
   "source": [
    "# Extract RXCUI relationships from the `RXNREL.RRF` file\n",
    "\n",
    "2019-05-07\n",
    "\n",
    "The RxNorm semantic network is contained in the `RXNREL.RRF` file.\n",
    "We will extract the RXCUI relationships so that we can traverse the network in order to determine the active ingredients of each drug."
   ]
  },
  {
   "cell_type": "code",
   "execution_count": 1,
   "metadata": {},
   "outputs": [],
   "source": [
    "import pandas as pd"
   ]
  },
  {
   "cell_type": "markdown",
   "metadata": {},
   "source": [
    "## Read `RXNREL.RRF`"
   ]
  },
  {
   "cell_type": "code",
   "execution_count": 2,
   "metadata": {},
   "outputs": [],
   "source": [
    "rawd = (pd\n",
    "    .read_csv(\n",
    "        \"../../data/rxnorm/RXNREL.RRF\", sep=\"|\", names=[\n",
    "            \"rxcui1\", \"rxaui1\", \"stype1\", \"rel\",\n",
    "            \"rxcui2\", \"rxaui2\", \"stype2\", \"rela\",\n",
    "            \"rui\", \"srui\", \"sab\", \"sl\", \"dir\",\n",
    "            \"rg\", \"suppress\", \"cvf\",\n",
    "            \"temp\"\n",
    "        ]\n",
    "    )\n",
    "    .dropna(how=\"all\", axis=1)\n",
    ")"
   ]
  },
  {
   "cell_type": "code",
   "execution_count": 3,
   "metadata": {},
   "outputs": [
    {
     "data": {
      "text/plain": [
       "(6359759, 12)"
      ]
     },
     "execution_count": 3,
     "metadata": {},
     "output_type": "execute_result"
    }
   ],
   "source": [
    "rawd.shape"
   ]
  },
  {
   "cell_type": "code",
   "execution_count": 4,
   "metadata": {},
   "outputs": [
    {
     "data": {
      "text/html": [
       "<div>\n",
       "<style scoped>\n",
       "    .dataframe tbody tr th:only-of-type {\n",
       "        vertical-align: middle;\n",
       "    }\n",
       "\n",
       "    .dataframe tbody tr th {\n",
       "        vertical-align: top;\n",
       "    }\n",
       "\n",
       "    .dataframe thead th {\n",
       "        text-align: right;\n",
       "    }\n",
       "</style>\n",
       "<table border=\"1\" class=\"dataframe\">\n",
       "  <thead>\n",
       "    <tr style=\"text-align: right;\">\n",
       "      <th></th>\n",
       "      <th>rxcui1</th>\n",
       "      <th>rxaui1</th>\n",
       "      <th>stype1</th>\n",
       "      <th>rel</th>\n",
       "      <th>rxcui2</th>\n",
       "      <th>rxaui2</th>\n",
       "      <th>stype2</th>\n",
       "      <th>rela</th>\n",
       "      <th>rui</th>\n",
       "      <th>sab</th>\n",
       "      <th>dir</th>\n",
       "      <th>cvf</th>\n",
       "    </tr>\n",
       "  </thead>\n",
       "  <tbody>\n",
       "    <tr>\n",
       "      <th>0</th>\n",
       "      <td>NaN</td>\n",
       "      <td>5.0</td>\n",
       "      <td>AUI</td>\n",
       "      <td>SY</td>\n",
       "      <td>NaN</td>\n",
       "      <td>6.0</td>\n",
       "      <td>AUI</td>\n",
       "      <td>permuted_term_of</td>\n",
       "      <td>140022271.0</td>\n",
       "      <td>MSH</td>\n",
       "      <td>NaN</td>\n",
       "      <td>NaN</td>\n",
       "    </tr>\n",
       "    <tr>\n",
       "      <th>1</th>\n",
       "      <td>NaN</td>\n",
       "      <td>5.0</td>\n",
       "      <td>SDUI</td>\n",
       "      <td>SIB</td>\n",
       "      <td>NaN</td>\n",
       "      <td>104746.0</td>\n",
       "      <td>SDUI</td>\n",
       "      <td>NaN</td>\n",
       "      <td>140773282.0</td>\n",
       "      <td>MSH</td>\n",
       "      <td>NaN</td>\n",
       "      <td>NaN</td>\n",
       "    </tr>\n",
       "    <tr>\n",
       "      <th>2</th>\n",
       "      <td>NaN</td>\n",
       "      <td>5.0</td>\n",
       "      <td>SDUI</td>\n",
       "      <td>RN</td>\n",
       "      <td>NaN</td>\n",
       "      <td>609702.0</td>\n",
       "      <td>SDUI</td>\n",
       "      <td>mapped_to</td>\n",
       "      <td>139927355.0</td>\n",
       "      <td>MSH</td>\n",
       "      <td>1.0</td>\n",
       "      <td>NaN</td>\n",
       "    </tr>\n",
       "    <tr>\n",
       "      <th>3</th>\n",
       "      <td>NaN</td>\n",
       "      <td>5.0</td>\n",
       "      <td>AUI</td>\n",
       "      <td>SY</td>\n",
       "      <td>NaN</td>\n",
       "      <td>2666961.0</td>\n",
       "      <td>AUI</td>\n",
       "      <td>sort_version_of</td>\n",
       "      <td>140943001.0</td>\n",
       "      <td>MSH</td>\n",
       "      <td>NaN</td>\n",
       "      <td>NaN</td>\n",
       "    </tr>\n",
       "    <tr>\n",
       "      <th>4</th>\n",
       "      <td>NaN</td>\n",
       "      <td>5.0</td>\n",
       "      <td>AUI</td>\n",
       "      <td>SY</td>\n",
       "      <td>NaN</td>\n",
       "      <td>2681015.0</td>\n",
       "      <td>AUI</td>\n",
       "      <td>entry_version_of</td>\n",
       "      <td>140018071.0</td>\n",
       "      <td>MSH</td>\n",
       "      <td>NaN</td>\n",
       "      <td>NaN</td>\n",
       "    </tr>\n",
       "  </tbody>\n",
       "</table>\n",
       "</div>"
      ],
      "text/plain": [
       "   rxcui1  rxaui1 stype1  rel  rxcui2     rxaui2 stype2              rela  \\\n",
       "0     NaN     5.0    AUI   SY     NaN        6.0    AUI  permuted_term_of   \n",
       "1     NaN     5.0   SDUI  SIB     NaN   104746.0   SDUI               NaN   \n",
       "2     NaN     5.0   SDUI   RN     NaN   609702.0   SDUI         mapped_to   \n",
       "3     NaN     5.0    AUI   SY     NaN  2666961.0    AUI   sort_version_of   \n",
       "4     NaN     5.0    AUI   SY     NaN  2681015.0    AUI  entry_version_of   \n",
       "\n",
       "           rui  sab  dir  cvf  \n",
       "0  140022271.0  MSH  NaN  NaN  \n",
       "1  140773282.0  MSH  NaN  NaN  \n",
       "2  139927355.0  MSH  1.0  NaN  \n",
       "3  140943001.0  MSH  NaN  NaN  \n",
       "4  140018071.0  MSH  NaN  NaN  "
      ]
     },
     "execution_count": 4,
     "metadata": {},
     "output_type": "execute_result"
    }
   ],
   "source": [
    "rawd.head()"
   ]
  },
  {
   "cell_type": "markdown",
   "metadata": {},
   "source": [
    "### Empty cells"
   ]
  },
  {
   "cell_type": "code",
   "execution_count": 5,
   "metadata": {},
   "outputs": [
    {
     "data": {
      "text/html": [
       "<div>\n",
       "<style scoped>\n",
       "    .dataframe tbody tr th:only-of-type {\n",
       "        vertical-align: middle;\n",
       "    }\n",
       "\n",
       "    .dataframe tbody tr th {\n",
       "        vertical-align: top;\n",
       "    }\n",
       "\n",
       "    .dataframe thead th {\n",
       "        text-align: right;\n",
       "    }\n",
       "</style>\n",
       "<table border=\"1\" class=\"dataframe\">\n",
       "  <thead>\n",
       "    <tr style=\"text-align: right;\">\n",
       "      <th></th>\n",
       "      <th>num_null</th>\n",
       "      <th>pct_null</th>\n",
       "    </tr>\n",
       "  </thead>\n",
       "  <tbody>\n",
       "    <tr>\n",
       "      <th>rxcui1</th>\n",
       "      <td>4870029</td>\n",
       "      <td>76.575685</td>\n",
       "    </tr>\n",
       "    <tr>\n",
       "      <th>rxaui1</th>\n",
       "      <td>1489730</td>\n",
       "      <td>23.424315</td>\n",
       "    </tr>\n",
       "    <tr>\n",
       "      <th>stype1</th>\n",
       "      <td>0</td>\n",
       "      <td>0.000000</td>\n",
       "    </tr>\n",
       "    <tr>\n",
       "      <th>rel</th>\n",
       "      <td>0</td>\n",
       "      <td>0.000000</td>\n",
       "    </tr>\n",
       "    <tr>\n",
       "      <th>rxcui2</th>\n",
       "      <td>4870029</td>\n",
       "      <td>76.575685</td>\n",
       "    </tr>\n",
       "    <tr>\n",
       "      <th>rxaui2</th>\n",
       "      <td>1489730</td>\n",
       "      <td>23.424315</td>\n",
       "    </tr>\n",
       "    <tr>\n",
       "      <th>stype2</th>\n",
       "      <td>0</td>\n",
       "      <td>0.000000</td>\n",
       "    </tr>\n",
       "    <tr>\n",
       "      <th>rela</th>\n",
       "      <td>523027</td>\n",
       "      <td>8.224007</td>\n",
       "    </tr>\n",
       "    <tr>\n",
       "      <th>rui</th>\n",
       "      <td>498851</td>\n",
       "      <td>7.843866</td>\n",
       "    </tr>\n",
       "    <tr>\n",
       "      <th>sab</th>\n",
       "      <td>0</td>\n",
       "      <td>0.000000</td>\n",
       "    </tr>\n",
       "    <tr>\n",
       "      <th>dir</th>\n",
       "      <td>6357124</td>\n",
       "      <td>99.958568</td>\n",
       "    </tr>\n",
       "    <tr>\n",
       "      <th>cvf</th>\n",
       "      <td>3726894</td>\n",
       "      <td>58.601183</td>\n",
       "    </tr>\n",
       "  </tbody>\n",
       "</table>\n",
       "</div>"
      ],
      "text/plain": [
       "        num_null   pct_null\n",
       "rxcui1   4870029  76.575685\n",
       "rxaui1   1489730  23.424315\n",
       "stype1         0   0.000000\n",
       "rel            0   0.000000\n",
       "rxcui2   4870029  76.575685\n",
       "rxaui2   1489730  23.424315\n",
       "stype2         0   0.000000\n",
       "rela      523027   8.224007\n",
       "rui       498851   7.843866\n",
       "sab            0   0.000000\n",
       "dir      6357124  99.958568\n",
       "cvf      3726894  58.601183"
      ]
     },
     "execution_count": 5,
     "metadata": {},
     "output_type": "execute_result"
    }
   ],
   "source": [
    "(rawd\n",
    "    .isnull()\n",
    "    .sum()\n",
    "    .to_frame(\"num_null\")\n",
    "    .assign(pct_null = lambda df: df[\"num_null\"].divide(len(rawd)).multiply(100))\n",
    ")"
   ]
  },
  {
   "cell_type": "markdown",
   "metadata": {},
   "source": [
    "The RXCUI columns have more nulls.\n",
    "There seems to be more relationships between RXAUIs."
   ]
  },
  {
   "cell_type": "markdown",
   "metadata": {},
   "source": [
    "### Column data types"
   ]
  },
  {
   "cell_type": "code",
   "execution_count": 6,
   "metadata": {},
   "outputs": [
    {
     "data": {
      "text/plain": [
       "rxcui1    float64\n",
       "rxaui1    float64\n",
       "stype1     object\n",
       "rel        object\n",
       "rxcui2    float64\n",
       "rxaui2    float64\n",
       "stype2     object\n",
       "rela       object\n",
       "rui       float64\n",
       "sab        object\n",
       "dir       float64\n",
       "cvf       float64\n",
       "dtype: object"
      ]
     },
     "execution_count": 6,
     "metadata": {},
     "output_type": "execute_result"
    }
   ],
   "source": [
    "rawd.dtypes"
   ]
  },
  {
   "cell_type": "markdown",
   "metadata": {},
   "source": [
    "We will need to normalize the float columns to ints."
   ]
  },
  {
   "cell_type": "markdown",
   "metadata": {},
   "source": [
    "### Concept types"
   ]
  },
  {
   "cell_type": "code",
   "execution_count": 7,
   "metadata": {},
   "outputs": [
    {
     "data": {
      "text/plain": [
       "AUI     4843463\n",
       "CUI     1489730\n",
       "SDUI      19300\n",
       "SCUI       7266\n",
       "Name: stype1, dtype: int64"
      ]
     },
     "execution_count": 7,
     "metadata": {},
     "output_type": "execute_result"
    }
   ],
   "source": [
    "rawd[\"stype1\"].value_counts()"
   ]
  },
  {
   "cell_type": "code",
   "execution_count": 8,
   "metadata": {},
   "outputs": [
    {
     "data": {
      "text/plain": [
       "AUI     4843463\n",
       "CUI     1489730\n",
       "SDUI      19300\n",
       "SCUI       7266\n",
       "Name: stype2, dtype: int64"
      ]
     },
     "execution_count": 8,
     "metadata": {},
     "output_type": "execute_result"
    }
   ],
   "source": [
    "rawd[\"stype2\"].value_counts()"
   ]
  },
  {
   "cell_type": "markdown",
   "metadata": {},
   "source": [
    "### Can we use the stype columns to only get the RXCUI relationships?\n",
    "\n",
    "Check if we will miss any RXCUI relationships."
   ]
  },
  {
   "cell_type": "code",
   "execution_count": 9,
   "metadata": {},
   "outputs": [
    {
     "data": {
      "text/plain": [
       "AUI     4843463\n",
       "SDUI      19300\n",
       "SCUI       7266\n",
       "Name: stype1, dtype: int64"
      ]
     },
     "execution_count": 9,
     "metadata": {},
     "output_type": "execute_result"
    }
   ],
   "source": [
    "(rawd\n",
    "    [rawd[\"rxcui1\"].isnull()]\n",
    "    [\"stype1\"].value_counts()\n",
    ")"
   ]
  },
  {
   "cell_type": "code",
   "execution_count": 10,
   "metadata": {},
   "outputs": [
    {
     "data": {
      "text/plain": [
       "AUI     4843463\n",
       "SDUI      19300\n",
       "SCUI       7266\n",
       "Name: stype1, dtype: int64"
      ]
     },
     "execution_count": 10,
     "metadata": {},
     "output_type": "execute_result"
    }
   ],
   "source": [
    "(rawd\n",
    "    [rawd[\"rxcui2\"].isnull()]\n",
    "    [\"stype1\"].value_counts()\n",
    ")"
   ]
  },
  {
   "cell_type": "markdown",
   "metadata": {},
   "source": [
    "The stype columns will never contain \"CUI\" if we want RXCUI relationships."
   ]
  },
  {
   "cell_type": "code",
   "execution_count": 11,
   "metadata": {},
   "outputs": [
    {
     "data": {
      "text/plain": [
       "CUI    1489730\n",
       "Name: stype1, dtype: int64"
      ]
     },
     "execution_count": 11,
     "metadata": {},
     "output_type": "execute_result"
    }
   ],
   "source": [
    "(rawd\n",
    "    [rawd[\"rxcui1\"].notnull()]\n",
    "    [\"stype1\"].value_counts()\n",
    ")"
   ]
  },
  {
   "cell_type": "code",
   "execution_count": 12,
   "metadata": {},
   "outputs": [
    {
     "data": {
      "text/plain": [
       "CUI    1489730\n",
       "Name: stype1, dtype: int64"
      ]
     },
     "execution_count": 12,
     "metadata": {},
     "output_type": "execute_result"
    }
   ],
   "source": [
    "(rawd\n",
    "    [rawd[\"rxcui2\"].notnull()]\n",
    "    [\"stype1\"].value_counts()\n",
    ")"
   ]
  },
  {
   "cell_type": "markdown",
   "metadata": {},
   "source": [
    "The columns will only contain \"CUI\" if it's a RXCUI relationship."
   ]
  },
  {
   "cell_type": "markdown",
   "metadata": {},
   "source": [
    "---"
   ]
  },
  {
   "cell_type": "markdown",
   "metadata": {},
   "source": [
    "## Use the stype columns to filter down to RXCUI relationships"
   ]
  },
  {
   "cell_type": "code",
   "execution_count": 13,
   "metadata": {},
   "outputs": [],
   "source": [
    "cui_rels = (rawd\n",
    "    .query(\"stype1 == 'CUI' and stype2 == 'CUI'\")\n",
    "    .drop([\"stype1\", \"stype2\"], axis=1)\n",
    "    .dropna(how=\"all\", axis=1)\n",
    "    .assign(\n",
    "        rxcui1 = lambda df: df[\"rxcui1\"].astype(\"int64\"),\n",
    "        rxcui2 = lambda df: df[\"rxcui2\"].astype(\"int64\"),\n",
    "        rui = lambda df: df[\"rui\"].astype(\"int64\")\n",
    "    )\n",
    "    .reset_index(drop=True)\n",
    ")"
   ]
  },
  {
   "cell_type": "code",
   "execution_count": 14,
   "metadata": {},
   "outputs": [
    {
     "data": {
      "text/plain": [
       "(1489730, 7)"
      ]
     },
     "execution_count": 14,
     "metadata": {},
     "output_type": "execute_result"
    }
   ],
   "source": [
    "cui_rels.shape"
   ]
  },
  {
   "cell_type": "code",
   "execution_count": 15,
   "metadata": {},
   "outputs": [
    {
     "data": {
      "text/html": [
       "<div>\n",
       "<style scoped>\n",
       "    .dataframe tbody tr th:only-of-type {\n",
       "        vertical-align: middle;\n",
       "    }\n",
       "\n",
       "    .dataframe tbody tr th {\n",
       "        vertical-align: top;\n",
       "    }\n",
       "\n",
       "    .dataframe thead th {\n",
       "        text-align: right;\n",
       "    }\n",
       "</style>\n",
       "<table border=\"1\" class=\"dataframe\">\n",
       "  <thead>\n",
       "    <tr style=\"text-align: right;\">\n",
       "      <th></th>\n",
       "      <th>rxcui1</th>\n",
       "      <th>rel</th>\n",
       "      <th>rxcui2</th>\n",
       "      <th>rela</th>\n",
       "      <th>rui</th>\n",
       "      <th>sab</th>\n",
       "      <th>cvf</th>\n",
       "    </tr>\n",
       "  </thead>\n",
       "  <tbody>\n",
       "    <tr>\n",
       "      <th>0</th>\n",
       "      <td>38</td>\n",
       "      <td>RB</td>\n",
       "      <td>1760</td>\n",
       "      <td>has_tradename</td>\n",
       "      <td>4696871</td>\n",
       "      <td>RXNORM</td>\n",
       "      <td>4096.0</td>\n",
       "    </tr>\n",
       "    <tr>\n",
       "      <th>1</th>\n",
       "      <td>38</td>\n",
       "      <td>RO</td>\n",
       "      <td>105050</td>\n",
       "      <td>has_ingredient</td>\n",
       "      <td>4343918</td>\n",
       "      <td>RXNORM</td>\n",
       "      <td>4096.0</td>\n",
       "    </tr>\n",
       "    <tr>\n",
       "      <th>2</th>\n",
       "      <td>38</td>\n",
       "      <td>RO</td>\n",
       "      <td>105445</td>\n",
       "      <td>has_ingredient</td>\n",
       "      <td>4229336</td>\n",
       "      <td>RXNORM</td>\n",
       "      <td>NaN</td>\n",
       "    </tr>\n",
       "    <tr>\n",
       "      <th>3</th>\n",
       "      <td>38</td>\n",
       "      <td>RO</td>\n",
       "      <td>105446</td>\n",
       "      <td>has_ingredient</td>\n",
       "      <td>3798489</td>\n",
       "      <td>RXNORM</td>\n",
       "      <td>4096.0</td>\n",
       "    </tr>\n",
       "    <tr>\n",
       "      <th>4</th>\n",
       "      <td>38</td>\n",
       "      <td>RO</td>\n",
       "      <td>105447</td>\n",
       "      <td>has_ingredient</td>\n",
       "      <td>4423580</td>\n",
       "      <td>RXNORM</td>\n",
       "      <td>NaN</td>\n",
       "    </tr>\n",
       "  </tbody>\n",
       "</table>\n",
       "</div>"
      ],
      "text/plain": [
       "   rxcui1 rel  rxcui2            rela      rui     sab     cvf\n",
       "0      38  RB    1760   has_tradename  4696871  RXNORM  4096.0\n",
       "1      38  RO  105050  has_ingredient  4343918  RXNORM  4096.0\n",
       "2      38  RO  105445  has_ingredient  4229336  RXNORM     NaN\n",
       "3      38  RO  105446  has_ingredient  3798489  RXNORM  4096.0\n",
       "4      38  RO  105447  has_ingredient  4423580  RXNORM     NaN"
      ]
     },
     "execution_count": 15,
     "metadata": {},
     "output_type": "execute_result"
    }
   ],
   "source": [
    "cui_rels.head()"
   ]
  },
  {
   "cell_type": "code",
   "execution_count": 16,
   "metadata": {},
   "outputs": [
    {
     "data": {
      "text/plain": [
       "rxcui1      int64\n",
       "rel        object\n",
       "rxcui2      int64\n",
       "rela       object\n",
       "rui         int64\n",
       "sab        object\n",
       "cvf       float64\n",
       "dtype: object"
      ]
     },
     "execution_count": 16,
     "metadata": {},
     "output_type": "execute_result"
    }
   ],
   "source": [
    "cui_rels.dtypes"
   ]
  },
  {
   "cell_type": "code",
   "execution_count": 17,
   "metadata": {},
   "outputs": [
    {
     "data": {
      "text/plain": [
       "rxcui1         0\n",
       "rel            0\n",
       "rxcui2         0\n",
       "rela           0\n",
       "rui            0\n",
       "sab            0\n",
       "cvf       966794\n",
       "dtype: int64"
      ]
     },
     "execution_count": 17,
     "metadata": {},
     "output_type": "execute_result"
    }
   ],
   "source": [
    "cui_rels.isnull().sum()"
   ]
  },
  {
   "cell_type": "code",
   "execution_count": 18,
   "metadata": {},
   "outputs": [
    {
     "data": {
      "text/plain": [
       "RXNORM    1489730\n",
       "Name: sab, dtype: int64"
      ]
     },
     "execution_count": 18,
     "metadata": {},
     "output_type": "execute_result"
    }
   ],
   "source": [
    "cui_rels[\"sab\"].value_counts()"
   ]
  },
  {
   "cell_type": "markdown",
   "metadata": {},
   "source": [
    "## Create final version\n",
    "\n",
    "The source abbreviation column is not very useful since all the values are the same.\n",
    "Neither is the CVF column for our purposes."
   ]
  },
  {
   "cell_type": "code",
   "execution_count": 19,
   "metadata": {},
   "outputs": [],
   "source": [
    "final = cui_rels.drop([\"rui\", \"sab\", \"cvf\"], axis=1)"
   ]
  },
  {
   "cell_type": "code",
   "execution_count": 20,
   "metadata": {},
   "outputs": [
    {
     "data": {
      "text/plain": [
       "(1489730, 4)"
      ]
     },
     "execution_count": 20,
     "metadata": {},
     "output_type": "execute_result"
    }
   ],
   "source": [
    "final.shape"
   ]
  },
  {
   "cell_type": "code",
   "execution_count": 21,
   "metadata": {},
   "outputs": [
    {
     "data": {
      "text/html": [
       "<div>\n",
       "<style scoped>\n",
       "    .dataframe tbody tr th:only-of-type {\n",
       "        vertical-align: middle;\n",
       "    }\n",
       "\n",
       "    .dataframe tbody tr th {\n",
       "        vertical-align: top;\n",
       "    }\n",
       "\n",
       "    .dataframe thead th {\n",
       "        text-align: right;\n",
       "    }\n",
       "</style>\n",
       "<table border=\"1\" class=\"dataframe\">\n",
       "  <thead>\n",
       "    <tr style=\"text-align: right;\">\n",
       "      <th></th>\n",
       "      <th>rxcui1</th>\n",
       "      <th>rel</th>\n",
       "      <th>rxcui2</th>\n",
       "      <th>rela</th>\n",
       "    </tr>\n",
       "  </thead>\n",
       "  <tbody>\n",
       "    <tr>\n",
       "      <th>0</th>\n",
       "      <td>38</td>\n",
       "      <td>RB</td>\n",
       "      <td>1760</td>\n",
       "      <td>has_tradename</td>\n",
       "    </tr>\n",
       "    <tr>\n",
       "      <th>1</th>\n",
       "      <td>38</td>\n",
       "      <td>RO</td>\n",
       "      <td>105050</td>\n",
       "      <td>has_ingredient</td>\n",
       "    </tr>\n",
       "    <tr>\n",
       "      <th>2</th>\n",
       "      <td>38</td>\n",
       "      <td>RO</td>\n",
       "      <td>105445</td>\n",
       "      <td>has_ingredient</td>\n",
       "    </tr>\n",
       "    <tr>\n",
       "      <th>3</th>\n",
       "      <td>38</td>\n",
       "      <td>RO</td>\n",
       "      <td>105446</td>\n",
       "      <td>has_ingredient</td>\n",
       "    </tr>\n",
       "    <tr>\n",
       "      <th>4</th>\n",
       "      <td>38</td>\n",
       "      <td>RO</td>\n",
       "      <td>105447</td>\n",
       "      <td>has_ingredient</td>\n",
       "    </tr>\n",
       "  </tbody>\n",
       "</table>\n",
       "</div>"
      ],
      "text/plain": [
       "   rxcui1 rel  rxcui2            rela\n",
       "0      38  RB    1760   has_tradename\n",
       "1      38  RO  105050  has_ingredient\n",
       "2      38  RO  105445  has_ingredient\n",
       "3      38  RO  105446  has_ingredient\n",
       "4      38  RO  105447  has_ingredient"
      ]
     },
     "execution_count": 21,
     "metadata": {},
     "output_type": "execute_result"
    }
   ],
   "source": [
    "final.head()"
   ]
  },
  {
   "cell_type": "markdown",
   "metadata": {},
   "source": [
    "### Information"
   ]
  },
  {
   "cell_type": "code",
   "execution_count": 22,
   "metadata": {},
   "outputs": [
    {
     "data": {
      "text/plain": [
       "RO    837948\n",
       "RB    325891\n",
       "RN    325891\n",
       "Name: rel, dtype: int64"
      ]
     },
     "execution_count": 22,
     "metadata": {},
     "output_type": "execute_result"
    }
   ],
   "source": [
    "final[\"rel\"].value_counts()"
   ]
  },
  {
   "cell_type": "code",
   "execution_count": 23,
   "metadata": {},
   "outputs": [
    {
     "data": {
      "text/html": [
       "<div>\n",
       "<style scoped>\n",
       "    .dataframe tbody tr th:only-of-type {\n",
       "        vertical-align: middle;\n",
       "    }\n",
       "\n",
       "    .dataframe tbody tr th {\n",
       "        vertical-align: top;\n",
       "    }\n",
       "\n",
       "    .dataframe thead th {\n",
       "        text-align: right;\n",
       "    }\n",
       "</style>\n",
       "<table border=\"1\" class=\"dataframe\">\n",
       "  <thead>\n",
       "    <tr style=\"text-align: right;\">\n",
       "      <th></th>\n",
       "      <th>rela</th>\n",
       "      <th>num_rels</th>\n",
       "    </tr>\n",
       "  </thead>\n",
       "  <tbody>\n",
       "    <tr>\n",
       "      <th>0</th>\n",
       "      <td>inverse_isa</td>\n",
       "      <td>202439</td>\n",
       "    </tr>\n",
       "    <tr>\n",
       "      <th>1</th>\n",
       "      <td>isa</td>\n",
       "      <td>202439</td>\n",
       "    </tr>\n",
       "    <tr>\n",
       "      <th>2</th>\n",
       "      <td>has_ingredient</td>\n",
       "      <td>155117</td>\n",
       "    </tr>\n",
       "    <tr>\n",
       "      <th>3</th>\n",
       "      <td>ingredient_of</td>\n",
       "      <td>155117</td>\n",
       "    </tr>\n",
       "    <tr>\n",
       "      <th>4</th>\n",
       "      <td>consists_of</td>\n",
       "      <td>110819</td>\n",
       "    </tr>\n",
       "    <tr>\n",
       "      <th>5</th>\n",
       "      <td>constitutes</td>\n",
       "      <td>110819</td>\n",
       "    </tr>\n",
       "    <tr>\n",
       "      <th>6</th>\n",
       "      <td>has_tradename</td>\n",
       "      <td>106244</td>\n",
       "    </tr>\n",
       "    <tr>\n",
       "      <th>7</th>\n",
       "      <td>tradename_of</td>\n",
       "      <td>106244</td>\n",
       "    </tr>\n",
       "    <tr>\n",
       "      <th>8</th>\n",
       "      <td>dose_form_of</td>\n",
       "      <td>89788</td>\n",
       "    </tr>\n",
       "    <tr>\n",
       "      <th>9</th>\n",
       "      <td>has_dose_form</td>\n",
       "      <td>89788</td>\n",
       "    </tr>\n",
       "    <tr>\n",
       "      <th>10</th>\n",
       "      <td>doseformgroup_of</td>\n",
       "      <td>36720</td>\n",
       "    </tr>\n",
       "    <tr>\n",
       "      <th>11</th>\n",
       "      <td>has_doseformgroup</td>\n",
       "      <td>36720</td>\n",
       "    </tr>\n",
       "    <tr>\n",
       "      <th>12</th>\n",
       "      <td>has_ingredients</td>\n",
       "      <td>11665</td>\n",
       "    </tr>\n",
       "    <tr>\n",
       "      <th>13</th>\n",
       "      <td>ingredients_of</td>\n",
       "      <td>11665</td>\n",
       "    </tr>\n",
       "    <tr>\n",
       "      <th>14</th>\n",
       "      <td>has_precise_ingredient</td>\n",
       "      <td>10929</td>\n",
       "    </tr>\n",
       "    <tr>\n",
       "      <th>15</th>\n",
       "      <td>precise_ingredient_of</td>\n",
       "      <td>10929</td>\n",
       "    </tr>\n",
       "    <tr>\n",
       "      <th>16</th>\n",
       "      <td>has_part</td>\n",
       "      <td>10585</td>\n",
       "    </tr>\n",
       "    <tr>\n",
       "      <th>17</th>\n",
       "      <td>part_of</td>\n",
       "      <td>10585</td>\n",
       "    </tr>\n",
       "    <tr>\n",
       "      <th>18</th>\n",
       "      <td>has_quantified_form</td>\n",
       "      <td>5310</td>\n",
       "    </tr>\n",
       "    <tr>\n",
       "      <th>19</th>\n",
       "      <td>quantified_form_of</td>\n",
       "      <td>5310</td>\n",
       "    </tr>\n",
       "    <tr>\n",
       "      <th>20</th>\n",
       "      <td>form_of</td>\n",
       "      <td>2853</td>\n",
       "    </tr>\n",
       "    <tr>\n",
       "      <th>21</th>\n",
       "      <td>has_form</td>\n",
       "      <td>2853</td>\n",
       "    </tr>\n",
       "    <tr>\n",
       "      <th>22</th>\n",
       "      <td>contained_in</td>\n",
       "      <td>2334</td>\n",
       "    </tr>\n",
       "    <tr>\n",
       "      <th>23</th>\n",
       "      <td>contains</td>\n",
       "      <td>2334</td>\n",
       "    </tr>\n",
       "    <tr>\n",
       "      <th>24</th>\n",
       "      <td>reformulated_to</td>\n",
       "      <td>62</td>\n",
       "    </tr>\n",
       "    <tr>\n",
       "      <th>25</th>\n",
       "      <td>reformulation_of</td>\n",
       "      <td>62</td>\n",
       "    </tr>\n",
       "  </tbody>\n",
       "</table>\n",
       "</div>"
      ],
      "text/plain": [
       "                      rela  num_rels\n",
       "0              inverse_isa    202439\n",
       "1                      isa    202439\n",
       "2           has_ingredient    155117\n",
       "3            ingredient_of    155117\n",
       "4              consists_of    110819\n",
       "5              constitutes    110819\n",
       "6            has_tradename    106244\n",
       "7             tradename_of    106244\n",
       "8             dose_form_of     89788\n",
       "9            has_dose_form     89788\n",
       "10        doseformgroup_of     36720\n",
       "11       has_doseformgroup     36720\n",
       "12         has_ingredients     11665\n",
       "13          ingredients_of     11665\n",
       "14  has_precise_ingredient     10929\n",
       "15   precise_ingredient_of     10929\n",
       "16                has_part     10585\n",
       "17                 part_of     10585\n",
       "18     has_quantified_form      5310\n",
       "19      quantified_form_of      5310\n",
       "20                 form_of      2853\n",
       "21                has_form      2853\n",
       "22            contained_in      2334\n",
       "23                contains      2334\n",
       "24         reformulated_to        62\n",
       "25        reformulation_of        62"
      ]
     },
     "execution_count": 23,
     "metadata": {},
     "output_type": "execute_result"
    }
   ],
   "source": [
    "(final[\"rela\"]\n",
    "    .value_counts()\n",
    "    .to_frame(\"num_rels\")\n",
    "    .reset_index()\n",
    "    .rename(columns={\"index\": \"rela\"})\n",
    "    .sort_values([\"num_rels\", \"rela\"], ascending=[False, True])\n",
    "    .reset_index(drop=True)\n",
    ")"
   ]
  },
  {
   "cell_type": "markdown",
   "metadata": {},
   "source": [
    "## Only one edge per unique node pair?"
   ]
  },
  {
   "cell_type": "code",
   "execution_count": 24,
   "metadata": {},
   "outputs": [
    {
     "data": {
      "text/plain": [
       "1    1489730\n",
       "dtype: int64"
      ]
     },
     "execution_count": 24,
     "metadata": {},
     "output_type": "execute_result"
    }
   ],
   "source": [
    "final.groupby([\"rxcui1\", \"rxcui2\"]).size().value_counts()"
   ]
  },
  {
   "cell_type": "markdown",
   "metadata": {},
   "source": [
    "Yes, there is only one edge between each unique CUI pair."
   ]
  },
  {
   "cell_type": "markdown",
   "metadata": {},
   "source": [
    "## Relationships are reciprocal?"
   ]
  },
  {
   "cell_type": "code",
   "execution_count": 25,
   "metadata": {},
   "outputs": [
    {
     "data": {
      "text/plain": [
       "True"
      ]
     },
     "execution_count": 25,
     "metadata": {},
     "output_type": "execute_result"
    }
   ],
   "source": [
    "set(final[\"rxcui1\"]) == set(final[\"rxcui2\"])"
   ]
  },
  {
   "cell_type": "markdown",
   "metadata": {},
   "source": [
    "## Save to file"
   ]
  },
  {
   "cell_type": "code",
   "execution_count": 26,
   "metadata": {},
   "outputs": [],
   "source": [
    "final.to_csv(\"../../pipeline/rxnorm/rxcui_rels.tsv\", sep='\\t', index=False)"
   ]
  }
 ],
 "metadata": {
  "kernelspec": {
   "display_name": "Python 3",
   "language": "python",
   "name": "python3"
  },
  "language_info": {
   "codemirror_mode": {
    "name": "ipython",
    "version": 3
   },
   "file_extension": ".py",
   "mimetype": "text/x-python",
   "name": "python",
   "nbconvert_exporter": "python",
   "pygments_lexer": "ipython3",
   "version": "3.6.7"
  }
 },
 "nbformat": 4,
 "nbformat_minor": 2
}
