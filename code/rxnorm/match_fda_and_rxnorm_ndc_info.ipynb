{
 "cells": [
  {
   "cell_type": "markdown",
   "metadata": {},
   "source": [
    "# Cross reference the FDA's NDCs with RxNorm's NDCs\n",
    "\n",
    "2019-04-19\n",
    "\n",
    "Determine how well RxNorm's data allows us to map the FDA's NDCs to RXCUIs."
   ]
  },
  {
   "cell_type": "code",
   "execution_count": 1,
   "metadata": {},
   "outputs": [],
   "source": [
    "import pandas as pd"
   ]
  },
  {
   "cell_type": "markdown",
   "metadata": {},
   "source": [
    "## Read FDA NDCs"
   ]
  },
  {
   "cell_type": "code",
   "execution_count": 2,
   "metadata": {},
   "outputs": [],
   "source": [
    "ndc_info = pd.read_csv(\"../../pipeline/fda_ndc/ndc_info.tsv\", sep='\\t')"
   ]
  },
  {
   "cell_type": "code",
   "execution_count": 3,
   "metadata": {},
   "outputs": [
    {
     "data": {
      "text/plain": [
       "(243483, 19)"
      ]
     },
     "execution_count": 3,
     "metadata": {},
     "output_type": "execute_result"
    }
   ],
   "source": [
    "ndc_info.shape"
   ]
  },
  {
   "cell_type": "code",
   "execution_count": 4,
   "metadata": {},
   "outputs": [
    {
     "data": {
      "text/html": [
       "<div>\n",
       "<style scoped>\n",
       "    .dataframe tbody tr th:only-of-type {\n",
       "        vertical-align: middle;\n",
       "    }\n",
       "\n",
       "    .dataframe tbody tr th {\n",
       "        vertical-align: top;\n",
       "    }\n",
       "\n",
       "    .dataframe thead th {\n",
       "        text-align: right;\n",
       "    }\n",
       "</style>\n",
       "<table border=\"1\" class=\"dataframe\">\n",
       "  <thead>\n",
       "    <tr style=\"text-align: right;\">\n",
       "      <th></th>\n",
       "      <th>PRODUCTID</th>\n",
       "      <th>PRODUCTNDC</th>\n",
       "      <th>NDCPACKAGECODE</th>\n",
       "      <th>PACKAGEDESCRIPTION</th>\n",
       "      <th>PRODUCTTYPENAME</th>\n",
       "      <th>PROPRIETARYNAME</th>\n",
       "      <th>NONPROPRIETARYNAME</th>\n",
       "      <th>DOSAGEFORMNAME</th>\n",
       "      <th>ROUTENAME</th>\n",
       "      <th>MARKETINGCATEGORYNAME</th>\n",
       "      <th>APPLICATIONNUMBER</th>\n",
       "      <th>LABELERNAME</th>\n",
       "      <th>SUBSTANCENAME</th>\n",
       "      <th>ACTIVE_NUMERATOR_STRENGTH</th>\n",
       "      <th>ACTIVE_INGRED_UNIT</th>\n",
       "      <th>PHARM_CLASSES</th>\n",
       "      <th>DEASCHEDULE</th>\n",
       "      <th>NDC_EXCLUDE_FLAG</th>\n",
       "      <th>LISTING_RECORD_CERTIFIED_THROUGH</th>\n",
       "    </tr>\n",
       "  </thead>\n",
       "  <tbody>\n",
       "    <tr>\n",
       "      <th>0</th>\n",
       "      <td>0002-0800_4bb5d1cb-0fa7-48c7-9f6d-8d45f9b91649</td>\n",
       "      <td>0002-0800</td>\n",
       "      <td>0002-0800-01</td>\n",
       "      <td>1 VIAL in 1 CARTON (0002-0800-01)  &gt; 10 mL in ...</td>\n",
       "      <td>HUMAN OTC DRUG</td>\n",
       "      <td>Sterile Diluent</td>\n",
       "      <td>diluent</td>\n",
       "      <td>INJECTION, SOLUTION</td>\n",
       "      <td>SUBCUTANEOUS</td>\n",
       "      <td>NDA</td>\n",
       "      <td>NDA018781</td>\n",
       "      <td>Eli Lilly and Company</td>\n",
       "      <td>WATER</td>\n",
       "      <td>1</td>\n",
       "      <td>mL/mL</td>\n",
       "      <td>NaN</td>\n",
       "      <td>NaN</td>\n",
       "      <td>N</td>\n",
       "      <td>20191231.0</td>\n",
       "    </tr>\n",
       "    <tr>\n",
       "      <th>1</th>\n",
       "      <td>0002-1200_957ee1b5-dfa7-4e3f-96e1-6bed1ffc0abe</td>\n",
       "      <td>0002-1200</td>\n",
       "      <td>0002-1200-30</td>\n",
       "      <td>1 VIAL, MULTI-DOSE in 1 CAN (0002-1200-30)  &gt; ...</td>\n",
       "      <td>HUMAN PRESCRIPTION DRUG</td>\n",
       "      <td>Amyvid</td>\n",
       "      <td>Florbetapir F 18</td>\n",
       "      <td>INJECTION, SOLUTION</td>\n",
       "      <td>INTRAVENOUS</td>\n",
       "      <td>NDA</td>\n",
       "      <td>NDA202008</td>\n",
       "      <td>Eli Lilly and Company</td>\n",
       "      <td>FLORBETAPIR F-18</td>\n",
       "      <td>51</td>\n",
       "      <td>mCi/mL</td>\n",
       "      <td>Radioactive Diagnostic Agent [EPC],Positron Em...</td>\n",
       "      <td>NaN</td>\n",
       "      <td>N</td>\n",
       "      <td>20191231.0</td>\n",
       "    </tr>\n",
       "    <tr>\n",
       "      <th>2</th>\n",
       "      <td>0002-1200_957ee1b5-dfa7-4e3f-96e1-6bed1ffc0abe</td>\n",
       "      <td>0002-1200</td>\n",
       "      <td>0002-1200-50</td>\n",
       "      <td>1 VIAL, MULTI-DOSE in 1 CAN (0002-1200-50)  &gt; ...</td>\n",
       "      <td>HUMAN PRESCRIPTION DRUG</td>\n",
       "      <td>Amyvid</td>\n",
       "      <td>Florbetapir F 18</td>\n",
       "      <td>INJECTION, SOLUTION</td>\n",
       "      <td>INTRAVENOUS</td>\n",
       "      <td>NDA</td>\n",
       "      <td>NDA202008</td>\n",
       "      <td>Eli Lilly and Company</td>\n",
       "      <td>FLORBETAPIR F-18</td>\n",
       "      <td>51</td>\n",
       "      <td>mCi/mL</td>\n",
       "      <td>Radioactive Diagnostic Agent [EPC],Positron Em...</td>\n",
       "      <td>NaN</td>\n",
       "      <td>N</td>\n",
       "      <td>20191231.0</td>\n",
       "    </tr>\n",
       "    <tr>\n",
       "      <th>3</th>\n",
       "      <td>0002-1407_14757f9d-f641-4836-acf3-229265588d1d</td>\n",
       "      <td>0002-1407</td>\n",
       "      <td>0002-1407-01</td>\n",
       "      <td>10 mL in 1 VIAL (0002-1407-01)</td>\n",
       "      <td>HUMAN PRESCRIPTION DRUG</td>\n",
       "      <td>Quinidine Gluconate</td>\n",
       "      <td>Quinidine Gluconate</td>\n",
       "      <td>SOLUTION</td>\n",
       "      <td>INTRAVENOUS</td>\n",
       "      <td>NDA</td>\n",
       "      <td>NDA007529</td>\n",
       "      <td>Eli Lilly and Company</td>\n",
       "      <td>QUINIDINE GLUCONATE</td>\n",
       "      <td>80</td>\n",
       "      <td>mg/mL</td>\n",
       "      <td>Antiarrhythmic [EPC],Cytochrome P450 2D6 Inhib...</td>\n",
       "      <td>NaN</td>\n",
       "      <td>N</td>\n",
       "      <td>20191231.0</td>\n",
       "    </tr>\n",
       "    <tr>\n",
       "      <th>4</th>\n",
       "      <td>0002-1433_4468578a-47d2-488e-9fd4-a8322070392f</td>\n",
       "      <td>0002-1433</td>\n",
       "      <td>0002-1433-61</td>\n",
       "      <td>2 SYRINGE in 1 CARTON (0002-1433-61)  &gt; .5 mL ...</td>\n",
       "      <td>HUMAN PRESCRIPTION DRUG</td>\n",
       "      <td>Trulicity</td>\n",
       "      <td>Dulaglutide</td>\n",
       "      <td>INJECTION, SOLUTION</td>\n",
       "      <td>SUBCUTANEOUS</td>\n",
       "      <td>BLA</td>\n",
       "      <td>BLA125469</td>\n",
       "      <td>Eli Lilly and Company</td>\n",
       "      <td>DULAGLUTIDE</td>\n",
       "      <td>.75</td>\n",
       "      <td>mg/.5mL</td>\n",
       "      <td>GLP-1 Receptor Agonist [EPC],Glucagon-Like Pep...</td>\n",
       "      <td>NaN</td>\n",
       "      <td>N</td>\n",
       "      <td>20201231.0</td>\n",
       "    </tr>\n",
       "  </tbody>\n",
       "</table>\n",
       "</div>"
      ],
      "text/plain": [
       "                                        PRODUCTID PRODUCTNDC NDCPACKAGECODE  \\\n",
       "0  0002-0800_4bb5d1cb-0fa7-48c7-9f6d-8d45f9b91649  0002-0800   0002-0800-01   \n",
       "1  0002-1200_957ee1b5-dfa7-4e3f-96e1-6bed1ffc0abe  0002-1200   0002-1200-30   \n",
       "2  0002-1200_957ee1b5-dfa7-4e3f-96e1-6bed1ffc0abe  0002-1200   0002-1200-50   \n",
       "3  0002-1407_14757f9d-f641-4836-acf3-229265588d1d  0002-1407   0002-1407-01   \n",
       "4  0002-1433_4468578a-47d2-488e-9fd4-a8322070392f  0002-1433   0002-1433-61   \n",
       "\n",
       "                                  PACKAGEDESCRIPTION          PRODUCTTYPENAME  \\\n",
       "0  1 VIAL in 1 CARTON (0002-0800-01)  > 10 mL in ...           HUMAN OTC DRUG   \n",
       "1  1 VIAL, MULTI-DOSE in 1 CAN (0002-1200-30)  > ...  HUMAN PRESCRIPTION DRUG   \n",
       "2  1 VIAL, MULTI-DOSE in 1 CAN (0002-1200-50)  > ...  HUMAN PRESCRIPTION DRUG   \n",
       "3                    10 mL in 1 VIAL (0002-1407-01)   HUMAN PRESCRIPTION DRUG   \n",
       "4  2 SYRINGE in 1 CARTON (0002-1433-61)  > .5 mL ...  HUMAN PRESCRIPTION DRUG   \n",
       "\n",
       "       PROPRIETARYNAME   NONPROPRIETARYNAME       DOSAGEFORMNAME  \\\n",
       "0      Sterile Diluent              diluent  INJECTION, SOLUTION   \n",
       "1               Amyvid     Florbetapir F 18  INJECTION, SOLUTION   \n",
       "2               Amyvid     Florbetapir F 18  INJECTION, SOLUTION   \n",
       "3  Quinidine Gluconate  Quinidine Gluconate             SOLUTION   \n",
       "4            Trulicity          Dulaglutide  INJECTION, SOLUTION   \n",
       "\n",
       "      ROUTENAME MARKETINGCATEGORYNAME APPLICATIONNUMBER  \\\n",
       "0  SUBCUTANEOUS                   NDA         NDA018781   \n",
       "1   INTRAVENOUS                   NDA         NDA202008   \n",
       "2   INTRAVENOUS                   NDA         NDA202008   \n",
       "3   INTRAVENOUS                   NDA         NDA007529   \n",
       "4  SUBCUTANEOUS                   BLA         BLA125469   \n",
       "\n",
       "             LABELERNAME        SUBSTANCENAME ACTIVE_NUMERATOR_STRENGTH  \\\n",
       "0  Eli Lilly and Company                WATER                         1   \n",
       "1  Eli Lilly and Company     FLORBETAPIR F-18                        51   \n",
       "2  Eli Lilly and Company     FLORBETAPIR F-18                        51   \n",
       "3  Eli Lilly and Company  QUINIDINE GLUCONATE                        80   \n",
       "4  Eli Lilly and Company          DULAGLUTIDE                       .75   \n",
       "\n",
       "  ACTIVE_INGRED_UNIT                                      PHARM_CLASSES  \\\n",
       "0              mL/mL                                                NaN   \n",
       "1             mCi/mL  Radioactive Diagnostic Agent [EPC],Positron Em...   \n",
       "2             mCi/mL  Radioactive Diagnostic Agent [EPC],Positron Em...   \n",
       "3              mg/mL  Antiarrhythmic [EPC],Cytochrome P450 2D6 Inhib...   \n",
       "4            mg/.5mL  GLP-1 Receptor Agonist [EPC],Glucagon-Like Pep...   \n",
       "\n",
       "  DEASCHEDULE NDC_EXCLUDE_FLAG  LISTING_RECORD_CERTIFIED_THROUGH  \n",
       "0         NaN                N                        20191231.0  \n",
       "1         NaN                N                        20191231.0  \n",
       "2         NaN                N                        20191231.0  \n",
       "3         NaN                N                        20191231.0  \n",
       "4         NaN                N                        20201231.0  "
      ]
     },
     "execution_count": 4,
     "metadata": {},
     "output_type": "execute_result"
    }
   ],
   "source": [
    "ndc_info.head()"
   ]
  },
  {
   "cell_type": "markdown",
   "metadata": {},
   "source": [
    "## Read RxNorm info"
   ]
  },
  {
   "cell_type": "code",
   "execution_count": 5,
   "metadata": {},
   "outputs": [],
   "source": [
    "rxnorm = pd.read_csv(\"../../pipeline/rxnorm/ndc_to_rxcui.tsv\", sep='\\t')"
   ]
  },
  {
   "cell_type": "code",
   "execution_count": 6,
   "metadata": {},
   "outputs": [
    {
     "data": {
      "text/plain": [
       "(309278, 9)"
      ]
     },
     "execution_count": 6,
     "metadata": {},
     "output_type": "execute_result"
    }
   ],
   "source": [
    "rxnorm.shape"
   ]
  },
  {
   "cell_type": "code",
   "execution_count": 7,
   "metadata": {},
   "outputs": [
    {
     "data": {
      "text/html": [
       "<div>\n",
       "<style scoped>\n",
       "    .dataframe tbody tr th:only-of-type {\n",
       "        vertical-align: middle;\n",
       "    }\n",
       "\n",
       "    .dataframe tbody tr th {\n",
       "        vertical-align: top;\n",
       "    }\n",
       "\n",
       "    .dataframe thead th {\n",
       "        text-align: right;\n",
       "    }\n",
       "</style>\n",
       "<table border=\"1\" class=\"dataframe\">\n",
       "  <thead>\n",
       "    <tr style=\"text-align: right;\">\n",
       "      <th></th>\n",
       "      <th>rxcui</th>\n",
       "      <th>rxaui</th>\n",
       "      <th>stype</th>\n",
       "      <th>code</th>\n",
       "      <th>atn</th>\n",
       "      <th>sab</th>\n",
       "      <th>atv</th>\n",
       "      <th>suppress</th>\n",
       "      <th>cvf</th>\n",
       "    </tr>\n",
       "  </thead>\n",
       "  <tbody>\n",
       "    <tr>\n",
       "      <th>0</th>\n",
       "      <td>91349</td>\n",
       "      <td>3507080</td>\n",
       "      <td>AUI</td>\n",
       "      <td>12745-202</td>\n",
       "      <td>NDC</td>\n",
       "      <td>MTHSPL</td>\n",
       "      <td>12745-202-01</td>\n",
       "      <td>N</td>\n",
       "      <td>4096.0</td>\n",
       "    </tr>\n",
       "    <tr>\n",
       "      <th>1</th>\n",
       "      <td>91349</td>\n",
       "      <td>3507080</td>\n",
       "      <td>AUI</td>\n",
       "      <td>12745-202</td>\n",
       "      <td>NDC</td>\n",
       "      <td>MTHSPL</td>\n",
       "      <td>12745-202-02</td>\n",
       "      <td>N</td>\n",
       "      <td>4096.0</td>\n",
       "    </tr>\n",
       "    <tr>\n",
       "      <th>2</th>\n",
       "      <td>91349</td>\n",
       "      <td>3507080</td>\n",
       "      <td>AUI</td>\n",
       "      <td>12745-202</td>\n",
       "      <td>NDC</td>\n",
       "      <td>MTHSPL</td>\n",
       "      <td>12745-202-03</td>\n",
       "      <td>N</td>\n",
       "      <td>4096.0</td>\n",
       "    </tr>\n",
       "    <tr>\n",
       "      <th>3</th>\n",
       "      <td>91349</td>\n",
       "      <td>3518228</td>\n",
       "      <td>AUI</td>\n",
       "      <td>34645-8030</td>\n",
       "      <td>NDC</td>\n",
       "      <td>MTHSPL</td>\n",
       "      <td>34645-8030-4</td>\n",
       "      <td>N</td>\n",
       "      <td>4096.0</td>\n",
       "    </tr>\n",
       "    <tr>\n",
       "      <th>4</th>\n",
       "      <td>91349</td>\n",
       "      <td>3520567</td>\n",
       "      <td>AUI</td>\n",
       "      <td>55316-871</td>\n",
       "      <td>NDC</td>\n",
       "      <td>MTHSPL</td>\n",
       "      <td>55316-871-43</td>\n",
       "      <td>N</td>\n",
       "      <td>4096.0</td>\n",
       "    </tr>\n",
       "  </tbody>\n",
       "</table>\n",
       "</div>"
      ],
      "text/plain": [
       "   rxcui    rxaui stype        code  atn     sab           atv suppress  \\\n",
       "0  91349  3507080   AUI   12745-202  NDC  MTHSPL  12745-202-01        N   \n",
       "1  91349  3507080   AUI   12745-202  NDC  MTHSPL  12745-202-02        N   \n",
       "2  91349  3507080   AUI   12745-202  NDC  MTHSPL  12745-202-03        N   \n",
       "3  91349  3518228   AUI  34645-8030  NDC  MTHSPL  34645-8030-4        N   \n",
       "4  91349  3520567   AUI   55316-871  NDC  MTHSPL  55316-871-43        N   \n",
       "\n",
       "      cvf  \n",
       "0  4096.0  \n",
       "1  4096.0  \n",
       "2  4096.0  \n",
       "3  4096.0  \n",
       "4  4096.0  "
      ]
     },
     "execution_count": 7,
     "metadata": {},
     "output_type": "execute_result"
    }
   ],
   "source": [
    "rxnorm.head()"
   ]
  },
  {
   "cell_type": "markdown",
   "metadata": {},
   "source": [
    "---"
   ]
  },
  {
   "cell_type": "markdown",
   "metadata": {},
   "source": [
    "# How many of the FDA NDCs can be mapped to RxNorm CUIs?"
   ]
  },
  {
   "cell_type": "code",
   "execution_count": 8,
   "metadata": {},
   "outputs": [],
   "source": [
    "fdaids = set(ndc_info[\"NDCPACKAGECODE\"])\n",
    "rxids = set(rxnorm[\"atv\"])"
   ]
  },
  {
   "cell_type": "code",
   "execution_count": 9,
   "metadata": {},
   "outputs": [
    {
     "data": {
      "text/plain": [
       "243464"
      ]
     },
     "execution_count": 9,
     "metadata": {},
     "output_type": "execute_result"
    }
   ],
   "source": [
    "len(fdaids)"
   ]
  },
  {
   "cell_type": "code",
   "execution_count": 10,
   "metadata": {},
   "outputs": [
    {
     "data": {
      "text/plain": [
       "280374"
      ]
     },
     "execution_count": 10,
     "metadata": {},
     "output_type": "execute_result"
    }
   ],
   "source": [
    "len(rxids)"
   ]
  },
  {
   "cell_type": "code",
   "execution_count": 11,
   "metadata": {},
   "outputs": [
    {
     "data": {
      "text/plain": [
       "False"
      ]
     },
     "execution_count": 11,
     "metadata": {},
     "output_type": "execute_result"
    }
   ],
   "source": [
    "fdaids <= rxids"
   ]
  },
  {
   "cell_type": "markdown",
   "metadata": {},
   "source": [
    "Too optimistic."
   ]
  },
  {
   "cell_type": "code",
   "execution_count": 12,
   "metadata": {},
   "outputs": [
    {
     "data": {
      "text/plain": [
       "239810"
      ]
     },
     "execution_count": 12,
     "metadata": {},
     "output_type": "execute_result"
    }
   ],
   "source": [
    "len(fdaids & rxids)"
   ]
  },
  {
   "cell_type": "code",
   "execution_count": 13,
   "metadata": {},
   "outputs": [
    {
     "data": {
      "text/plain": [
       "98.49916209377977"
      ]
     },
     "execution_count": 13,
     "metadata": {},
     "output_type": "execute_result"
    }
   ],
   "source": [
    "len(fdaids & rxids) / len(fdaids) * 100"
   ]
  },
  {
   "cell_type": "markdown",
   "metadata": {},
   "source": [
    "98% of the FDA NDCs can be mapped to RxNorm CUIs! This is excellent."
   ]
  },
  {
   "cell_type": "markdown",
   "metadata": {},
   "source": [
    "### Unmappable ids"
   ]
  },
  {
   "cell_type": "code",
   "execution_count": 14,
   "metadata": {},
   "outputs": [
    {
     "data": {
      "text/plain": [
       "3654"
      ]
     },
     "execution_count": 14,
     "metadata": {},
     "output_type": "execute_result"
    }
   ],
   "source": [
    "len(fdaids - rxids)"
   ]
  },
  {
   "cell_type": "code",
   "execution_count": 15,
   "metadata": {},
   "outputs": [
    {
     "data": {
      "text/plain": [
       "1.5008379062202215"
      ]
     },
     "execution_count": 15,
     "metadata": {},
     "output_type": "execute_result"
    }
   ],
   "source": [
    "len(fdaids - rxids) / len(fdaids) * 100"
   ]
  },
  {
   "cell_type": "markdown",
   "metadata": {},
   "source": [
    "Only 1.5% of the FDA data can't be matched to a RXCUI."
   ]
  },
  {
   "cell_type": "code",
   "execution_count": 16,
   "metadata": {},
   "outputs": [
    {
     "data": {
      "text/plain": [
       "40564"
      ]
     },
     "execution_count": 16,
     "metadata": {},
     "output_type": "execute_result"
    }
   ],
   "source": [
    "len(rxids - fdaids)"
   ]
  },
  {
   "cell_type": "markdown",
   "metadata": {},
   "source": [
    "Finally there's some RxNorm data which the FDA does not know about. Might be old drugs?"
   ]
  },
  {
   "cell_type": "markdown",
   "metadata": {},
   "source": [
    "# Conclusion\n",
    "\n",
    "We can map 98% of FDA NDCs to RXCUIs.\n",
    "We will move forward onto determining the active ingredient."
   ]
  },
  {
   "cell_type": "markdown",
   "metadata": {},
   "source": [
    "---"
   ]
  },
  {
   "cell_type": "markdown",
   "metadata": {},
   "source": [
    "# Merge tables and focus on matchable info\n",
    "\n",
    "We will ignore any data that is not common to both sources for now."
   ]
  },
  {
   "cell_type": "code",
   "execution_count": 17,
   "metadata": {},
   "outputs": [],
   "source": [
    "res = (rxnorm\n",
    "    [[\"rxcui\", \"rxaui\", \"atv\", \"suppress\"]]\n",
    "    .rename(columns={\"atv\": \"NDCPACKAGECODE\"})\n",
    "    .merge(ndc_info, how=\"inner\", on=\"NDCPACKAGECODE\")\n",
    "    .drop_duplicates()\n",
    "    .reset_index(drop=True)\n",
    ")"
   ]
  },
  {
   "cell_type": "code",
   "execution_count": 18,
   "metadata": {},
   "outputs": [
    {
     "data": {
      "text/plain": [
       "(265692, 22)"
      ]
     },
     "execution_count": 18,
     "metadata": {},
     "output_type": "execute_result"
    }
   ],
   "source": [
    "res.shape"
   ]
  },
  {
   "cell_type": "code",
   "execution_count": 19,
   "metadata": {},
   "outputs": [
    {
     "data": {
      "text/html": [
       "<div>\n",
       "<style scoped>\n",
       "    .dataframe tbody tr th:only-of-type {\n",
       "        vertical-align: middle;\n",
       "    }\n",
       "\n",
       "    .dataframe tbody tr th {\n",
       "        vertical-align: top;\n",
       "    }\n",
       "\n",
       "    .dataframe thead th {\n",
       "        text-align: right;\n",
       "    }\n",
       "</style>\n",
       "<table border=\"1\" class=\"dataframe\">\n",
       "  <thead>\n",
       "    <tr style=\"text-align: right;\">\n",
       "      <th></th>\n",
       "      <th>rxcui</th>\n",
       "      <th>rxaui</th>\n",
       "      <th>NDCPACKAGECODE</th>\n",
       "      <th>suppress</th>\n",
       "      <th>PRODUCTID</th>\n",
       "      <th>PRODUCTNDC</th>\n",
       "      <th>PACKAGEDESCRIPTION</th>\n",
       "      <th>PRODUCTTYPENAME</th>\n",
       "      <th>PROPRIETARYNAME</th>\n",
       "      <th>NONPROPRIETARYNAME</th>\n",
       "      <th>...</th>\n",
       "      <th>MARKETINGCATEGORYNAME</th>\n",
       "      <th>APPLICATIONNUMBER</th>\n",
       "      <th>LABELERNAME</th>\n",
       "      <th>SUBSTANCENAME</th>\n",
       "      <th>ACTIVE_NUMERATOR_STRENGTH</th>\n",
       "      <th>ACTIVE_INGRED_UNIT</th>\n",
       "      <th>PHARM_CLASSES</th>\n",
       "      <th>DEASCHEDULE</th>\n",
       "      <th>NDC_EXCLUDE_FLAG</th>\n",
       "      <th>LISTING_RECORD_CERTIFIED_THROUGH</th>\n",
       "    </tr>\n",
       "  </thead>\n",
       "  <tbody>\n",
       "    <tr>\n",
       "      <th>0</th>\n",
       "      <td>91349</td>\n",
       "      <td>3507080</td>\n",
       "      <td>12745-202-01</td>\n",
       "      <td>N</td>\n",
       "      <td>12745-202_7d063901-255c-bffc-e053-2a91aa0a91ee</td>\n",
       "      <td>12745-202</td>\n",
       "      <td>59 mL in 1 BOTTLE, PLASTIC (12745-202-01)</td>\n",
       "      <td>HUMAN OTC DRUG</td>\n",
       "      <td>HYDROGEN PEROXIDE</td>\n",
       "      <td>HYDROGEN PEROXIDE</td>\n",
       "      <td>...</td>\n",
       "      <td>OTC MONOGRAPH NOT FINAL</td>\n",
       "      <td>part333A</td>\n",
       "      <td>Medical Chemical Corporation</td>\n",
       "      <td>HYDROGEN PEROXIDE</td>\n",
       "      <td>8.57</td>\n",
       "      <td>g/100mL</td>\n",
       "      <td>NaN</td>\n",
       "      <td>NaN</td>\n",
       "      <td>N</td>\n",
       "      <td>20191231.0</td>\n",
       "    </tr>\n",
       "    <tr>\n",
       "      <th>1</th>\n",
       "      <td>91349</td>\n",
       "      <td>3507080</td>\n",
       "      <td>12745-202-02</td>\n",
       "      <td>N</td>\n",
       "      <td>12745-202_7d063901-255c-bffc-e053-2a91aa0a91ee</td>\n",
       "      <td>12745-202</td>\n",
       "      <td>118 mL in 1 BOTTLE, PLASTIC (12745-202-02)</td>\n",
       "      <td>HUMAN OTC DRUG</td>\n",
       "      <td>HYDROGEN PEROXIDE</td>\n",
       "      <td>HYDROGEN PEROXIDE</td>\n",
       "      <td>...</td>\n",
       "      <td>OTC MONOGRAPH NOT FINAL</td>\n",
       "      <td>part333A</td>\n",
       "      <td>Medical Chemical Corporation</td>\n",
       "      <td>HYDROGEN PEROXIDE</td>\n",
       "      <td>8.57</td>\n",
       "      <td>g/100mL</td>\n",
       "      <td>NaN</td>\n",
       "      <td>NaN</td>\n",
       "      <td>N</td>\n",
       "      <td>20191231.0</td>\n",
       "    </tr>\n",
       "    <tr>\n",
       "      <th>2</th>\n",
       "      <td>91349</td>\n",
       "      <td>3507080</td>\n",
       "      <td>12745-202-03</td>\n",
       "      <td>N</td>\n",
       "      <td>12745-202_7d063901-255c-bffc-e053-2a91aa0a91ee</td>\n",
       "      <td>12745-202</td>\n",
       "      <td>3785 mL in 1 BOTTLE, PLASTIC (12745-202-03)</td>\n",
       "      <td>HUMAN OTC DRUG</td>\n",
       "      <td>HYDROGEN PEROXIDE</td>\n",
       "      <td>HYDROGEN PEROXIDE</td>\n",
       "      <td>...</td>\n",
       "      <td>OTC MONOGRAPH NOT FINAL</td>\n",
       "      <td>part333A</td>\n",
       "      <td>Medical Chemical Corporation</td>\n",
       "      <td>HYDROGEN PEROXIDE</td>\n",
       "      <td>8.57</td>\n",
       "      <td>g/100mL</td>\n",
       "      <td>NaN</td>\n",
       "      <td>NaN</td>\n",
       "      <td>N</td>\n",
       "      <td>20191231.0</td>\n",
       "    </tr>\n",
       "    <tr>\n",
       "      <th>3</th>\n",
       "      <td>91349</td>\n",
       "      <td>3518228</td>\n",
       "      <td>34645-8030-4</td>\n",
       "      <td>N</td>\n",
       "      <td>34645-8030_ffab3590-e3b1-44fb-86fe-73c9221d7635</td>\n",
       "      <td>34645-8030</td>\n",
       "      <td>30 mL in 1 POUCH (34645-8030-4)</td>\n",
       "      <td>HUMAN OTC DRUG</td>\n",
       "      <td>Hydrogen Peroxide</td>\n",
       "      <td>Hydrogen Peroxide</td>\n",
       "      <td>...</td>\n",
       "      <td>OTC MONOGRAPH FINAL</td>\n",
       "      <td>part333</td>\n",
       "      <td>Jiangsu Province JianErKang Medical Dressing C...</td>\n",
       "      <td>HYDROGEN PEROXIDE</td>\n",
       "      <td>.03</td>\n",
       "      <td>mL/mL</td>\n",
       "      <td>NaN</td>\n",
       "      <td>NaN</td>\n",
       "      <td>E</td>\n",
       "      <td>20181231.0</td>\n",
       "    </tr>\n",
       "    <tr>\n",
       "      <th>4</th>\n",
       "      <td>91349</td>\n",
       "      <td>3520567</td>\n",
       "      <td>55316-871-43</td>\n",
       "      <td>N</td>\n",
       "      <td>55316-871_fa4b283c-0255-4bba-aa96-48476c19a4d6</td>\n",
       "      <td>55316-871</td>\n",
       "      <td>.473 L in 1 BOTTLE, PLASTIC (55316-871-43)</td>\n",
       "      <td>HUMAN OTC DRUG</td>\n",
       "      <td>Hydrogen Peroxide</td>\n",
       "      <td>Hydrogen Peroxide</td>\n",
       "      <td>...</td>\n",
       "      <td>OTC MONOGRAPH NOT FINAL</td>\n",
       "      <td>part333A</td>\n",
       "      <td>DZA Brands,</td>\n",
       "      <td>HYDROGEN PEROXIDE</td>\n",
       "      <td>.3</td>\n",
       "      <td>kg/100L</td>\n",
       "      <td>NaN</td>\n",
       "      <td>NaN</td>\n",
       "      <td>N</td>\n",
       "      <td>20191231.0</td>\n",
       "    </tr>\n",
       "  </tbody>\n",
       "</table>\n",
       "<p>5 rows × 22 columns</p>\n",
       "</div>"
      ],
      "text/plain": [
       "   rxcui    rxaui NDCPACKAGECODE suppress  \\\n",
       "0  91349  3507080   12745-202-01        N   \n",
       "1  91349  3507080   12745-202-02        N   \n",
       "2  91349  3507080   12745-202-03        N   \n",
       "3  91349  3518228   34645-8030-4        N   \n",
       "4  91349  3520567   55316-871-43        N   \n",
       "\n",
       "                                         PRODUCTID  PRODUCTNDC  \\\n",
       "0   12745-202_7d063901-255c-bffc-e053-2a91aa0a91ee   12745-202   \n",
       "1   12745-202_7d063901-255c-bffc-e053-2a91aa0a91ee   12745-202   \n",
       "2   12745-202_7d063901-255c-bffc-e053-2a91aa0a91ee   12745-202   \n",
       "3  34645-8030_ffab3590-e3b1-44fb-86fe-73c9221d7635  34645-8030   \n",
       "4   55316-871_fa4b283c-0255-4bba-aa96-48476c19a4d6   55316-871   \n",
       "\n",
       "                             PACKAGEDESCRIPTION PRODUCTTYPENAME  \\\n",
       "0    59 mL in 1 BOTTLE, PLASTIC (12745-202-01)   HUMAN OTC DRUG   \n",
       "1   118 mL in 1 BOTTLE, PLASTIC (12745-202-02)   HUMAN OTC DRUG   \n",
       "2  3785 mL in 1 BOTTLE, PLASTIC (12745-202-03)   HUMAN OTC DRUG   \n",
       "3              30 mL in 1 POUCH (34645-8030-4)   HUMAN OTC DRUG   \n",
       "4   .473 L in 1 BOTTLE, PLASTIC (55316-871-43)   HUMAN OTC DRUG   \n",
       "\n",
       "     PROPRIETARYNAME NONPROPRIETARYNAME  ...    MARKETINGCATEGORYNAME  \\\n",
       "0  HYDROGEN PEROXIDE  HYDROGEN PEROXIDE  ...  OTC MONOGRAPH NOT FINAL   \n",
       "1  HYDROGEN PEROXIDE  HYDROGEN PEROXIDE  ...  OTC MONOGRAPH NOT FINAL   \n",
       "2  HYDROGEN PEROXIDE  HYDROGEN PEROXIDE  ...  OTC MONOGRAPH NOT FINAL   \n",
       "3  Hydrogen Peroxide  Hydrogen Peroxide  ...      OTC MONOGRAPH FINAL   \n",
       "4  Hydrogen Peroxide  Hydrogen Peroxide  ...  OTC MONOGRAPH NOT FINAL   \n",
       "\n",
       "  APPLICATIONNUMBER                                        LABELERNAME  \\\n",
       "0          part333A                       Medical Chemical Corporation   \n",
       "1          part333A                       Medical Chemical Corporation   \n",
       "2          part333A                       Medical Chemical Corporation   \n",
       "3           part333  Jiangsu Province JianErKang Medical Dressing C...   \n",
       "4          part333A                                        DZA Brands,   \n",
       "\n",
       "       SUBSTANCENAME ACTIVE_NUMERATOR_STRENGTH ACTIVE_INGRED_UNIT  \\\n",
       "0  HYDROGEN PEROXIDE                      8.57            g/100mL   \n",
       "1  HYDROGEN PEROXIDE                      8.57            g/100mL   \n",
       "2  HYDROGEN PEROXIDE                      8.57            g/100mL   \n",
       "3  HYDROGEN PEROXIDE                       .03              mL/mL   \n",
       "4  HYDROGEN PEROXIDE                        .3            kg/100L   \n",
       "\n",
       "  PHARM_CLASSES DEASCHEDULE NDC_EXCLUDE_FLAG LISTING_RECORD_CERTIFIED_THROUGH  \n",
       "0           NaN         NaN                N                       20191231.0  \n",
       "1           NaN         NaN                N                       20191231.0  \n",
       "2           NaN         NaN                N                       20191231.0  \n",
       "3           NaN         NaN                E                       20181231.0  \n",
       "4           NaN         NaN                N                       20191231.0  \n",
       "\n",
       "[5 rows x 22 columns]"
      ]
     },
     "execution_count": 19,
     "metadata": {},
     "output_type": "execute_result"
    }
   ],
   "source": [
    "res.head()"
   ]
  },
  {
   "cell_type": "markdown",
   "metadata": {},
   "source": [
    "---"
   ]
  },
  {
   "cell_type": "markdown",
   "metadata": {},
   "source": [
    "## Analyze results"
   ]
  },
  {
   "cell_type": "code",
   "execution_count": 20,
   "metadata": {},
   "outputs": [
    {
     "data": {
      "text/plain": [
       "41576"
      ]
     },
     "execution_count": 20,
     "metadata": {},
     "output_type": "execute_result"
    }
   ],
   "source": [
    "res[\"rxcui\"].nunique()"
   ]
  },
  {
   "cell_type": "code",
   "execution_count": 21,
   "metadata": {},
   "outputs": [
    {
     "data": {
      "text/plain": [
       "239810"
      ]
     },
     "execution_count": 21,
     "metadata": {},
     "output_type": "execute_result"
    }
   ],
   "source": [
    "res[\"NDCPACKAGECODE\"].nunique()"
   ]
  },
  {
   "cell_type": "markdown",
   "metadata": {},
   "source": [
    "Only 41k unique drugs for all 240k NDCs? Must be more packaging numbers than we originally thought."
   ]
  },
  {
   "cell_type": "markdown",
   "metadata": {},
   "source": [
    "## Save to file"
   ]
  },
  {
   "cell_type": "code",
   "execution_count": 22,
   "metadata": {},
   "outputs": [],
   "source": [
    "res.to_csv(\"../../pipeline/merged_ndc_info.tsv\", sep='\\t', index=False)"
   ]
  }
 ],
 "metadata": {
  "kernelspec": {
   "display_name": "Python 3",
   "language": "python",
   "name": "python3"
  },
  "language_info": {
   "codemirror_mode": {
    "name": "ipython",
    "version": 3
   },
   "file_extension": ".py",
   "mimetype": "text/x-python",
   "name": "python",
   "nbconvert_exporter": "python",
   "pygments_lexer": "ipython3",
   "version": "3.6.7"
  }
 },
 "nbformat": 4,
 "nbformat_minor": 2
}
